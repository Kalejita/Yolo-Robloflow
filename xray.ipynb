{
  "nbformat": 4,
  "nbformat_minor": 0,
  "metadata": {
    "colab": {
      "provenance": [],
      "gpuType": "T4",
      "authorship_tag": "ABX9TyOJ0rCAxMfWBLPCT7P9KEJe",
      "include_colab_link": true
    },
    "kernelspec": {
      "name": "python3",
      "display_name": "Python 3"
    },
    "language_info": {
      "name": "python"
    },
    "accelerator": "GPU"
  },
  "cells": [
    {
      "cell_type": "markdown",
      "metadata": {
        "id": "view-in-github",
        "colab_type": "text"
      },
      "source": [
        "<a href=\"https://colab.research.google.com/github/Kalejita/Yolo-Robloflow/blob/main/xray.ipynb\" target=\"_parent\"><img src=\"https://colab.research.google.com/assets/colab-badge.svg\" alt=\"Open In Colab\"/></a>"
      ]
    },
    {
      "cell_type": "code",
      "execution_count": 1,
      "metadata": {
        "id": "scBWySvsr783"
      },
      "outputs": [],
      "source": [
        "import numpy as np # linear algebra\n",
        "import pandas as pd # data processing, CSV file I/O (e.g. pd.read_csv)\n",
        "import os\n",
        "import matplotlib.pyplot as plt\n",
        "from PIL import Image"
      ]
    },
    {
      "cell_type": "code",
      "source": [
        "!pip install split-folders pillow ultralytics\n",
        "!pip install roboflow"
      ],
      "metadata": {
        "colab": {
          "base_uri": "https://localhost:8080/"
        },
        "id": "x-dmnKFvsmwR",
        "outputId": "4ac0e4f3-7aea-49ac-d61e-5e49abc55529"
      },
      "execution_count": 2,
      "outputs": [
        {
          "output_type": "stream",
          "name": "stdout",
          "text": [
            "Collecting split-folders\n",
            "  Downloading split_folders-0.5.1-py3-none-any.whl.metadata (6.2 kB)\n",
            "Requirement already satisfied: pillow in /usr/local/lib/python3.11/dist-packages (11.2.1)\n",
            "Collecting ultralytics\n",
            "  Downloading ultralytics-8.3.128-py3-none-any.whl.metadata (37 kB)\n",
            "Requirement already satisfied: numpy>=1.23.0 in /usr/local/lib/python3.11/dist-packages (from ultralytics) (2.0.2)\n",
            "Requirement already satisfied: matplotlib>=3.3.0 in /usr/local/lib/python3.11/dist-packages (from ultralytics) (3.10.0)\n",
            "Requirement already satisfied: opencv-python>=4.6.0 in /usr/local/lib/python3.11/dist-packages (from ultralytics) (4.11.0.86)\n",
            "Requirement already satisfied: pyyaml>=5.3.1 in /usr/local/lib/python3.11/dist-packages (from ultralytics) (6.0.2)\n",
            "Requirement already satisfied: requests>=2.23.0 in /usr/local/lib/python3.11/dist-packages (from ultralytics) (2.32.3)\n",
            "Requirement already satisfied: scipy>=1.4.1 in /usr/local/lib/python3.11/dist-packages (from ultralytics) (1.15.2)\n",
            "Requirement already satisfied: torch>=1.8.0 in /usr/local/lib/python3.11/dist-packages (from ultralytics) (2.6.0+cu124)\n",
            "Requirement already satisfied: torchvision>=0.9.0 in /usr/local/lib/python3.11/dist-packages (from ultralytics) (0.21.0+cu124)\n",
            "Requirement already satisfied: tqdm>=4.64.0 in /usr/local/lib/python3.11/dist-packages (from ultralytics) (4.67.1)\n",
            "Requirement already satisfied: psutil in /usr/local/lib/python3.11/dist-packages (from ultralytics) (5.9.5)\n",
            "Requirement already satisfied: py-cpuinfo in /usr/local/lib/python3.11/dist-packages (from ultralytics) (9.0.0)\n",
            "Requirement already satisfied: pandas>=1.1.4 in /usr/local/lib/python3.11/dist-packages (from ultralytics) (2.2.2)\n",
            "Requirement already satisfied: seaborn>=0.11.0 in /usr/local/lib/python3.11/dist-packages (from ultralytics) (0.13.2)\n",
            "Collecting ultralytics-thop>=2.0.0 (from ultralytics)\n",
            "  Downloading ultralytics_thop-2.0.14-py3-none-any.whl.metadata (9.4 kB)\n",
            "Requirement already satisfied: contourpy>=1.0.1 in /usr/local/lib/python3.11/dist-packages (from matplotlib>=3.3.0->ultralytics) (1.3.2)\n",
            "Requirement already satisfied: cycler>=0.10 in /usr/local/lib/python3.11/dist-packages (from matplotlib>=3.3.0->ultralytics) (0.12.1)\n",
            "Requirement already satisfied: fonttools>=4.22.0 in /usr/local/lib/python3.11/dist-packages (from matplotlib>=3.3.0->ultralytics) (4.57.0)\n",
            "Requirement already satisfied: kiwisolver>=1.3.1 in /usr/local/lib/python3.11/dist-packages (from matplotlib>=3.3.0->ultralytics) (1.4.8)\n",
            "Requirement already satisfied: packaging>=20.0 in /usr/local/lib/python3.11/dist-packages (from matplotlib>=3.3.0->ultralytics) (24.2)\n",
            "Requirement already satisfied: pyparsing>=2.3.1 in /usr/local/lib/python3.11/dist-packages (from matplotlib>=3.3.0->ultralytics) (3.2.3)\n",
            "Requirement already satisfied: python-dateutil>=2.7 in /usr/local/lib/python3.11/dist-packages (from matplotlib>=3.3.0->ultralytics) (2.9.0.post0)\n",
            "Requirement already satisfied: pytz>=2020.1 in /usr/local/lib/python3.11/dist-packages (from pandas>=1.1.4->ultralytics) (2025.2)\n",
            "Requirement already satisfied: tzdata>=2022.7 in /usr/local/lib/python3.11/dist-packages (from pandas>=1.1.4->ultralytics) (2025.2)\n",
            "Requirement already satisfied: charset-normalizer<4,>=2 in /usr/local/lib/python3.11/dist-packages (from requests>=2.23.0->ultralytics) (3.4.1)\n",
            "Requirement already satisfied: idna<4,>=2.5 in /usr/local/lib/python3.11/dist-packages (from requests>=2.23.0->ultralytics) (3.10)\n",
            "Requirement already satisfied: urllib3<3,>=1.21.1 in /usr/local/lib/python3.11/dist-packages (from requests>=2.23.0->ultralytics) (2.4.0)\n",
            "Requirement already satisfied: certifi>=2017.4.17 in /usr/local/lib/python3.11/dist-packages (from requests>=2.23.0->ultralytics) (2025.4.26)\n",
            "Requirement already satisfied: filelock in /usr/local/lib/python3.11/dist-packages (from torch>=1.8.0->ultralytics) (3.18.0)\n",
            "Requirement already satisfied: typing-extensions>=4.10.0 in /usr/local/lib/python3.11/dist-packages (from torch>=1.8.0->ultralytics) (4.13.2)\n",
            "Requirement already satisfied: networkx in /usr/local/lib/python3.11/dist-packages (from torch>=1.8.0->ultralytics) (3.4.2)\n",
            "Requirement already satisfied: jinja2 in /usr/local/lib/python3.11/dist-packages (from torch>=1.8.0->ultralytics) (3.1.6)\n",
            "Requirement already satisfied: fsspec in /usr/local/lib/python3.11/dist-packages (from torch>=1.8.0->ultralytics) (2025.3.2)\n",
            "Collecting nvidia-cuda-nvrtc-cu12==12.4.127 (from torch>=1.8.0->ultralytics)\n",
            "  Downloading nvidia_cuda_nvrtc_cu12-12.4.127-py3-none-manylinux2014_x86_64.whl.metadata (1.5 kB)\n",
            "Collecting nvidia-cuda-runtime-cu12==12.4.127 (from torch>=1.8.0->ultralytics)\n",
            "  Downloading nvidia_cuda_runtime_cu12-12.4.127-py3-none-manylinux2014_x86_64.whl.metadata (1.5 kB)\n",
            "Collecting nvidia-cuda-cupti-cu12==12.4.127 (from torch>=1.8.0->ultralytics)\n",
            "  Downloading nvidia_cuda_cupti_cu12-12.4.127-py3-none-manylinux2014_x86_64.whl.metadata (1.6 kB)\n",
            "Collecting nvidia-cudnn-cu12==9.1.0.70 (from torch>=1.8.0->ultralytics)\n",
            "  Downloading nvidia_cudnn_cu12-9.1.0.70-py3-none-manylinux2014_x86_64.whl.metadata (1.6 kB)\n",
            "Collecting nvidia-cublas-cu12==12.4.5.8 (from torch>=1.8.0->ultralytics)\n",
            "  Downloading nvidia_cublas_cu12-12.4.5.8-py3-none-manylinux2014_x86_64.whl.metadata (1.5 kB)\n",
            "Collecting nvidia-cufft-cu12==11.2.1.3 (from torch>=1.8.0->ultralytics)\n",
            "  Downloading nvidia_cufft_cu12-11.2.1.3-py3-none-manylinux2014_x86_64.whl.metadata (1.5 kB)\n",
            "Collecting nvidia-curand-cu12==10.3.5.147 (from torch>=1.8.0->ultralytics)\n",
            "  Downloading nvidia_curand_cu12-10.3.5.147-py3-none-manylinux2014_x86_64.whl.metadata (1.5 kB)\n",
            "Collecting nvidia-cusolver-cu12==11.6.1.9 (from torch>=1.8.0->ultralytics)\n",
            "  Downloading nvidia_cusolver_cu12-11.6.1.9-py3-none-manylinux2014_x86_64.whl.metadata (1.6 kB)\n",
            "Collecting nvidia-cusparse-cu12==12.3.1.170 (from torch>=1.8.0->ultralytics)\n",
            "  Downloading nvidia_cusparse_cu12-12.3.1.170-py3-none-manylinux2014_x86_64.whl.metadata (1.6 kB)\n",
            "Requirement already satisfied: nvidia-cusparselt-cu12==0.6.2 in /usr/local/lib/python3.11/dist-packages (from torch>=1.8.0->ultralytics) (0.6.2)\n",
            "Requirement already satisfied: nvidia-nccl-cu12==2.21.5 in /usr/local/lib/python3.11/dist-packages (from torch>=1.8.0->ultralytics) (2.21.5)\n",
            "Requirement already satisfied: nvidia-nvtx-cu12==12.4.127 in /usr/local/lib/python3.11/dist-packages (from torch>=1.8.0->ultralytics) (12.4.127)\n",
            "Collecting nvidia-nvjitlink-cu12==12.4.127 (from torch>=1.8.0->ultralytics)\n",
            "  Downloading nvidia_nvjitlink_cu12-12.4.127-py3-none-manylinux2014_x86_64.whl.metadata (1.5 kB)\n",
            "Requirement already satisfied: triton==3.2.0 in /usr/local/lib/python3.11/dist-packages (from torch>=1.8.0->ultralytics) (3.2.0)\n",
            "Requirement already satisfied: sympy==1.13.1 in /usr/local/lib/python3.11/dist-packages (from torch>=1.8.0->ultralytics) (1.13.1)\n",
            "Requirement already satisfied: mpmath<1.4,>=1.1.0 in /usr/local/lib/python3.11/dist-packages (from sympy==1.13.1->torch>=1.8.0->ultralytics) (1.3.0)\n",
            "Requirement already satisfied: six>=1.5 in /usr/local/lib/python3.11/dist-packages (from python-dateutil>=2.7->matplotlib>=3.3.0->ultralytics) (1.17.0)\n",
            "Requirement already satisfied: MarkupSafe>=2.0 in /usr/local/lib/python3.11/dist-packages (from jinja2->torch>=1.8.0->ultralytics) (3.0.2)\n",
            "Downloading split_folders-0.5.1-py3-none-any.whl (8.4 kB)\n",
            "Downloading ultralytics-8.3.128-py3-none-any.whl (1.0 MB)\n",
            "\u001b[2K   \u001b[90m━━━━━━━━━━━━━━━━━━━━━━━━━━━━━━━━━━━━━━━━\u001b[0m \u001b[32m1.0/1.0 MB\u001b[0m \u001b[31m35.5 MB/s\u001b[0m eta \u001b[36m0:00:00\u001b[0m\n",
            "\u001b[?25hDownloading nvidia_cublas_cu12-12.4.5.8-py3-none-manylinux2014_x86_64.whl (363.4 MB)\n",
            "\u001b[2K   \u001b[90m━━━━━━━━━━━━━━━━━━━━━━━━━━━━━━━━━━━━━━━━\u001b[0m \u001b[32m363.4/363.4 MB\u001b[0m \u001b[31m4.5 MB/s\u001b[0m eta \u001b[36m0:00:00\u001b[0m\n",
            "\u001b[?25hDownloading nvidia_cuda_cupti_cu12-12.4.127-py3-none-manylinux2014_x86_64.whl (13.8 MB)\n",
            "\u001b[2K   \u001b[90m━━━━━━━━━━━━━━━━━━━━━━━━━━━━━━━━━━━━━━━━\u001b[0m \u001b[32m13.8/13.8 MB\u001b[0m \u001b[31m126.2 MB/s\u001b[0m eta \u001b[36m0:00:00\u001b[0m\n",
            "\u001b[?25hDownloading nvidia_cuda_nvrtc_cu12-12.4.127-py3-none-manylinux2014_x86_64.whl (24.6 MB)\n",
            "\u001b[2K   \u001b[90m━━━━━━━━━━━━━━━━━━━━━━━━━━━━━━━━━━━━━━━━\u001b[0m \u001b[32m24.6/24.6 MB\u001b[0m \u001b[31m92.0 MB/s\u001b[0m eta \u001b[36m0:00:00\u001b[0m\n",
            "\u001b[?25hDownloading nvidia_cuda_runtime_cu12-12.4.127-py3-none-manylinux2014_x86_64.whl (883 kB)\n",
            "\u001b[2K   \u001b[90m━━━━━━━━━━━━━━━━━━━━━━━━━━━━━━━━━━━━━━━━\u001b[0m \u001b[32m883.7/883.7 kB\u001b[0m \u001b[31m58.1 MB/s\u001b[0m eta \u001b[36m0:00:00\u001b[0m\n",
            "\u001b[?25hDownloading nvidia_cudnn_cu12-9.1.0.70-py3-none-manylinux2014_x86_64.whl (664.8 MB)\n",
            "\u001b[2K   \u001b[90m━━━━━━━━━━━━━━━━━━━━━━━━━━━━━━━━━━━━━━━━\u001b[0m \u001b[32m664.8/664.8 MB\u001b[0m \u001b[31m2.6 MB/s\u001b[0m eta \u001b[36m0:00:00\u001b[0m\n",
            "\u001b[?25hDownloading nvidia_cufft_cu12-11.2.1.3-py3-none-manylinux2014_x86_64.whl (211.5 MB)\n",
            "\u001b[2K   \u001b[90m━━━━━━━━━━━━━━━━━━━━━━━━━━━━━━━━━━━━━━━━\u001b[0m \u001b[32m211.5/211.5 MB\u001b[0m \u001b[31m5.5 MB/s\u001b[0m eta \u001b[36m0:00:00\u001b[0m\n",
            "\u001b[?25hDownloading nvidia_curand_cu12-10.3.5.147-py3-none-manylinux2014_x86_64.whl (56.3 MB)\n",
            "\u001b[2K   \u001b[90m━━━━━━━━━━━━━━━━━━━━━━━━━━━━━━━━━━━━━━━━\u001b[0m \u001b[32m56.3/56.3 MB\u001b[0m \u001b[31m11.9 MB/s\u001b[0m eta \u001b[36m0:00:00\u001b[0m\n",
            "\u001b[?25hDownloading nvidia_cusolver_cu12-11.6.1.9-py3-none-manylinux2014_x86_64.whl (127.9 MB)\n",
            "\u001b[2K   \u001b[90m━━━━━━━━━━━━━━━━━━━━━━━━━━━━━━━━━━━━━━━━\u001b[0m \u001b[32m127.9/127.9 MB\u001b[0m \u001b[31m7.4 MB/s\u001b[0m eta \u001b[36m0:00:00\u001b[0m\n",
            "\u001b[?25hDownloading nvidia_cusparse_cu12-12.3.1.170-py3-none-manylinux2014_x86_64.whl (207.5 MB)\n",
            "\u001b[2K   \u001b[90m━━━━━━━━━━━━━━━━━━━━━━━━━━━━━━━━━━━━━━━━\u001b[0m \u001b[32m207.5/207.5 MB\u001b[0m \u001b[31m5.5 MB/s\u001b[0m eta \u001b[36m0:00:00\u001b[0m\n",
            "\u001b[?25hDownloading nvidia_nvjitlink_cu12-12.4.127-py3-none-manylinux2014_x86_64.whl (21.1 MB)\n",
            "\u001b[2K   \u001b[90m━━━━━━━━━━━━━━━━━━━━━━━━━━━━━━━━━━━━━━━━\u001b[0m \u001b[32m21.1/21.1 MB\u001b[0m \u001b[31m65.1 MB/s\u001b[0m eta \u001b[36m0:00:00\u001b[0m\n",
            "\u001b[?25hDownloading ultralytics_thop-2.0.14-py3-none-any.whl (26 kB)\n",
            "Installing collected packages: split-folders, nvidia-nvjitlink-cu12, nvidia-curand-cu12, nvidia-cufft-cu12, nvidia-cuda-runtime-cu12, nvidia-cuda-nvrtc-cu12, nvidia-cuda-cupti-cu12, nvidia-cublas-cu12, nvidia-cusparse-cu12, nvidia-cudnn-cu12, nvidia-cusolver-cu12, ultralytics-thop, ultralytics\n",
            "  Attempting uninstall: nvidia-nvjitlink-cu12\n",
            "    Found existing installation: nvidia-nvjitlink-cu12 12.5.82\n",
            "    Uninstalling nvidia-nvjitlink-cu12-12.5.82:\n",
            "      Successfully uninstalled nvidia-nvjitlink-cu12-12.5.82\n",
            "  Attempting uninstall: nvidia-curand-cu12\n",
            "    Found existing installation: nvidia-curand-cu12 10.3.6.82\n",
            "    Uninstalling nvidia-curand-cu12-10.3.6.82:\n",
            "      Successfully uninstalled nvidia-curand-cu12-10.3.6.82\n",
            "  Attempting uninstall: nvidia-cufft-cu12\n",
            "    Found existing installation: nvidia-cufft-cu12 11.2.3.61\n",
            "    Uninstalling nvidia-cufft-cu12-11.2.3.61:\n",
            "      Successfully uninstalled nvidia-cufft-cu12-11.2.3.61\n",
            "  Attempting uninstall: nvidia-cuda-runtime-cu12\n",
            "    Found existing installation: nvidia-cuda-runtime-cu12 12.5.82\n",
            "    Uninstalling nvidia-cuda-runtime-cu12-12.5.82:\n",
            "      Successfully uninstalled nvidia-cuda-runtime-cu12-12.5.82\n",
            "  Attempting uninstall: nvidia-cuda-nvrtc-cu12\n",
            "    Found existing installation: nvidia-cuda-nvrtc-cu12 12.5.82\n",
            "    Uninstalling nvidia-cuda-nvrtc-cu12-12.5.82:\n",
            "      Successfully uninstalled nvidia-cuda-nvrtc-cu12-12.5.82\n",
            "  Attempting uninstall: nvidia-cuda-cupti-cu12\n",
            "    Found existing installation: nvidia-cuda-cupti-cu12 12.5.82\n",
            "    Uninstalling nvidia-cuda-cupti-cu12-12.5.82:\n",
            "      Successfully uninstalled nvidia-cuda-cupti-cu12-12.5.82\n",
            "  Attempting uninstall: nvidia-cublas-cu12\n",
            "    Found existing installation: nvidia-cublas-cu12 12.5.3.2\n",
            "    Uninstalling nvidia-cublas-cu12-12.5.3.2:\n",
            "      Successfully uninstalled nvidia-cublas-cu12-12.5.3.2\n",
            "  Attempting uninstall: nvidia-cusparse-cu12\n",
            "    Found existing installation: nvidia-cusparse-cu12 12.5.1.3\n",
            "    Uninstalling nvidia-cusparse-cu12-12.5.1.3:\n",
            "      Successfully uninstalled nvidia-cusparse-cu12-12.5.1.3\n",
            "  Attempting uninstall: nvidia-cudnn-cu12\n",
            "    Found existing installation: nvidia-cudnn-cu12 9.3.0.75\n",
            "    Uninstalling nvidia-cudnn-cu12-9.3.0.75:\n",
            "      Successfully uninstalled nvidia-cudnn-cu12-9.3.0.75\n",
            "  Attempting uninstall: nvidia-cusolver-cu12\n",
            "    Found existing installation: nvidia-cusolver-cu12 11.6.3.83\n",
            "    Uninstalling nvidia-cusolver-cu12-11.6.3.83:\n",
            "      Successfully uninstalled nvidia-cusolver-cu12-11.6.3.83\n",
            "Successfully installed nvidia-cublas-cu12-12.4.5.8 nvidia-cuda-cupti-cu12-12.4.127 nvidia-cuda-nvrtc-cu12-12.4.127 nvidia-cuda-runtime-cu12-12.4.127 nvidia-cudnn-cu12-9.1.0.70 nvidia-cufft-cu12-11.2.1.3 nvidia-curand-cu12-10.3.5.147 nvidia-cusolver-cu12-11.6.1.9 nvidia-cusparse-cu12-12.3.1.170 nvidia-nvjitlink-cu12-12.4.127 split-folders-0.5.1 ultralytics-8.3.128 ultralytics-thop-2.0.14\n",
            "Collecting roboflow\n",
            "  Downloading roboflow-1.1.63-py3-none-any.whl.metadata (9.7 kB)\n",
            "Requirement already satisfied: certifi in /usr/local/lib/python3.11/dist-packages (from roboflow) (2025.4.26)\n",
            "Collecting idna==3.7 (from roboflow)\n",
            "  Downloading idna-3.7-py3-none-any.whl.metadata (9.9 kB)\n",
            "Requirement already satisfied: cycler in /usr/local/lib/python3.11/dist-packages (from roboflow) (0.12.1)\n",
            "Requirement already satisfied: kiwisolver>=1.3.1 in /usr/local/lib/python3.11/dist-packages (from roboflow) (1.4.8)\n",
            "Requirement already satisfied: matplotlib in /usr/local/lib/python3.11/dist-packages (from roboflow) (3.10.0)\n",
            "Requirement already satisfied: numpy>=1.18.5 in /usr/local/lib/python3.11/dist-packages (from roboflow) (2.0.2)\n",
            "Collecting opencv-python-headless==4.10.0.84 (from roboflow)\n",
            "  Downloading opencv_python_headless-4.10.0.84-cp37-abi3-manylinux_2_17_x86_64.manylinux2014_x86_64.whl.metadata (20 kB)\n",
            "Requirement already satisfied: Pillow>=7.1.2 in /usr/local/lib/python3.11/dist-packages (from roboflow) (11.2.1)\n",
            "Collecting pillow-heif>=0.18.0 (from roboflow)\n",
            "  Downloading pillow_heif-0.22.0-cp311-cp311-manylinux_2_17_x86_64.manylinux2014_x86_64.whl.metadata (9.6 kB)\n",
            "Requirement already satisfied: python-dateutil in /usr/local/lib/python3.11/dist-packages (from roboflow) (2.9.0.post0)\n",
            "Collecting python-dotenv (from roboflow)\n",
            "  Downloading python_dotenv-1.1.0-py3-none-any.whl.metadata (24 kB)\n",
            "Requirement already satisfied: requests in /usr/local/lib/python3.11/dist-packages (from roboflow) (2.32.3)\n",
            "Requirement already satisfied: six in /usr/local/lib/python3.11/dist-packages (from roboflow) (1.17.0)\n",
            "Requirement already satisfied: urllib3>=1.26.6 in /usr/local/lib/python3.11/dist-packages (from roboflow) (2.4.0)\n",
            "Requirement already satisfied: tqdm>=4.41.0 in /usr/local/lib/python3.11/dist-packages (from roboflow) (4.67.1)\n",
            "Requirement already satisfied: PyYAML>=5.3.1 in /usr/local/lib/python3.11/dist-packages (from roboflow) (6.0.2)\n",
            "Requirement already satisfied: requests-toolbelt in /usr/local/lib/python3.11/dist-packages (from roboflow) (1.0.0)\n",
            "Collecting filetype (from roboflow)\n",
            "  Downloading filetype-1.2.0-py2.py3-none-any.whl.metadata (6.5 kB)\n",
            "Requirement already satisfied: contourpy>=1.0.1 in /usr/local/lib/python3.11/dist-packages (from matplotlib->roboflow) (1.3.2)\n",
            "Requirement already satisfied: fonttools>=4.22.0 in /usr/local/lib/python3.11/dist-packages (from matplotlib->roboflow) (4.57.0)\n",
            "Requirement already satisfied: packaging>=20.0 in /usr/local/lib/python3.11/dist-packages (from matplotlib->roboflow) (24.2)\n",
            "Requirement already satisfied: pyparsing>=2.3.1 in /usr/local/lib/python3.11/dist-packages (from matplotlib->roboflow) (3.2.3)\n",
            "Requirement already satisfied: charset-normalizer<4,>=2 in /usr/local/lib/python3.11/dist-packages (from requests->roboflow) (3.4.1)\n",
            "Downloading roboflow-1.1.63-py3-none-any.whl (85 kB)\n",
            "\u001b[2K   \u001b[90m━━━━━━━━━━━━━━━━━━━━━━━━━━━━━━━━━━━━━━━━\u001b[0m \u001b[32m85.3/85.3 kB\u001b[0m \u001b[31m4.4 MB/s\u001b[0m eta \u001b[36m0:00:00\u001b[0m\n",
            "\u001b[?25hDownloading idna-3.7-py3-none-any.whl (66 kB)\n",
            "\u001b[2K   \u001b[90m━━━━━━━━━━━━━━━━━━━━━━━━━━━━━━━━━━━━━━━━\u001b[0m \u001b[32m66.8/66.8 kB\u001b[0m \u001b[31m5.6 MB/s\u001b[0m eta \u001b[36m0:00:00\u001b[0m\n",
            "\u001b[?25hDownloading opencv_python_headless-4.10.0.84-cp37-abi3-manylinux_2_17_x86_64.manylinux2014_x86_64.whl (49.9 MB)\n",
            "\u001b[2K   \u001b[90m━━━━━━━━━━━━━━━━━━━━━━━━━━━━━━━━━━━━━━━━\u001b[0m \u001b[32m49.9/49.9 MB\u001b[0m \u001b[31m15.2 MB/s\u001b[0m eta \u001b[36m0:00:00\u001b[0m\n",
            "\u001b[?25hDownloading pillow_heif-0.22.0-cp311-cp311-manylinux_2_17_x86_64.manylinux2014_x86_64.whl (7.8 MB)\n",
            "\u001b[2K   \u001b[90m━━━━━━━━━━━━━━━━━━━━━━━━━━━━━━━━━━━━━━━━\u001b[0m \u001b[32m7.8/7.8 MB\u001b[0m \u001b[31m121.5 MB/s\u001b[0m eta \u001b[36m0:00:00\u001b[0m\n",
            "\u001b[?25hDownloading filetype-1.2.0-py2.py3-none-any.whl (19 kB)\n",
            "Downloading python_dotenv-1.1.0-py3-none-any.whl (20 kB)\n",
            "Installing collected packages: filetype, python-dotenv, pillow-heif, opencv-python-headless, idna, roboflow\n",
            "  Attempting uninstall: opencv-python-headless\n",
            "    Found existing installation: opencv-python-headless 4.11.0.86\n",
            "    Uninstalling opencv-python-headless-4.11.0.86:\n",
            "      Successfully uninstalled opencv-python-headless-4.11.0.86\n",
            "  Attempting uninstall: idna\n",
            "    Found existing installation: idna 3.10\n",
            "    Uninstalling idna-3.10:\n",
            "      Successfully uninstalled idna-3.10\n",
            "Successfully installed filetype-1.2.0 idna-3.7 opencv-python-headless-4.10.0.84 pillow-heif-0.22.0 python-dotenv-1.1.0 roboflow-1.1.63\n"
          ]
        }
      ]
    },
    {
      "cell_type": "code",
      "source": [
        "from roboflow import Roboflow\n",
        "rf = Roboflow(api_key=\"l2mg2itONLbJUmFRW2hd\")\n",
        "project = rf.workspace(\"rajneeldutta\").project(\"teethdetection-rjah4\")\n",
        "version = project.version(9)\n",
        "dataset = version.download(\"yolov8\")\n",
        ""
      ],
      "metadata": {
        "colab": {
          "base_uri": "https://localhost:8080/"
        },
        "id": "Idkvk68_soN_",
        "outputId": "23a31a2c-b27d-4d1f-ec66-fe9b7e056531"
      },
      "execution_count": 3,
      "outputs": [
        {
          "output_type": "stream",
          "name": "stdout",
          "text": [
            "loading Roboflow workspace...\n",
            "loading Roboflow project...\n"
          ]
        },
        {
          "output_type": "stream",
          "name": "stderr",
          "text": [
            "Downloading Dataset Version Zip in TeethDetection-9 to yolov8:: 100%|██████████| 166714/166714 [00:03<00:00, 52724.81it/s]"
          ]
        },
        {
          "output_type": "stream",
          "name": "stdout",
          "text": [
            "\n"
          ]
        },
        {
          "output_type": "stream",
          "name": "stderr",
          "text": [
            "\n",
            "Extracting Dataset Version Zip to TeethDetection-9 in yolov8:: 100%|██████████| 1490/1490 [00:00<00:00, 2894.55it/s]\n"
          ]
        },
        {
          "output_type": "stream",
          "name": "stdout",
          "text": [
            "Creating new Ultralytics Settings v0.0.6 file ✅ \n",
            "View Ultralytics Settings with 'yolo settings' or at '/root/.config/Ultralytics/settings.json'\n",
            "Update Settings with 'yolo settings key=value', i.e. 'yolo settings runs_dir=path/to/dir'. For help see https://docs.ultralytics.com/quickstart/#ultralytics-settings.\n"
          ]
        }
      ]
    },
    {
      "cell_type": "code",
      "source": [
        "# Specify the path to the file\n",
        "file_path = '/content/TeethDetection-9/data.yaml'\n",
        "\n",
        "# Check if the file exists\n",
        "if os.path.exists(file_path):\n",
        "    print(f\"The file at {file_path} exists.\")\n",
        "else:\n",
        "    print(f\"The file at {file_path} does not exist.\")"
      ],
      "metadata": {
        "colab": {
          "base_uri": "https://localhost:8080/"
        },
        "id": "ZolumKqNtDwl",
        "outputId": "08b0107f-351c-4914-9d30-3114c3f45d51"
      },
      "execution_count": 4,
      "outputs": [
        {
          "output_type": "stream",
          "name": "stdout",
          "text": [
            "The file at /content/TeethDetection-9/data.yaml exists.\n"
          ]
        }
      ]
    },
    {
      "cell_type": "code",
      "source": [
        "# Get the current working directory\n",
        "cwd = os.getcwd()\n",
        "print(f\"Current working directory: {cwd}\")\n",
        "\n",
        "# List all files and directories in the current directory\n",
        "files = os.listdir(cwd)\n",
        "print(f\"Files and directories in '{cwd}': {files}\")"
      ],
      "metadata": {
        "colab": {
          "base_uri": "https://localhost:8080/"
        },
        "id": "w3ENVHAFtIRK",
        "outputId": "01f3472f-6034-4b79-e99f-52e963fe1a63"
      },
      "execution_count": 5,
      "outputs": [
        {
          "output_type": "stream",
          "name": "stdout",
          "text": [
            "Current working directory: /content\n",
            "Files and directories in '/content': ['.config', 'TeethDetection-9', 'sample_data']\n"
          ]
        }
      ]
    },
    {
      "cell_type": "code",
      "source": [
        "dir_path = cwd + \"/sample_data\"\n",
        "for files in os.listdir(dir_path):\n",
        "  os.remove(dir_path + \"/\" + files)\n",
        "os.rmdir(dir_path)"
      ],
      "metadata": {
        "id": "NXcBpISZtJ5e"
      },
      "execution_count": 6,
      "outputs": []
    },
    {
      "cell_type": "code",
      "source": [
        "from ultralytics import YOLO\n",
        "model = YOLO(\"yolov8l.pt\")\n",
        "model.info()"
      ],
      "metadata": {
        "colab": {
          "base_uri": "https://localhost:8080/"
        },
        "id": "fjWb_WCbtsZf",
        "outputId": "a7a8c303-63fa-4886-fa71-433a9f424542"
      },
      "execution_count": 7,
      "outputs": [
        {
          "output_type": "stream",
          "name": "stdout",
          "text": [
            "Downloading https://github.com/ultralytics/assets/releases/download/v8.3.0/yolov8l.pt to 'yolov8l.pt'...\n"
          ]
        },
        {
          "output_type": "stream",
          "name": "stderr",
          "text": [
            "100%|██████████| 83.7M/83.7M [00:00<00:00, 110MB/s]\n"
          ]
        },
        {
          "output_type": "stream",
          "name": "stdout",
          "text": [
            "YOLOv8l summary: 209 layers, 43,691,520 parameters, 0 gradients, 165.7 GFLOPs\n"
          ]
        },
        {
          "output_type": "execute_result",
          "data": {
            "text/plain": [
              "(209, 43691520, 0, 165.742848)"
            ]
          },
          "metadata": {},
          "execution_count": 7
        }
      ]
    },
    {
      "cell_type": "code",
      "source": [
        "from ultralytics import settings\n",
        "\n",
        "# View all settings\n",
        "\n",
        "settings.update({'datasets_dir': '/content/TeethDetection-9'})"
      ],
      "metadata": {
        "id": "VSbhsBlQtueT"
      },
      "execution_count": 8,
      "outputs": []
    },
    {
      "cell_type": "code",
      "source": [
        "# os.chdir(\"/content\")\n",
        "# Entrenar el modelo\n",
        "model.train(\n",
        "    data='/content/TeethDetection-9/data.yaml',\n",
        "    epochs=100,\n",
        "    imgsz=640,\n",
        "    batch=16,  # Ajusta según tu GPU\n",
        "    name=\"entrenamiento_xray\",\n",
        "    project=\"proyecto_xray\"\n",
        ")"
      ],
      "metadata": {
        "colab": {
          "base_uri": "https://localhost:8080/"
        },
        "id": "f7bMw9Y2twHi",
        "outputId": "451ba5b4-4aee-4c4f-a7dd-bc9a752c1fa0"
      },
      "execution_count": 9,
      "outputs": [
        {
          "output_type": "stream",
          "name": "stdout",
          "text": [
            "Ultralytics 8.3.128 🚀 Python-3.11.12 torch-2.6.0+cu124 CUDA:0 (Tesla T4, 15095MiB)\n",
            "\u001b[34m\u001b[1mengine/trainer: \u001b[0magnostic_nms=False, amp=True, augment=False, auto_augment=randaugment, batch=16, bgr=0.0, box=7.5, cache=False, cfg=None, classes=None, close_mosaic=10, cls=0.5, conf=None, copy_paste=0.0, copy_paste_mode=flip, cos_lr=False, cutmix=0.0, data=/content/TeethDetection-9/data.yaml, degrees=0.0, deterministic=True, device=None, dfl=1.5, dnn=False, dropout=0.0, dynamic=False, embed=None, epochs=100, erasing=0.4, exist_ok=False, fliplr=0.5, flipud=0.0, format=torchscript, fraction=1.0, freeze=None, half=False, hsv_h=0.015, hsv_s=0.7, hsv_v=0.4, imgsz=640, int8=False, iou=0.7, keras=False, kobj=1.0, line_width=None, lr0=0.01, lrf=0.01, mask_ratio=4, max_det=300, mixup=0.0, mode=train, model=yolov8l.pt, momentum=0.937, mosaic=1.0, multi_scale=False, name=entrenamiento_xray, nbs=64, nms=False, opset=None, optimize=False, optimizer=auto, overlap_mask=True, patience=100, perspective=0.0, plots=True, pose=12.0, pretrained=True, profile=False, project=proyecto_xray, rect=False, resume=False, retina_masks=False, save=True, save_conf=False, save_crop=False, save_dir=proyecto_xray/entrenamiento_xray, save_frames=False, save_json=False, save_period=-1, save_txt=False, scale=0.5, seed=0, shear=0.0, show=False, show_boxes=True, show_conf=True, show_labels=True, simplify=True, single_cls=False, source=None, split=val, stream_buffer=False, task=detect, time=None, tracker=botsort.yaml, translate=0.1, val=True, verbose=True, vid_stride=1, visualize=False, warmup_bias_lr=0.1, warmup_epochs=3.0, warmup_momentum=0.8, weight_decay=0.0005, workers=8, workspace=None\n",
            "Downloading https://ultralytics.com/assets/Arial.ttf to '/root/.config/Ultralytics/Arial.ttf'...\n"
          ]
        },
        {
          "output_type": "stream",
          "name": "stderr",
          "text": [
            "100%|██████████| 755k/755k [00:00<00:00, 24.1MB/s]"
          ]
        },
        {
          "output_type": "stream",
          "name": "stdout",
          "text": [
            "Overriding model.yaml nc=80 with nc=2\n",
            "\n",
            "                   from  n    params  module                                       arguments                     \n",
            "  0                  -1  1      1856  ultralytics.nn.modules.conv.Conv             [3, 64, 3, 2]                 \n",
            "  1                  -1  1     73984  ultralytics.nn.modules.conv.Conv             [64, 128, 3, 2]               \n",
            "  2                  -1  3    279808  ultralytics.nn.modules.block.C2f             [128, 128, 3, True]           \n",
            "  3                  -1  1    295424  ultralytics.nn.modules.conv.Conv             [128, 256, 3, 2]              \n",
            "  4                  -1  6   2101248  ultralytics.nn.modules.block.C2f             [256, 256, 6, True]           \n",
            "  5                  -1  1   1180672  ultralytics.nn.modules.conv.Conv             [256, 512, 3, 2]              \n",
            "  6                  -1  6   8396800  ultralytics.nn.modules.block.C2f             [512, 512, 6, True]           \n",
            "  7                  -1  1   2360320  ultralytics.nn.modules.conv.Conv             [512, 512, 3, 2]              \n"
          ]
        },
        {
          "output_type": "stream",
          "name": "stderr",
          "text": [
            "\n"
          ]
        },
        {
          "output_type": "stream",
          "name": "stdout",
          "text": [
            "  8                  -1  3   4461568  ultralytics.nn.modules.block.C2f             [512, 512, 3, True]           \n",
            "  9                  -1  1    656896  ultralytics.nn.modules.block.SPPF            [512, 512, 5]                 \n",
            " 10                  -1  1         0  torch.nn.modules.upsampling.Upsample         [None, 2, 'nearest']          \n",
            " 11             [-1, 6]  1         0  ultralytics.nn.modules.conv.Concat           [1]                           \n",
            " 12                  -1  3   4723712  ultralytics.nn.modules.block.C2f             [1024, 512, 3]                \n",
            " 13                  -1  1         0  torch.nn.modules.upsampling.Upsample         [None, 2, 'nearest']          \n",
            " 14             [-1, 4]  1         0  ultralytics.nn.modules.conv.Concat           [1]                           \n",
            " 15                  -1  3   1247744  ultralytics.nn.modules.block.C2f             [768, 256, 3]                 \n",
            " 16                  -1  1    590336  ultralytics.nn.modules.conv.Conv             [256, 256, 3, 2]              \n",
            " 17            [-1, 12]  1         0  ultralytics.nn.modules.conv.Concat           [1]                           \n",
            " 18                  -1  3   4592640  ultralytics.nn.modules.block.C2f             [768, 512, 3]                 \n",
            " 19                  -1  1   2360320  ultralytics.nn.modules.conv.Conv             [512, 512, 3, 2]              \n",
            " 20             [-1, 9]  1         0  ultralytics.nn.modules.conv.Concat           [1]                           \n",
            " 21                  -1  3   4723712  ultralytics.nn.modules.block.C2f             [1024, 512, 3]                \n",
            " 22        [15, 18, 21]  1   5584342  ultralytics.nn.modules.head.Detect           [2, [256, 512, 512]]          \n",
            "Model summary: 209 layers, 43,631,382 parameters, 43,631,366 gradients, 165.4 GFLOPs\n",
            "\n",
            "Transferred 589/595 items from pretrained weights\n",
            "Freezing layer 'model.22.dfl.conv.weight'\n",
            "\u001b[34m\u001b[1mAMP: \u001b[0mrunning Automatic Mixed Precision (AMP) checks...\n",
            "Downloading https://github.com/ultralytics/assets/releases/download/v8.3.0/yolo11n.pt to 'yolo11n.pt'...\n"
          ]
        },
        {
          "output_type": "stream",
          "name": "stderr",
          "text": [
            "100%|██████████| 5.35M/5.35M [00:00<00:00, 99.4MB/s]\n"
          ]
        },
        {
          "output_type": "stream",
          "name": "stdout",
          "text": [
            "\u001b[34m\u001b[1mAMP: \u001b[0mchecks passed ✅\n",
            "\u001b[34m\u001b[1mtrain: \u001b[0mFast image access ✅ (ping: 0.0±0.0 ms, read: 1856.0±1019.5 MB/s, size: 196.5 KB)\n"
          ]
        },
        {
          "output_type": "stream",
          "name": "stderr",
          "text": [
            "\u001b[34m\u001b[1mtrain: \u001b[0mScanning /content/TeethDetection-9/train/labels... 678 images, 6 backgrounds, 0 corrupt: 100%|██████████| 678/678 [00:00<00:00, 2091.34it/s]"
          ]
        },
        {
          "output_type": "stream",
          "name": "stdout",
          "text": [
            "\u001b[34m\u001b[1mtrain: \u001b[0mNew cache created: /content/TeethDetection-9/train/labels.cache\n"
          ]
        },
        {
          "output_type": "stream",
          "name": "stderr",
          "text": [
            "\n"
          ]
        },
        {
          "output_type": "stream",
          "name": "stdout",
          "text": [
            "\u001b[34m\u001b[1malbumentations: \u001b[0mBlur(p=0.01, blur_limit=(3, 7)), MedianBlur(p=0.01, blur_limit=(3, 7)), ToGray(p=0.01, method='weighted_average', num_output_channels=3), CLAHE(p=0.01, clip_limit=(1.0, 4.0), tile_grid_size=(8, 8))\n",
            "\u001b[34m\u001b[1mval: \u001b[0mFast image access ✅ (ping: 0.0±0.0 ms, read: 1088.1±1012.8 MB/s, size: 164.8 KB)\n"
          ]
        },
        {
          "output_type": "stream",
          "name": "stderr",
          "text": [
            "\u001b[34m\u001b[1mval: \u001b[0mScanning /content/TeethDetection-9/valid/labels... 35 images, 1 backgrounds, 0 corrupt: 100%|██████████| 35/35 [00:00<00:00, 922.20it/s]"
          ]
        },
        {
          "output_type": "stream",
          "name": "stdout",
          "text": [
            "\u001b[34m\u001b[1mval: \u001b[0mNew cache created: /content/TeethDetection-9/valid/labels.cache\n"
          ]
        },
        {
          "output_type": "stream",
          "name": "stderr",
          "text": [
            "\n"
          ]
        },
        {
          "output_type": "stream",
          "name": "stdout",
          "text": [
            "Plotting labels to proyecto_xray/entrenamiento_xray/labels.jpg... \n",
            "\u001b[34m\u001b[1moptimizer:\u001b[0m 'optimizer=auto' found, ignoring 'lr0=0.01' and 'momentum=0.937' and determining best 'optimizer', 'lr0' and 'momentum' automatically... \n",
            "\u001b[34m\u001b[1moptimizer:\u001b[0m AdamW(lr=0.001667, momentum=0.9) with parameter groups 97 weight(decay=0.0), 104 weight(decay=0.0005), 103 bias(decay=0.0)\n",
            "Image sizes 640 train, 640 val\n",
            "Using 2 dataloader workers\n",
            "Logging results to \u001b[1mproyecto_xray/entrenamiento_xray\u001b[0m\n",
            "Starting training for 100 epochs...\n",
            "\n",
            "      Epoch    GPU_mem   box_loss   cls_loss   dfl_loss  Instances       Size\n"
          ]
        },
        {
          "output_type": "stream",
          "name": "stderr",
          "text": [
            "      1/100      9.61G      1.817      1.784      1.568        237        640: 100%|██████████| 43/43 [00:35<00:00,  1.22it/s]\n",
            "                 Class     Images  Instances      Box(P          R      mAP50  mAP50-95): 100%|██████████| 2/2 [00:01<00:00,  1.04it/s]"
          ]
        },
        {
          "output_type": "stream",
          "name": "stdout",
          "text": [
            "                   all         35       1007     0.0027     0.0278    0.00138   0.000893\n"
          ]
        },
        {
          "output_type": "stream",
          "name": "stderr",
          "text": [
            "\n"
          ]
        },
        {
          "output_type": "stream",
          "name": "stdout",
          "text": [
            "\n",
            "      Epoch    GPU_mem   box_loss   cls_loss   dfl_loss  Instances       Size\n"
          ]
        },
        {
          "output_type": "stream",
          "name": "stderr",
          "text": [
            "      2/100      9.68G      1.333     0.7173       1.29        252        640: 100%|██████████| 43/43 [00:34<00:00,  1.24it/s]\n",
            "                 Class     Images  Instances      Box(P          R      mAP50  mAP50-95): 100%|██████████| 2/2 [00:01<00:00,  1.52it/s]"
          ]
        },
        {
          "output_type": "stream",
          "name": "stdout",
          "text": [
            "                   all         35       1007     0.0296      0.291     0.0189     0.0103\n"
          ]
        },
        {
          "output_type": "stream",
          "name": "stderr",
          "text": [
            "\n"
          ]
        },
        {
          "output_type": "stream",
          "name": "stdout",
          "text": [
            "\n",
            "      Epoch    GPU_mem   box_loss   cls_loss   dfl_loss  Instances       Size\n"
          ]
        },
        {
          "output_type": "stream",
          "name": "stderr",
          "text": [
            "      3/100      9.67G       1.36      0.701      1.287        232        640: 100%|██████████| 43/43 [00:35<00:00,  1.21it/s]\n",
            "                 Class     Images  Instances      Box(P          R      mAP50  mAP50-95): 100%|██████████| 2/2 [00:00<00:00,  2.51it/s]"
          ]
        },
        {
          "output_type": "stream",
          "name": "stdout",
          "text": [
            "                   all         35       1007      0.879      0.936      0.958      0.574\n"
          ]
        },
        {
          "output_type": "stream",
          "name": "stderr",
          "text": [
            "\n"
          ]
        },
        {
          "output_type": "stream",
          "name": "stdout",
          "text": [
            "\n",
            "      Epoch    GPU_mem   box_loss   cls_loss   dfl_loss  Instances       Size\n"
          ]
        },
        {
          "output_type": "stream",
          "name": "stderr",
          "text": [
            "      4/100      9.55G      1.327     0.6494       1.28        234        640: 100%|██████████| 43/43 [00:34<00:00,  1.26it/s]\n",
            "                 Class     Images  Instances      Box(P          R      mAP50  mAP50-95): 100%|██████████| 2/2 [00:01<00:00,  1.91it/s]"
          ]
        },
        {
          "output_type": "stream",
          "name": "stdout",
          "text": [
            "                   all         35       1007      0.847      0.881      0.929      0.551\n"
          ]
        },
        {
          "output_type": "stream",
          "name": "stderr",
          "text": [
            "\n"
          ]
        },
        {
          "output_type": "stream",
          "name": "stdout",
          "text": [
            "\n",
            "      Epoch    GPU_mem   box_loss   cls_loss   dfl_loss  Instances       Size\n"
          ]
        },
        {
          "output_type": "stream",
          "name": "stderr",
          "text": [
            "      5/100      9.55G      1.282     0.6009      1.241        286        640: 100%|██████████| 43/43 [00:34<00:00,  1.23it/s]\n",
            "                 Class     Images  Instances      Box(P          R      mAP50  mAP50-95): 100%|██████████| 2/2 [00:00<00:00,  2.43it/s]"
          ]
        },
        {
          "output_type": "stream",
          "name": "stdout",
          "text": [
            "                   all         35       1007      0.865      0.943      0.912      0.578\n"
          ]
        },
        {
          "output_type": "stream",
          "name": "stderr",
          "text": [
            "\n"
          ]
        },
        {
          "output_type": "stream",
          "name": "stdout",
          "text": [
            "\n",
            "      Epoch    GPU_mem   box_loss   cls_loss   dfl_loss  Instances       Size\n"
          ]
        },
        {
          "output_type": "stream",
          "name": "stderr",
          "text": [
            "      6/100       9.5G      1.271     0.6076       1.24        208        640: 100%|██████████| 43/43 [00:34<00:00,  1.25it/s]\n",
            "                 Class     Images  Instances      Box(P          R      mAP50  mAP50-95): 100%|██████████| 2/2 [00:00<00:00,  2.23it/s]"
          ]
        },
        {
          "output_type": "stream",
          "name": "stdout",
          "text": [
            "                   all         35       1007      0.933       0.95      0.976       0.63\n"
          ]
        },
        {
          "output_type": "stream",
          "name": "stderr",
          "text": [
            "\n"
          ]
        },
        {
          "output_type": "stream",
          "name": "stdout",
          "text": [
            "\n",
            "      Epoch    GPU_mem   box_loss   cls_loss   dfl_loss  Instances       Size\n"
          ]
        },
        {
          "output_type": "stream",
          "name": "stderr",
          "text": [
            "      7/100      9.52G      1.232      0.584      1.221        268        640: 100%|██████████| 43/43 [00:34<00:00,  1.25it/s]\n",
            "                 Class     Images  Instances      Box(P          R      mAP50  mAP50-95): 100%|██████████| 2/2 [00:00<00:00,  2.52it/s]"
          ]
        },
        {
          "output_type": "stream",
          "name": "stdout",
          "text": [
            "                   all         35       1007      0.926      0.978      0.966      0.664\n"
          ]
        },
        {
          "output_type": "stream",
          "name": "stderr",
          "text": [
            "\n"
          ]
        },
        {
          "output_type": "stream",
          "name": "stdout",
          "text": [
            "\n",
            "      Epoch    GPU_mem   box_loss   cls_loss   dfl_loss  Instances       Size\n"
          ]
        },
        {
          "output_type": "stream",
          "name": "stderr",
          "text": [
            "      8/100      9.59G      1.225     0.5629      1.213        315        640: 100%|██████████| 43/43 [00:34<00:00,  1.24it/s]\n",
            "                 Class     Images  Instances      Box(P          R      mAP50  mAP50-95): 100%|██████████| 2/2 [00:00<00:00,  2.55it/s]"
          ]
        },
        {
          "output_type": "stream",
          "name": "stdout",
          "text": [
            "                   all         35       1007      0.928      0.978       0.98      0.657\n"
          ]
        },
        {
          "output_type": "stream",
          "name": "stderr",
          "text": [
            "\n"
          ]
        },
        {
          "output_type": "stream",
          "name": "stdout",
          "text": [
            "\n",
            "      Epoch    GPU_mem   box_loss   cls_loss   dfl_loss  Instances       Size\n"
          ]
        },
        {
          "output_type": "stream",
          "name": "stderr",
          "text": [
            "      9/100       9.5G      1.202     0.5459      1.194        299        640: 100%|██████████| 43/43 [00:34<00:00,  1.24it/s]\n",
            "                 Class     Images  Instances      Box(P          R      mAP50  mAP50-95): 100%|██████████| 2/2 [00:00<00:00,  2.50it/s]"
          ]
        },
        {
          "output_type": "stream",
          "name": "stdout",
          "text": [
            "                   all         35       1007      0.938      0.963      0.977      0.646\n"
          ]
        },
        {
          "output_type": "stream",
          "name": "stderr",
          "text": [
            "\n"
          ]
        },
        {
          "output_type": "stream",
          "name": "stdout",
          "text": [
            "\n",
            "      Epoch    GPU_mem   box_loss   cls_loss   dfl_loss  Instances       Size\n"
          ]
        },
        {
          "output_type": "stream",
          "name": "stderr",
          "text": [
            "     10/100      9.62G       1.19     0.5469      1.189        362        640: 100%|██████████| 43/43 [00:34<00:00,  1.24it/s]\n",
            "                 Class     Images  Instances      Box(P          R      mAP50  mAP50-95): 100%|██████████| 2/2 [00:00<00:00,  2.56it/s]"
          ]
        },
        {
          "output_type": "stream",
          "name": "stdout",
          "text": [
            "                   all         35       1007      0.945       0.97      0.977      0.673\n"
          ]
        },
        {
          "output_type": "stream",
          "name": "stderr",
          "text": [
            "\n"
          ]
        },
        {
          "output_type": "stream",
          "name": "stdout",
          "text": [
            "\n",
            "      Epoch    GPU_mem   box_loss   cls_loss   dfl_loss  Instances       Size\n"
          ]
        },
        {
          "output_type": "stream",
          "name": "stderr",
          "text": [
            "     11/100      9.58G      1.185      0.535      1.172        342        640: 100%|██████████| 43/43 [00:34<00:00,  1.24it/s]\n",
            "                 Class     Images  Instances      Box(P          R      mAP50  mAP50-95): 100%|██████████| 2/2 [00:00<00:00,  2.55it/s]"
          ]
        },
        {
          "output_type": "stream",
          "name": "stdout",
          "text": [
            "                   all         35       1007      0.934      0.966       0.98      0.676\n"
          ]
        },
        {
          "output_type": "stream",
          "name": "stderr",
          "text": [
            "\n"
          ]
        },
        {
          "output_type": "stream",
          "name": "stdout",
          "text": [
            "\n",
            "      Epoch    GPU_mem   box_loss   cls_loss   dfl_loss  Instances       Size\n"
          ]
        },
        {
          "output_type": "stream",
          "name": "stderr",
          "text": [
            "     12/100      9.56G      1.176      0.522      1.192        187        640: 100%|██████████| 43/43 [00:34<00:00,  1.24it/s]\n",
            "                 Class     Images  Instances      Box(P          R      mAP50  mAP50-95): 100%|██████████| 2/2 [00:00<00:00,  2.09it/s]"
          ]
        },
        {
          "output_type": "stream",
          "name": "stdout",
          "text": [
            "                   all         35       1007      0.948      0.965      0.982      0.686\n"
          ]
        },
        {
          "output_type": "stream",
          "name": "stderr",
          "text": [
            "\n"
          ]
        },
        {
          "output_type": "stream",
          "name": "stdout",
          "text": [
            "\n",
            "      Epoch    GPU_mem   box_loss   cls_loss   dfl_loss  Instances       Size\n"
          ]
        },
        {
          "output_type": "stream",
          "name": "stderr",
          "text": [
            "     13/100      9.58G      1.145     0.5109       1.17        280        640: 100%|██████████| 43/43 [00:34<00:00,  1.24it/s]\n",
            "                 Class     Images  Instances      Box(P          R      mAP50  mAP50-95): 100%|██████████| 2/2 [00:00<00:00,  2.55it/s]"
          ]
        },
        {
          "output_type": "stream",
          "name": "stdout",
          "text": [
            "                   all         35       1007      0.928      0.959      0.974      0.668\n"
          ]
        },
        {
          "output_type": "stream",
          "name": "stderr",
          "text": [
            "\n"
          ]
        },
        {
          "output_type": "stream",
          "name": "stdout",
          "text": [
            "\n",
            "      Epoch    GPU_mem   box_loss   cls_loss   dfl_loss  Instances       Size\n"
          ]
        },
        {
          "output_type": "stream",
          "name": "stderr",
          "text": [
            "     14/100      9.45G      1.149     0.5069      1.157        316        640: 100%|██████████| 43/43 [00:34<00:00,  1.24it/s]\n",
            "                 Class     Images  Instances      Box(P          R      mAP50  mAP50-95): 100%|██████████| 2/2 [00:00<00:00,  2.60it/s]"
          ]
        },
        {
          "output_type": "stream",
          "name": "stdout",
          "text": [
            "                   all         35       1007      0.947      0.961       0.98      0.655\n"
          ]
        },
        {
          "output_type": "stream",
          "name": "stderr",
          "text": [
            "\n"
          ]
        },
        {
          "output_type": "stream",
          "name": "stdout",
          "text": [
            "\n",
            "      Epoch    GPU_mem   box_loss   cls_loss   dfl_loss  Instances       Size\n"
          ]
        },
        {
          "output_type": "stream",
          "name": "stderr",
          "text": [
            "     15/100      9.68G      1.156       0.51      1.165        216        640: 100%|██████████| 43/43 [00:34<00:00,  1.24it/s]\n",
            "                 Class     Images  Instances      Box(P          R      mAP50  mAP50-95): 100%|██████████| 2/2 [00:00<00:00,  2.54it/s]"
          ]
        },
        {
          "output_type": "stream",
          "name": "stdout",
          "text": [
            "                   all         35       1007      0.934      0.982      0.976       0.64\n"
          ]
        },
        {
          "output_type": "stream",
          "name": "stderr",
          "text": [
            "\n"
          ]
        },
        {
          "output_type": "stream",
          "name": "stdout",
          "text": [
            "\n",
            "      Epoch    GPU_mem   box_loss   cls_loss   dfl_loss  Instances       Size\n"
          ]
        },
        {
          "output_type": "stream",
          "name": "stderr",
          "text": [
            "     16/100      9.59G       1.12     0.4953      1.146        208        640: 100%|██████████| 43/43 [00:34<00:00,  1.24it/s]\n",
            "                 Class     Images  Instances      Box(P          R      mAP50  mAP50-95): 100%|██████████| 2/2 [00:01<00:00,  1.89it/s]"
          ]
        },
        {
          "output_type": "stream",
          "name": "stdout",
          "text": [
            "                   all         35       1007      0.942      0.972      0.978      0.695\n"
          ]
        },
        {
          "output_type": "stream",
          "name": "stderr",
          "text": [
            "\n"
          ]
        },
        {
          "output_type": "stream",
          "name": "stdout",
          "text": [
            "\n",
            "      Epoch    GPU_mem   box_loss   cls_loss   dfl_loss  Instances       Size\n"
          ]
        },
        {
          "output_type": "stream",
          "name": "stderr",
          "text": [
            "     17/100      9.55G      1.143     0.5006       1.15        186        640: 100%|██████████| 43/43 [00:34<00:00,  1.24it/s]\n",
            "                 Class     Images  Instances      Box(P          R      mAP50  mAP50-95): 100%|██████████| 2/2 [00:00<00:00,  2.49it/s]"
          ]
        },
        {
          "output_type": "stream",
          "name": "stdout",
          "text": [
            "                   all         35       1007       0.93      0.982      0.974      0.663\n"
          ]
        },
        {
          "output_type": "stream",
          "name": "stderr",
          "text": [
            "\n"
          ]
        },
        {
          "output_type": "stream",
          "name": "stdout",
          "text": [
            "\n",
            "      Epoch    GPU_mem   box_loss   cls_loss   dfl_loss  Instances       Size\n"
          ]
        },
        {
          "output_type": "stream",
          "name": "stderr",
          "text": [
            "     18/100      9.65G      1.107     0.4862      1.137        303        640: 100%|██████████| 43/43 [00:34<00:00,  1.24it/s]\n",
            "                 Class     Images  Instances      Box(P          R      mAP50  mAP50-95): 100%|██████████| 2/2 [00:00<00:00,  2.58it/s]"
          ]
        },
        {
          "output_type": "stream",
          "name": "stdout",
          "text": [
            "                   all         35       1007      0.938      0.975      0.981      0.676\n"
          ]
        },
        {
          "output_type": "stream",
          "name": "stderr",
          "text": [
            "\n"
          ]
        },
        {
          "output_type": "stream",
          "name": "stdout",
          "text": [
            "\n",
            "      Epoch    GPU_mem   box_loss   cls_loss   dfl_loss  Instances       Size\n"
          ]
        },
        {
          "output_type": "stream",
          "name": "stderr",
          "text": [
            "     19/100      9.43G      1.115     0.4909      1.133        274        640: 100%|██████████| 43/43 [00:34<00:00,  1.25it/s]\n",
            "                 Class     Images  Instances      Box(P          R      mAP50  mAP50-95): 100%|██████████| 2/2 [00:00<00:00,  2.33it/s]"
          ]
        },
        {
          "output_type": "stream",
          "name": "stdout",
          "text": [
            "                   all         35       1007      0.942      0.969      0.981      0.659\n"
          ]
        },
        {
          "output_type": "stream",
          "name": "stderr",
          "text": [
            "\n"
          ]
        },
        {
          "output_type": "stream",
          "name": "stdout",
          "text": [
            "\n",
            "      Epoch    GPU_mem   box_loss   cls_loss   dfl_loss  Instances       Size\n"
          ]
        },
        {
          "output_type": "stream",
          "name": "stderr",
          "text": [
            "     20/100      9.62G      1.088     0.4756      1.129        309        640: 100%|██████████| 43/43 [00:34<00:00,  1.24it/s]\n",
            "                 Class     Images  Instances      Box(P          R      mAP50  mAP50-95): 100%|██████████| 2/2 [00:00<00:00,  2.52it/s]"
          ]
        },
        {
          "output_type": "stream",
          "name": "stdout",
          "text": [
            "                   all         35       1007      0.939      0.947      0.975      0.673\n"
          ]
        },
        {
          "output_type": "stream",
          "name": "stderr",
          "text": [
            "\n"
          ]
        },
        {
          "output_type": "stream",
          "name": "stdout",
          "text": [
            "\n",
            "      Epoch    GPU_mem   box_loss   cls_loss   dfl_loss  Instances       Size\n"
          ]
        },
        {
          "output_type": "stream",
          "name": "stderr",
          "text": [
            "     21/100      9.55G      1.117     0.4875      1.145        264        640: 100%|██████████| 43/43 [00:34<00:00,  1.24it/s]\n",
            "                 Class     Images  Instances      Box(P          R      mAP50  mAP50-95): 100%|██████████| 2/2 [00:00<00:00,  2.44it/s]"
          ]
        },
        {
          "output_type": "stream",
          "name": "stdout",
          "text": [
            "                   all         35       1007      0.937      0.967      0.978      0.684\n"
          ]
        },
        {
          "output_type": "stream",
          "name": "stderr",
          "text": [
            "\n"
          ]
        },
        {
          "output_type": "stream",
          "name": "stdout",
          "text": [
            "\n",
            "      Epoch    GPU_mem   box_loss   cls_loss   dfl_loss  Instances       Size\n"
          ]
        },
        {
          "output_type": "stream",
          "name": "stderr",
          "text": [
            "     22/100      9.59G      1.103     0.4838      1.131        310        640: 100%|██████████| 43/43 [00:34<00:00,  1.25it/s]\n",
            "                 Class     Images  Instances      Box(P          R      mAP50  mAP50-95): 100%|██████████| 2/2 [00:00<00:00,  2.04it/s]"
          ]
        },
        {
          "output_type": "stream",
          "name": "stdout",
          "text": [
            "                   all         35       1007      0.948      0.966      0.974      0.678\n"
          ]
        },
        {
          "output_type": "stream",
          "name": "stderr",
          "text": [
            "\n"
          ]
        },
        {
          "output_type": "stream",
          "name": "stdout",
          "text": [
            "\n",
            "      Epoch    GPU_mem   box_loss   cls_loss   dfl_loss  Instances       Size\n"
          ]
        },
        {
          "output_type": "stream",
          "name": "stderr",
          "text": [
            "     23/100      9.59G      1.066     0.4596       1.12        134        640: 100%|██████████| 43/43 [00:34<00:00,  1.24it/s]\n",
            "                 Class     Images  Instances      Box(P          R      mAP50  mAP50-95): 100%|██████████| 2/2 [00:00<00:00,  2.54it/s]"
          ]
        },
        {
          "output_type": "stream",
          "name": "stdout",
          "text": [
            "                   all         35       1007      0.942      0.971      0.979      0.695\n"
          ]
        },
        {
          "output_type": "stream",
          "name": "stderr",
          "text": [
            "\n"
          ]
        },
        {
          "output_type": "stream",
          "name": "stdout",
          "text": [
            "\n",
            "      Epoch    GPU_mem   box_loss   cls_loss   dfl_loss  Instances       Size\n"
          ]
        },
        {
          "output_type": "stream",
          "name": "stderr",
          "text": [
            "     24/100      9.69G      1.085     0.4777       1.13        356        640: 100%|██████████| 43/43 [00:34<00:00,  1.25it/s]\n",
            "                 Class     Images  Instances      Box(P          R      mAP50  mAP50-95): 100%|██████████| 2/2 [00:00<00:00,  2.20it/s]"
          ]
        },
        {
          "output_type": "stream",
          "name": "stdout",
          "text": [
            "                   all         35       1007      0.943      0.966      0.978      0.695\n"
          ]
        },
        {
          "output_type": "stream",
          "name": "stderr",
          "text": [
            "\n"
          ]
        },
        {
          "output_type": "stream",
          "name": "stdout",
          "text": [
            "\n",
            "      Epoch    GPU_mem   box_loss   cls_loss   dfl_loss  Instances       Size\n"
          ]
        },
        {
          "output_type": "stream",
          "name": "stderr",
          "text": [
            "     25/100      9.53G      1.067     0.4707      1.113        255        640: 100%|██████████| 43/43 [00:34<00:00,  1.24it/s]\n",
            "                 Class     Images  Instances      Box(P          R      mAP50  mAP50-95): 100%|██████████| 2/2 [00:00<00:00,  2.46it/s]"
          ]
        },
        {
          "output_type": "stream",
          "name": "stdout",
          "text": [
            "                   all         35       1007      0.938      0.977      0.979      0.671\n"
          ]
        },
        {
          "output_type": "stream",
          "name": "stderr",
          "text": [
            "\n"
          ]
        },
        {
          "output_type": "stream",
          "name": "stdout",
          "text": [
            "\n",
            "      Epoch    GPU_mem   box_loss   cls_loss   dfl_loss  Instances       Size\n"
          ]
        },
        {
          "output_type": "stream",
          "name": "stderr",
          "text": [
            "     26/100      9.48G      1.053       0.46      1.105        258        640: 100%|██████████| 43/43 [00:34<00:00,  1.24it/s]\n",
            "                 Class     Images  Instances      Box(P          R      mAP50  mAP50-95): 100%|██████████| 2/2 [00:00<00:00,  2.55it/s]"
          ]
        },
        {
          "output_type": "stream",
          "name": "stdout",
          "text": [
            "                   all         35       1007      0.943      0.973      0.975      0.663\n"
          ]
        },
        {
          "output_type": "stream",
          "name": "stderr",
          "text": [
            "\n"
          ]
        },
        {
          "output_type": "stream",
          "name": "stdout",
          "text": [
            "\n",
            "      Epoch    GPU_mem   box_loss   cls_loss   dfl_loss  Instances       Size\n"
          ]
        },
        {
          "output_type": "stream",
          "name": "stderr",
          "text": [
            "     27/100       9.4G      1.041     0.4484      1.103        209        640: 100%|██████████| 43/43 [00:34<00:00,  1.25it/s]\n",
            "                 Class     Images  Instances      Box(P          R      mAP50  mAP50-95): 100%|██████████| 2/2 [00:00<00:00,  2.62it/s]"
          ]
        },
        {
          "output_type": "stream",
          "name": "stdout",
          "text": [
            "                   all         35       1007      0.949      0.965       0.98      0.667\n"
          ]
        },
        {
          "output_type": "stream",
          "name": "stderr",
          "text": [
            "\n"
          ]
        },
        {
          "output_type": "stream",
          "name": "stdout",
          "text": [
            "\n",
            "      Epoch    GPU_mem   box_loss   cls_loss   dfl_loss  Instances       Size\n"
          ]
        },
        {
          "output_type": "stream",
          "name": "stderr",
          "text": [
            "     28/100      9.57G      1.036     0.4466      1.101        213        640: 100%|██████████| 43/43 [00:34<00:00,  1.25it/s]\n",
            "                 Class     Images  Instances      Box(P          R      mAP50  mAP50-95): 100%|██████████| 2/2 [00:00<00:00,  2.58it/s]"
          ]
        },
        {
          "output_type": "stream",
          "name": "stdout",
          "text": [
            "                   all         35       1007       0.95      0.972      0.972      0.681\n"
          ]
        },
        {
          "output_type": "stream",
          "name": "stderr",
          "text": [
            "\n"
          ]
        },
        {
          "output_type": "stream",
          "name": "stdout",
          "text": [
            "\n",
            "      Epoch    GPU_mem   box_loss   cls_loss   dfl_loss  Instances       Size\n"
          ]
        },
        {
          "output_type": "stream",
          "name": "stderr",
          "text": [
            "     29/100      9.43G      1.027     0.4454      1.089        238        640: 100%|██████████| 43/43 [00:34<00:00,  1.25it/s]\n",
            "                 Class     Images  Instances      Box(P          R      mAP50  mAP50-95): 100%|██████████| 2/2 [00:00<00:00,  2.53it/s]"
          ]
        },
        {
          "output_type": "stream",
          "name": "stdout",
          "text": [
            "                   all         35       1007      0.944      0.971      0.979      0.693\n"
          ]
        },
        {
          "output_type": "stream",
          "name": "stderr",
          "text": [
            "\n"
          ]
        },
        {
          "output_type": "stream",
          "name": "stdout",
          "text": [
            "\n",
            "      Epoch    GPU_mem   box_loss   cls_loss   dfl_loss  Instances       Size\n"
          ]
        },
        {
          "output_type": "stream",
          "name": "stderr",
          "text": [
            "     30/100      9.58G      1.028     0.4445      1.094        250        640: 100%|██████████| 43/43 [00:34<00:00,  1.24it/s]\n",
            "                 Class     Images  Instances      Box(P          R      mAP50  mAP50-95): 100%|██████████| 2/2 [00:00<00:00,  2.59it/s]"
          ]
        },
        {
          "output_type": "stream",
          "name": "stdout",
          "text": [
            "                   all         35       1007      0.956      0.965      0.973      0.686\n"
          ]
        },
        {
          "output_type": "stream",
          "name": "stderr",
          "text": [
            "\n"
          ]
        },
        {
          "output_type": "stream",
          "name": "stdout",
          "text": [
            "\n",
            "      Epoch    GPU_mem   box_loss   cls_loss   dfl_loss  Instances       Size\n"
          ]
        },
        {
          "output_type": "stream",
          "name": "stderr",
          "text": [
            "     31/100      9.73G      1.014     0.4395      1.075        229        640: 100%|██████████| 43/43 [00:34<00:00,  1.25it/s]\n",
            "                 Class     Images  Instances      Box(P          R      mAP50  mAP50-95): 100%|██████████| 2/2 [00:00<00:00,  2.60it/s]"
          ]
        },
        {
          "output_type": "stream",
          "name": "stdout",
          "text": [
            "                   all         35       1007      0.948       0.97      0.978      0.693\n"
          ]
        },
        {
          "output_type": "stream",
          "name": "stderr",
          "text": [
            "\n"
          ]
        },
        {
          "output_type": "stream",
          "name": "stdout",
          "text": [
            "\n",
            "      Epoch    GPU_mem   box_loss   cls_loss   dfl_loss  Instances       Size\n"
          ]
        },
        {
          "output_type": "stream",
          "name": "stderr",
          "text": [
            "     32/100      9.51G     0.9979     0.4367      1.076        128        640: 100%|██████████| 43/43 [00:34<00:00,  1.26it/s]\n",
            "                 Class     Images  Instances      Box(P          R      mAP50  mAP50-95): 100%|██████████| 2/2 [00:00<00:00,  2.63it/s]"
          ]
        },
        {
          "output_type": "stream",
          "name": "stdout",
          "text": [
            "                   all         35       1007      0.947      0.969      0.976      0.688\n"
          ]
        },
        {
          "output_type": "stream",
          "name": "stderr",
          "text": [
            "\n"
          ]
        },
        {
          "output_type": "stream",
          "name": "stdout",
          "text": [
            "\n",
            "      Epoch    GPU_mem   box_loss   cls_loss   dfl_loss  Instances       Size\n"
          ]
        },
        {
          "output_type": "stream",
          "name": "stderr",
          "text": [
            "     33/100      9.56G     0.9883     0.4269      1.076        225        640: 100%|██████████| 43/43 [00:34<00:00,  1.25it/s]\n",
            "                 Class     Images  Instances      Box(P          R      mAP50  mAP50-95): 100%|██████████| 2/2 [00:00<00:00,  2.56it/s]"
          ]
        },
        {
          "output_type": "stream",
          "name": "stdout",
          "text": [
            "                   all         35       1007      0.937      0.945      0.966      0.639\n"
          ]
        },
        {
          "output_type": "stream",
          "name": "stderr",
          "text": [
            "\n"
          ]
        },
        {
          "output_type": "stream",
          "name": "stdout",
          "text": [
            "\n",
            "      Epoch    GPU_mem   box_loss   cls_loss   dfl_loss  Instances       Size\n"
          ]
        },
        {
          "output_type": "stream",
          "name": "stderr",
          "text": [
            "     34/100      9.51G       0.99     0.4345       1.07        442        640: 100%|██████████| 43/43 [00:34<00:00,  1.24it/s]\n",
            "                 Class     Images  Instances      Box(P          R      mAP50  mAP50-95): 100%|██████████| 2/2 [00:00<00:00,  2.09it/s]"
          ]
        },
        {
          "output_type": "stream",
          "name": "stdout",
          "text": [
            "                   all         35       1007      0.941      0.979       0.97      0.679\n"
          ]
        },
        {
          "output_type": "stream",
          "name": "stderr",
          "text": [
            "\n"
          ]
        },
        {
          "output_type": "stream",
          "name": "stdout",
          "text": [
            "\n",
            "      Epoch    GPU_mem   box_loss   cls_loss   dfl_loss  Instances       Size\n"
          ]
        },
        {
          "output_type": "stream",
          "name": "stderr",
          "text": [
            "     35/100      9.55G      1.001     0.4499      1.073        241        640: 100%|██████████| 43/43 [00:34<00:00,  1.25it/s]\n",
            "                 Class     Images  Instances      Box(P          R      mAP50  mAP50-95): 100%|██████████| 2/2 [00:00<00:00,  2.58it/s]"
          ]
        },
        {
          "output_type": "stream",
          "name": "stdout",
          "text": [
            "                   all         35       1007      0.941      0.954      0.978      0.685\n"
          ]
        },
        {
          "output_type": "stream",
          "name": "stderr",
          "text": [
            "\n"
          ]
        },
        {
          "output_type": "stream",
          "name": "stdout",
          "text": [
            "\n",
            "      Epoch    GPU_mem   box_loss   cls_loss   dfl_loss  Instances       Size\n"
          ]
        },
        {
          "output_type": "stream",
          "name": "stderr",
          "text": [
            "     36/100      9.59G     0.9655     0.4223       1.06        358        640: 100%|██████████| 43/43 [00:34<00:00,  1.25it/s]\n",
            "                 Class     Images  Instances      Box(P          R      mAP50  mAP50-95): 100%|██████████| 2/2 [00:00<00:00,  2.44it/s]"
          ]
        },
        {
          "output_type": "stream",
          "name": "stdout",
          "text": [
            "                   all         35       1007      0.943      0.967      0.979      0.704\n"
          ]
        },
        {
          "output_type": "stream",
          "name": "stderr",
          "text": [
            "\n"
          ]
        },
        {
          "output_type": "stream",
          "name": "stdout",
          "text": [
            "\n",
            "      Epoch    GPU_mem   box_loss   cls_loss   dfl_loss  Instances       Size\n"
          ]
        },
        {
          "output_type": "stream",
          "name": "stderr",
          "text": [
            "     37/100      9.51G     0.9488     0.4093      1.055        418        640: 100%|██████████| 43/43 [00:34<00:00,  1.25it/s]\n",
            "                 Class     Images  Instances      Box(P          R      mAP50  mAP50-95): 100%|██████████| 2/2 [00:00<00:00,  2.50it/s]"
          ]
        },
        {
          "output_type": "stream",
          "name": "stdout",
          "text": [
            "                   all         35       1007       0.95      0.963      0.983      0.685\n"
          ]
        },
        {
          "output_type": "stream",
          "name": "stderr",
          "text": [
            "\n"
          ]
        },
        {
          "output_type": "stream",
          "name": "stdout",
          "text": [
            "\n",
            "      Epoch    GPU_mem   box_loss   cls_loss   dfl_loss  Instances       Size\n"
          ]
        },
        {
          "output_type": "stream",
          "name": "stderr",
          "text": [
            "     38/100       9.7G     0.9576     0.4162      1.055        207        640: 100%|██████████| 43/43 [00:34<00:00,  1.25it/s]\n",
            "                 Class     Images  Instances      Box(P          R      mAP50  mAP50-95): 100%|██████████| 2/2 [00:00<00:00,  2.62it/s]"
          ]
        },
        {
          "output_type": "stream",
          "name": "stdout",
          "text": [
            "                   all         35       1007      0.963      0.969      0.985      0.692\n"
          ]
        },
        {
          "output_type": "stream",
          "name": "stderr",
          "text": [
            "\n"
          ]
        },
        {
          "output_type": "stream",
          "name": "stdout",
          "text": [
            "\n",
            "      Epoch    GPU_mem   box_loss   cls_loss   dfl_loss  Instances       Size\n"
          ]
        },
        {
          "output_type": "stream",
          "name": "stderr",
          "text": [
            "     39/100      9.39G     0.9453     0.4067      1.051        268        640: 100%|██████████| 43/43 [00:34<00:00,  1.24it/s]\n",
            "                 Class     Images  Instances      Box(P          R      mAP50  mAP50-95): 100%|██████████| 2/2 [00:00<00:00,  2.58it/s]"
          ]
        },
        {
          "output_type": "stream",
          "name": "stdout",
          "text": [
            "                   all         35       1007      0.956      0.963      0.977      0.686\n"
          ]
        },
        {
          "output_type": "stream",
          "name": "stderr",
          "text": [
            "\n"
          ]
        },
        {
          "output_type": "stream",
          "name": "stdout",
          "text": [
            "\n",
            "      Epoch    GPU_mem   box_loss   cls_loss   dfl_loss  Instances       Size\n"
          ]
        },
        {
          "output_type": "stream",
          "name": "stderr",
          "text": [
            "     40/100      9.58G     0.9497     0.4156      1.051        260        640: 100%|██████████| 43/43 [00:34<00:00,  1.25it/s]\n",
            "                 Class     Images  Instances      Box(P          R      mAP50  mAP50-95): 100%|██████████| 2/2 [00:00<00:00,  2.60it/s]"
          ]
        },
        {
          "output_type": "stream",
          "name": "stdout",
          "text": [
            "                   all         35       1007      0.939      0.964      0.969      0.662\n"
          ]
        },
        {
          "output_type": "stream",
          "name": "stderr",
          "text": [
            "\n"
          ]
        },
        {
          "output_type": "stream",
          "name": "stdout",
          "text": [
            "\n",
            "      Epoch    GPU_mem   box_loss   cls_loss   dfl_loss  Instances       Size\n"
          ]
        },
        {
          "output_type": "stream",
          "name": "stderr",
          "text": [
            "     41/100       9.6G     0.9356     0.4068      1.046        251        640: 100%|██████████| 43/43 [00:34<00:00,  1.25it/s]\n",
            "                 Class     Images  Instances      Box(P          R      mAP50  mAP50-95): 100%|██████████| 2/2 [00:00<00:00,  2.58it/s]"
          ]
        },
        {
          "output_type": "stream",
          "name": "stdout",
          "text": [
            "                   all         35       1007      0.944      0.961      0.973      0.679\n"
          ]
        },
        {
          "output_type": "stream",
          "name": "stderr",
          "text": [
            "\n"
          ]
        },
        {
          "output_type": "stream",
          "name": "stdout",
          "text": [
            "\n",
            "      Epoch    GPU_mem   box_loss   cls_loss   dfl_loss  Instances       Size\n"
          ]
        },
        {
          "output_type": "stream",
          "name": "stderr",
          "text": [
            "     42/100      9.58G     0.9441     0.4095       1.05        211        640: 100%|██████████| 43/43 [00:34<00:00,  1.25it/s]\n",
            "                 Class     Images  Instances      Box(P          R      mAP50  mAP50-95): 100%|██████████| 2/2 [00:00<00:00,  2.49it/s]"
          ]
        },
        {
          "output_type": "stream",
          "name": "stdout",
          "text": [
            "                   all         35       1007      0.946      0.975      0.974      0.697\n"
          ]
        },
        {
          "output_type": "stream",
          "name": "stderr",
          "text": [
            "\n"
          ]
        },
        {
          "output_type": "stream",
          "name": "stdout",
          "text": [
            "\n",
            "      Epoch    GPU_mem   box_loss   cls_loss   dfl_loss  Instances       Size\n"
          ]
        },
        {
          "output_type": "stream",
          "name": "stderr",
          "text": [
            "     43/100      9.46G     0.9298     0.4031      1.031        223        640: 100%|██████████| 43/43 [00:34<00:00,  1.25it/s]\n",
            "                 Class     Images  Instances      Box(P          R      mAP50  mAP50-95): 100%|██████████| 2/2 [00:00<00:00,  2.55it/s]"
          ]
        },
        {
          "output_type": "stream",
          "name": "stdout",
          "text": [
            "                   all         35       1007      0.944      0.975      0.976      0.678\n"
          ]
        },
        {
          "output_type": "stream",
          "name": "stderr",
          "text": [
            "\n"
          ]
        },
        {
          "output_type": "stream",
          "name": "stdout",
          "text": [
            "\n",
            "      Epoch    GPU_mem   box_loss   cls_loss   dfl_loss  Instances       Size\n"
          ]
        },
        {
          "output_type": "stream",
          "name": "stderr",
          "text": [
            "     44/100      9.53G     0.9214     0.4012      1.035        183        640: 100%|██████████| 43/43 [00:34<00:00,  1.25it/s]\n",
            "                 Class     Images  Instances      Box(P          R      mAP50  mAP50-95): 100%|██████████| 2/2 [00:00<00:00,  2.55it/s]"
          ]
        },
        {
          "output_type": "stream",
          "name": "stdout",
          "text": [
            "                   all         35       1007      0.945      0.956      0.973      0.683\n"
          ]
        },
        {
          "output_type": "stream",
          "name": "stderr",
          "text": [
            "\n"
          ]
        },
        {
          "output_type": "stream",
          "name": "stdout",
          "text": [
            "\n",
            "      Epoch    GPU_mem   box_loss   cls_loss   dfl_loss  Instances       Size\n"
          ]
        },
        {
          "output_type": "stream",
          "name": "stderr",
          "text": [
            "     45/100      9.56G     0.9122     0.3964      1.034        142        640: 100%|██████████| 43/43 [00:34<00:00,  1.25it/s]\n",
            "                 Class     Images  Instances      Box(P          R      mAP50  mAP50-95): 100%|██████████| 2/2 [00:00<00:00,  2.57it/s]"
          ]
        },
        {
          "output_type": "stream",
          "name": "stdout",
          "text": [
            "                   all         35       1007      0.951      0.964      0.984      0.665\n"
          ]
        },
        {
          "output_type": "stream",
          "name": "stderr",
          "text": [
            "\n"
          ]
        },
        {
          "output_type": "stream",
          "name": "stdout",
          "text": [
            "\n",
            "      Epoch    GPU_mem   box_loss   cls_loss   dfl_loss  Instances       Size\n"
          ]
        },
        {
          "output_type": "stream",
          "name": "stderr",
          "text": [
            "     46/100      9.58G     0.9013     0.3909      1.032        125        640: 100%|██████████| 43/43 [00:34<00:00,  1.25it/s]\n",
            "                 Class     Images  Instances      Box(P          R      mAP50  mAP50-95): 100%|██████████| 2/2 [00:00<00:00,  2.61it/s]"
          ]
        },
        {
          "output_type": "stream",
          "name": "stdout",
          "text": [
            "                   all         35       1007      0.955      0.962      0.979       0.68\n"
          ]
        },
        {
          "output_type": "stream",
          "name": "stderr",
          "text": [
            "\n"
          ]
        },
        {
          "output_type": "stream",
          "name": "stdout",
          "text": [
            "\n",
            "      Epoch    GPU_mem   box_loss   cls_loss   dfl_loss  Instances       Size\n"
          ]
        },
        {
          "output_type": "stream",
          "name": "stderr",
          "text": [
            "     47/100      9.46G     0.8895     0.3922      1.026        130        640: 100%|██████████| 43/43 [00:34<00:00,  1.25it/s]\n",
            "                 Class     Images  Instances      Box(P          R      mAP50  mAP50-95): 100%|██████████| 2/2 [00:00<00:00,  2.60it/s]"
          ]
        },
        {
          "output_type": "stream",
          "name": "stdout",
          "text": [
            "                   all         35       1007      0.944      0.971      0.972      0.666\n"
          ]
        },
        {
          "output_type": "stream",
          "name": "stderr",
          "text": [
            "\n"
          ]
        },
        {
          "output_type": "stream",
          "name": "stdout",
          "text": [
            "\n",
            "      Epoch    GPU_mem   box_loss   cls_loss   dfl_loss  Instances       Size\n"
          ]
        },
        {
          "output_type": "stream",
          "name": "stderr",
          "text": [
            "     48/100      9.52G     0.8727     0.3826      1.013        327        640: 100%|██████████| 43/43 [00:34<00:00,  1.25it/s]\n",
            "                 Class     Images  Instances      Box(P          R      mAP50  mAP50-95): 100%|██████████| 2/2 [00:00<00:00,  2.62it/s]"
          ]
        },
        {
          "output_type": "stream",
          "name": "stdout",
          "text": [
            "                   all         35       1007      0.935      0.973       0.97      0.691\n"
          ]
        },
        {
          "output_type": "stream",
          "name": "stderr",
          "text": [
            "\n"
          ]
        },
        {
          "output_type": "stream",
          "name": "stdout",
          "text": [
            "\n",
            "      Epoch    GPU_mem   box_loss   cls_loss   dfl_loss  Instances       Size\n"
          ]
        },
        {
          "output_type": "stream",
          "name": "stderr",
          "text": [
            "     49/100      9.43G     0.8923     0.3885      1.015        380        640: 100%|██████████| 43/43 [00:34<00:00,  1.25it/s]\n",
            "                 Class     Images  Instances      Box(P          R      mAP50  mAP50-95): 100%|██████████| 2/2 [00:00<00:00,  2.57it/s]"
          ]
        },
        {
          "output_type": "stream",
          "name": "stdout",
          "text": [
            "                   all         35       1007      0.943       0.96      0.972      0.689\n"
          ]
        },
        {
          "output_type": "stream",
          "name": "stderr",
          "text": [
            "\n"
          ]
        },
        {
          "output_type": "stream",
          "name": "stdout",
          "text": [
            "\n",
            "      Epoch    GPU_mem   box_loss   cls_loss   dfl_loss  Instances       Size\n"
          ]
        },
        {
          "output_type": "stream",
          "name": "stderr",
          "text": [
            "     50/100      9.58G     0.8857      0.387      1.029        244        640: 100%|██████████| 43/43 [00:34<00:00,  1.25it/s]\n",
            "                 Class     Images  Instances      Box(P          R      mAP50  mAP50-95): 100%|██████████| 2/2 [00:00<00:00,  2.64it/s]"
          ]
        },
        {
          "output_type": "stream",
          "name": "stdout",
          "text": [
            "                   all         35       1007       0.94      0.976      0.973      0.663\n"
          ]
        },
        {
          "output_type": "stream",
          "name": "stderr",
          "text": [
            "\n"
          ]
        },
        {
          "output_type": "stream",
          "name": "stdout",
          "text": [
            "\n",
            "      Epoch    GPU_mem   box_loss   cls_loss   dfl_loss  Instances       Size\n"
          ]
        },
        {
          "output_type": "stream",
          "name": "stderr",
          "text": [
            "     51/100       9.6G     0.8869     0.3775      1.013        422        640: 100%|██████████| 43/43 [00:34<00:00,  1.25it/s]\n",
            "                 Class     Images  Instances      Box(P          R      mAP50  mAP50-95): 100%|██████████| 2/2 [00:00<00:00,  2.09it/s]"
          ]
        },
        {
          "output_type": "stream",
          "name": "stdout",
          "text": [
            "                   all         35       1007      0.953      0.956      0.973      0.661\n"
          ]
        },
        {
          "output_type": "stream",
          "name": "stderr",
          "text": [
            "\n"
          ]
        },
        {
          "output_type": "stream",
          "name": "stdout",
          "text": [
            "\n",
            "      Epoch    GPU_mem   box_loss   cls_loss   dfl_loss  Instances       Size\n"
          ]
        },
        {
          "output_type": "stream",
          "name": "stderr",
          "text": [
            "     52/100       9.6G     0.8723     0.3709      1.006        276        640: 100%|██████████| 43/43 [00:34<00:00,  1.25it/s]\n",
            "                 Class     Images  Instances      Box(P          R      mAP50  mAP50-95): 100%|██████████| 2/2 [00:00<00:00,  2.58it/s]"
          ]
        },
        {
          "output_type": "stream",
          "name": "stdout",
          "text": [
            "                   all         35       1007      0.934      0.965      0.973      0.693\n"
          ]
        },
        {
          "output_type": "stream",
          "name": "stderr",
          "text": [
            "\n"
          ]
        },
        {
          "output_type": "stream",
          "name": "stdout",
          "text": [
            "\n",
            "      Epoch    GPU_mem   box_loss   cls_loss   dfl_loss  Instances       Size\n"
          ]
        },
        {
          "output_type": "stream",
          "name": "stderr",
          "text": [
            "     53/100      9.57G     0.8504     0.3645      1.001        206        640: 100%|██████████| 43/43 [00:34<00:00,  1.25it/s]\n",
            "                 Class     Images  Instances      Box(P          R      mAP50  mAP50-95): 100%|██████████| 2/2 [00:00<00:00,  2.18it/s]"
          ]
        },
        {
          "output_type": "stream",
          "name": "stdout",
          "text": [
            "                   all         35       1007      0.944      0.962      0.972      0.675\n"
          ]
        },
        {
          "output_type": "stream",
          "name": "stderr",
          "text": [
            "\n"
          ]
        },
        {
          "output_type": "stream",
          "name": "stdout",
          "text": [
            "\n",
            "      Epoch    GPU_mem   box_loss   cls_loss   dfl_loss  Instances       Size\n"
          ]
        },
        {
          "output_type": "stream",
          "name": "stderr",
          "text": [
            "     54/100      9.67G     0.8322      0.363     0.9901        334        640: 100%|██████████| 43/43 [00:34<00:00,  1.25it/s]\n",
            "                 Class     Images  Instances      Box(P          R      mAP50  mAP50-95): 100%|██████████| 2/2 [00:00<00:00,  2.55it/s]"
          ]
        },
        {
          "output_type": "stream",
          "name": "stdout",
          "text": [
            "                   all         35       1007      0.941      0.971      0.977      0.677\n"
          ]
        },
        {
          "output_type": "stream",
          "name": "stderr",
          "text": [
            "\n"
          ]
        },
        {
          "output_type": "stream",
          "name": "stdout",
          "text": [
            "\n",
            "      Epoch    GPU_mem   box_loss   cls_loss   dfl_loss  Instances       Size\n"
          ]
        },
        {
          "output_type": "stream",
          "name": "stderr",
          "text": [
            "     55/100      9.62G     0.8452     0.3684     0.9993        423        640: 100%|██████████| 43/43 [00:34<00:00,  1.24it/s]\n",
            "                 Class     Images  Instances      Box(P          R      mAP50  mAP50-95): 100%|██████████| 2/2 [00:00<00:00,  2.58it/s]"
          ]
        },
        {
          "output_type": "stream",
          "name": "stdout",
          "text": [
            "                   all         35       1007      0.951      0.945      0.975      0.697\n"
          ]
        },
        {
          "output_type": "stream",
          "name": "stderr",
          "text": [
            "\n"
          ]
        },
        {
          "output_type": "stream",
          "name": "stdout",
          "text": [
            "\n",
            "      Epoch    GPU_mem   box_loss   cls_loss   dfl_loss  Instances       Size\n"
          ]
        },
        {
          "output_type": "stream",
          "name": "stderr",
          "text": [
            "     56/100      9.53G     0.8319     0.3672     0.9952        168        640: 100%|██████████| 43/43 [00:34<00:00,  1.24it/s]\n",
            "                 Class     Images  Instances      Box(P          R      mAP50  mAP50-95): 100%|██████████| 2/2 [00:01<00:00,  1.98it/s]"
          ]
        },
        {
          "output_type": "stream",
          "name": "stdout",
          "text": [
            "                   all         35       1007      0.948      0.933      0.962      0.665\n"
          ]
        },
        {
          "output_type": "stream",
          "name": "stderr",
          "text": [
            "\n"
          ]
        },
        {
          "output_type": "stream",
          "name": "stdout",
          "text": [
            "\n",
            "      Epoch    GPU_mem   box_loss   cls_loss   dfl_loss  Instances       Size\n"
          ]
        },
        {
          "output_type": "stream",
          "name": "stderr",
          "text": [
            "     57/100      9.53G     0.8265     0.3642     0.9812        243        640: 100%|██████████| 43/43 [00:34<00:00,  1.25it/s]\n",
            "                 Class     Images  Instances      Box(P          R      mAP50  mAP50-95): 100%|██████████| 2/2 [00:00<00:00,  2.56it/s]"
          ]
        },
        {
          "output_type": "stream",
          "name": "stdout",
          "text": [
            "                   all         35       1007      0.946      0.971      0.979      0.675\n"
          ]
        },
        {
          "output_type": "stream",
          "name": "stderr",
          "text": [
            "\n"
          ]
        },
        {
          "output_type": "stream",
          "name": "stdout",
          "text": [
            "\n",
            "      Epoch    GPU_mem   box_loss   cls_loss   dfl_loss  Instances       Size\n"
          ]
        },
        {
          "output_type": "stream",
          "name": "stderr",
          "text": [
            "     58/100      9.58G     0.8167     0.3604      1.006        208        640: 100%|██████████| 43/43 [00:34<00:00,  1.25it/s]\n",
            "                 Class     Images  Instances      Box(P          R      mAP50  mAP50-95): 100%|██████████| 2/2 [00:00<00:00,  2.64it/s]"
          ]
        },
        {
          "output_type": "stream",
          "name": "stdout",
          "text": [
            "                   all         35       1007      0.943       0.96      0.965      0.667\n"
          ]
        },
        {
          "output_type": "stream",
          "name": "stderr",
          "text": [
            "\n"
          ]
        },
        {
          "output_type": "stream",
          "name": "stdout",
          "text": [
            "\n",
            "      Epoch    GPU_mem   box_loss   cls_loss   dfl_loss  Instances       Size\n"
          ]
        },
        {
          "output_type": "stream",
          "name": "stderr",
          "text": [
            "     59/100      9.74G     0.8215      0.361     0.9841        301        640: 100%|██████████| 43/43 [00:34<00:00,  1.26it/s]\n",
            "                 Class     Images  Instances      Box(P          R      mAP50  mAP50-95): 100%|██████████| 2/2 [00:00<00:00,  2.55it/s]"
          ]
        },
        {
          "output_type": "stream",
          "name": "stdout",
          "text": [
            "                   all         35       1007      0.947      0.956      0.972      0.677\n"
          ]
        },
        {
          "output_type": "stream",
          "name": "stderr",
          "text": [
            "\n"
          ]
        },
        {
          "output_type": "stream",
          "name": "stdout",
          "text": [
            "\n",
            "      Epoch    GPU_mem   box_loss   cls_loss   dfl_loss  Instances       Size\n"
          ]
        },
        {
          "output_type": "stream",
          "name": "stderr",
          "text": [
            "     60/100      9.55G     0.8139      0.356     0.9917        221        640: 100%|██████████| 43/43 [00:34<00:00,  1.25it/s]\n",
            "                 Class     Images  Instances      Box(P          R      mAP50  mAP50-95): 100%|██████████| 2/2 [00:00<00:00,  2.60it/s]"
          ]
        },
        {
          "output_type": "stream",
          "name": "stdout",
          "text": [
            "                   all         35       1007      0.937      0.968      0.973      0.708\n"
          ]
        },
        {
          "output_type": "stream",
          "name": "stderr",
          "text": [
            "\n"
          ]
        },
        {
          "output_type": "stream",
          "name": "stdout",
          "text": [
            "\n",
            "      Epoch    GPU_mem   box_loss   cls_loss   dfl_loss  Instances       Size\n"
          ]
        },
        {
          "output_type": "stream",
          "name": "stderr",
          "text": [
            "     61/100      9.59G     0.8095     0.3537     0.9838        271        640: 100%|██████████| 43/43 [00:34<00:00,  1.25it/s]\n",
            "                 Class     Images  Instances      Box(P          R      mAP50  mAP50-95): 100%|██████████| 2/2 [00:00<00:00,  2.51it/s]"
          ]
        },
        {
          "output_type": "stream",
          "name": "stdout",
          "text": [
            "                   all         35       1007      0.933      0.969      0.964      0.673\n"
          ]
        },
        {
          "output_type": "stream",
          "name": "stderr",
          "text": [
            "\n"
          ]
        },
        {
          "output_type": "stream",
          "name": "stdout",
          "text": [
            "\n",
            "      Epoch    GPU_mem   box_loss   cls_loss   dfl_loss  Instances       Size\n"
          ]
        },
        {
          "output_type": "stream",
          "name": "stderr",
          "text": [
            "     62/100      9.58G     0.7969     0.3506      0.989        180        640: 100%|██████████| 43/43 [00:34<00:00,  1.24it/s]\n",
            "                 Class     Images  Instances      Box(P          R      mAP50  mAP50-95): 100%|██████████| 2/2 [00:00<00:00,  2.63it/s]"
          ]
        },
        {
          "output_type": "stream",
          "name": "stdout",
          "text": [
            "                   all         35       1007      0.928      0.972      0.972      0.664\n"
          ]
        },
        {
          "output_type": "stream",
          "name": "stderr",
          "text": [
            "\n"
          ]
        },
        {
          "output_type": "stream",
          "name": "stdout",
          "text": [
            "\n",
            "      Epoch    GPU_mem   box_loss   cls_loss   dfl_loss  Instances       Size\n"
          ]
        },
        {
          "output_type": "stream",
          "name": "stderr",
          "text": [
            "     63/100       9.4G     0.7901      0.345     0.9764        173        640: 100%|██████████| 43/43 [00:34<00:00,  1.25it/s]\n",
            "                 Class     Images  Instances      Box(P          R      mAP50  mAP50-95): 100%|██████████| 2/2 [00:01<00:00,  1.93it/s]"
          ]
        },
        {
          "output_type": "stream",
          "name": "stdout",
          "text": [
            "                   all         35       1007      0.944       0.96      0.973      0.669\n"
          ]
        },
        {
          "output_type": "stream",
          "name": "stderr",
          "text": [
            "\n"
          ]
        },
        {
          "output_type": "stream",
          "name": "stdout",
          "text": [
            "\n",
            "      Epoch    GPU_mem   box_loss   cls_loss   dfl_loss  Instances       Size\n"
          ]
        },
        {
          "output_type": "stream",
          "name": "stderr",
          "text": [
            "     64/100      9.46G     0.7748     0.3429     0.9635        308        640: 100%|██████████| 43/43 [00:34<00:00,  1.25it/s]\n",
            "                 Class     Images  Instances      Box(P          R      mAP50  mAP50-95): 100%|██████████| 2/2 [00:00<00:00,  2.61it/s]"
          ]
        },
        {
          "output_type": "stream",
          "name": "stdout",
          "text": [
            "                   all         35       1007      0.925      0.976       0.97      0.687\n"
          ]
        },
        {
          "output_type": "stream",
          "name": "stderr",
          "text": [
            "\n"
          ]
        },
        {
          "output_type": "stream",
          "name": "stdout",
          "text": [
            "\n",
            "      Epoch    GPU_mem   box_loss   cls_loss   dfl_loss  Instances       Size\n"
          ]
        },
        {
          "output_type": "stream",
          "name": "stderr",
          "text": [
            "     65/100      9.61G      0.761     0.3349     0.9677        423        640: 100%|██████████| 43/43 [00:34<00:00,  1.25it/s]\n",
            "                 Class     Images  Instances      Box(P          R      mAP50  mAP50-95): 100%|██████████| 2/2 [00:00<00:00,  2.53it/s]"
          ]
        },
        {
          "output_type": "stream",
          "name": "stdout",
          "text": [
            "                   all         35       1007      0.933      0.979      0.971       0.68\n"
          ]
        },
        {
          "output_type": "stream",
          "name": "stderr",
          "text": [
            "\n"
          ]
        },
        {
          "output_type": "stream",
          "name": "stdout",
          "text": [
            "\n",
            "      Epoch    GPU_mem   box_loss   cls_loss   dfl_loss  Instances       Size\n"
          ]
        },
        {
          "output_type": "stream",
          "name": "stderr",
          "text": [
            "     66/100      9.65G     0.7757     0.3428     0.9735        401        640: 100%|██████████| 43/43 [00:34<00:00,  1.25it/s]\n",
            "                 Class     Images  Instances      Box(P          R      mAP50  mAP50-95): 100%|██████████| 2/2 [00:00<00:00,  2.55it/s]"
          ]
        },
        {
          "output_type": "stream",
          "name": "stdout",
          "text": [
            "                   all         35       1007      0.946      0.956      0.971      0.689\n"
          ]
        },
        {
          "output_type": "stream",
          "name": "stderr",
          "text": [
            "\n"
          ]
        },
        {
          "output_type": "stream",
          "name": "stdout",
          "text": [
            "\n",
            "      Epoch    GPU_mem   box_loss   cls_loss   dfl_loss  Instances       Size\n"
          ]
        },
        {
          "output_type": "stream",
          "name": "stderr",
          "text": [
            "     67/100      9.44G     0.7694     0.3387     0.9698        235        640: 100%|██████████| 43/43 [00:34<00:00,  1.25it/s]\n",
            "                 Class     Images  Instances      Box(P          R      mAP50  mAP50-95): 100%|██████████| 2/2 [00:00<00:00,  2.57it/s]"
          ]
        },
        {
          "output_type": "stream",
          "name": "stdout",
          "text": [
            "                   all         35       1007      0.936      0.967      0.971      0.681\n"
          ]
        },
        {
          "output_type": "stream",
          "name": "stderr",
          "text": [
            "\n"
          ]
        },
        {
          "output_type": "stream",
          "name": "stdout",
          "text": [
            "\n",
            "      Epoch    GPU_mem   box_loss   cls_loss   dfl_loss  Instances       Size\n"
          ]
        },
        {
          "output_type": "stream",
          "name": "stderr",
          "text": [
            "     68/100      9.49G     0.7544     0.3357     0.9607        224        640: 100%|██████████| 43/43 [00:34<00:00,  1.24it/s]\n",
            "                 Class     Images  Instances      Box(P          R      mAP50  mAP50-95): 100%|██████████| 2/2 [00:00<00:00,  2.62it/s]"
          ]
        },
        {
          "output_type": "stream",
          "name": "stdout",
          "text": [
            "                   all         35       1007      0.953      0.951      0.973      0.685\n"
          ]
        },
        {
          "output_type": "stream",
          "name": "stderr",
          "text": [
            "\n"
          ]
        },
        {
          "output_type": "stream",
          "name": "stdout",
          "text": [
            "\n",
            "      Epoch    GPU_mem   box_loss   cls_loss   dfl_loss  Instances       Size\n"
          ]
        },
        {
          "output_type": "stream",
          "name": "stderr",
          "text": [
            "     69/100       9.6G     0.7556     0.3372      0.962        405        640: 100%|██████████| 43/43 [00:34<00:00,  1.25it/s]\n",
            "                 Class     Images  Instances      Box(P          R      mAP50  mAP50-95): 100%|██████████| 2/2 [00:00<00:00,  2.29it/s]"
          ]
        },
        {
          "output_type": "stream",
          "name": "stdout",
          "text": [
            "                   all         35       1007      0.943       0.98      0.975      0.673\n"
          ]
        },
        {
          "output_type": "stream",
          "name": "stderr",
          "text": [
            "\n"
          ]
        },
        {
          "output_type": "stream",
          "name": "stdout",
          "text": [
            "\n",
            "      Epoch    GPU_mem   box_loss   cls_loss   dfl_loss  Instances       Size\n"
          ]
        },
        {
          "output_type": "stream",
          "name": "stderr",
          "text": [
            "     70/100      9.54G     0.7378     0.3286     0.9568        411        640: 100%|██████████| 43/43 [00:34<00:00,  1.24it/s]\n",
            "                 Class     Images  Instances      Box(P          R      mAP50  mAP50-95): 100%|██████████| 2/2 [00:00<00:00,  2.56it/s]"
          ]
        },
        {
          "output_type": "stream",
          "name": "stdout",
          "text": [
            "                   all         35       1007      0.953      0.966      0.975      0.699\n"
          ]
        },
        {
          "output_type": "stream",
          "name": "stderr",
          "text": [
            "\n"
          ]
        },
        {
          "output_type": "stream",
          "name": "stdout",
          "text": [
            "\n",
            "      Epoch    GPU_mem   box_loss   cls_loss   dfl_loss  Instances       Size\n"
          ]
        },
        {
          "output_type": "stream",
          "name": "stderr",
          "text": [
            "     71/100      9.39G     0.7458     0.3333     0.9638        225        640: 100%|██████████| 43/43 [00:34<00:00,  1.25it/s]\n",
            "                 Class     Images  Instances      Box(P          R      mAP50  mAP50-95): 100%|██████████| 2/2 [00:00<00:00,  2.49it/s]"
          ]
        },
        {
          "output_type": "stream",
          "name": "stdout",
          "text": [
            "                   all         35       1007      0.934      0.976      0.976      0.684\n"
          ]
        },
        {
          "output_type": "stream",
          "name": "stderr",
          "text": [
            "\n"
          ]
        },
        {
          "output_type": "stream",
          "name": "stdout",
          "text": [
            "\n",
            "      Epoch    GPU_mem   box_loss   cls_loss   dfl_loss  Instances       Size\n"
          ]
        },
        {
          "output_type": "stream",
          "name": "stderr",
          "text": [
            "     72/100      9.67G      0.727     0.3288     0.9565        304        640: 100%|██████████| 43/43 [00:34<00:00,  1.24it/s]\n",
            "                 Class     Images  Instances      Box(P          R      mAP50  mAP50-95): 100%|██████████| 2/2 [00:00<00:00,  2.61it/s]"
          ]
        },
        {
          "output_type": "stream",
          "name": "stdout",
          "text": [
            "                   all         35       1007      0.946      0.955      0.973      0.687\n"
          ]
        },
        {
          "output_type": "stream",
          "name": "stderr",
          "text": [
            "\n"
          ]
        },
        {
          "output_type": "stream",
          "name": "stdout",
          "text": [
            "\n",
            "      Epoch    GPU_mem   box_loss   cls_loss   dfl_loss  Instances       Size\n"
          ]
        },
        {
          "output_type": "stream",
          "name": "stderr",
          "text": [
            "     73/100      9.56G     0.7264     0.3274     0.9552        289        640: 100%|██████████| 43/43 [00:34<00:00,  1.24it/s]\n",
            "                 Class     Images  Instances      Box(P          R      mAP50  mAP50-95): 100%|██████████| 2/2 [00:00<00:00,  2.56it/s]"
          ]
        },
        {
          "output_type": "stream",
          "name": "stdout",
          "text": [
            "                   all         35       1007      0.947      0.963      0.974      0.693\n"
          ]
        },
        {
          "output_type": "stream",
          "name": "stderr",
          "text": [
            "\n"
          ]
        },
        {
          "output_type": "stream",
          "name": "stdout",
          "text": [
            "\n",
            "      Epoch    GPU_mem   box_loss   cls_loss   dfl_loss  Instances       Size\n"
          ]
        },
        {
          "output_type": "stream",
          "name": "stderr",
          "text": [
            "     74/100      9.75G     0.7215     0.3229     0.9513        243        640: 100%|██████████| 43/43 [00:34<00:00,  1.25it/s]\n",
            "                 Class     Images  Instances      Box(P          R      mAP50  mAP50-95): 100%|██████████| 2/2 [00:00<00:00,  2.60it/s]"
          ]
        },
        {
          "output_type": "stream",
          "name": "stdout",
          "text": [
            "                   all         35       1007      0.945       0.96      0.977      0.692\n"
          ]
        },
        {
          "output_type": "stream",
          "name": "stderr",
          "text": [
            "\n"
          ]
        },
        {
          "output_type": "stream",
          "name": "stdout",
          "text": [
            "\n",
            "      Epoch    GPU_mem   box_loss   cls_loss   dfl_loss  Instances       Size\n"
          ]
        },
        {
          "output_type": "stream",
          "name": "stderr",
          "text": [
            "     75/100       9.8G     0.7093     0.3175     0.9476        180        640: 100%|██████████| 43/43 [00:34<00:00,  1.25it/s]\n",
            "                 Class     Images  Instances      Box(P          R      mAP50  mAP50-95): 100%|██████████| 2/2 [00:00<00:00,  2.55it/s]"
          ]
        },
        {
          "output_type": "stream",
          "name": "stdout",
          "text": [
            "                   all         35       1007      0.942      0.958      0.983      0.696\n"
          ]
        },
        {
          "output_type": "stream",
          "name": "stderr",
          "text": [
            "\n"
          ]
        },
        {
          "output_type": "stream",
          "name": "stdout",
          "text": [
            "\n",
            "      Epoch    GPU_mem   box_loss   cls_loss   dfl_loss  Instances       Size\n"
          ]
        },
        {
          "output_type": "stream",
          "name": "stderr",
          "text": [
            "     76/100      9.49G     0.7151     0.3222     0.9505        241        640: 100%|██████████| 43/43 [00:34<00:00,  1.24it/s]\n",
            "                 Class     Images  Instances      Box(P          R      mAP50  mAP50-95): 100%|██████████| 2/2 [00:00<00:00,  2.44it/s]"
          ]
        },
        {
          "output_type": "stream",
          "name": "stdout",
          "text": [
            "                   all         35       1007      0.956      0.955      0.979      0.681\n"
          ]
        },
        {
          "output_type": "stream",
          "name": "stderr",
          "text": [
            "\n"
          ]
        },
        {
          "output_type": "stream",
          "name": "stdout",
          "text": [
            "\n",
            "      Epoch    GPU_mem   box_loss   cls_loss   dfl_loss  Instances       Size\n"
          ]
        },
        {
          "output_type": "stream",
          "name": "stderr",
          "text": [
            "     77/100      9.46G     0.6962     0.3158      0.945        164        640: 100%|██████████| 43/43 [00:34<00:00,  1.25it/s]\n",
            "                 Class     Images  Instances      Box(P          R      mAP50  mAP50-95): 100%|██████████| 2/2 [00:00<00:00,  2.34it/s]"
          ]
        },
        {
          "output_type": "stream",
          "name": "stdout",
          "text": [
            "                   all         35       1007       0.94      0.959      0.972      0.687\n"
          ]
        },
        {
          "output_type": "stream",
          "name": "stderr",
          "text": [
            "\n"
          ]
        },
        {
          "output_type": "stream",
          "name": "stdout",
          "text": [
            "\n",
            "      Epoch    GPU_mem   box_loss   cls_loss   dfl_loss  Instances       Size\n"
          ]
        },
        {
          "output_type": "stream",
          "name": "stderr",
          "text": [
            "     78/100      9.71G     0.6853     0.3113     0.9393        338        640: 100%|██████████| 43/43 [00:34<00:00,  1.25it/s]\n",
            "                 Class     Images  Instances      Box(P          R      mAP50  mAP50-95): 100%|██████████| 2/2 [00:00<00:00,  2.58it/s]"
          ]
        },
        {
          "output_type": "stream",
          "name": "stdout",
          "text": [
            "                   all         35       1007      0.945      0.965      0.977      0.679\n"
          ]
        },
        {
          "output_type": "stream",
          "name": "stderr",
          "text": [
            "\n"
          ]
        },
        {
          "output_type": "stream",
          "name": "stdout",
          "text": [
            "\n",
            "      Epoch    GPU_mem   box_loss   cls_loss   dfl_loss  Instances       Size\n"
          ]
        },
        {
          "output_type": "stream",
          "name": "stderr",
          "text": [
            "     79/100      9.75G     0.6857     0.3088     0.9385        368        640: 100%|██████████| 43/43 [00:34<00:00,  1.25it/s]\n",
            "                 Class     Images  Instances      Box(P          R      mAP50  mAP50-95): 100%|██████████| 2/2 [00:00<00:00,  2.62it/s]"
          ]
        },
        {
          "output_type": "stream",
          "name": "stdout",
          "text": [
            "                   all         35       1007      0.952      0.955      0.979      0.695\n"
          ]
        },
        {
          "output_type": "stream",
          "name": "stderr",
          "text": [
            "\n"
          ]
        },
        {
          "output_type": "stream",
          "name": "stdout",
          "text": [
            "\n",
            "      Epoch    GPU_mem   box_loss   cls_loss   dfl_loss  Instances       Size\n"
          ]
        },
        {
          "output_type": "stream",
          "name": "stderr",
          "text": [
            "     80/100      9.61G     0.6847     0.3104     0.9378        169        640: 100%|██████████| 43/43 [00:34<00:00,  1.25it/s]\n",
            "                 Class     Images  Instances      Box(P          R      mAP50  mAP50-95): 100%|██████████| 2/2 [00:00<00:00,  2.16it/s]"
          ]
        },
        {
          "output_type": "stream",
          "name": "stdout",
          "text": [
            "                   all         35       1007       0.93      0.971      0.971      0.681\n"
          ]
        },
        {
          "output_type": "stream",
          "name": "stderr",
          "text": [
            "\n"
          ]
        },
        {
          "output_type": "stream",
          "name": "stdout",
          "text": [
            "\n",
            "      Epoch    GPU_mem   box_loss   cls_loss   dfl_loss  Instances       Size\n"
          ]
        },
        {
          "output_type": "stream",
          "name": "stderr",
          "text": [
            "     81/100      9.54G     0.6689     0.3046     0.9294        259        640: 100%|██████████| 43/43 [00:34<00:00,  1.25it/s]\n",
            "                 Class     Images  Instances      Box(P          R      mAP50  mAP50-95): 100%|██████████| 2/2 [00:00<00:00,  2.26it/s]"
          ]
        },
        {
          "output_type": "stream",
          "name": "stdout",
          "text": [
            "                   all         35       1007       0.94      0.969      0.973      0.694\n"
          ]
        },
        {
          "output_type": "stream",
          "name": "stderr",
          "text": [
            "\n"
          ]
        },
        {
          "output_type": "stream",
          "name": "stdout",
          "text": [
            "\n",
            "      Epoch    GPU_mem   box_loss   cls_loss   dfl_loss  Instances       Size\n"
          ]
        },
        {
          "output_type": "stream",
          "name": "stderr",
          "text": [
            "     82/100      9.54G     0.6714     0.3081      0.927        323        640: 100%|██████████| 43/43 [00:34<00:00,  1.25it/s]\n",
            "                 Class     Images  Instances      Box(P          R      mAP50  mAP50-95): 100%|██████████| 2/2 [00:00<00:00,  2.61it/s]"
          ]
        },
        {
          "output_type": "stream",
          "name": "stdout",
          "text": [
            "                   all         35       1007      0.928      0.972      0.969      0.691\n"
          ]
        },
        {
          "output_type": "stream",
          "name": "stderr",
          "text": [
            "\n"
          ]
        },
        {
          "output_type": "stream",
          "name": "stdout",
          "text": [
            "\n",
            "      Epoch    GPU_mem   box_loss   cls_loss   dfl_loss  Instances       Size\n"
          ]
        },
        {
          "output_type": "stream",
          "name": "stderr",
          "text": [
            "     83/100      9.72G     0.6637     0.3041     0.9257        197        640: 100%|██████████| 43/43 [00:34<00:00,  1.24it/s]\n",
            "                 Class     Images  Instances      Box(P          R      mAP50  mAP50-95): 100%|██████████| 2/2 [00:00<00:00,  2.58it/s]"
          ]
        },
        {
          "output_type": "stream",
          "name": "stdout",
          "text": [
            "                   all         35       1007      0.935      0.967      0.975      0.696\n"
          ]
        },
        {
          "output_type": "stream",
          "name": "stderr",
          "text": [
            "\n"
          ]
        },
        {
          "output_type": "stream",
          "name": "stdout",
          "text": [
            "\n",
            "      Epoch    GPU_mem   box_loss   cls_loss   dfl_loss  Instances       Size\n"
          ]
        },
        {
          "output_type": "stream",
          "name": "stderr",
          "text": [
            "     84/100      9.49G     0.6516     0.2991     0.9308        318        640: 100%|██████████| 43/43 [00:34<00:00,  1.25it/s]\n",
            "                 Class     Images  Instances      Box(P          R      mAP50  mAP50-95): 100%|██████████| 2/2 [00:00<00:00,  2.28it/s]"
          ]
        },
        {
          "output_type": "stream",
          "name": "stdout",
          "text": [
            "                   all         35       1007      0.957      0.954      0.975      0.682\n"
          ]
        },
        {
          "output_type": "stream",
          "name": "stderr",
          "text": [
            "\n"
          ]
        },
        {
          "output_type": "stream",
          "name": "stdout",
          "text": [
            "\n",
            "      Epoch    GPU_mem   box_loss   cls_loss   dfl_loss  Instances       Size\n"
          ]
        },
        {
          "output_type": "stream",
          "name": "stderr",
          "text": [
            "     85/100       9.5G     0.6397      0.294     0.9218        187        640: 100%|██████████| 43/43 [00:34<00:00,  1.24it/s]\n",
            "                 Class     Images  Instances      Box(P          R      mAP50  mAP50-95): 100%|██████████| 2/2 [00:00<00:00,  2.48it/s]"
          ]
        },
        {
          "output_type": "stream",
          "name": "stdout",
          "text": [
            "                   all         35       1007      0.943      0.957      0.973      0.693\n"
          ]
        },
        {
          "output_type": "stream",
          "name": "stderr",
          "text": [
            "\n"
          ]
        },
        {
          "output_type": "stream",
          "name": "stdout",
          "text": [
            "\n",
            "      Epoch    GPU_mem   box_loss   cls_loss   dfl_loss  Instances       Size\n"
          ]
        },
        {
          "output_type": "stream",
          "name": "stderr",
          "text": [
            "     86/100       9.5G      0.657      0.301     0.9278        161        640: 100%|██████████| 43/43 [00:34<00:00,  1.24it/s]\n",
            "                 Class     Images  Instances      Box(P          R      mAP50  mAP50-95): 100%|██████████| 2/2 [00:00<00:00,  2.59it/s]"
          ]
        },
        {
          "output_type": "stream",
          "name": "stdout",
          "text": [
            "                   all         35       1007      0.938      0.961      0.972      0.682\n"
          ]
        },
        {
          "output_type": "stream",
          "name": "stderr",
          "text": [
            "\n"
          ]
        },
        {
          "output_type": "stream",
          "name": "stdout",
          "text": [
            "\n",
            "      Epoch    GPU_mem   box_loss   cls_loss   dfl_loss  Instances       Size\n"
          ]
        },
        {
          "output_type": "stream",
          "name": "stderr",
          "text": [
            "     87/100      9.61G     0.6374     0.2938     0.9203        237        640: 100%|██████████| 43/43 [00:34<00:00,  1.25it/s]\n",
            "                 Class     Images  Instances      Box(P          R      mAP50  mAP50-95): 100%|██████████| 2/2 [00:00<00:00,  2.54it/s]"
          ]
        },
        {
          "output_type": "stream",
          "name": "stdout",
          "text": [
            "                   all         35       1007      0.937      0.966      0.975      0.696\n"
          ]
        },
        {
          "output_type": "stream",
          "name": "stderr",
          "text": [
            "\n"
          ]
        },
        {
          "output_type": "stream",
          "name": "stdout",
          "text": [
            "\n",
            "      Epoch    GPU_mem   box_loss   cls_loss   dfl_loss  Instances       Size\n"
          ]
        },
        {
          "output_type": "stream",
          "name": "stderr",
          "text": [
            "     88/100      9.49G     0.6476     0.2968     0.9242        179        640: 100%|██████████| 43/43 [00:34<00:00,  1.25it/s]\n",
            "                 Class     Images  Instances      Box(P          R      mAP50  mAP50-95): 100%|██████████| 2/2 [00:01<00:00,  1.98it/s]"
          ]
        },
        {
          "output_type": "stream",
          "name": "stdout",
          "text": [
            "                   all         35       1007      0.938      0.973      0.975      0.691\n"
          ]
        },
        {
          "output_type": "stream",
          "name": "stderr",
          "text": [
            "\n"
          ]
        },
        {
          "output_type": "stream",
          "name": "stdout",
          "text": [
            "\n",
            "      Epoch    GPU_mem   box_loss   cls_loss   dfl_loss  Instances       Size\n"
          ]
        },
        {
          "output_type": "stream",
          "name": "stderr",
          "text": [
            "     89/100      9.47G     0.6421     0.2903     0.9249        190        640: 100%|██████████| 43/43 [00:34<00:00,  1.25it/s]\n",
            "                 Class     Images  Instances      Box(P          R      mAP50  mAP50-95): 100%|██████████| 2/2 [00:01<00:00,  1.94it/s]"
          ]
        },
        {
          "output_type": "stream",
          "name": "stdout",
          "text": [
            "                   all         35       1007      0.928      0.979      0.972       0.68\n"
          ]
        },
        {
          "output_type": "stream",
          "name": "stderr",
          "text": [
            "\n"
          ]
        },
        {
          "output_type": "stream",
          "name": "stdout",
          "text": [
            "\n",
            "      Epoch    GPU_mem   box_loss   cls_loss   dfl_loss  Instances       Size\n"
          ]
        },
        {
          "output_type": "stream",
          "name": "stderr",
          "text": [
            "     90/100      9.52G     0.6283      0.289     0.9127        213        640: 100%|██████████| 43/43 [00:34<00:00,  1.24it/s]\n",
            "                 Class     Images  Instances      Box(P          R      mAP50  mAP50-95): 100%|██████████| 2/2 [00:00<00:00,  2.55it/s]"
          ]
        },
        {
          "output_type": "stream",
          "name": "stdout",
          "text": [
            "                   all         35       1007      0.935       0.97      0.973      0.694\n"
          ]
        },
        {
          "output_type": "stream",
          "name": "stderr",
          "text": [
            "\n"
          ]
        },
        {
          "output_type": "stream",
          "name": "stdout",
          "text": [
            "Closing dataloader mosaic\n",
            "\u001b[34m\u001b[1malbumentations: \u001b[0mBlur(p=0.01, blur_limit=(3, 7)), MedianBlur(p=0.01, blur_limit=(3, 7)), ToGray(p=0.01, method='weighted_average', num_output_channels=3), CLAHE(p=0.01, clip_limit=(1.0, 4.0), tile_grid_size=(8, 8))\n",
            "\n",
            "      Epoch    GPU_mem   box_loss   cls_loss   dfl_loss  Instances       Size\n"
          ]
        },
        {
          "output_type": "stream",
          "name": "stderr",
          "text": [
            "     91/100      9.63G     0.5888     0.2637     0.9432        176        640: 100%|██████████| 43/43 [00:35<00:00,  1.23it/s]\n",
            "                 Class     Images  Instances      Box(P          R      mAP50  mAP50-95): 100%|██████████| 2/2 [00:00<00:00,  2.59it/s]"
          ]
        },
        {
          "output_type": "stream",
          "name": "stdout",
          "text": [
            "                   all         35       1007      0.931      0.972      0.972      0.699\n"
          ]
        },
        {
          "output_type": "stream",
          "name": "stderr",
          "text": [
            "\n"
          ]
        },
        {
          "output_type": "stream",
          "name": "stdout",
          "text": [
            "\n",
            "      Epoch    GPU_mem   box_loss   cls_loss   dfl_loss  Instances       Size\n"
          ]
        },
        {
          "output_type": "stream",
          "name": "stderr",
          "text": [
            "     92/100      9.74G     0.5712     0.2578     0.9344        171        640: 100%|██████████| 43/43 [00:33<00:00,  1.28it/s]\n",
            "                 Class     Images  Instances      Box(P          R      mAP50  mAP50-95): 100%|██████████| 2/2 [00:00<00:00,  2.64it/s]"
          ]
        },
        {
          "output_type": "stream",
          "name": "stdout",
          "text": [
            "                   all         35       1007      0.946      0.959      0.973      0.697\n"
          ]
        },
        {
          "output_type": "stream",
          "name": "stderr",
          "text": [
            "\n"
          ]
        },
        {
          "output_type": "stream",
          "name": "stdout",
          "text": [
            "\n",
            "      Epoch    GPU_mem   box_loss   cls_loss   dfl_loss  Instances       Size\n"
          ]
        },
        {
          "output_type": "stream",
          "name": "stderr",
          "text": [
            "     93/100      9.74G     0.5548     0.2516     0.9234        169        640: 100%|██████████| 43/43 [00:33<00:00,  1.28it/s]\n",
            "                 Class     Images  Instances      Box(P          R      mAP50  mAP50-95): 100%|██████████| 2/2 [00:00<00:00,  2.57it/s]"
          ]
        },
        {
          "output_type": "stream",
          "name": "stdout",
          "text": [
            "                   all         35       1007      0.931      0.971      0.973      0.697\n"
          ]
        },
        {
          "output_type": "stream",
          "name": "stderr",
          "text": [
            "\n"
          ]
        },
        {
          "output_type": "stream",
          "name": "stdout",
          "text": [
            "\n",
            "      Epoch    GPU_mem   box_loss   cls_loss   dfl_loss  Instances       Size\n"
          ]
        },
        {
          "output_type": "stream",
          "name": "stderr",
          "text": [
            "     94/100      9.73G     0.5464     0.2502     0.9244        143        640: 100%|██████████| 43/43 [00:33<00:00,  1.28it/s]\n",
            "                 Class     Images  Instances      Box(P          R      mAP50  mAP50-95): 100%|██████████| 2/2 [00:00<00:00,  2.65it/s]"
          ]
        },
        {
          "output_type": "stream",
          "name": "stdout",
          "text": [
            "                   all         35       1007      0.939      0.963      0.973      0.684\n"
          ]
        },
        {
          "output_type": "stream",
          "name": "stderr",
          "text": [
            "\n"
          ]
        },
        {
          "output_type": "stream",
          "name": "stdout",
          "text": [
            "\n",
            "      Epoch    GPU_mem   box_loss   cls_loss   dfl_loss  Instances       Size\n"
          ]
        },
        {
          "output_type": "stream",
          "name": "stderr",
          "text": [
            "     95/100      9.89G     0.5412     0.2473     0.9223        177        640: 100%|██████████| 43/43 [00:33<00:00,  1.28it/s]\n",
            "                 Class     Images  Instances      Box(P          R      mAP50  mAP50-95): 100%|██████████| 2/2 [00:00<00:00,  2.57it/s]"
          ]
        },
        {
          "output_type": "stream",
          "name": "stdout",
          "text": [
            "                   all         35       1007      0.943      0.958      0.971       0.69\n"
          ]
        },
        {
          "output_type": "stream",
          "name": "stderr",
          "text": [
            "\n"
          ]
        },
        {
          "output_type": "stream",
          "name": "stdout",
          "text": [
            "\n",
            "      Epoch    GPU_mem   box_loss   cls_loss   dfl_loss  Instances       Size\n"
          ]
        },
        {
          "output_type": "stream",
          "name": "stderr",
          "text": [
            "     96/100      9.78G     0.5282     0.2434     0.9122        176        640: 100%|██████████| 43/43 [00:33<00:00,  1.28it/s]\n",
            "                 Class     Images  Instances      Box(P          R      mAP50  mAP50-95): 100%|██████████| 2/2 [00:00<00:00,  2.02it/s]"
          ]
        },
        {
          "output_type": "stream",
          "name": "stdout",
          "text": [
            "                   all         35       1007      0.941      0.958       0.97       0.69\n"
          ]
        },
        {
          "output_type": "stream",
          "name": "stderr",
          "text": [
            "\n"
          ]
        },
        {
          "output_type": "stream",
          "name": "stdout",
          "text": [
            "\n",
            "      Epoch    GPU_mem   box_loss   cls_loss   dfl_loss  Instances       Size\n"
          ]
        },
        {
          "output_type": "stream",
          "name": "stderr",
          "text": [
            "     97/100      9.77G     0.5315     0.2449     0.9145        186        640: 100%|██████████| 43/43 [00:33<00:00,  1.27it/s]\n",
            "                 Class     Images  Instances      Box(P          R      mAP50  mAP50-95): 100%|██████████| 2/2 [00:00<00:00,  2.63it/s]"
          ]
        },
        {
          "output_type": "stream",
          "name": "stdout",
          "text": [
            "                   all         35       1007       0.94      0.966      0.971      0.686\n"
          ]
        },
        {
          "output_type": "stream",
          "name": "stderr",
          "text": [
            "\n"
          ]
        },
        {
          "output_type": "stream",
          "name": "stdout",
          "text": [
            "\n",
            "      Epoch    GPU_mem   box_loss   cls_loss   dfl_loss  Instances       Size\n"
          ]
        },
        {
          "output_type": "stream",
          "name": "stderr",
          "text": [
            "     98/100      9.73G     0.5228     0.2421     0.9119        169        640: 100%|██████████| 43/43 [00:33<00:00,  1.28it/s]\n",
            "                 Class     Images  Instances      Box(P          R      mAP50  mAP50-95): 100%|██████████| 2/2 [00:01<00:00,  1.89it/s]"
          ]
        },
        {
          "output_type": "stream",
          "name": "stdout",
          "text": [
            "                   all         35       1007      0.939      0.966      0.971      0.695\n"
          ]
        },
        {
          "output_type": "stream",
          "name": "stderr",
          "text": [
            "\n"
          ]
        },
        {
          "output_type": "stream",
          "name": "stdout",
          "text": [
            "\n",
            "      Epoch    GPU_mem   box_loss   cls_loss   dfl_loss  Instances       Size\n"
          ]
        },
        {
          "output_type": "stream",
          "name": "stderr",
          "text": [
            "     99/100      9.61G     0.5148      0.239     0.9095        177        640: 100%|██████████| 43/43 [00:33<00:00,  1.28it/s]\n",
            "                 Class     Images  Instances      Box(P          R      mAP50  mAP50-95): 100%|██████████| 2/2 [00:00<00:00,  2.57it/s]"
          ]
        },
        {
          "output_type": "stream",
          "name": "stdout",
          "text": [
            "                   all         35       1007      0.939      0.964      0.972      0.693\n"
          ]
        },
        {
          "output_type": "stream",
          "name": "stderr",
          "text": [
            "\n"
          ]
        },
        {
          "output_type": "stream",
          "name": "stdout",
          "text": [
            "\n",
            "      Epoch    GPU_mem   box_loss   cls_loss   dfl_loss  Instances       Size\n"
          ]
        },
        {
          "output_type": "stream",
          "name": "stderr",
          "text": [
            "    100/100      9.76G     0.5119     0.2377     0.9066        172        640: 100%|██████████| 43/43 [00:33<00:00,  1.28it/s]\n",
            "                 Class     Images  Instances      Box(P          R      mAP50  mAP50-95): 100%|██████████| 2/2 [00:00<00:00,  2.62it/s]"
          ]
        },
        {
          "output_type": "stream",
          "name": "stdout",
          "text": [
            "                   all         35       1007      0.944      0.962      0.973      0.694\n"
          ]
        },
        {
          "output_type": "stream",
          "name": "stderr",
          "text": [
            "\n"
          ]
        },
        {
          "output_type": "stream",
          "name": "stdout",
          "text": [
            "\n",
            "100 epochs completed in 1.141 hours.\n",
            "Optimizer stripped from proyecto_xray/entrenamiento_xray/weights/last.pt, 87.7MB\n",
            "Optimizer stripped from proyecto_xray/entrenamiento_xray/weights/best.pt, 87.7MB\n",
            "\n",
            "Validating proyecto_xray/entrenamiento_xray/weights/best.pt...\n",
            "Ultralytics 8.3.128 🚀 Python-3.11.12 torch-2.6.0+cu124 CUDA:0 (Tesla T4, 15095MiB)\n",
            "Model summary (fused): 112 layers, 43,608,150 parameters, 0 gradients, 164.8 GFLOPs\n"
          ]
        },
        {
          "output_type": "stream",
          "name": "stderr",
          "text": [
            "                 Class     Images  Instances      Box(P          R      mAP50  mAP50-95): 100%|██████████| 2/2 [00:01<00:00,  2.00it/s]\n"
          ]
        },
        {
          "output_type": "stream",
          "name": "stdout",
          "text": [
            "                   all         35       1007      0.937      0.967      0.973      0.708\n",
            "                 tooth         34       1007      0.937      0.967      0.973      0.708\n",
            "Speed: 0.2ms preprocess, 17.3ms inference, 0.0ms loss, 1.3ms postprocess per image\n",
            "Results saved to \u001b[1mproyecto_xray/entrenamiento_xray\u001b[0m\n"
          ]
        },
        {
          "output_type": "execute_result",
          "data": {
            "text/plain": [
              "ultralytics.utils.metrics.DetMetrics object with attributes:\n",
              "\n",
              "ap_class_index: array([1])\n",
              "box: ultralytics.utils.metrics.Metric object\n",
              "confusion_matrix: <ultralytics.utils.metrics.ConfusionMatrix object at 0x7b810b783890>\n",
              "curves: ['Precision-Recall(B)', 'F1-Confidence(B)', 'Precision-Confidence(B)', 'Recall-Confidence(B)']\n",
              "curves_results: [[array([          0,    0.001001,    0.002002,    0.003003,    0.004004,    0.005005,    0.006006,    0.007007,    0.008008,    0.009009,     0.01001,    0.011011,    0.012012,    0.013013,    0.014014,    0.015015,    0.016016,    0.017017,    0.018018,    0.019019,     0.02002,    0.021021,    0.022022,    0.023023,\n",
              "          0.024024,    0.025025,    0.026026,    0.027027,    0.028028,    0.029029,     0.03003,    0.031031,    0.032032,    0.033033,    0.034034,    0.035035,    0.036036,    0.037037,    0.038038,    0.039039,     0.04004,    0.041041,    0.042042,    0.043043,    0.044044,    0.045045,    0.046046,    0.047047,\n",
              "          0.048048,    0.049049,     0.05005,    0.051051,    0.052052,    0.053053,    0.054054,    0.055055,    0.056056,    0.057057,    0.058058,    0.059059,     0.06006,    0.061061,    0.062062,    0.063063,    0.064064,    0.065065,    0.066066,    0.067067,    0.068068,    0.069069,     0.07007,    0.071071,\n",
              "          0.072072,    0.073073,    0.074074,    0.075075,    0.076076,    0.077077,    0.078078,    0.079079,     0.08008,    0.081081,    0.082082,    0.083083,    0.084084,    0.085085,    0.086086,    0.087087,    0.088088,    0.089089,     0.09009,    0.091091,    0.092092,    0.093093,    0.094094,    0.095095,\n",
              "          0.096096,    0.097097,    0.098098,    0.099099,      0.1001,      0.1011,      0.1021,      0.1031,      0.1041,     0.10511,     0.10611,     0.10711,     0.10811,     0.10911,     0.11011,     0.11111,     0.11211,     0.11311,     0.11411,     0.11512,     0.11612,     0.11712,     0.11812,     0.11912,\n",
              "           0.12012,     0.12112,     0.12212,     0.12312,     0.12412,     0.12513,     0.12613,     0.12713,     0.12813,     0.12913,     0.13013,     0.13113,     0.13213,     0.13313,     0.13413,     0.13514,     0.13614,     0.13714,     0.13814,     0.13914,     0.14014,     0.14114,     0.14214,     0.14314,\n",
              "           0.14414,     0.14515,     0.14615,     0.14715,     0.14815,     0.14915,     0.15015,     0.15115,     0.15215,     0.15315,     0.15415,     0.15516,     0.15616,     0.15716,     0.15816,     0.15916,     0.16016,     0.16116,     0.16216,     0.16316,     0.16416,     0.16517,     0.16617,     0.16717,\n",
              "           0.16817,     0.16917,     0.17017,     0.17117,     0.17217,     0.17317,     0.17417,     0.17518,     0.17618,     0.17718,     0.17818,     0.17918,     0.18018,     0.18118,     0.18218,     0.18318,     0.18418,     0.18519,     0.18619,     0.18719,     0.18819,     0.18919,     0.19019,     0.19119,\n",
              "           0.19219,     0.19319,     0.19419,      0.1952,      0.1962,      0.1972,      0.1982,      0.1992,      0.2002,      0.2012,      0.2022,      0.2032,      0.2042,     0.20521,     0.20621,     0.20721,     0.20821,     0.20921,     0.21021,     0.21121,     0.21221,     0.21321,     0.21421,     0.21522,\n",
              "           0.21622,     0.21722,     0.21822,     0.21922,     0.22022,     0.22122,     0.22222,     0.22322,     0.22422,     0.22523,     0.22623,     0.22723,     0.22823,     0.22923,     0.23023,     0.23123,     0.23223,     0.23323,     0.23423,     0.23524,     0.23624,     0.23724,     0.23824,     0.23924,\n",
              "           0.24024,     0.24124,     0.24224,     0.24324,     0.24424,     0.24525,     0.24625,     0.24725,     0.24825,     0.24925,     0.25025,     0.25125,     0.25225,     0.25325,     0.25425,     0.25526,     0.25626,     0.25726,     0.25826,     0.25926,     0.26026,     0.26126,     0.26226,     0.26326,\n",
              "           0.26426,     0.26527,     0.26627,     0.26727,     0.26827,     0.26927,     0.27027,     0.27127,     0.27227,     0.27327,     0.27427,     0.27528,     0.27628,     0.27728,     0.27828,     0.27928,     0.28028,     0.28128,     0.28228,     0.28328,     0.28428,     0.28529,     0.28629,     0.28729,\n",
              "           0.28829,     0.28929,     0.29029,     0.29129,     0.29229,     0.29329,     0.29429,      0.2953,      0.2963,      0.2973,      0.2983,      0.2993,      0.3003,      0.3013,      0.3023,      0.3033,      0.3043,     0.30531,     0.30631,     0.30731,     0.30831,     0.30931,     0.31031,     0.31131,\n",
              "           0.31231,     0.31331,     0.31431,     0.31532,     0.31632,     0.31732,     0.31832,     0.31932,     0.32032,     0.32132,     0.32232,     0.32332,     0.32432,     0.32533,     0.32633,     0.32733,     0.32833,     0.32933,     0.33033,     0.33133,     0.33233,     0.33333,     0.33433,     0.33534,\n",
              "           0.33634,     0.33734,     0.33834,     0.33934,     0.34034,     0.34134,     0.34234,     0.34334,     0.34434,     0.34535,     0.34635,     0.34735,     0.34835,     0.34935,     0.35035,     0.35135,     0.35235,     0.35335,     0.35435,     0.35536,     0.35636,     0.35736,     0.35836,     0.35936,\n",
              "           0.36036,     0.36136,     0.36236,     0.36336,     0.36436,     0.36537,     0.36637,     0.36737,     0.36837,     0.36937,     0.37037,     0.37137,     0.37237,     0.37337,     0.37437,     0.37538,     0.37638,     0.37738,     0.37838,     0.37938,     0.38038,     0.38138,     0.38238,     0.38338,\n",
              "           0.38438,     0.38539,     0.38639,     0.38739,     0.38839,     0.38939,     0.39039,     0.39139,     0.39239,     0.39339,     0.39439,      0.3954,      0.3964,      0.3974,      0.3984,      0.3994,      0.4004,      0.4014,      0.4024,      0.4034,      0.4044,     0.40541,     0.40641,     0.40741,\n",
              "           0.40841,     0.40941,     0.41041,     0.41141,     0.41241,     0.41341,     0.41441,     0.41542,     0.41642,     0.41742,     0.41842,     0.41942,     0.42042,     0.42142,     0.42242,     0.42342,     0.42442,     0.42543,     0.42643,     0.42743,     0.42843,     0.42943,     0.43043,     0.43143,\n",
              "           0.43243,     0.43343,     0.43443,     0.43544,     0.43644,     0.43744,     0.43844,     0.43944,     0.44044,     0.44144,     0.44244,     0.44344,     0.44444,     0.44545,     0.44645,     0.44745,     0.44845,     0.44945,     0.45045,     0.45145,     0.45245,     0.45345,     0.45445,     0.45546,\n",
              "           0.45646,     0.45746,     0.45846,     0.45946,     0.46046,     0.46146,     0.46246,     0.46346,     0.46446,     0.46547,     0.46647,     0.46747,     0.46847,     0.46947,     0.47047,     0.47147,     0.47247,     0.47347,     0.47447,     0.47548,     0.47648,     0.47748,     0.47848,     0.47948,\n",
              "           0.48048,     0.48148,     0.48248,     0.48348,     0.48448,     0.48549,     0.48649,     0.48749,     0.48849,     0.48949,     0.49049,     0.49149,     0.49249,     0.49349,     0.49449,      0.4955,      0.4965,      0.4975,      0.4985,      0.4995,      0.5005,      0.5015,      0.5025,      0.5035,\n",
              "            0.5045,     0.50551,     0.50651,     0.50751,     0.50851,     0.50951,     0.51051,     0.51151,     0.51251,     0.51351,     0.51451,     0.51552,     0.51652,     0.51752,     0.51852,     0.51952,     0.52052,     0.52152,     0.52252,     0.52352,     0.52452,     0.52553,     0.52653,     0.52753,\n",
              "           0.52853,     0.52953,     0.53053,     0.53153,     0.53253,     0.53353,     0.53453,     0.53554,     0.53654,     0.53754,     0.53854,     0.53954,     0.54054,     0.54154,     0.54254,     0.54354,     0.54454,     0.54555,     0.54655,     0.54755,     0.54855,     0.54955,     0.55055,     0.55155,\n",
              "           0.55255,     0.55355,     0.55455,     0.55556,     0.55656,     0.55756,     0.55856,     0.55956,     0.56056,     0.56156,     0.56256,     0.56356,     0.56456,     0.56557,     0.56657,     0.56757,     0.56857,     0.56957,     0.57057,     0.57157,     0.57257,     0.57357,     0.57457,     0.57558,\n",
              "           0.57658,     0.57758,     0.57858,     0.57958,     0.58058,     0.58158,     0.58258,     0.58358,     0.58458,     0.58559,     0.58659,     0.58759,     0.58859,     0.58959,     0.59059,     0.59159,     0.59259,     0.59359,     0.59459,      0.5956,      0.5966,      0.5976,      0.5986,      0.5996,\n",
              "            0.6006,      0.6016,      0.6026,      0.6036,      0.6046,     0.60561,     0.60661,     0.60761,     0.60861,     0.60961,     0.61061,     0.61161,     0.61261,     0.61361,     0.61461,     0.61562,     0.61662,     0.61762,     0.61862,     0.61962,     0.62062,     0.62162,     0.62262,     0.62362,\n",
              "           0.62462,     0.62563,     0.62663,     0.62763,     0.62863,     0.62963,     0.63063,     0.63163,     0.63263,     0.63363,     0.63463,     0.63564,     0.63664,     0.63764,     0.63864,     0.63964,     0.64064,     0.64164,     0.64264,     0.64364,     0.64464,     0.64565,     0.64665,     0.64765,\n",
              "           0.64865,     0.64965,     0.65065,     0.65165,     0.65265,     0.65365,     0.65465,     0.65566,     0.65666,     0.65766,     0.65866,     0.65966,     0.66066,     0.66166,     0.66266,     0.66366,     0.66466,     0.66567,     0.66667,     0.66767,     0.66867,     0.66967,     0.67067,     0.67167,\n",
              "           0.67267,     0.67367,     0.67467,     0.67568,     0.67668,     0.67768,     0.67868,     0.67968,     0.68068,     0.68168,     0.68268,     0.68368,     0.68468,     0.68569,     0.68669,     0.68769,     0.68869,     0.68969,     0.69069,     0.69169,     0.69269,     0.69369,     0.69469,      0.6957,\n",
              "            0.6967,      0.6977,      0.6987,      0.6997,      0.7007,      0.7017,      0.7027,      0.7037,      0.7047,     0.70571,     0.70671,     0.70771,     0.70871,     0.70971,     0.71071,     0.71171,     0.71271,     0.71371,     0.71471,     0.71572,     0.71672,     0.71772,     0.71872,     0.71972,\n",
              "           0.72072,     0.72172,     0.72272,     0.72372,     0.72472,     0.72573,     0.72673,     0.72773,     0.72873,     0.72973,     0.73073,     0.73173,     0.73273,     0.73373,     0.73473,     0.73574,     0.73674,     0.73774,     0.73874,     0.73974,     0.74074,     0.74174,     0.74274,     0.74374,\n",
              "           0.74474,     0.74575,     0.74675,     0.74775,     0.74875,     0.74975,     0.75075,     0.75175,     0.75275,     0.75375,     0.75475,     0.75576,     0.75676,     0.75776,     0.75876,     0.75976,     0.76076,     0.76176,     0.76276,     0.76376,     0.76476,     0.76577,     0.76677,     0.76777,\n",
              "           0.76877,     0.76977,     0.77077,     0.77177,     0.77277,     0.77377,     0.77477,     0.77578,     0.77678,     0.77778,     0.77878,     0.77978,     0.78078,     0.78178,     0.78278,     0.78378,     0.78478,     0.78579,     0.78679,     0.78779,     0.78879,     0.78979,     0.79079,     0.79179,\n",
              "           0.79279,     0.79379,     0.79479,      0.7958,      0.7968,      0.7978,      0.7988,      0.7998,      0.8008,      0.8018,      0.8028,      0.8038,      0.8048,     0.80581,     0.80681,     0.80781,     0.80881,     0.80981,     0.81081,     0.81181,     0.81281,     0.81381,     0.81481,     0.81582,\n",
              "           0.81682,     0.81782,     0.81882,     0.81982,     0.82082,     0.82182,     0.82282,     0.82382,     0.82482,     0.82583,     0.82683,     0.82783,     0.82883,     0.82983,     0.83083,     0.83183,     0.83283,     0.83383,     0.83483,     0.83584,     0.83684,     0.83784,     0.83884,     0.83984,\n",
              "           0.84084,     0.84184,     0.84284,     0.84384,     0.84484,     0.84585,     0.84685,     0.84785,     0.84885,     0.84985,     0.85085,     0.85185,     0.85285,     0.85385,     0.85485,     0.85586,     0.85686,     0.85786,     0.85886,     0.85986,     0.86086,     0.86186,     0.86286,     0.86386,\n",
              "           0.86486,     0.86587,     0.86687,     0.86787,     0.86887,     0.86987,     0.87087,     0.87187,     0.87287,     0.87387,     0.87487,     0.87588,     0.87688,     0.87788,     0.87888,     0.87988,     0.88088,     0.88188,     0.88288,     0.88388,     0.88488,     0.88589,     0.88689,     0.88789,\n",
              "           0.88889,     0.88989,     0.89089,     0.89189,     0.89289,     0.89389,     0.89489,      0.8959,      0.8969,      0.8979,      0.8989,      0.8999,      0.9009,      0.9019,      0.9029,      0.9039,      0.9049,     0.90591,     0.90691,     0.90791,     0.90891,     0.90991,     0.91091,     0.91191,\n",
              "           0.91291,     0.91391,     0.91491,     0.91592,     0.91692,     0.91792,     0.91892,     0.91992,     0.92092,     0.92192,     0.92292,     0.92392,     0.92492,     0.92593,     0.92693,     0.92793,     0.92893,     0.92993,     0.93093,     0.93193,     0.93293,     0.93393,     0.93493,     0.93594,\n",
              "           0.93694,     0.93794,     0.93894,     0.93994,     0.94094,     0.94194,     0.94294,     0.94394,     0.94494,     0.94595,     0.94695,     0.94795,     0.94895,     0.94995,     0.95095,     0.95195,     0.95295,     0.95395,     0.95495,     0.95596,     0.95696,     0.95796,     0.95896,     0.95996,\n",
              "           0.96096,     0.96196,     0.96296,     0.96396,     0.96496,     0.96597,     0.96697,     0.96797,     0.96897,     0.96997,     0.97097,     0.97197,     0.97297,     0.97397,     0.97497,     0.97598,     0.97698,     0.97798,     0.97898,     0.97998,     0.98098,     0.98198,     0.98298,     0.98398,\n",
              "           0.98498,     0.98599,     0.98699,     0.98799,     0.98899,     0.98999,     0.99099,     0.99199,     0.99299,     0.99399,     0.99499,       0.996,       0.997,       0.998,       0.999,           1]), array([[          1,           1,           1,           1,           1,           1,           1,           1,           1,           1,           1,           1,           1,           1,           1,           1,     0.98378,     0.98378,     0.98378,     0.98378,     0.98378,     0.98378,     0.98378,\n",
              "            0.98378,     0.98378,     0.98378,     0.98378,     0.98378,     0.98378,     0.98378,     0.98378,     0.98378,     0.98378,     0.98378,     0.98378,     0.98378,     0.98378,     0.98378,     0.98378,     0.98378,     0.98378,     0.98378,     0.98378,     0.98378,     0.98378,     0.98378,\n",
              "            0.98378,     0.98378,     0.98378,     0.98378,     0.98378,     0.98378,     0.98378,     0.98378,     0.98378,     0.98378,     0.98378,     0.98378,     0.98378,     0.98378,     0.98378,     0.98378,     0.98378,     0.98378,     0.98378,     0.98378,     0.98378,     0.98378,     0.98378,\n",
              "            0.98378,     0.98378,     0.98378,     0.98378,     0.98378,     0.98378,     0.98378,     0.98378,     0.98378,     0.98378,     0.98378,     0.98378,     0.98378,     0.98378,     0.98378,     0.98378,     0.98378,     0.98378,     0.98378,     0.98378,     0.98378,     0.98378,     0.98378,\n",
              "            0.98378,     0.98378,     0.98378,     0.98378,     0.98378,     0.98378,     0.98378,     0.98378,     0.98378,     0.98378,     0.98378,     0.98378,     0.98378,     0.98378,     0.98378,     0.98378,     0.98378,     0.98378,     0.98378,     0.98378,     0.98378,     0.98378,     0.98378,\n",
              "            0.98378,     0.98378,     0.98378,     0.98378,     0.98378,     0.98378,     0.98378,     0.98378,     0.98378,     0.98378,     0.98378,     0.98378,     0.98378,     0.98378,     0.98378,     0.98378,     0.98378,     0.98378,     0.98378,     0.98378,     0.98378,     0.98378,     0.98378,\n",
              "            0.98378,     0.98378,     0.98378,     0.98378,     0.98378,     0.98378,     0.98378,     0.98378,     0.98378,     0.98378,     0.98378,     0.98378,     0.98378,     0.98378,     0.98378,     0.98378,     0.98378,     0.98378,     0.98378,     0.98378,     0.98378,     0.98378,     0.98378,\n",
              "            0.98378,     0.98378,     0.98378,     0.98378,     0.98378,     0.98378,     0.98378,     0.98378,     0.98378,     0.98378,     0.98378,     0.98378,     0.98378,     0.98378,     0.98378,     0.98378,     0.98378,     0.98378,     0.98378,     0.98378,     0.98238,     0.98238,     0.98238,\n",
              "            0.98238,     0.98238,     0.98238,     0.98238,     0.98238,     0.98238,     0.98238,     0.98238,     0.98238,     0.98238,     0.98238,     0.98238,     0.98238,     0.98238,     0.98238,     0.98238,     0.98238,     0.98238,     0.98238,     0.98238,     0.98238,     0.98238,     0.98238,\n",
              "            0.98238,     0.98238,     0.98238,     0.98238,     0.98238,     0.98238,     0.98238,     0.98238,     0.98238,     0.98238,     0.98238,     0.98238,     0.98238,     0.98238,     0.98238,     0.98238,     0.98238,     0.98238,     0.98238,     0.98238,     0.98238,     0.98238,     0.98238,\n",
              "            0.98238,     0.98238,     0.98238,     0.98238,     0.98238,     0.98238,     0.98238,     0.98238,     0.98238,     0.98238,     0.98238,     0.98238,     0.98238,     0.98238,     0.98238,     0.98238,     0.98238,     0.98238,     0.98238,     0.98238,     0.98238,     0.98238,     0.98238,\n",
              "            0.98238,     0.98238,     0.98238,     0.98238,     0.98238,     0.98238,     0.98238,     0.98238,     0.98238,     0.98238,     0.98238,     0.98238,     0.98238,     0.98238,     0.98238,     0.98238,     0.98238,     0.98238,     0.98238,     0.98238,     0.98238,     0.98238,     0.98238,\n",
              "            0.98238,     0.98238,     0.98238,     0.98238,     0.98238,     0.98238,     0.98238,     0.98238,     0.98238,     0.98238,     0.98238,     0.98238,     0.98238,     0.98238,     0.98238,     0.98238,     0.98238,     0.98238,     0.98238,     0.98238,     0.98238,     0.98238,     0.98238,\n",
              "            0.98238,     0.98238,     0.98238,     0.98238,     0.98238,     0.98238,     0.98238,     0.98238,     0.98238,     0.98238,     0.98238,     0.98238,     0.98238,     0.98238,     0.98238,     0.98238,     0.98238,     0.98238,     0.98238,     0.98238,     0.98238,     0.98238,     0.98238,\n",
              "            0.98238,     0.98238,     0.98238,     0.98238,     0.98238,     0.98238,     0.98238,     0.98238,     0.98238,     0.98238,     0.98238,     0.98238,     0.98238,     0.98238,     0.98238,     0.98238,     0.98238,     0.98238,     0.98238,     0.98238,     0.98238,     0.98238,     0.98238,\n",
              "            0.98238,     0.98238,     0.98238,     0.98238,     0.98238,     0.98238,     0.98238,     0.98238,     0.98238,     0.98238,     0.98238,     0.98238,     0.98238,     0.98238,     0.98238,     0.98238,     0.98238,     0.98238,     0.98238,     0.98238,     0.98238,     0.98238,     0.98238,\n",
              "            0.98238,     0.98238,     0.98238,     0.98238,     0.98238,     0.98238,     0.98238,     0.98238,     0.98238,     0.98238,     0.98238,     0.98238,     0.98238,     0.98238,     0.98238,     0.98238,     0.98238,     0.98238,     0.98238,     0.98238,     0.98238,     0.98238,     0.98238,\n",
              "            0.98238,     0.98238,     0.98238,     0.98238,     0.98238,     0.98238,     0.98238,     0.98238,     0.98238,     0.98238,     0.98238,     0.98238,     0.98238,     0.98238,     0.98238,     0.98238,     0.98238,     0.98238,     0.98238,     0.98238,     0.98238,     0.98238,     0.98238,\n",
              "            0.98238,     0.98238,     0.98238,     0.98238,     0.98238,     0.98238,     0.98238,     0.98238,     0.98238,     0.98238,     0.98238,     0.98238,     0.98238,     0.98238,     0.98238,     0.98238,     0.98238,     0.98238,     0.98238,     0.98238,     0.98238,     0.98238,     0.98238,\n",
              "            0.98238,     0.98238,     0.98238,     0.98238,     0.98238,     0.98238,     0.98238,     0.98238,     0.98238,     0.98238,     0.98238,     0.98238,     0.98238,     0.98238,     0.98238,     0.98238,     0.98238,     0.98238,     0.98238,     0.98238,     0.98238,     0.98238,     0.98238,\n",
              "            0.98238,     0.98238,     0.98238,     0.98238,     0.98238,     0.98238,     0.98238,     0.98238,     0.98238,     0.98238,     0.98238,     0.98238,     0.98238,     0.98238,     0.98238,     0.98238,     0.98238,     0.98238,     0.98238,     0.98238,     0.98238,     0.98238,     0.98238,\n",
              "            0.98238,     0.98238,     0.98238,     0.98238,     0.98238,     0.98238,     0.98238,     0.98238,     0.98238,     0.98238,     0.98238,     0.98238,     0.98238,     0.98238,     0.98238,     0.98238,     0.98238,     0.98238,     0.98238,     0.98238,     0.98238,     0.98238,     0.98238,\n",
              "            0.98238,     0.98238,     0.98238,     0.98238,     0.98238,     0.98238,     0.98238,     0.98238,     0.98238,     0.98238,     0.98238,     0.98238,     0.98238,     0.98238,     0.98238,     0.98238,     0.98238,     0.98238,     0.98238,     0.98238,     0.98238,     0.98238,     0.98238,\n",
              "            0.98238,     0.98238,     0.98238,     0.98238,     0.98238,     0.98238,     0.98238,     0.98238,     0.98238,     0.98238,     0.98238,     0.98238,     0.98238,     0.98238,     0.98238,     0.98238,     0.98238,     0.98238,     0.98238,     0.98238,     0.98238,     0.98238,     0.98238,\n",
              "            0.98238,     0.98238,     0.98238,     0.98238,     0.98238,     0.98238,     0.98238,     0.98238,     0.98238,     0.98238,     0.98238,     0.98238,     0.98238,     0.98238,     0.98238,     0.98238,     0.98238,     0.98238,     0.98238,     0.98238,     0.98238,     0.98238,     0.98238,\n",
              "            0.98238,     0.98238,     0.98238,     0.98238,     0.98238,     0.98238,     0.98238,     0.98238,     0.98238,     0.98238,     0.98238,     0.98238,     0.98238,     0.98238,     0.98238,     0.98238,     0.98238,     0.98238,     0.98238,     0.98238,     0.98238,     0.98238,     0.98238,\n",
              "            0.98238,     0.98238,     0.98238,     0.98238,     0.98238,     0.98238,     0.98238,     0.98238,     0.98238,     0.98238,     0.98238,     0.98238,     0.98238,     0.98238,     0.98238,     0.98238,     0.98238,     0.98238,     0.98238,     0.98238,     0.98238,     0.98238,     0.98238,\n",
              "            0.98238,     0.98238,     0.98238,     0.98238,     0.98238,     0.98238,     0.98238,     0.98238,     0.98238,     0.98238,     0.98238,     0.98238,     0.98238,     0.98238,     0.98238,     0.98238,     0.98238,     0.98238,     0.98238,     0.98238,     0.98238,     0.98238,     0.98238,\n",
              "            0.98238,     0.98238,     0.98238,     0.98238,     0.98238,     0.98238,     0.98238,     0.98238,     0.98238,     0.98238,     0.98238,     0.98238,     0.98238,     0.98238,     0.98238,     0.98238,     0.98238,     0.98238,     0.98238,     0.98238,     0.98238,     0.98238,     0.98238,\n",
              "            0.98238,     0.98238,     0.98238,     0.98238,     0.98238,     0.98238,     0.98238,     0.98238,     0.98238,     0.98238,     0.98238,     0.98238,     0.98238,     0.98238,     0.98238,     0.98238,     0.98238,     0.98238,     0.98238,     0.98238,     0.98238,     0.98238,     0.98238,\n",
              "            0.98238,     0.98238,     0.98238,     0.98238,     0.98238,     0.98238,     0.98238,     0.98238,     0.98238,     0.98238,     0.98238,     0.98238,     0.98238,     0.98238,     0.98238,     0.98238,     0.98238,     0.98238,     0.98238,     0.98238,     0.98238,     0.98238,     0.98238,\n",
              "            0.98238,     0.98238,     0.98238,     0.98238,     0.98238,     0.98238,     0.98238,     0.98113,     0.98113,     0.98113,     0.98062,     0.98062,     0.98062,     0.98062,     0.98062,     0.98062,     0.98062,     0.98062,     0.98062,     0.98062,     0.98062,     0.98062,     0.98062,\n",
              "            0.98062,     0.98062,     0.98062,     0.98062,     0.98062,     0.98062,     0.98062,     0.98062,     0.98062,     0.98062,     0.98062,     0.98062,     0.98062,     0.98062,     0.98062,     0.98062,     0.98062,      0.9797,      0.9797,      0.9797,      0.9797,      0.9797,      0.9797,\n",
              "             0.9797,      0.9797,      0.9797,      0.9797,      0.9797,      0.9797,      0.9797,     0.97932,     0.97932,     0.97932,     0.97932,     0.97932,     0.97932,     0.97932,     0.97932,     0.97932,     0.97932,     0.97932,     0.97932,     0.97932,     0.97932,     0.97932,     0.97932,\n",
              "            0.97932,     0.97932,     0.97932,     0.97932,     0.97932,     0.97932,     0.97932,     0.97932,     0.97932,     0.97932,     0.97932,     0.97932,     0.97932,     0.97932,     0.97932,     0.97932,     0.97932,     0.97882,     0.97882,     0.97882,     0.97882,     0.97882,     0.97882,\n",
              "            0.97882,     0.97882,     0.97882,     0.97882,     0.97882,     0.97882,     0.97882,     0.97882,     0.97882,     0.97882,     0.97882,     0.97882,     0.97882,     0.97882,     0.97882,     0.97882,     0.97882,     0.97882,     0.97882,     0.97882,     0.97882,     0.97775,     0.97775,\n",
              "            0.97775,     0.97666,     0.97666,     0.97569,     0.97569,     0.97569,     0.97569,     0.97569,     0.97569,      0.9746,     0.97371,     0.97371,     0.97371,     0.97371,     0.97371,     0.97371,     0.97371,     0.97371,     0.97291,     0.97291,     0.97291,     0.97291,     0.97291,\n",
              "            0.97291,     0.97291,     0.97291,     0.97291,     0.97291,     0.97222,     0.97222,     0.97222,     0.97222,     0.97222,     0.97222,     0.97222,     0.97222,     0.97222,     0.97222,     0.97222,     0.97222,     0.97222,     0.97124,     0.97124,     0.97124,     0.97023,     0.97023,\n",
              "            0.96933,     0.96933,     0.96933,     0.96933,     0.96868,     0.96868,     0.96868,     0.96868,     0.96868,     0.96868,     0.96868,     0.96868,     0.96868,     0.96868,     0.96868,     0.96868,     0.96781,     0.96781,     0.96781,     0.96781,     0.96781,     0.96713,     0.96713,\n",
              "            0.96713,     0.96713,     0.96713,     0.96713,     0.96713,     0.96713,     0.96713,     0.96713,     0.96621,     0.96621,     0.96621,      0.9644,      0.9644,      0.9644,      0.9644,      0.9644,      0.9644,     0.96343,     0.96246,     0.96162,     0.96162,     0.96162,     0.96162,\n",
              "             0.9607,      0.9607,     0.95988,     0.95988,     0.95988,     0.95988,     0.95914,     0.95914,     0.95914,     0.95914,     0.95914,     0.95914,     0.95736,     0.95736,     0.95736,     0.95736,     0.95648,     0.95648,     0.95556,     0.95473,     0.95473,     0.95473,      0.9519,\n",
              "             0.9501,      0.9501,     0.94554,     0.94554,     0.94554,     0.94477,     0.94477,     0.94477,      0.9439,      0.9421,     0.94141,     0.94141,     0.94141,     0.94141,     0.94072,     0.94072,     0.94072,     0.94072,     0.93998,     0.93998,     0.93998,     0.93913,     0.93672,\n",
              "            0.93672,     0.93672,     0.93672,     0.93672,     0.93232,     0.93149,     0.92979,      0.9281,     0.92642,     0.92481,     0.92481,     0.92315,     0.92243,     0.92243,     0.91397,     0.90485,     0.89918,      0.8944,     0.88978,     0.88978,      0.8782,      0.8782,     0.87215,\n",
              "            0.85433,     0.76125,     0.69135,     0.56051,     0.48044,     0.40037,     0.32029,     0.24022,     0.16015,    0.080073,           0]]), 'Recall', 'Precision'], [array([          0,    0.001001,    0.002002,    0.003003,    0.004004,    0.005005,    0.006006,    0.007007,    0.008008,    0.009009,     0.01001,    0.011011,    0.012012,    0.013013,    0.014014,    0.015015,    0.016016,    0.017017,    0.018018,    0.019019,     0.02002,    0.021021,    0.022022,    0.023023,\n",
              "          0.024024,    0.025025,    0.026026,    0.027027,    0.028028,    0.029029,     0.03003,    0.031031,    0.032032,    0.033033,    0.034034,    0.035035,    0.036036,    0.037037,    0.038038,    0.039039,     0.04004,    0.041041,    0.042042,    0.043043,    0.044044,    0.045045,    0.046046,    0.047047,\n",
              "          0.048048,    0.049049,     0.05005,    0.051051,    0.052052,    0.053053,    0.054054,    0.055055,    0.056056,    0.057057,    0.058058,    0.059059,     0.06006,    0.061061,    0.062062,    0.063063,    0.064064,    0.065065,    0.066066,    0.067067,    0.068068,    0.069069,     0.07007,    0.071071,\n",
              "          0.072072,    0.073073,    0.074074,    0.075075,    0.076076,    0.077077,    0.078078,    0.079079,     0.08008,    0.081081,    0.082082,    0.083083,    0.084084,    0.085085,    0.086086,    0.087087,    0.088088,    0.089089,     0.09009,    0.091091,    0.092092,    0.093093,    0.094094,    0.095095,\n",
              "          0.096096,    0.097097,    0.098098,    0.099099,      0.1001,      0.1011,      0.1021,      0.1031,      0.1041,     0.10511,     0.10611,     0.10711,     0.10811,     0.10911,     0.11011,     0.11111,     0.11211,     0.11311,     0.11411,     0.11512,     0.11612,     0.11712,     0.11812,     0.11912,\n",
              "           0.12012,     0.12112,     0.12212,     0.12312,     0.12412,     0.12513,     0.12613,     0.12713,     0.12813,     0.12913,     0.13013,     0.13113,     0.13213,     0.13313,     0.13413,     0.13514,     0.13614,     0.13714,     0.13814,     0.13914,     0.14014,     0.14114,     0.14214,     0.14314,\n",
              "           0.14414,     0.14515,     0.14615,     0.14715,     0.14815,     0.14915,     0.15015,     0.15115,     0.15215,     0.15315,     0.15415,     0.15516,     0.15616,     0.15716,     0.15816,     0.15916,     0.16016,     0.16116,     0.16216,     0.16316,     0.16416,     0.16517,     0.16617,     0.16717,\n",
              "           0.16817,     0.16917,     0.17017,     0.17117,     0.17217,     0.17317,     0.17417,     0.17518,     0.17618,     0.17718,     0.17818,     0.17918,     0.18018,     0.18118,     0.18218,     0.18318,     0.18418,     0.18519,     0.18619,     0.18719,     0.18819,     0.18919,     0.19019,     0.19119,\n",
              "           0.19219,     0.19319,     0.19419,      0.1952,      0.1962,      0.1972,      0.1982,      0.1992,      0.2002,      0.2012,      0.2022,      0.2032,      0.2042,     0.20521,     0.20621,     0.20721,     0.20821,     0.20921,     0.21021,     0.21121,     0.21221,     0.21321,     0.21421,     0.21522,\n",
              "           0.21622,     0.21722,     0.21822,     0.21922,     0.22022,     0.22122,     0.22222,     0.22322,     0.22422,     0.22523,     0.22623,     0.22723,     0.22823,     0.22923,     0.23023,     0.23123,     0.23223,     0.23323,     0.23423,     0.23524,     0.23624,     0.23724,     0.23824,     0.23924,\n",
              "           0.24024,     0.24124,     0.24224,     0.24324,     0.24424,     0.24525,     0.24625,     0.24725,     0.24825,     0.24925,     0.25025,     0.25125,     0.25225,     0.25325,     0.25425,     0.25526,     0.25626,     0.25726,     0.25826,     0.25926,     0.26026,     0.26126,     0.26226,     0.26326,\n",
              "           0.26426,     0.26527,     0.26627,     0.26727,     0.26827,     0.26927,     0.27027,     0.27127,     0.27227,     0.27327,     0.27427,     0.27528,     0.27628,     0.27728,     0.27828,     0.27928,     0.28028,     0.28128,     0.28228,     0.28328,     0.28428,     0.28529,     0.28629,     0.28729,\n",
              "           0.28829,     0.28929,     0.29029,     0.29129,     0.29229,     0.29329,     0.29429,      0.2953,      0.2963,      0.2973,      0.2983,      0.2993,      0.3003,      0.3013,      0.3023,      0.3033,      0.3043,     0.30531,     0.30631,     0.30731,     0.30831,     0.30931,     0.31031,     0.31131,\n",
              "           0.31231,     0.31331,     0.31431,     0.31532,     0.31632,     0.31732,     0.31832,     0.31932,     0.32032,     0.32132,     0.32232,     0.32332,     0.32432,     0.32533,     0.32633,     0.32733,     0.32833,     0.32933,     0.33033,     0.33133,     0.33233,     0.33333,     0.33433,     0.33534,\n",
              "           0.33634,     0.33734,     0.33834,     0.33934,     0.34034,     0.34134,     0.34234,     0.34334,     0.34434,     0.34535,     0.34635,     0.34735,     0.34835,     0.34935,     0.35035,     0.35135,     0.35235,     0.35335,     0.35435,     0.35536,     0.35636,     0.35736,     0.35836,     0.35936,\n",
              "           0.36036,     0.36136,     0.36236,     0.36336,     0.36436,     0.36537,     0.36637,     0.36737,     0.36837,     0.36937,     0.37037,     0.37137,     0.37237,     0.37337,     0.37437,     0.37538,     0.37638,     0.37738,     0.37838,     0.37938,     0.38038,     0.38138,     0.38238,     0.38338,\n",
              "           0.38438,     0.38539,     0.38639,     0.38739,     0.38839,     0.38939,     0.39039,     0.39139,     0.39239,     0.39339,     0.39439,      0.3954,      0.3964,      0.3974,      0.3984,      0.3994,      0.4004,      0.4014,      0.4024,      0.4034,      0.4044,     0.40541,     0.40641,     0.40741,\n",
              "           0.40841,     0.40941,     0.41041,     0.41141,     0.41241,     0.41341,     0.41441,     0.41542,     0.41642,     0.41742,     0.41842,     0.41942,     0.42042,     0.42142,     0.42242,     0.42342,     0.42442,     0.42543,     0.42643,     0.42743,     0.42843,     0.42943,     0.43043,     0.43143,\n",
              "           0.43243,     0.43343,     0.43443,     0.43544,     0.43644,     0.43744,     0.43844,     0.43944,     0.44044,     0.44144,     0.44244,     0.44344,     0.44444,     0.44545,     0.44645,     0.44745,     0.44845,     0.44945,     0.45045,     0.45145,     0.45245,     0.45345,     0.45445,     0.45546,\n",
              "           0.45646,     0.45746,     0.45846,     0.45946,     0.46046,     0.46146,     0.46246,     0.46346,     0.46446,     0.46547,     0.46647,     0.46747,     0.46847,     0.46947,     0.47047,     0.47147,     0.47247,     0.47347,     0.47447,     0.47548,     0.47648,     0.47748,     0.47848,     0.47948,\n",
              "           0.48048,     0.48148,     0.48248,     0.48348,     0.48448,     0.48549,     0.48649,     0.48749,     0.48849,     0.48949,     0.49049,     0.49149,     0.49249,     0.49349,     0.49449,      0.4955,      0.4965,      0.4975,      0.4985,      0.4995,      0.5005,      0.5015,      0.5025,      0.5035,\n",
              "            0.5045,     0.50551,     0.50651,     0.50751,     0.50851,     0.50951,     0.51051,     0.51151,     0.51251,     0.51351,     0.51451,     0.51552,     0.51652,     0.51752,     0.51852,     0.51952,     0.52052,     0.52152,     0.52252,     0.52352,     0.52452,     0.52553,     0.52653,     0.52753,\n",
              "           0.52853,     0.52953,     0.53053,     0.53153,     0.53253,     0.53353,     0.53453,     0.53554,     0.53654,     0.53754,     0.53854,     0.53954,     0.54054,     0.54154,     0.54254,     0.54354,     0.54454,     0.54555,     0.54655,     0.54755,     0.54855,     0.54955,     0.55055,     0.55155,\n",
              "           0.55255,     0.55355,     0.55455,     0.55556,     0.55656,     0.55756,     0.55856,     0.55956,     0.56056,     0.56156,     0.56256,     0.56356,     0.56456,     0.56557,     0.56657,     0.56757,     0.56857,     0.56957,     0.57057,     0.57157,     0.57257,     0.57357,     0.57457,     0.57558,\n",
              "           0.57658,     0.57758,     0.57858,     0.57958,     0.58058,     0.58158,     0.58258,     0.58358,     0.58458,     0.58559,     0.58659,     0.58759,     0.58859,     0.58959,     0.59059,     0.59159,     0.59259,     0.59359,     0.59459,      0.5956,      0.5966,      0.5976,      0.5986,      0.5996,\n",
              "            0.6006,      0.6016,      0.6026,      0.6036,      0.6046,     0.60561,     0.60661,     0.60761,     0.60861,     0.60961,     0.61061,     0.61161,     0.61261,     0.61361,     0.61461,     0.61562,     0.61662,     0.61762,     0.61862,     0.61962,     0.62062,     0.62162,     0.62262,     0.62362,\n",
              "           0.62462,     0.62563,     0.62663,     0.62763,     0.62863,     0.62963,     0.63063,     0.63163,     0.63263,     0.63363,     0.63463,     0.63564,     0.63664,     0.63764,     0.63864,     0.63964,     0.64064,     0.64164,     0.64264,     0.64364,     0.64464,     0.64565,     0.64665,     0.64765,\n",
              "           0.64865,     0.64965,     0.65065,     0.65165,     0.65265,     0.65365,     0.65465,     0.65566,     0.65666,     0.65766,     0.65866,     0.65966,     0.66066,     0.66166,     0.66266,     0.66366,     0.66466,     0.66567,     0.66667,     0.66767,     0.66867,     0.66967,     0.67067,     0.67167,\n",
              "           0.67267,     0.67367,     0.67467,     0.67568,     0.67668,     0.67768,     0.67868,     0.67968,     0.68068,     0.68168,     0.68268,     0.68368,     0.68468,     0.68569,     0.68669,     0.68769,     0.68869,     0.68969,     0.69069,     0.69169,     0.69269,     0.69369,     0.69469,      0.6957,\n",
              "            0.6967,      0.6977,      0.6987,      0.6997,      0.7007,      0.7017,      0.7027,      0.7037,      0.7047,     0.70571,     0.70671,     0.70771,     0.70871,     0.70971,     0.71071,     0.71171,     0.71271,     0.71371,     0.71471,     0.71572,     0.71672,     0.71772,     0.71872,     0.71972,\n",
              "           0.72072,     0.72172,     0.72272,     0.72372,     0.72472,     0.72573,     0.72673,     0.72773,     0.72873,     0.72973,     0.73073,     0.73173,     0.73273,     0.73373,     0.73473,     0.73574,     0.73674,     0.73774,     0.73874,     0.73974,     0.74074,     0.74174,     0.74274,     0.74374,\n",
              "           0.74474,     0.74575,     0.74675,     0.74775,     0.74875,     0.74975,     0.75075,     0.75175,     0.75275,     0.75375,     0.75475,     0.75576,     0.75676,     0.75776,     0.75876,     0.75976,     0.76076,     0.76176,     0.76276,     0.76376,     0.76476,     0.76577,     0.76677,     0.76777,\n",
              "           0.76877,     0.76977,     0.77077,     0.77177,     0.77277,     0.77377,     0.77477,     0.77578,     0.77678,     0.77778,     0.77878,     0.77978,     0.78078,     0.78178,     0.78278,     0.78378,     0.78478,     0.78579,     0.78679,     0.78779,     0.78879,     0.78979,     0.79079,     0.79179,\n",
              "           0.79279,     0.79379,     0.79479,      0.7958,      0.7968,      0.7978,      0.7988,      0.7998,      0.8008,      0.8018,      0.8028,      0.8038,      0.8048,     0.80581,     0.80681,     0.80781,     0.80881,     0.80981,     0.81081,     0.81181,     0.81281,     0.81381,     0.81481,     0.81582,\n",
              "           0.81682,     0.81782,     0.81882,     0.81982,     0.82082,     0.82182,     0.82282,     0.82382,     0.82482,     0.82583,     0.82683,     0.82783,     0.82883,     0.82983,     0.83083,     0.83183,     0.83283,     0.83383,     0.83483,     0.83584,     0.83684,     0.83784,     0.83884,     0.83984,\n",
              "           0.84084,     0.84184,     0.84284,     0.84384,     0.84484,     0.84585,     0.84685,     0.84785,     0.84885,     0.84985,     0.85085,     0.85185,     0.85285,     0.85385,     0.85485,     0.85586,     0.85686,     0.85786,     0.85886,     0.85986,     0.86086,     0.86186,     0.86286,     0.86386,\n",
              "           0.86486,     0.86587,     0.86687,     0.86787,     0.86887,     0.86987,     0.87087,     0.87187,     0.87287,     0.87387,     0.87487,     0.87588,     0.87688,     0.87788,     0.87888,     0.87988,     0.88088,     0.88188,     0.88288,     0.88388,     0.88488,     0.88589,     0.88689,     0.88789,\n",
              "           0.88889,     0.88989,     0.89089,     0.89189,     0.89289,     0.89389,     0.89489,      0.8959,      0.8969,      0.8979,      0.8989,      0.8999,      0.9009,      0.9019,      0.9029,      0.9039,      0.9049,     0.90591,     0.90691,     0.90791,     0.90891,     0.90991,     0.91091,     0.91191,\n",
              "           0.91291,     0.91391,     0.91491,     0.91592,     0.91692,     0.91792,     0.91892,     0.91992,     0.92092,     0.92192,     0.92292,     0.92392,     0.92492,     0.92593,     0.92693,     0.92793,     0.92893,     0.92993,     0.93093,     0.93193,     0.93293,     0.93393,     0.93493,     0.93594,\n",
              "           0.93694,     0.93794,     0.93894,     0.93994,     0.94094,     0.94194,     0.94294,     0.94394,     0.94494,     0.94595,     0.94695,     0.94795,     0.94895,     0.94995,     0.95095,     0.95195,     0.95295,     0.95395,     0.95495,     0.95596,     0.95696,     0.95796,     0.95896,     0.95996,\n",
              "           0.96096,     0.96196,     0.96296,     0.96396,     0.96496,     0.96597,     0.96697,     0.96797,     0.96897,     0.96997,     0.97097,     0.97197,     0.97297,     0.97397,     0.97497,     0.97598,     0.97698,     0.97798,     0.97898,     0.97998,     0.98098,     0.98198,     0.98298,     0.98398,\n",
              "           0.98498,     0.98599,     0.98699,     0.98799,     0.98899,     0.98999,     0.99099,     0.99199,     0.99299,     0.99399,     0.99499,       0.996,       0.997,       0.998,       0.999,           1]), array([[    0.77472,     0.77472,     0.83722,     0.86542,     0.88542,     0.89555,     0.90285,     0.90965,     0.91553,     0.91812,      0.9207,      0.9233,      0.9266,     0.92767,     0.92965,     0.92918,     0.93063,     0.93172,     0.93253,     0.93319,     0.93452,     0.93476,     0.93495,\n",
              "            0.93506,     0.93448,     0.93519,     0.93657,      0.9369,     0.93662,     0.93793,     0.93889,     0.93926,      0.9391,     0.93971,      0.9405,      0.9407,     0.94086,     0.94101,      0.9414,     0.94167,      0.9416,     0.94232,     0.94273,     0.94302,     0.94333,     0.94369,\n",
              "            0.94394,     0.94417,     0.94438,     0.94461,     0.94492,     0.94517,     0.94541,     0.94569,     0.94631,     0.94592,     0.94609,     0.94627,     0.94638,     0.94648,     0.94657,     0.94666,     0.94676,     0.94683,      0.9469,     0.94697,     0.94704,     0.94711,     0.94718,\n",
              "            0.94732,     0.94751,     0.94775,     0.94821,     0.94855,     0.94889,     0.94906,     0.94911,     0.94916,     0.94921,     0.94925,      0.9493,     0.94935,      0.9494,     0.94944,     0.94949,     0.94962,     0.94975,     0.94989,     0.94998,     0.95003,     0.95008,     0.95013,\n",
              "            0.95018,     0.95023,     0.95028,     0.95033,     0.95038,     0.95033,     0.95015,     0.94997,     0.94981,     0.94965,     0.94949,     0.94944,     0.94954,     0.94963,     0.94973,     0.94983,     0.94979,      0.9497,      0.9496,     0.94951,     0.94941,     0.94944,     0.94973,\n",
              "            0.94985,      0.9499,     0.94995,     0.95001,     0.95006,     0.95012,     0.95017,     0.95022,     0.95023,     0.95007,      0.9499,     0.94975,     0.94972,     0.94969,     0.94966,     0.94962,     0.94959,     0.94956,     0.94953,      0.9495,     0.94946,     0.94943,      0.9494,\n",
              "            0.94937,     0.94933,      0.9493,     0.94927,     0.94964,     0.94971,     0.94972,     0.94978,     0.94985,     0.94991,     0.94997,     0.95004,      0.9501,     0.95019,     0.95029,     0.95039,     0.95049,     0.95057,     0.95049,     0.95041,     0.95033,     0.95025,     0.95017,\n",
              "            0.95009,     0.95025,     0.95047,     0.95074,     0.95098,     0.95082,     0.95067,     0.95051,     0.95051,     0.95055,     0.95058,     0.95062,     0.95065,     0.95068,     0.95072,     0.95075,     0.95079,     0.95082,     0.95085,     0.95089,     0.95092,     0.95099,     0.95115,\n",
              "            0.95131,     0.95136,     0.95124,     0.95112,     0.95099,     0.95099,     0.95134,     0.95117,     0.95101,     0.95086,     0.95099,     0.95111,     0.95124,     0.95141,     0.95165,     0.95185,       0.952,     0.95215,     0.95239,     0.95272,     0.95284,     0.95296,     0.95308,\n",
              "            0.95316,     0.95313,     0.95309,     0.95306,     0.95303,     0.95299,     0.95296,     0.95292,     0.95289,     0.95286,     0.95282,     0.95279,     0.95276,     0.95272,     0.95269,     0.95263,     0.95248,     0.95233,     0.95218,     0.95213,     0.95211,     0.95209,     0.95207,\n",
              "            0.95205,     0.95203,       0.952,     0.95198,     0.95196,     0.95194,     0.95192,      0.9519,     0.95188,     0.95185,     0.95183,     0.95181,     0.95179,     0.95177,     0.95175,     0.95173,      0.9517,     0.95168,     0.95166,     0.95164,     0.95149,     0.95132,     0.95116,\n",
              "            0.95061,     0.95065,     0.95069,     0.95072,     0.95076,      0.9508,     0.95083,     0.95087,     0.95091,     0.95094,     0.95098,     0.95102,     0.95105,     0.95109,     0.95113,     0.95117,      0.9512,     0.95124,     0.95128,     0.95132,     0.95135,     0.95139,     0.95143,\n",
              "            0.95147,      0.9515,     0.95154,     0.95163,     0.95171,      0.9518,     0.95189,     0.95197,     0.95197,     0.95191,     0.95184,     0.95178,     0.95171,     0.95165,     0.95159,     0.95152,     0.95164,     0.95192,     0.95143,     0.95131,     0.95119,     0.95106,     0.95094,\n",
              "            0.95086,     0.95078,      0.9507,     0.95062,     0.95054,     0.95047,     0.95044,     0.95049,     0.95054,     0.95059,     0.95064,      0.9507,     0.95075,      0.9508,     0.95085,     0.95085,     0.95077,     0.95069,      0.9506,     0.95052,     0.95043,     0.95035,     0.95026,\n",
              "            0.95017,     0.95008,     0.94999,     0.94991,     0.94983,     0.94977,     0.94971,     0.94965,     0.94959,     0.94953,     0.94947,      0.9494,     0.94934,     0.94888,     0.94883,     0.94885,     0.94887,     0.94889,      0.9489,     0.94892,     0.94894,     0.94896,     0.94898,\n",
              "            0.94899,     0.94901,     0.94903,     0.94905,     0.94906,     0.94908,      0.9491,     0.94912,     0.94913,     0.94915,     0.94917,     0.94919,      0.9492,     0.94922,     0.94924,     0.94926,     0.94927,     0.94913,     0.94876,     0.94871,     0.94867,     0.94863,     0.94859,\n",
              "            0.94855,     0.94851,     0.94847,     0.94843,     0.94839,     0.94835,     0.94831,     0.94826,     0.94816,     0.94802,     0.94788,     0.94773,     0.94721,     0.94729,     0.94736,     0.94743,     0.94751,     0.94758,     0.94766,      0.9475,     0.94724,     0.94721,     0.94729,\n",
              "            0.94736,     0.94743,     0.94751,     0.94758,     0.94764,     0.94766,     0.94769,     0.94772,     0.94774,     0.94777,     0.94779,     0.94782,     0.94785,     0.94787,      0.9479,     0.94792,     0.94795,     0.94798,       0.948,     0.94803,     0.94805,     0.94808,     0.94809,\n",
              "            0.94806,     0.94803,     0.94801,     0.94798,     0.94795,     0.94792,      0.9479,     0.94787,     0.94784,     0.94781,     0.94779,     0.94776,     0.94773,     0.94771,     0.94768,     0.94765,     0.94762,      0.9476,      0.9476,     0.94769,     0.94777,     0.94785,     0.94794,\n",
              "            0.94802,     0.94734,     0.94707,     0.94698,     0.94696,     0.94693,     0.94691,     0.94688,     0.94686,     0.94683,      0.9468,     0.94678,     0.94675,     0.94673,      0.9467,     0.94668,     0.94665,     0.94662,      0.9466,     0.94657,     0.94655,     0.94652,     0.94649,\n",
              "             0.9465,     0.94654,     0.94657,     0.94661,     0.94665,     0.94669,     0.94672,     0.94676,      0.9468,     0.94683,     0.94687,     0.94691,     0.94694,      0.9469,     0.94684,     0.94678,     0.94672,     0.94666,      0.9466,     0.94655,     0.94649,     0.94643,     0.94634,\n",
              "            0.94625,     0.94616,     0.94607,     0.94598,     0.94586,     0.94559,     0.94541,     0.94553,     0.94565,     0.94577,     0.94601,     0.94634,     0.94639,     0.94644,     0.94648,     0.94653,     0.94658,     0.94663,     0.94668,     0.94673,     0.94677,     0.94736,     0.94752,\n",
              "            0.94768,     0.94769,     0.94762,     0.94756,     0.94749,     0.94742,     0.94735,     0.94729,     0.94722,     0.94717,     0.94713,     0.94708,     0.94704,     0.94699,     0.94695,      0.9469,     0.94686,     0.94681,     0.94677,     0.94672,     0.94673,     0.94697,     0.94726,\n",
              "            0.94751,     0.94717,     0.94741,     0.94762,     0.94774,     0.94786,     0.94798,     0.94815,     0.94839,     0.94848,     0.94837,     0.94826,     0.94815,     0.94805,     0.94785,     0.94758,     0.94731,     0.94704,     0.94697,     0.94701,     0.94704,     0.94708,     0.94712,\n",
              "            0.94715,     0.94719,     0.94722,     0.94726,      0.9473,     0.94733,     0.94737,      0.9474,     0.94735,     0.94722,     0.94708,     0.94695,     0.94704,     0.94728,     0.94667,     0.94639,     0.94635,     0.94642,     0.94648,     0.94654,      0.9466,     0.94666,     0.94672,\n",
              "            0.94678,     0.94614,       0.946,     0.94587,     0.94573,     0.94546,     0.94467,     0.94476,     0.94485,     0.94494,     0.94503,     0.94511,     0.94523,     0.94535,     0.94547,     0.94559,     0.94498,     0.94485,     0.94471,     0.94457,     0.94424,       0.944,     0.94393,\n",
              "            0.94386,     0.94379,     0.94372,     0.94366,     0.94359,     0.94352,     0.94333,     0.94305,     0.94286,      0.9427,     0.94254,     0.94287,     0.94273,     0.94259,     0.94246,     0.94228,       0.942,     0.94116,     0.94079,     0.94083,     0.94092,       0.941,     0.94108,\n",
              "            0.94116,     0.94017,     0.94031,     0.94045,     0.94059,     0.93992,     0.93965,     0.93952,     0.93946,     0.93941,     0.93935,     0.93929,     0.93923,     0.93917,     0.93912,     0.93906,     0.93887,      0.9385,     0.93872,     0.93843,     0.93867,      0.9389,     0.93885,\n",
              "             0.9388,     0.93875,      0.9387,     0.93865,     0.93859,     0.93854,     0.93849,     0.93844,     0.93839,     0.93847,      0.9388,     0.93762,     0.93746,      0.9373,     0.93709,     0.93681,     0.93609,     0.93601,     0.93593,     0.93585,     0.93577,     0.93569,     0.93561,\n",
              "            0.93568,     0.93582,     0.93596,     0.93613,     0.93637,     0.93649,     0.93633,     0.93617,     0.93601,     0.93592,     0.93584,     0.93576,     0.93569,     0.93561,     0.93553,     0.93543,     0.93505,     0.93495,     0.93502,     0.93509,     0.93516,     0.93523,      0.9353,\n",
              "            0.93537,     0.93532,     0.93524,     0.93516,     0.93508,       0.935,     0.93492,     0.93484,     0.93357,     0.93338,     0.93319,     0.93308,     0.93297,     0.93286,     0.93274,     0.93041,     0.93013,     0.92996,     0.93029,     0.93026,      0.9301,     0.92994,     0.92915,\n",
              "            0.92878,     0.92784,     0.92795,     0.92757,     0.92727,     0.92699,     0.92606,     0.92568,      0.9253,     0.92491,     0.92403,     0.92374,      0.9234,     0.92301,     0.92263,     0.92161,     0.92122,     0.92084,     0.92045,     0.92007,     0.91968,     0.91956,     0.91949,\n",
              "            0.91942,     0.91935,     0.91927,      0.9192,     0.91913,     0.91953,     0.91934,     0.91915,     0.91845,     0.91878,     0.91763,     0.91744,     0.91724,     0.91743,     0.91643,     0.91604,     0.91451,     0.91364,     0.91351,     0.91338,     0.91325,     0.91312,     0.91293,\n",
              "            0.91273,     0.91139,     0.91128,     0.91118,     0.91107,     0.91096,     0.91086,     0.91046,     0.91065,     0.91026,     0.90871,     0.90542,     0.90502,      0.9052,     0.90405,     0.90187,     0.90174,      0.9016,     0.90147,     0.90134,     0.90123,     0.90097,     0.89914,\n",
              "            0.89745,     0.89705,     0.89581,     0.89581,     0.89422,     0.89381,     0.89266,     0.89039,     0.88938,     0.88897,     0.88719,     0.88249,     0.88207,     0.88166,      0.8797,     0.87804,     0.87443,     0.87266,     0.86787,      0.8622,     0.86177,     0.86058,      0.8599,\n",
              "            0.85561,     0.85191,     0.85223,     0.84863,     0.84618,     0.84043,     0.83718,     0.83673,     0.83277,     0.83056,     0.82597,     0.81984,     0.81581,     0.81534,      0.8105,      0.8014,     0.80092,     0.79677,     0.79176,     0.78542,     0.77687,     0.76948,     0.76279,\n",
              "            0.76228,     0.76007,     0.74941,     0.74012,     0.73012,     0.71751,     0.71263,     0.70241,     0.68863,     0.68195,     0.68136,     0.67015,     0.63993,     0.62841,     0.61532,     0.59618,     0.58089,     0.57093,     0.57024,     0.55855,     0.54196,     0.52819,     0.51307,\n",
              "            0.49429,     0.48074,     0.46125,     0.44255,     0.42347,     0.40105,     0.38989,     0.37564,     0.36379,     0.34093,     0.31817,     0.31112,     0.29881,      0.2814,     0.26513,     0.25158,     0.23628,     0.21362,      0.1928,     0.18137,     0.16663,     0.15768,     0.14718,\n",
              "            0.12997,     0.11947,    0.088251,    0.077277,    0.067218,    0.057809,    0.042677,    0.033111,    0.031798,    0.031269,    0.025254,    0.022982,    0.021088,    0.020291,    0.017283,    0.010875,   0.0083616,   0.0075201,   0.0070149,   0.0065094,   0.0060036,   0.0054976,   0.0049913,\n",
              "          0.0044847,   0.0039779,   0.0019891,           0,           0,           0,           0,           0,           0,           0,           0,           0,           0,           0,           0,           0,           0,           0,           0,           0,           0,           0,           0,\n",
              "                  0,           0,           0,           0,           0,           0,           0,           0,           0,           0,           0,           0,           0,           0,           0,           0,           0,           0,           0,           0,           0,           0,           0,\n",
              "                  0,           0,           0,           0,           0,           0,           0,           0,           0,           0,           0,           0,           0,           0,           0,           0,           0,           0,           0,           0,           0,           0,           0,\n",
              "                  0,           0,           0,           0,           0,           0,           0,           0,           0,           0,           0,           0,           0,           0,           0,           0,           0,           0,           0,           0,           0,           0,           0,\n",
              "                  0,           0,           0,           0,           0,           0,           0,           0,           0,           0,           0]]), 'Confidence', 'F1'], [array([          0,    0.001001,    0.002002,    0.003003,    0.004004,    0.005005,    0.006006,    0.007007,    0.008008,    0.009009,     0.01001,    0.011011,    0.012012,    0.013013,    0.014014,    0.015015,    0.016016,    0.017017,    0.018018,    0.019019,     0.02002,    0.021021,    0.022022,    0.023023,\n",
              "          0.024024,    0.025025,    0.026026,    0.027027,    0.028028,    0.029029,     0.03003,    0.031031,    0.032032,    0.033033,    0.034034,    0.035035,    0.036036,    0.037037,    0.038038,    0.039039,     0.04004,    0.041041,    0.042042,    0.043043,    0.044044,    0.045045,    0.046046,    0.047047,\n",
              "          0.048048,    0.049049,     0.05005,    0.051051,    0.052052,    0.053053,    0.054054,    0.055055,    0.056056,    0.057057,    0.058058,    0.059059,     0.06006,    0.061061,    0.062062,    0.063063,    0.064064,    0.065065,    0.066066,    0.067067,    0.068068,    0.069069,     0.07007,    0.071071,\n",
              "          0.072072,    0.073073,    0.074074,    0.075075,    0.076076,    0.077077,    0.078078,    0.079079,     0.08008,    0.081081,    0.082082,    0.083083,    0.084084,    0.085085,    0.086086,    0.087087,    0.088088,    0.089089,     0.09009,    0.091091,    0.092092,    0.093093,    0.094094,    0.095095,\n",
              "          0.096096,    0.097097,    0.098098,    0.099099,      0.1001,      0.1011,      0.1021,      0.1031,      0.1041,     0.10511,     0.10611,     0.10711,     0.10811,     0.10911,     0.11011,     0.11111,     0.11211,     0.11311,     0.11411,     0.11512,     0.11612,     0.11712,     0.11812,     0.11912,\n",
              "           0.12012,     0.12112,     0.12212,     0.12312,     0.12412,     0.12513,     0.12613,     0.12713,     0.12813,     0.12913,     0.13013,     0.13113,     0.13213,     0.13313,     0.13413,     0.13514,     0.13614,     0.13714,     0.13814,     0.13914,     0.14014,     0.14114,     0.14214,     0.14314,\n",
              "           0.14414,     0.14515,     0.14615,     0.14715,     0.14815,     0.14915,     0.15015,     0.15115,     0.15215,     0.15315,     0.15415,     0.15516,     0.15616,     0.15716,     0.15816,     0.15916,     0.16016,     0.16116,     0.16216,     0.16316,     0.16416,     0.16517,     0.16617,     0.16717,\n",
              "           0.16817,     0.16917,     0.17017,     0.17117,     0.17217,     0.17317,     0.17417,     0.17518,     0.17618,     0.17718,     0.17818,     0.17918,     0.18018,     0.18118,     0.18218,     0.18318,     0.18418,     0.18519,     0.18619,     0.18719,     0.18819,     0.18919,     0.19019,     0.19119,\n",
              "           0.19219,     0.19319,     0.19419,      0.1952,      0.1962,      0.1972,      0.1982,      0.1992,      0.2002,      0.2012,      0.2022,      0.2032,      0.2042,     0.20521,     0.20621,     0.20721,     0.20821,     0.20921,     0.21021,     0.21121,     0.21221,     0.21321,     0.21421,     0.21522,\n",
              "           0.21622,     0.21722,     0.21822,     0.21922,     0.22022,     0.22122,     0.22222,     0.22322,     0.22422,     0.22523,     0.22623,     0.22723,     0.22823,     0.22923,     0.23023,     0.23123,     0.23223,     0.23323,     0.23423,     0.23524,     0.23624,     0.23724,     0.23824,     0.23924,\n",
              "           0.24024,     0.24124,     0.24224,     0.24324,     0.24424,     0.24525,     0.24625,     0.24725,     0.24825,     0.24925,     0.25025,     0.25125,     0.25225,     0.25325,     0.25425,     0.25526,     0.25626,     0.25726,     0.25826,     0.25926,     0.26026,     0.26126,     0.26226,     0.26326,\n",
              "           0.26426,     0.26527,     0.26627,     0.26727,     0.26827,     0.26927,     0.27027,     0.27127,     0.27227,     0.27327,     0.27427,     0.27528,     0.27628,     0.27728,     0.27828,     0.27928,     0.28028,     0.28128,     0.28228,     0.28328,     0.28428,     0.28529,     0.28629,     0.28729,\n",
              "           0.28829,     0.28929,     0.29029,     0.29129,     0.29229,     0.29329,     0.29429,      0.2953,      0.2963,      0.2973,      0.2983,      0.2993,      0.3003,      0.3013,      0.3023,      0.3033,      0.3043,     0.30531,     0.30631,     0.30731,     0.30831,     0.30931,     0.31031,     0.31131,\n",
              "           0.31231,     0.31331,     0.31431,     0.31532,     0.31632,     0.31732,     0.31832,     0.31932,     0.32032,     0.32132,     0.32232,     0.32332,     0.32432,     0.32533,     0.32633,     0.32733,     0.32833,     0.32933,     0.33033,     0.33133,     0.33233,     0.33333,     0.33433,     0.33534,\n",
              "           0.33634,     0.33734,     0.33834,     0.33934,     0.34034,     0.34134,     0.34234,     0.34334,     0.34434,     0.34535,     0.34635,     0.34735,     0.34835,     0.34935,     0.35035,     0.35135,     0.35235,     0.35335,     0.35435,     0.35536,     0.35636,     0.35736,     0.35836,     0.35936,\n",
              "           0.36036,     0.36136,     0.36236,     0.36336,     0.36436,     0.36537,     0.36637,     0.36737,     0.36837,     0.36937,     0.37037,     0.37137,     0.37237,     0.37337,     0.37437,     0.37538,     0.37638,     0.37738,     0.37838,     0.37938,     0.38038,     0.38138,     0.38238,     0.38338,\n",
              "           0.38438,     0.38539,     0.38639,     0.38739,     0.38839,     0.38939,     0.39039,     0.39139,     0.39239,     0.39339,     0.39439,      0.3954,      0.3964,      0.3974,      0.3984,      0.3994,      0.4004,      0.4014,      0.4024,      0.4034,      0.4044,     0.40541,     0.40641,     0.40741,\n",
              "           0.40841,     0.40941,     0.41041,     0.41141,     0.41241,     0.41341,     0.41441,     0.41542,     0.41642,     0.41742,     0.41842,     0.41942,     0.42042,     0.42142,     0.42242,     0.42342,     0.42442,     0.42543,     0.42643,     0.42743,     0.42843,     0.42943,     0.43043,     0.43143,\n",
              "           0.43243,     0.43343,     0.43443,     0.43544,     0.43644,     0.43744,     0.43844,     0.43944,     0.44044,     0.44144,     0.44244,     0.44344,     0.44444,     0.44545,     0.44645,     0.44745,     0.44845,     0.44945,     0.45045,     0.45145,     0.45245,     0.45345,     0.45445,     0.45546,\n",
              "           0.45646,     0.45746,     0.45846,     0.45946,     0.46046,     0.46146,     0.46246,     0.46346,     0.46446,     0.46547,     0.46647,     0.46747,     0.46847,     0.46947,     0.47047,     0.47147,     0.47247,     0.47347,     0.47447,     0.47548,     0.47648,     0.47748,     0.47848,     0.47948,\n",
              "           0.48048,     0.48148,     0.48248,     0.48348,     0.48448,     0.48549,     0.48649,     0.48749,     0.48849,     0.48949,     0.49049,     0.49149,     0.49249,     0.49349,     0.49449,      0.4955,      0.4965,      0.4975,      0.4985,      0.4995,      0.5005,      0.5015,      0.5025,      0.5035,\n",
              "            0.5045,     0.50551,     0.50651,     0.50751,     0.50851,     0.50951,     0.51051,     0.51151,     0.51251,     0.51351,     0.51451,     0.51552,     0.51652,     0.51752,     0.51852,     0.51952,     0.52052,     0.52152,     0.52252,     0.52352,     0.52452,     0.52553,     0.52653,     0.52753,\n",
              "           0.52853,     0.52953,     0.53053,     0.53153,     0.53253,     0.53353,     0.53453,     0.53554,     0.53654,     0.53754,     0.53854,     0.53954,     0.54054,     0.54154,     0.54254,     0.54354,     0.54454,     0.54555,     0.54655,     0.54755,     0.54855,     0.54955,     0.55055,     0.55155,\n",
              "           0.55255,     0.55355,     0.55455,     0.55556,     0.55656,     0.55756,     0.55856,     0.55956,     0.56056,     0.56156,     0.56256,     0.56356,     0.56456,     0.56557,     0.56657,     0.56757,     0.56857,     0.56957,     0.57057,     0.57157,     0.57257,     0.57357,     0.57457,     0.57558,\n",
              "           0.57658,     0.57758,     0.57858,     0.57958,     0.58058,     0.58158,     0.58258,     0.58358,     0.58458,     0.58559,     0.58659,     0.58759,     0.58859,     0.58959,     0.59059,     0.59159,     0.59259,     0.59359,     0.59459,      0.5956,      0.5966,      0.5976,      0.5986,      0.5996,\n",
              "            0.6006,      0.6016,      0.6026,      0.6036,      0.6046,     0.60561,     0.60661,     0.60761,     0.60861,     0.60961,     0.61061,     0.61161,     0.61261,     0.61361,     0.61461,     0.61562,     0.61662,     0.61762,     0.61862,     0.61962,     0.62062,     0.62162,     0.62262,     0.62362,\n",
              "           0.62462,     0.62563,     0.62663,     0.62763,     0.62863,     0.62963,     0.63063,     0.63163,     0.63263,     0.63363,     0.63463,     0.63564,     0.63664,     0.63764,     0.63864,     0.63964,     0.64064,     0.64164,     0.64264,     0.64364,     0.64464,     0.64565,     0.64665,     0.64765,\n",
              "           0.64865,     0.64965,     0.65065,     0.65165,     0.65265,     0.65365,     0.65465,     0.65566,     0.65666,     0.65766,     0.65866,     0.65966,     0.66066,     0.66166,     0.66266,     0.66366,     0.66466,     0.66567,     0.66667,     0.66767,     0.66867,     0.66967,     0.67067,     0.67167,\n",
              "           0.67267,     0.67367,     0.67467,     0.67568,     0.67668,     0.67768,     0.67868,     0.67968,     0.68068,     0.68168,     0.68268,     0.68368,     0.68468,     0.68569,     0.68669,     0.68769,     0.68869,     0.68969,     0.69069,     0.69169,     0.69269,     0.69369,     0.69469,      0.6957,\n",
              "            0.6967,      0.6977,      0.6987,      0.6997,      0.7007,      0.7017,      0.7027,      0.7037,      0.7047,     0.70571,     0.70671,     0.70771,     0.70871,     0.70971,     0.71071,     0.71171,     0.71271,     0.71371,     0.71471,     0.71572,     0.71672,     0.71772,     0.71872,     0.71972,\n",
              "           0.72072,     0.72172,     0.72272,     0.72372,     0.72472,     0.72573,     0.72673,     0.72773,     0.72873,     0.72973,     0.73073,     0.73173,     0.73273,     0.73373,     0.73473,     0.73574,     0.73674,     0.73774,     0.73874,     0.73974,     0.74074,     0.74174,     0.74274,     0.74374,\n",
              "           0.74474,     0.74575,     0.74675,     0.74775,     0.74875,     0.74975,     0.75075,     0.75175,     0.75275,     0.75375,     0.75475,     0.75576,     0.75676,     0.75776,     0.75876,     0.75976,     0.76076,     0.76176,     0.76276,     0.76376,     0.76476,     0.76577,     0.76677,     0.76777,\n",
              "           0.76877,     0.76977,     0.77077,     0.77177,     0.77277,     0.77377,     0.77477,     0.77578,     0.77678,     0.77778,     0.77878,     0.77978,     0.78078,     0.78178,     0.78278,     0.78378,     0.78478,     0.78579,     0.78679,     0.78779,     0.78879,     0.78979,     0.79079,     0.79179,\n",
              "           0.79279,     0.79379,     0.79479,      0.7958,      0.7968,      0.7978,      0.7988,      0.7998,      0.8008,      0.8018,      0.8028,      0.8038,      0.8048,     0.80581,     0.80681,     0.80781,     0.80881,     0.80981,     0.81081,     0.81181,     0.81281,     0.81381,     0.81481,     0.81582,\n",
              "           0.81682,     0.81782,     0.81882,     0.81982,     0.82082,     0.82182,     0.82282,     0.82382,     0.82482,     0.82583,     0.82683,     0.82783,     0.82883,     0.82983,     0.83083,     0.83183,     0.83283,     0.83383,     0.83483,     0.83584,     0.83684,     0.83784,     0.83884,     0.83984,\n",
              "           0.84084,     0.84184,     0.84284,     0.84384,     0.84484,     0.84585,     0.84685,     0.84785,     0.84885,     0.84985,     0.85085,     0.85185,     0.85285,     0.85385,     0.85485,     0.85586,     0.85686,     0.85786,     0.85886,     0.85986,     0.86086,     0.86186,     0.86286,     0.86386,\n",
              "           0.86486,     0.86587,     0.86687,     0.86787,     0.86887,     0.86987,     0.87087,     0.87187,     0.87287,     0.87387,     0.87487,     0.87588,     0.87688,     0.87788,     0.87888,     0.87988,     0.88088,     0.88188,     0.88288,     0.88388,     0.88488,     0.88589,     0.88689,     0.88789,\n",
              "           0.88889,     0.88989,     0.89089,     0.89189,     0.89289,     0.89389,     0.89489,      0.8959,      0.8969,      0.8979,      0.8989,      0.8999,      0.9009,      0.9019,      0.9029,      0.9039,      0.9049,     0.90591,     0.90691,     0.90791,     0.90891,     0.90991,     0.91091,     0.91191,\n",
              "           0.91291,     0.91391,     0.91491,     0.91592,     0.91692,     0.91792,     0.91892,     0.91992,     0.92092,     0.92192,     0.92292,     0.92392,     0.92492,     0.92593,     0.92693,     0.92793,     0.92893,     0.92993,     0.93093,     0.93193,     0.93293,     0.93393,     0.93493,     0.93594,\n",
              "           0.93694,     0.93794,     0.93894,     0.93994,     0.94094,     0.94194,     0.94294,     0.94394,     0.94494,     0.94595,     0.94695,     0.94795,     0.94895,     0.94995,     0.95095,     0.95195,     0.95295,     0.95395,     0.95495,     0.95596,     0.95696,     0.95796,     0.95896,     0.95996,\n",
              "           0.96096,     0.96196,     0.96296,     0.96396,     0.96496,     0.96597,     0.96697,     0.96797,     0.96897,     0.96997,     0.97097,     0.97197,     0.97297,     0.97397,     0.97497,     0.97598,     0.97698,     0.97798,     0.97898,     0.97998,     0.98098,     0.98198,     0.98298,     0.98398,\n",
              "           0.98498,     0.98599,     0.98699,     0.98799,     0.98899,     0.98999,     0.99099,     0.99199,     0.99299,     0.99399,     0.99499,       0.996,       0.997,       0.998,       0.999,           1]), array([[     0.6355,      0.6355,     0.72471,     0.76864,     0.80077,      0.8175,     0.82975,     0.84132,     0.85143,     0.85666,     0.86116,     0.86572,     0.87155,     0.87423,     0.87774,     0.87804,     0.88106,     0.88303,     0.88449,     0.88568,     0.88807,     0.88849,     0.88884,\n",
              "             0.8897,     0.88959,     0.89091,     0.89341,     0.89436,     0.89433,     0.89672,     0.89847,     0.89915,     0.89969,     0.90081,     0.90225,     0.90264,     0.90291,     0.90319,     0.90392,     0.90442,      0.9048,     0.90646,     0.90722,     0.90775,     0.90834,     0.90901,\n",
              "            0.90946,     0.90989,     0.91028,     0.91071,     0.91128,     0.91176,      0.9122,     0.91272,     0.91396,     0.91401,     0.91434,     0.91466,     0.91487,     0.91505,     0.91522,      0.9154,     0.91558,     0.91571,     0.91584,     0.91598,     0.91611,     0.91624,     0.91637,\n",
              "            0.91662,     0.91698,     0.91742,     0.91829,     0.91893,     0.91956,      0.9199,     0.91999,     0.92008,     0.92017,     0.92026,     0.92035,     0.92043,     0.92052,     0.92061,      0.9207,     0.92094,     0.92119,     0.92144,     0.92162,     0.92171,     0.92181,      0.9219,\n",
              "              0.922,     0.92209,     0.92219,     0.92228,     0.92237,     0.92242,     0.92239,     0.92237,     0.92234,     0.92232,      0.9223,     0.92236,     0.92255,     0.92273,     0.92291,     0.92309,     0.92314,     0.92313,     0.92311,      0.9231,     0.92309,     0.92325,      0.9238,\n",
              "            0.92402,     0.92412,     0.92422,     0.92432,     0.92443,     0.92453,     0.92463,     0.92473,     0.92481,     0.92478,     0.92476,     0.92474,     0.92474,     0.92473,     0.92473,     0.92472,     0.92472,     0.92471,     0.92471,      0.9247,      0.9247,      0.9247,     0.92469,\n",
              "            0.92469,     0.92468,     0.92468,     0.92467,     0.92542,     0.92635,     0.92646,     0.92658,      0.9267,     0.92682,     0.92694,     0.92706,     0.92718,     0.92735,     0.92754,     0.92773,     0.92793,      0.9281,     0.92809,     0.92808,     0.92806,     0.92805,     0.92804,\n",
              "            0.92803,     0.92836,     0.92879,     0.92931,     0.92979,     0.92977,     0.92975,     0.92973,     0.92978,     0.92984,     0.92991,     0.92997,     0.93004,     0.93011,     0.93017,     0.93024,      0.9303,     0.93037,     0.93043,      0.9305,     0.93056,      0.9307,       0.931,\n",
              "             0.9313,     0.93149,     0.93147,     0.93146,     0.93144,     0.93161,     0.93231,     0.93229,     0.93227,     0.93227,     0.93251,     0.93276,       0.933,     0.93333,     0.93379,     0.93417,     0.93446,     0.93476,     0.93521,     0.93584,     0.93608,     0.93632,     0.93655,\n",
              "            0.93672,     0.93672,     0.93671,     0.93671,      0.9367,      0.9367,      0.9367,     0.93669,     0.93669,     0.93668,     0.93668,     0.93668,     0.93667,     0.93667,     0.93666,     0.93666,     0.93664,     0.93662,      0.9366,      0.9366,     0.93659,     0.93659,     0.93659,\n",
              "            0.93659,     0.93658,     0.93658,     0.93658,     0.93658,     0.93657,     0.93657,     0.93657,     0.93657,     0.93656,     0.93656,     0.93656,     0.93656,     0.93655,     0.93655,     0.93655,     0.93655,     0.93654,     0.93654,     0.93654,     0.93652,      0.9365,     0.93648,\n",
              "            0.93642,     0.93649,     0.93656,     0.93664,     0.93671,     0.93678,     0.93685,     0.93692,     0.93699,     0.93706,     0.93713,     0.93721,     0.93728,     0.93735,     0.93742,     0.93749,     0.93757,     0.93764,     0.93771,     0.93778,     0.93786,     0.93793,       0.938,\n",
              "            0.93808,     0.93815,     0.93822,     0.93839,     0.93855,     0.93872,     0.93889,     0.93906,     0.93913,     0.93912,     0.93911,      0.9391,      0.9391,     0.93909,     0.93908,     0.93907,     0.93936,     0.93989,     0.93992,     0.93991,     0.93989,     0.93988,     0.93986,\n",
              "            0.93986,     0.93985,     0.93984,     0.93983,     0.93982,     0.93981,     0.93984,     0.93994,     0.94005,     0.94015,     0.94025,     0.94035,     0.94045,     0.94055,     0.94065,     0.94072,     0.94071,      0.9407,     0.94069,     0.94068,     0.94067,     0.94066,     0.94065,\n",
              "            0.94064,     0.94063,     0.94062,     0.94061,      0.9406,     0.94059,     0.94059,     0.94058,     0.94057,     0.94057,     0.94056,     0.94055,     0.94055,     0.94049,     0.94052,     0.94055,     0.94059,     0.94062,     0.94066,     0.94069,     0.94073,     0.94076,     0.94079,\n",
              "            0.94083,     0.94086,      0.9409,     0.94093,     0.94097,       0.941,     0.94104,     0.94107,     0.94111,     0.94114,     0.94117,     0.94121,     0.94124,     0.94128,     0.94131,     0.94135,     0.94138,     0.94139,     0.94135,     0.94134,     0.94134,     0.94133,     0.94133,\n",
              "            0.94132,     0.94132,     0.94132,     0.94131,     0.94131,      0.9413,      0.9413,     0.94129,     0.94128,     0.94127,     0.94125,     0.94123,     0.94118,     0.94132,     0.94147,     0.94161,     0.94176,     0.94191,     0.94205,     0.94208,     0.94205,     0.94215,     0.94229,\n",
              "            0.94244,     0.94259,     0.94273,     0.94288,     0.94299,     0.94304,     0.94309,     0.94314,     0.94319,     0.94325,      0.9433,     0.94335,      0.9434,     0.94345,      0.9435,     0.94355,     0.94361,     0.94366,     0.94371,     0.94376,     0.94381,     0.94386,      0.9439,\n",
              "            0.94389,     0.94389,     0.94389,     0.94389,     0.94388,     0.94388,     0.94388,     0.94387,     0.94387,     0.94387,     0.94386,     0.94386,     0.94386,     0.94386,     0.94385,     0.94385,     0.94385,     0.94384,     0.94389,     0.94406,     0.94422,     0.94439,     0.94456,\n",
              "            0.94472,      0.9447,     0.94467,     0.94466,     0.94466,     0.94466,     0.94465,     0.94465,     0.94465,     0.94465,     0.94464,     0.94464,     0.94464,     0.94463,     0.94463,     0.94463,     0.94463,     0.94462,     0.94462,     0.94462,     0.94462,     0.94461,     0.94461,\n",
              "            0.94465,     0.94472,     0.94479,     0.94487,     0.94494,     0.94501,     0.94509,     0.94516,     0.94524,     0.94531,     0.94538,     0.94546,     0.94553,     0.94554,     0.94553,     0.94553,     0.94552,     0.94551,     0.94551,      0.9455,      0.9455,     0.94549,     0.94548,\n",
              "            0.94547,     0.94546,     0.94545,     0.94544,     0.94543,      0.9454,     0.94544,     0.94568,     0.94592,     0.94616,     0.94664,      0.9473,     0.94739,     0.94749,     0.94759,     0.94768,     0.94778,     0.94788,     0.94797,     0.94807,     0.94817,     0.94935,     0.94967,\n",
              "            0.94999,      0.9501,     0.95009,     0.95008,     0.95008,     0.95007,     0.95006,     0.95006,     0.95005,     0.95005,     0.95004,     0.95004,     0.95003,     0.95003,     0.95002,     0.95002,     0.95002,     0.95001,     0.95001,        0.95,     0.95008,     0.95056,     0.95115,\n",
              "            0.95189,     0.95198,     0.95247,     0.95289,     0.95313,     0.95338,     0.95362,     0.95397,     0.95446,     0.95472,     0.95471,     0.95471,      0.9547,     0.95469,     0.95467,     0.95465,     0.95462,      0.9546,     0.95464,     0.95471,     0.95479,     0.95486,     0.95493,\n",
              "            0.95501,     0.95508,     0.95515,     0.95523,      0.9553,     0.95537,     0.95545,     0.95552,     0.95555,     0.95554,     0.95553,     0.95552,     0.95581,      0.9563,     0.95642,      0.9564,     0.95648,      0.9566,     0.95672,     0.95685,     0.95697,      0.9571,     0.95722,\n",
              "            0.95735,     0.95731,      0.9573,     0.95728,     0.95727,     0.95725,     0.95719,     0.95738,     0.95756,     0.95774,     0.95792,      0.9581,     0.95833,     0.95858,     0.95883,     0.95908,     0.95909,     0.95908,     0.95907,     0.95906,     0.95903,     0.95901,     0.95901,\n",
              "              0.959,       0.959,     0.95899,     0.95899,     0.95898,     0.95898,     0.95896,     0.95894,     0.95892,     0.95891,      0.9589,     0.95987,     0.95986,     0.95985,     0.95984,     0.95983,     0.95981,     0.95974,     0.95971,     0.95987,     0.96004,     0.96021,     0.96037,\n",
              "            0.96054,     0.96064,     0.96093,     0.96122,     0.96152,     0.96157,     0.96154,     0.96154,     0.96153,     0.96153,     0.96152,     0.96152,     0.96151,     0.96151,     0.96151,      0.9615,     0.96149,     0.96146,     0.96196,     0.96243,     0.96295,     0.96343,     0.96342,\n",
              "            0.96342,     0.96342,     0.96341,     0.96341,     0.96341,      0.9634,      0.9634,      0.9634,     0.96339,     0.96362,     0.96431,     0.96431,      0.9643,     0.96429,     0.96428,     0.96426,     0.96421,      0.9642,      0.9642,     0.96419,     0.96419,     0.96418,     0.96417,\n",
              "            0.96437,     0.96467,     0.96497,     0.96533,     0.96585,     0.96621,      0.9662,     0.96618,     0.96617,     0.96617,     0.96616,     0.96616,     0.96615,     0.96615,     0.96614,     0.96614,     0.96611,     0.96619,     0.96634,     0.96649,     0.96664,     0.96679,     0.96694,\n",
              "            0.96709,     0.96712,     0.96712,     0.96711,     0.96711,      0.9671,      0.9671,     0.96709,     0.96701,       0.967,     0.96699,     0.96698,     0.96697,     0.96696,     0.96696,     0.96681,     0.96679,     0.96691,     0.96762,      0.9678,     0.96779,     0.96778,     0.96773,\n",
              "            0.96771,     0.96765,     0.96867,     0.96865,     0.96863,     0.96862,     0.96856,     0.96853,     0.96851,     0.96849,     0.96843,     0.96842,     0.96839,     0.96837,     0.96835,     0.96932,     0.96929,     0.96927,     0.96925,     0.96922,      0.9692,     0.96919,     0.96919,\n",
              "            0.96918,     0.96918,     0.96918,     0.96917,     0.96917,     0.97023,     0.97022,     0.97021,     0.97025,     0.97098,     0.97117,     0.97116,     0.97115,     0.97168,     0.97215,     0.97213,     0.97205,       0.972,     0.97199,     0.97199,     0.97198,     0.97197,     0.97196,\n",
              "            0.97195,     0.97188,     0.97187,     0.97187,     0.97186,     0.97185,     0.97185,      0.9723,     0.97291,     0.97289,      0.9728,     0.97263,     0.97261,     0.97321,     0.97364,     0.97353,     0.97352,     0.97352,     0.97351,      0.9735,     0.97459,     0.97533,      0.9756,\n",
              "            0.97663,     0.97662,     0.97768,     0.97881,     0.97875,     0.97873,     0.97868,     0.97858,     0.97854,     0.97852,     0.97845,     0.97825,     0.97823,     0.97821,      0.9793,     0.97923,     0.97908,       0.979,      0.9788,     0.97856,     0.97854,     0.97849,     0.97968,\n",
              "            0.97951,      0.9795,     0.98036,     0.98048,     0.98038,     0.98015,     0.98002,        0.98,     0.97984,     0.98237,     0.98221,     0.98198,     0.98184,     0.98182,     0.98164,     0.98129,     0.98128,     0.98112,     0.98092,     0.98067,     0.98033,     0.98003,     0.97975,\n",
              "            0.97973,     0.97963,     0.97917,     0.97877,     0.97831,     0.97773,     0.97749,     0.97871,     0.97984,     0.97954,     0.97952,     0.97901,     0.97755,     0.97899,     0.97835,     0.97737,     0.97882,     0.97831,     0.97827,     0.98006,     0.97924,     0.97851,     0.97767,\n",
              "            0.97655,      0.9757,     0.97701,     0.97628,     0.97843,     0.97693,        0.98,     0.97908,     0.97826,     0.97652,     0.97455,     0.97388,     0.98337,     0.98218,     0.98093,     0.97977,     0.97831,     0.97576,     0.97291,     0.97108,     0.97866,     0.97736,     0.97565,\n",
              "            0.97227,     0.96974,     0.95882,     0.95299,     0.97226,     0.96774,     0.95648,     0.94434,     0.94211,      0.9763,           1,           1,           1,           1,           1,           1,           1,           1,           1,           1,           1,           1,           1,\n",
              "                  1,           1,           1,           1,           1,           1,           1,           1,           1,           1,           1,           1,           1,           1,           1,           1,           1,           1,           1,           1,           1,           1,           1,\n",
              "                  1,           1,           1,           1,           1,           1,           1,           1,           1,           1,           1,           1,           1,           1,           1,           1,           1,           1,           1,           1,           1,           1,           1,\n",
              "                  1,           1,           1,           1,           1,           1,           1,           1,           1,           1,           1,           1,           1,           1,           1,           1,           1,           1,           1,           1,           1,           1,           1,\n",
              "                  1,           1,           1,           1,           1,           1,           1,           1,           1,           1,           1,           1,           1,           1,           1,           1,           1,           1,           1,           1,           1,           1,           1,\n",
              "                  1,           1,           1,           1,           1,           1,           1,           1,           1,           1,           1]]), 'Confidence', 'Precision'], [array([          0,    0.001001,    0.002002,    0.003003,    0.004004,    0.005005,    0.006006,    0.007007,    0.008008,    0.009009,     0.01001,    0.011011,    0.012012,    0.013013,    0.014014,    0.015015,    0.016016,    0.017017,    0.018018,    0.019019,     0.02002,    0.021021,    0.022022,    0.023023,\n",
              "          0.024024,    0.025025,    0.026026,    0.027027,    0.028028,    0.029029,     0.03003,    0.031031,    0.032032,    0.033033,    0.034034,    0.035035,    0.036036,    0.037037,    0.038038,    0.039039,     0.04004,    0.041041,    0.042042,    0.043043,    0.044044,    0.045045,    0.046046,    0.047047,\n",
              "          0.048048,    0.049049,     0.05005,    0.051051,    0.052052,    0.053053,    0.054054,    0.055055,    0.056056,    0.057057,    0.058058,    0.059059,     0.06006,    0.061061,    0.062062,    0.063063,    0.064064,    0.065065,    0.066066,    0.067067,    0.068068,    0.069069,     0.07007,    0.071071,\n",
              "          0.072072,    0.073073,    0.074074,    0.075075,    0.076076,    0.077077,    0.078078,    0.079079,     0.08008,    0.081081,    0.082082,    0.083083,    0.084084,    0.085085,    0.086086,    0.087087,    0.088088,    0.089089,     0.09009,    0.091091,    0.092092,    0.093093,    0.094094,    0.095095,\n",
              "          0.096096,    0.097097,    0.098098,    0.099099,      0.1001,      0.1011,      0.1021,      0.1031,      0.1041,     0.10511,     0.10611,     0.10711,     0.10811,     0.10911,     0.11011,     0.11111,     0.11211,     0.11311,     0.11411,     0.11512,     0.11612,     0.11712,     0.11812,     0.11912,\n",
              "           0.12012,     0.12112,     0.12212,     0.12312,     0.12412,     0.12513,     0.12613,     0.12713,     0.12813,     0.12913,     0.13013,     0.13113,     0.13213,     0.13313,     0.13413,     0.13514,     0.13614,     0.13714,     0.13814,     0.13914,     0.14014,     0.14114,     0.14214,     0.14314,\n",
              "           0.14414,     0.14515,     0.14615,     0.14715,     0.14815,     0.14915,     0.15015,     0.15115,     0.15215,     0.15315,     0.15415,     0.15516,     0.15616,     0.15716,     0.15816,     0.15916,     0.16016,     0.16116,     0.16216,     0.16316,     0.16416,     0.16517,     0.16617,     0.16717,\n",
              "           0.16817,     0.16917,     0.17017,     0.17117,     0.17217,     0.17317,     0.17417,     0.17518,     0.17618,     0.17718,     0.17818,     0.17918,     0.18018,     0.18118,     0.18218,     0.18318,     0.18418,     0.18519,     0.18619,     0.18719,     0.18819,     0.18919,     0.19019,     0.19119,\n",
              "           0.19219,     0.19319,     0.19419,      0.1952,      0.1962,      0.1972,      0.1982,      0.1992,      0.2002,      0.2012,      0.2022,      0.2032,      0.2042,     0.20521,     0.20621,     0.20721,     0.20821,     0.20921,     0.21021,     0.21121,     0.21221,     0.21321,     0.21421,     0.21522,\n",
              "           0.21622,     0.21722,     0.21822,     0.21922,     0.22022,     0.22122,     0.22222,     0.22322,     0.22422,     0.22523,     0.22623,     0.22723,     0.22823,     0.22923,     0.23023,     0.23123,     0.23223,     0.23323,     0.23423,     0.23524,     0.23624,     0.23724,     0.23824,     0.23924,\n",
              "           0.24024,     0.24124,     0.24224,     0.24324,     0.24424,     0.24525,     0.24625,     0.24725,     0.24825,     0.24925,     0.25025,     0.25125,     0.25225,     0.25325,     0.25425,     0.25526,     0.25626,     0.25726,     0.25826,     0.25926,     0.26026,     0.26126,     0.26226,     0.26326,\n",
              "           0.26426,     0.26527,     0.26627,     0.26727,     0.26827,     0.26927,     0.27027,     0.27127,     0.27227,     0.27327,     0.27427,     0.27528,     0.27628,     0.27728,     0.27828,     0.27928,     0.28028,     0.28128,     0.28228,     0.28328,     0.28428,     0.28529,     0.28629,     0.28729,\n",
              "           0.28829,     0.28929,     0.29029,     0.29129,     0.29229,     0.29329,     0.29429,      0.2953,      0.2963,      0.2973,      0.2983,      0.2993,      0.3003,      0.3013,      0.3023,      0.3033,      0.3043,     0.30531,     0.30631,     0.30731,     0.30831,     0.30931,     0.31031,     0.31131,\n",
              "           0.31231,     0.31331,     0.31431,     0.31532,     0.31632,     0.31732,     0.31832,     0.31932,     0.32032,     0.32132,     0.32232,     0.32332,     0.32432,     0.32533,     0.32633,     0.32733,     0.32833,     0.32933,     0.33033,     0.33133,     0.33233,     0.33333,     0.33433,     0.33534,\n",
              "           0.33634,     0.33734,     0.33834,     0.33934,     0.34034,     0.34134,     0.34234,     0.34334,     0.34434,     0.34535,     0.34635,     0.34735,     0.34835,     0.34935,     0.35035,     0.35135,     0.35235,     0.35335,     0.35435,     0.35536,     0.35636,     0.35736,     0.35836,     0.35936,\n",
              "           0.36036,     0.36136,     0.36236,     0.36336,     0.36436,     0.36537,     0.36637,     0.36737,     0.36837,     0.36937,     0.37037,     0.37137,     0.37237,     0.37337,     0.37437,     0.37538,     0.37638,     0.37738,     0.37838,     0.37938,     0.38038,     0.38138,     0.38238,     0.38338,\n",
              "           0.38438,     0.38539,     0.38639,     0.38739,     0.38839,     0.38939,     0.39039,     0.39139,     0.39239,     0.39339,     0.39439,      0.3954,      0.3964,      0.3974,      0.3984,      0.3994,      0.4004,      0.4014,      0.4024,      0.4034,      0.4044,     0.40541,     0.40641,     0.40741,\n",
              "           0.40841,     0.40941,     0.41041,     0.41141,     0.41241,     0.41341,     0.41441,     0.41542,     0.41642,     0.41742,     0.41842,     0.41942,     0.42042,     0.42142,     0.42242,     0.42342,     0.42442,     0.42543,     0.42643,     0.42743,     0.42843,     0.42943,     0.43043,     0.43143,\n",
              "           0.43243,     0.43343,     0.43443,     0.43544,     0.43644,     0.43744,     0.43844,     0.43944,     0.44044,     0.44144,     0.44244,     0.44344,     0.44444,     0.44545,     0.44645,     0.44745,     0.44845,     0.44945,     0.45045,     0.45145,     0.45245,     0.45345,     0.45445,     0.45546,\n",
              "           0.45646,     0.45746,     0.45846,     0.45946,     0.46046,     0.46146,     0.46246,     0.46346,     0.46446,     0.46547,     0.46647,     0.46747,     0.46847,     0.46947,     0.47047,     0.47147,     0.47247,     0.47347,     0.47447,     0.47548,     0.47648,     0.47748,     0.47848,     0.47948,\n",
              "           0.48048,     0.48148,     0.48248,     0.48348,     0.48448,     0.48549,     0.48649,     0.48749,     0.48849,     0.48949,     0.49049,     0.49149,     0.49249,     0.49349,     0.49449,      0.4955,      0.4965,      0.4975,      0.4985,      0.4995,      0.5005,      0.5015,      0.5025,      0.5035,\n",
              "            0.5045,     0.50551,     0.50651,     0.50751,     0.50851,     0.50951,     0.51051,     0.51151,     0.51251,     0.51351,     0.51451,     0.51552,     0.51652,     0.51752,     0.51852,     0.51952,     0.52052,     0.52152,     0.52252,     0.52352,     0.52452,     0.52553,     0.52653,     0.52753,\n",
              "           0.52853,     0.52953,     0.53053,     0.53153,     0.53253,     0.53353,     0.53453,     0.53554,     0.53654,     0.53754,     0.53854,     0.53954,     0.54054,     0.54154,     0.54254,     0.54354,     0.54454,     0.54555,     0.54655,     0.54755,     0.54855,     0.54955,     0.55055,     0.55155,\n",
              "           0.55255,     0.55355,     0.55455,     0.55556,     0.55656,     0.55756,     0.55856,     0.55956,     0.56056,     0.56156,     0.56256,     0.56356,     0.56456,     0.56557,     0.56657,     0.56757,     0.56857,     0.56957,     0.57057,     0.57157,     0.57257,     0.57357,     0.57457,     0.57558,\n",
              "           0.57658,     0.57758,     0.57858,     0.57958,     0.58058,     0.58158,     0.58258,     0.58358,     0.58458,     0.58559,     0.58659,     0.58759,     0.58859,     0.58959,     0.59059,     0.59159,     0.59259,     0.59359,     0.59459,      0.5956,      0.5966,      0.5976,      0.5986,      0.5996,\n",
              "            0.6006,      0.6016,      0.6026,      0.6036,      0.6046,     0.60561,     0.60661,     0.60761,     0.60861,     0.60961,     0.61061,     0.61161,     0.61261,     0.61361,     0.61461,     0.61562,     0.61662,     0.61762,     0.61862,     0.61962,     0.62062,     0.62162,     0.62262,     0.62362,\n",
              "           0.62462,     0.62563,     0.62663,     0.62763,     0.62863,     0.62963,     0.63063,     0.63163,     0.63263,     0.63363,     0.63463,     0.63564,     0.63664,     0.63764,     0.63864,     0.63964,     0.64064,     0.64164,     0.64264,     0.64364,     0.64464,     0.64565,     0.64665,     0.64765,\n",
              "           0.64865,     0.64965,     0.65065,     0.65165,     0.65265,     0.65365,     0.65465,     0.65566,     0.65666,     0.65766,     0.65866,     0.65966,     0.66066,     0.66166,     0.66266,     0.66366,     0.66466,     0.66567,     0.66667,     0.66767,     0.66867,     0.66967,     0.67067,     0.67167,\n",
              "           0.67267,     0.67367,     0.67467,     0.67568,     0.67668,     0.67768,     0.67868,     0.67968,     0.68068,     0.68168,     0.68268,     0.68368,     0.68468,     0.68569,     0.68669,     0.68769,     0.68869,     0.68969,     0.69069,     0.69169,     0.69269,     0.69369,     0.69469,      0.6957,\n",
              "            0.6967,      0.6977,      0.6987,      0.6997,      0.7007,      0.7017,      0.7027,      0.7037,      0.7047,     0.70571,     0.70671,     0.70771,     0.70871,     0.70971,     0.71071,     0.71171,     0.71271,     0.71371,     0.71471,     0.71572,     0.71672,     0.71772,     0.71872,     0.71972,\n",
              "           0.72072,     0.72172,     0.72272,     0.72372,     0.72472,     0.72573,     0.72673,     0.72773,     0.72873,     0.72973,     0.73073,     0.73173,     0.73273,     0.73373,     0.73473,     0.73574,     0.73674,     0.73774,     0.73874,     0.73974,     0.74074,     0.74174,     0.74274,     0.74374,\n",
              "           0.74474,     0.74575,     0.74675,     0.74775,     0.74875,     0.74975,     0.75075,     0.75175,     0.75275,     0.75375,     0.75475,     0.75576,     0.75676,     0.75776,     0.75876,     0.75976,     0.76076,     0.76176,     0.76276,     0.76376,     0.76476,     0.76577,     0.76677,     0.76777,\n",
              "           0.76877,     0.76977,     0.77077,     0.77177,     0.77277,     0.77377,     0.77477,     0.77578,     0.77678,     0.77778,     0.77878,     0.77978,     0.78078,     0.78178,     0.78278,     0.78378,     0.78478,     0.78579,     0.78679,     0.78779,     0.78879,     0.78979,     0.79079,     0.79179,\n",
              "           0.79279,     0.79379,     0.79479,      0.7958,      0.7968,      0.7978,      0.7988,      0.7998,      0.8008,      0.8018,      0.8028,      0.8038,      0.8048,     0.80581,     0.80681,     0.80781,     0.80881,     0.80981,     0.81081,     0.81181,     0.81281,     0.81381,     0.81481,     0.81582,\n",
              "           0.81682,     0.81782,     0.81882,     0.81982,     0.82082,     0.82182,     0.82282,     0.82382,     0.82482,     0.82583,     0.82683,     0.82783,     0.82883,     0.82983,     0.83083,     0.83183,     0.83283,     0.83383,     0.83483,     0.83584,     0.83684,     0.83784,     0.83884,     0.83984,\n",
              "           0.84084,     0.84184,     0.84284,     0.84384,     0.84484,     0.84585,     0.84685,     0.84785,     0.84885,     0.84985,     0.85085,     0.85185,     0.85285,     0.85385,     0.85485,     0.85586,     0.85686,     0.85786,     0.85886,     0.85986,     0.86086,     0.86186,     0.86286,     0.86386,\n",
              "           0.86486,     0.86587,     0.86687,     0.86787,     0.86887,     0.86987,     0.87087,     0.87187,     0.87287,     0.87387,     0.87487,     0.87588,     0.87688,     0.87788,     0.87888,     0.87988,     0.88088,     0.88188,     0.88288,     0.88388,     0.88488,     0.88589,     0.88689,     0.88789,\n",
              "           0.88889,     0.88989,     0.89089,     0.89189,     0.89289,     0.89389,     0.89489,      0.8959,      0.8969,      0.8979,      0.8989,      0.8999,      0.9009,      0.9019,      0.9029,      0.9039,      0.9049,     0.90591,     0.90691,     0.90791,     0.90891,     0.90991,     0.91091,     0.91191,\n",
              "           0.91291,     0.91391,     0.91491,     0.91592,     0.91692,     0.91792,     0.91892,     0.91992,     0.92092,     0.92192,     0.92292,     0.92392,     0.92492,     0.92593,     0.92693,     0.92793,     0.92893,     0.92993,     0.93093,     0.93193,     0.93293,     0.93393,     0.93493,     0.93594,\n",
              "           0.93694,     0.93794,     0.93894,     0.93994,     0.94094,     0.94194,     0.94294,     0.94394,     0.94494,     0.94595,     0.94695,     0.94795,     0.94895,     0.94995,     0.95095,     0.95195,     0.95295,     0.95395,     0.95495,     0.95596,     0.95696,     0.95796,     0.95896,     0.95996,\n",
              "           0.96096,     0.96196,     0.96296,     0.96396,     0.96496,     0.96597,     0.96697,     0.96797,     0.96897,     0.96997,     0.97097,     0.97197,     0.97297,     0.97397,     0.97497,     0.97598,     0.97698,     0.97798,     0.97898,     0.97998,     0.98098,     0.98198,     0.98298,     0.98398,\n",
              "           0.98498,     0.98599,     0.98699,     0.98799,     0.98899,     0.98999,     0.99099,     0.99199,     0.99299,     0.99399,     0.99499,       0.996,       0.997,       0.998,       0.999,           1]), array([[    0.99206,     0.99206,     0.99106,     0.99007,     0.99007,     0.99007,     0.99007,     0.99007,     0.99007,     0.98908,     0.98908,     0.98908,     0.98908,     0.98808,     0.98808,     0.98664,      0.9861,      0.9861,      0.9861,      0.9861,      0.9861,      0.9861,      0.9861,\n",
              "            0.98528,     0.98414,     0.98411,     0.98411,     0.98368,     0.98312,     0.98312,     0.98312,     0.98312,     0.98213,     0.98213,     0.98213,     0.98213,     0.98213,     0.98213,     0.98213,     0.98213,     0.98152,     0.98113,     0.98113,     0.98113,     0.98113,     0.98113,\n",
              "            0.98113,     0.98113,     0.98113,     0.98113,     0.98113,     0.98113,     0.98113,     0.98113,     0.98104,     0.98014,     0.98014,     0.98014,     0.98014,     0.98014,     0.98014,     0.98014,     0.98014,     0.98014,     0.98014,     0.98014,     0.98014,     0.98014,     0.98014,\n",
              "            0.98014,     0.98014,     0.98014,     0.98014,     0.98014,     0.98014,     0.98014,     0.98014,     0.98014,     0.98014,     0.98014,     0.98014,     0.98014,     0.98014,     0.98014,     0.98014,     0.98014,     0.98014,     0.98014,     0.98014,     0.98014,     0.98014,     0.98014,\n",
              "            0.98014,     0.98014,     0.98014,     0.98014,     0.98014,     0.97999,     0.97964,     0.97928,     0.97895,     0.97864,     0.97833,     0.97815,     0.97815,     0.97815,     0.97815,     0.97815,     0.97803,     0.97784,     0.97766,     0.97747,     0.97729,     0.97716,     0.97716,\n",
              "            0.97716,     0.97716,     0.97716,     0.97716,     0.97716,     0.97716,     0.97716,     0.97716,      0.9771,     0.97677,     0.97644,     0.97616,     0.97609,     0.97603,     0.97597,      0.9759,     0.97584,     0.97578,     0.97572,     0.97565,     0.97559,     0.97553,     0.97546,\n",
              "             0.9754,     0.97534,     0.97527,     0.97521,     0.97517,     0.97427,     0.97418,     0.97418,     0.97418,     0.97418,     0.97418,     0.97418,     0.97418,     0.97418,     0.97418,     0.97418,     0.97418,     0.97416,       0.974,     0.97385,     0.97369,     0.97353,     0.97338,\n",
              "            0.97322,     0.97319,     0.97319,     0.97319,     0.97315,     0.97285,     0.97255,     0.97224,     0.97219,     0.97219,     0.97219,     0.97219,     0.97219,     0.97219,     0.97219,     0.97219,     0.97219,     0.97219,     0.97219,     0.97219,     0.97219,     0.97219,     0.97219,\n",
              "            0.97219,     0.97211,     0.97187,     0.97163,     0.97139,      0.9712,     0.97116,     0.97083,     0.97051,     0.97021,     0.97021,     0.97021,     0.97021,     0.97021,     0.97021,     0.97021,     0.97021,     0.97021,     0.97021,     0.97021,     0.97021,     0.97021,     0.97021,\n",
              "            0.97019,     0.97012,     0.97006,     0.96999,     0.96993,     0.96986,     0.96979,     0.96973,     0.96966,      0.9696,     0.96953,     0.96947,      0.9694,     0.96934,     0.96927,     0.96916,     0.96887,     0.96858,     0.96829,     0.96819,     0.96815,     0.96811,     0.96807,\n",
              "            0.96802,     0.96798,     0.96794,      0.9679,     0.96786,     0.96782,     0.96778,     0.96773,     0.96769,     0.96765,     0.96761,     0.96757,     0.96753,     0.96748,     0.96744,      0.9674,     0.96736,     0.96732,     0.96728,     0.96724,     0.96695,     0.96662,      0.9663,\n",
              "            0.96524,     0.96524,     0.96524,     0.96524,     0.96524,     0.96524,     0.96524,     0.96524,     0.96524,     0.96524,     0.96524,     0.96524,     0.96524,     0.96524,     0.96524,     0.96524,     0.96524,     0.96524,     0.96524,     0.96524,     0.96524,     0.96524,     0.96524,\n",
              "            0.96524,     0.96524,     0.96524,     0.96524,     0.96524,     0.96524,     0.96524,     0.96524,     0.96517,     0.96505,     0.96492,      0.9648,     0.96468,     0.96455,     0.96443,     0.96431,     0.96425,     0.96425,     0.96323,     0.96299,     0.96275,     0.96251,     0.96227,\n",
              "            0.96212,     0.96197,     0.96182,     0.96167,     0.96152,     0.96137,     0.96127,     0.96127,     0.96127,     0.96127,     0.96127,     0.96127,     0.96127,     0.96127,     0.96127,     0.96121,     0.96105,     0.96089,     0.96073,     0.96056,      0.9604,     0.96024,     0.96007,\n",
              "             0.9599,     0.95973,     0.95956,     0.95939,     0.95924,     0.95912,     0.95901,     0.95889,     0.95877,     0.95866,     0.95854,     0.95842,     0.95831,     0.95741,      0.9573,      0.9573,      0.9573,      0.9573,      0.9573,      0.9573,      0.9573,      0.9573,      0.9573,\n",
              "             0.9573,      0.9573,      0.9573,      0.9573,      0.9573,      0.9573,      0.9573,      0.9573,      0.9573,      0.9573,      0.9573,      0.9573,      0.9573,      0.9573,      0.9573,      0.9573,      0.9573,     0.95699,     0.95628,      0.9562,     0.95612,     0.95605,     0.95597,\n",
              "            0.95589,     0.95581,     0.95573,     0.95565,     0.95558,      0.9555,     0.95542,     0.95534,     0.95514,     0.95487,      0.9546,     0.95432,     0.95333,     0.95333,     0.95333,     0.95333,     0.95333,     0.95333,     0.95333,     0.95299,     0.95248,     0.95233,     0.95233,\n",
              "            0.95233,     0.95233,     0.95233,     0.95233,     0.95233,     0.95233,     0.95233,     0.95233,     0.95233,     0.95233,     0.95233,     0.95233,     0.95233,     0.95233,     0.95233,     0.95233,     0.95233,     0.95233,     0.95233,     0.95233,     0.95233,     0.95233,     0.95232,\n",
              "            0.95226,     0.95221,     0.95216,     0.95211,     0.95206,       0.952,     0.95195,      0.9519,     0.95185,     0.95179,     0.95174,     0.95169,     0.95164,     0.95159,     0.95153,     0.95148,     0.95143,     0.95138,     0.95134,     0.95134,     0.95134,     0.95134,     0.95134,\n",
              "            0.95134,     0.94999,     0.94949,     0.94932,     0.94927,     0.94922,     0.94917,     0.94912,     0.94907,     0.94902,     0.94897,     0.94893,     0.94888,     0.94883,     0.94878,     0.94873,     0.94868,     0.94863,     0.94858,     0.94853,     0.94848,     0.94844,     0.94839,\n",
              "            0.94836,     0.94836,     0.94836,     0.94836,     0.94836,     0.94836,     0.94836,     0.94836,     0.94836,     0.94836,     0.94836,     0.94836,     0.94836,     0.94827,     0.94816,     0.94804,     0.94793,     0.94782,      0.9477,     0.94759,     0.94748,     0.94736,     0.94719,\n",
              "            0.94702,     0.94685,     0.94668,     0.94651,     0.94628,     0.94577,     0.94538,     0.94538,     0.94538,     0.94538,     0.94538,     0.94538,     0.94538,     0.94538,     0.94538,     0.94538,     0.94538,     0.94538,     0.94538,     0.94538,     0.94538,     0.94538,     0.94538,\n",
              "            0.94538,      0.9453,     0.94517,     0.94504,     0.94492,     0.94479,     0.94466,     0.94453,     0.94441,     0.94432,     0.94423,     0.94415,     0.94406,     0.94398,     0.94389,     0.94381,     0.94372,     0.94364,     0.94355,     0.94347,      0.9434,      0.9434,      0.9434,\n",
              "            0.94316,      0.9424,      0.9424,      0.9424,      0.9424,      0.9424,      0.9424,      0.9424,      0.9424,     0.94231,     0.94211,      0.9419,      0.9417,      0.9415,     0.94112,     0.94061,      0.9401,     0.93959,     0.93942,     0.93942,     0.93942,     0.93942,     0.93942,\n",
              "            0.93942,     0.93942,     0.93942,     0.93942,     0.93942,     0.93942,     0.93942,     0.93942,      0.9393,     0.93904,     0.93879,     0.93853,     0.93843,     0.93843,     0.93711,      0.9366,     0.93644,     0.93644,     0.93644,     0.93644,     0.93644,     0.93644,     0.93644,\n",
              "            0.93644,     0.93522,     0.93497,     0.93472,     0.93446,     0.93396,     0.93247,     0.93247,     0.93247,     0.93247,     0.93247,     0.93247,     0.93247,     0.93247,     0.93247,     0.93247,     0.93128,     0.93103,     0.93077,     0.93052,      0.9299,     0.92944,     0.92931,\n",
              "            0.92919,     0.92906,     0.92893,     0.92881,     0.92868,     0.92855,      0.9282,     0.92769,     0.92732,     0.92703,     0.92674,     0.92645,      0.9262,     0.92595,     0.92569,     0.92535,     0.92484,     0.92328,      0.9226,     0.92254,     0.92254,     0.92254,     0.92254,\n",
              "            0.92254,     0.92056,     0.92056,     0.92056,     0.92056,     0.91923,     0.91872,      0.9185,     0.91839,     0.91828,     0.91817,     0.91807,     0.91796,     0.91785,     0.91775,     0.91764,     0.91729,     0.91661,     0.91658,     0.91559,     0.91559,     0.91558,     0.91549,\n",
              "             0.9154,     0.91531,     0.91521,     0.91512,     0.91503,     0.91494,     0.91484,     0.91475,     0.91466,      0.9146,      0.9146,     0.91236,     0.91207,     0.91178,     0.91139,     0.91088,     0.90956,     0.90941,     0.90927,     0.90912,     0.90898,     0.90883,     0.90869,\n",
              "            0.90864,     0.90864,     0.90864,     0.90864,     0.90864,     0.90855,     0.90826,     0.90797,     0.90768,     0.90752,     0.90737,     0.90723,     0.90708,     0.90693,     0.90679,     0.90661,     0.90593,     0.90566,     0.90566,     0.90566,     0.90566,     0.90566,     0.90566,\n",
              "            0.90566,     0.90555,      0.9054,     0.90526,     0.90511,     0.90497,     0.90482,     0.90468,     0.90236,     0.90202,     0.90168,     0.90148,     0.90128,     0.90107,     0.90087,     0.89665,     0.89614,     0.89573,     0.89573,     0.89552,     0.89523,     0.89494,     0.89353,\n",
              "            0.89285,     0.89118,      0.8905,     0.88983,      0.8893,     0.88879,     0.88713,     0.88645,     0.88577,     0.88509,     0.88352,     0.88301,     0.88239,     0.88172,     0.88104,     0.87837,     0.87769,     0.87702,     0.87634,     0.87566,     0.87498,     0.87477,     0.87464,\n",
              "            0.87451,     0.87439,     0.87426,     0.87413,       0.874,     0.87387,     0.87353,     0.87319,      0.8719,      0.8719,     0.86969,     0.86935,     0.86901,     0.86892,     0.86675,     0.86607,     0.86341,     0.86189,     0.86166,     0.86144,     0.86121,     0.86099,     0.86065,\n",
              "            0.86031,     0.85799,     0.85781,     0.85762,     0.85744,     0.85725,     0.85707,     0.85601,     0.85588,      0.8552,     0.85254,     0.84689,     0.84621,     0.84608,     0.84375,     0.84004,     0.83981,     0.83959,     0.83936,     0.83913,     0.83813,     0.83714,      0.8338,\n",
              "            0.83014,     0.82946,     0.82659,     0.82579,     0.82313,     0.82245,     0.82054,     0.81679,     0.81511,     0.81444,      0.8115,     0.80381,     0.80313,     0.80245,     0.79849,      0.7958,        0.79,     0.78716,     0.77952,     0.77058,      0.7699,     0.76803,     0.76622,\n",
              "            0.75954,     0.75372,     0.75372,     0.74804,     0.74429,     0.73558,     0.73069,     0.73001,     0.72409,     0.71938,     0.71262,     0.70365,     0.69782,     0.69714,     0.69017,     0.67725,     0.67657,     0.67073,     0.66376,       0.655,     0.64335,      0.6334,      0.6245,\n",
              "            0.62382,     0.62091,     0.60698,     0.59504,     0.58238,     0.56669,      0.5607,     0.54777,     0.53086,     0.52304,     0.52236,     0.50944,     0.47565,     0.46271,     0.44879,      0.4289,     0.41299,     0.40308,      0.4024,     0.39057,     0.37466,     0.36172,     0.34779,\n",
              "            0.33089,     0.31895,     0.30189,     0.28613,     0.27021,     0.25231,     0.24335,      0.2324,     0.22344,     0.20651,     0.19012,     0.18513,     0.17617,     0.16423,     0.15328,     0.14432,     0.13436,     0.11994,       0.107,     0.10003,    0.091066,    0.085756,    0.079596,\n",
              "           0.069641,    0.063658,    0.046254,    0.040271,    0.034812,    0.029794,    0.021825,    0.016851,    0.016172,    0.015889,    0.012788,    0.011624,    0.010657,    0.010249,   0.0087168,   0.0054672,   0.0041983,   0.0037743,   0.0035198,   0.0032653,   0.0030108,   0.0027564,   0.0025019,\n",
              "          0.0022474,   0.0019929,  0.00099553,           0,           0,           0,           0,           0,           0,           0,           0,           0,           0,           0,           0,           0,           0,           0,           0,           0,           0,           0,           0,\n",
              "                  0,           0,           0,           0,           0,           0,           0,           0,           0,           0,           0,           0,           0,           0,           0,           0,           0,           0,           0,           0,           0,           0,           0,\n",
              "                  0,           0,           0,           0,           0,           0,           0,           0,           0,           0,           0,           0,           0,           0,           0,           0,           0,           0,           0,           0,           0,           0,           0,\n",
              "                  0,           0,           0,           0,           0,           0,           0,           0,           0,           0,           0,           0,           0,           0,           0,           0,           0,           0,           0,           0,           0,           0,           0,\n",
              "                  0,           0,           0,           0,           0,           0,           0,           0,           0,           0,           0]]), 'Confidence', 'Recall']]\n",
              "fitness: np.float64(0.7342381277610329)\n",
              "keys: ['metrics/precision(B)', 'metrics/recall(B)', 'metrics/mAP50(B)', 'metrics/mAP50-95(B)']\n",
              "maps: array([    0.70773,     0.70773])\n",
              "names: {0: 'screw', 1: 'tooth'}\n",
              "plot: True\n",
              "results_dict: {'metrics/precision(B)': np.float64(0.9365464708224074), 'metrics/recall(B)': np.float64(0.9673598623449666), 'metrics/mAP50(B)': np.float64(0.9727793321766968), 'metrics/mAP50-95(B)': np.float64(0.7077335494926259), 'fitness': np.float64(0.7342381277610329)}\n",
              "save_dir: PosixPath('proyecto_xray/entrenamiento_xray')\n",
              "speed: {'preprocess': 0.2388000000012523, 'inference': 17.34069985712787, 'loss': 0.0008573428463673086, 'postprocess': 1.252433828579212}\n",
              "task: 'detect'"
            ]
          },
          "metadata": {},
          "execution_count": 9
        }
      ]
    },
    {
      "cell_type": "code",
      "source": [
        "import os\n",
        "\n",
        "# Listar archivos en el directorio\n",
        "directory = \"/content/proyecto_xray/entrenamiento_xray\"\n",
        "if os.path.exists(directory):\n",
        "    print(\"Archivos en el directorio:\")\n",
        "    print(os.listdir(directory))\n",
        "else:\n",
        "    print(f\"El directorio {directory} no existe.\")"
      ],
      "metadata": {
        "colab": {
          "base_uri": "https://localhost:8080/"
        },
        "id": "FbmCtPvytyjU",
        "outputId": "0fbb4196-5299-4440-b23c-1657def430fd"
      },
      "execution_count": 10,
      "outputs": [
        {
          "output_type": "stream",
          "name": "stdout",
          "text": [
            "Archivos en el directorio:\n",
            "['args.yaml', 'train_batch3872.jpg', 'results.csv', 'confusion_matrix.png', 'confusion_matrix_normalized.png', 'train_batch1.jpg', 'val_batch1_labels.jpg', 'weights', 'P_curve.png', 'val_batch0_labels.jpg', 'F1_curve.png', 'R_curve.png', 'labels.jpg', 'val_batch1_pred.jpg', 'train_batch3870.jpg', 'results.png', 'PR_curve.png', 'train_batch3871.jpg', 'val_batch0_pred.jpg', 'labels_correlogram.jpg', 'train_batch2.jpg', 'train_batch0.jpg']\n"
          ]
        }
      ]
    },
    {
      "cell_type": "code",
      "source": [
        "# Crear DataFrame de métricas de entrenamiento\n",
        "df_metrics = pd.read_csv(\"/content/proyecto_xray/entrenamiento_xray/results.csv\")\n",
        "\n",
        "\n",
        "# Mostrar algunas métricas\n",
        "print(df_metrics.head(5))\n",
        "\n",
        "print(df_metrics.index.to_list())\n",
        "print(df_metrics.columns.to_list())\n",
        "\n",
        "df_metrics.describe()"
      ],
      "metadata": {
        "colab": {
          "base_uri": "https://localhost:8080/",
          "height": 841
        },
        "id": "Yoa_Vk4Bt0MG",
        "outputId": "e696f75e-6a7a-43c7-c854-5edb967b030f"
      },
      "execution_count": 11,
      "outputs": [
        {
          "output_type": "stream",
          "name": "stdout",
          "text": [
            "   epoch      time  train/box_loss  train/cls_loss  train/dfl_loss  \\\n",
            "0      1   37.2510         1.81703         1.78375         1.56807   \n",
            "1      2   80.0406         1.33296         0.71727         1.28957   \n",
            "2      3  119.2180         1.35956         0.70097         1.28738   \n",
            "3      4  162.5350         1.32723         0.64940         1.28020   \n",
            "4      5  204.2280         1.28157         0.60093         1.24121   \n",
            "\n",
            "   metrics/precision(B)  metrics/recall(B)  metrics/mAP50(B)  \\\n",
            "0               0.00270            0.02781           0.00138   \n",
            "1               0.02960            0.29096           0.01886   \n",
            "2               0.87925            0.93644           0.95822   \n",
            "3               0.84722            0.88083           0.92895   \n",
            "4               0.86518            0.94316           0.91215   \n",
            "\n",
            "   metrics/mAP50-95(B)  val/box_loss  val/cls_loss  val/dfl_loss    lr/pg0  \\\n",
            "0              0.00089       3.05270           inf       3.16564  0.000543   \n",
            "1              0.01034       1.51446           inf       2.11860  0.001088   \n",
            "2              0.57415       1.34107       1.49863       1.46135  0.001621   \n",
            "3              0.55101       1.32187       0.85805       1.43681  0.001617   \n",
            "4              0.57816       1.23440       0.60375       1.35519  0.001601   \n",
            "\n",
            "     lr/pg1    lr/pg2  \n",
            "0  0.000543  0.000543  \n",
            "1  0.001088  0.001088  \n",
            "2  0.001621  0.001621  \n",
            "3  0.001617  0.001617  \n",
            "4  0.001601  0.001601  \n",
            "[0, 1, 2, 3, 4, 5, 6, 7, 8, 9, 10, 11, 12, 13, 14, 15, 16, 17, 18, 19, 20, 21, 22, 23, 24, 25, 26, 27, 28, 29, 30, 31, 32, 33, 34, 35, 36, 37, 38, 39, 40, 41, 42, 43, 44, 45, 46, 47, 48, 49, 50, 51, 52, 53, 54, 55, 56, 57, 58, 59, 60, 61, 62, 63, 64, 65, 66, 67, 68, 69, 70, 71, 72, 73, 74, 75, 76, 77, 78, 79, 80, 81, 82, 83, 84, 85, 86, 87, 88, 89, 90, 91, 92, 93, 94, 95, 96, 97, 98, 99]\n",
            "['epoch', 'time', 'train/box_loss', 'train/cls_loss', 'train/dfl_loss', 'metrics/precision(B)', 'metrics/recall(B)', 'metrics/mAP50(B)', 'metrics/mAP50-95(B)', 'val/box_loss', 'val/cls_loss', 'val/dfl_loss', 'lr/pg0', 'lr/pg1', 'lr/pg2']\n"
          ]
        },
        {
          "output_type": "execute_result",
          "data": {
            "text/plain": [
              "            epoch         time  train/box_loss  train/cls_loss  \\\n",
              "count  100.000000   100.000000      100.000000      100.000000   \n",
              "mean    50.500000  2077.912686        0.892291        0.408929   \n",
              "std     29.011492  1191.721007        0.235716        0.172810   \n",
              "min      1.000000    37.251000        0.511870        0.237700   \n",
              "25%     25.750000  1072.822500        0.713615        0.320993   \n",
              "50%     50.500000  2072.330000        0.879205        0.380060   \n",
              "75%     75.250000  3102.475000        1.056612        0.459710   \n",
              "max    100.000000  4100.710000        1.817030        1.783750   \n",
              "\n",
              "       train/dfl_loss  metrics/precision(B)  metrics/recall(B)  \\\n",
              "count      100.000000            100.000000         100.000000   \n",
              "mean         1.039624              0.920783           0.948021   \n",
              "std          0.113823              0.130815           0.115450   \n",
              "min          0.906560              0.002700           0.027810   \n",
              "25%          0.949772              0.935310           0.958973   \n",
              "50%          1.012880              0.941715           0.965490   \n",
              "75%          1.106935              0.945985           0.971200   \n",
              "max          1.568070              0.962540           0.982400   \n",
              "\n",
              "       metrics/mAP50(B)  metrics/mAP50-95(B)  val/box_loss  val/cls_loss  \\\n",
              "count        100.000000           100.000000    100.000000    100.000000   \n",
              "mean           0.953962             0.663884      1.108240           inf   \n",
              "std            0.135808             0.097568      0.210289           NaN   \n",
              "min            0.001380             0.000890      0.972420      0.372940   \n",
              "25%            0.971665             0.668542      1.048270      0.385598   \n",
              "50%            0.973390             0.681775      1.071205      0.407730   \n",
              "75%            0.977090             0.692277      1.111220      0.440132   \n",
              "max            0.985060             0.707680      3.052700           inf   \n",
              "\n",
              "       val/dfl_loss      lr/pg0      lr/pg1      lr/pg2  \n",
              "count    100.000000  100.000000  100.000000  100.000000  \n",
              "mean       1.314787    0.000833    0.000833    0.000833  \n",
              "std        0.209796    0.000466    0.000466    0.000466  \n",
              "min        1.200180    0.000033    0.000033    0.000033  \n",
              "25%        1.253880    0.000442    0.000442    0.000442  \n",
              "50%        1.286640    0.000834    0.000834    0.000834  \n",
              "75%        1.322185    0.001226    0.001226    0.001226  \n",
              "max        3.165640    0.001621    0.001621    0.001621  "
            ],
            "text/html": [
              "\n",
              "  <div id=\"df-b916d030-0942-4f21-b251-bc0339b29a91\" class=\"colab-df-container\">\n",
              "    <div>\n",
              "<style scoped>\n",
              "    .dataframe tbody tr th:only-of-type {\n",
              "        vertical-align: middle;\n",
              "    }\n",
              "\n",
              "    .dataframe tbody tr th {\n",
              "        vertical-align: top;\n",
              "    }\n",
              "\n",
              "    .dataframe thead th {\n",
              "        text-align: right;\n",
              "    }\n",
              "</style>\n",
              "<table border=\"1\" class=\"dataframe\">\n",
              "  <thead>\n",
              "    <tr style=\"text-align: right;\">\n",
              "      <th></th>\n",
              "      <th>epoch</th>\n",
              "      <th>time</th>\n",
              "      <th>train/box_loss</th>\n",
              "      <th>train/cls_loss</th>\n",
              "      <th>train/dfl_loss</th>\n",
              "      <th>metrics/precision(B)</th>\n",
              "      <th>metrics/recall(B)</th>\n",
              "      <th>metrics/mAP50(B)</th>\n",
              "      <th>metrics/mAP50-95(B)</th>\n",
              "      <th>val/box_loss</th>\n",
              "      <th>val/cls_loss</th>\n",
              "      <th>val/dfl_loss</th>\n",
              "      <th>lr/pg0</th>\n",
              "      <th>lr/pg1</th>\n",
              "      <th>lr/pg2</th>\n",
              "    </tr>\n",
              "  </thead>\n",
              "  <tbody>\n",
              "    <tr>\n",
              "      <th>count</th>\n",
              "      <td>100.000000</td>\n",
              "      <td>100.000000</td>\n",
              "      <td>100.000000</td>\n",
              "      <td>100.000000</td>\n",
              "      <td>100.000000</td>\n",
              "      <td>100.000000</td>\n",
              "      <td>100.000000</td>\n",
              "      <td>100.000000</td>\n",
              "      <td>100.000000</td>\n",
              "      <td>100.000000</td>\n",
              "      <td>100.000000</td>\n",
              "      <td>100.000000</td>\n",
              "      <td>100.000000</td>\n",
              "      <td>100.000000</td>\n",
              "      <td>100.000000</td>\n",
              "    </tr>\n",
              "    <tr>\n",
              "      <th>mean</th>\n",
              "      <td>50.500000</td>\n",
              "      <td>2077.912686</td>\n",
              "      <td>0.892291</td>\n",
              "      <td>0.408929</td>\n",
              "      <td>1.039624</td>\n",
              "      <td>0.920783</td>\n",
              "      <td>0.948021</td>\n",
              "      <td>0.953962</td>\n",
              "      <td>0.663884</td>\n",
              "      <td>1.108240</td>\n",
              "      <td>inf</td>\n",
              "      <td>1.314787</td>\n",
              "      <td>0.000833</td>\n",
              "      <td>0.000833</td>\n",
              "      <td>0.000833</td>\n",
              "    </tr>\n",
              "    <tr>\n",
              "      <th>std</th>\n",
              "      <td>29.011492</td>\n",
              "      <td>1191.721007</td>\n",
              "      <td>0.235716</td>\n",
              "      <td>0.172810</td>\n",
              "      <td>0.113823</td>\n",
              "      <td>0.130815</td>\n",
              "      <td>0.115450</td>\n",
              "      <td>0.135808</td>\n",
              "      <td>0.097568</td>\n",
              "      <td>0.210289</td>\n",
              "      <td>NaN</td>\n",
              "      <td>0.209796</td>\n",
              "      <td>0.000466</td>\n",
              "      <td>0.000466</td>\n",
              "      <td>0.000466</td>\n",
              "    </tr>\n",
              "    <tr>\n",
              "      <th>min</th>\n",
              "      <td>1.000000</td>\n",
              "      <td>37.251000</td>\n",
              "      <td>0.511870</td>\n",
              "      <td>0.237700</td>\n",
              "      <td>0.906560</td>\n",
              "      <td>0.002700</td>\n",
              "      <td>0.027810</td>\n",
              "      <td>0.001380</td>\n",
              "      <td>0.000890</td>\n",
              "      <td>0.972420</td>\n",
              "      <td>0.372940</td>\n",
              "      <td>1.200180</td>\n",
              "      <td>0.000033</td>\n",
              "      <td>0.000033</td>\n",
              "      <td>0.000033</td>\n",
              "    </tr>\n",
              "    <tr>\n",
              "      <th>25%</th>\n",
              "      <td>25.750000</td>\n",
              "      <td>1072.822500</td>\n",
              "      <td>0.713615</td>\n",
              "      <td>0.320993</td>\n",
              "      <td>0.949772</td>\n",
              "      <td>0.935310</td>\n",
              "      <td>0.958973</td>\n",
              "      <td>0.971665</td>\n",
              "      <td>0.668542</td>\n",
              "      <td>1.048270</td>\n",
              "      <td>0.385598</td>\n",
              "      <td>1.253880</td>\n",
              "      <td>0.000442</td>\n",
              "      <td>0.000442</td>\n",
              "      <td>0.000442</td>\n",
              "    </tr>\n",
              "    <tr>\n",
              "      <th>50%</th>\n",
              "      <td>50.500000</td>\n",
              "      <td>2072.330000</td>\n",
              "      <td>0.879205</td>\n",
              "      <td>0.380060</td>\n",
              "      <td>1.012880</td>\n",
              "      <td>0.941715</td>\n",
              "      <td>0.965490</td>\n",
              "      <td>0.973390</td>\n",
              "      <td>0.681775</td>\n",
              "      <td>1.071205</td>\n",
              "      <td>0.407730</td>\n",
              "      <td>1.286640</td>\n",
              "      <td>0.000834</td>\n",
              "      <td>0.000834</td>\n",
              "      <td>0.000834</td>\n",
              "    </tr>\n",
              "    <tr>\n",
              "      <th>75%</th>\n",
              "      <td>75.250000</td>\n",
              "      <td>3102.475000</td>\n",
              "      <td>1.056612</td>\n",
              "      <td>0.459710</td>\n",
              "      <td>1.106935</td>\n",
              "      <td>0.945985</td>\n",
              "      <td>0.971200</td>\n",
              "      <td>0.977090</td>\n",
              "      <td>0.692277</td>\n",
              "      <td>1.111220</td>\n",
              "      <td>0.440132</td>\n",
              "      <td>1.322185</td>\n",
              "      <td>0.001226</td>\n",
              "      <td>0.001226</td>\n",
              "      <td>0.001226</td>\n",
              "    </tr>\n",
              "    <tr>\n",
              "      <th>max</th>\n",
              "      <td>100.000000</td>\n",
              "      <td>4100.710000</td>\n",
              "      <td>1.817030</td>\n",
              "      <td>1.783750</td>\n",
              "      <td>1.568070</td>\n",
              "      <td>0.962540</td>\n",
              "      <td>0.982400</td>\n",
              "      <td>0.985060</td>\n",
              "      <td>0.707680</td>\n",
              "      <td>3.052700</td>\n",
              "      <td>inf</td>\n",
              "      <td>3.165640</td>\n",
              "      <td>0.001621</td>\n",
              "      <td>0.001621</td>\n",
              "      <td>0.001621</td>\n",
              "    </tr>\n",
              "  </tbody>\n",
              "</table>\n",
              "</div>\n",
              "    <div class=\"colab-df-buttons\">\n",
              "\n",
              "  <div class=\"colab-df-container\">\n",
              "    <button class=\"colab-df-convert\" onclick=\"convertToInteractive('df-b916d030-0942-4f21-b251-bc0339b29a91')\"\n",
              "            title=\"Convert this dataframe to an interactive table.\"\n",
              "            style=\"display:none;\">\n",
              "\n",
              "  <svg xmlns=\"http://www.w3.org/2000/svg\" height=\"24px\" viewBox=\"0 -960 960 960\">\n",
              "    <path d=\"M120-120v-720h720v720H120Zm60-500h600v-160H180v160Zm220 220h160v-160H400v160Zm0 220h160v-160H400v160ZM180-400h160v-160H180v160Zm440 0h160v-160H620v160ZM180-180h160v-160H180v160Zm440 0h160v-160H620v160Z\"/>\n",
              "  </svg>\n",
              "    </button>\n",
              "\n",
              "  <style>\n",
              "    .colab-df-container {\n",
              "      display:flex;\n",
              "      gap: 12px;\n",
              "    }\n",
              "\n",
              "    .colab-df-convert {\n",
              "      background-color: #E8F0FE;\n",
              "      border: none;\n",
              "      border-radius: 50%;\n",
              "      cursor: pointer;\n",
              "      display: none;\n",
              "      fill: #1967D2;\n",
              "      height: 32px;\n",
              "      padding: 0 0 0 0;\n",
              "      width: 32px;\n",
              "    }\n",
              "\n",
              "    .colab-df-convert:hover {\n",
              "      background-color: #E2EBFA;\n",
              "      box-shadow: 0px 1px 2px rgba(60, 64, 67, 0.3), 0px 1px 3px 1px rgba(60, 64, 67, 0.15);\n",
              "      fill: #174EA6;\n",
              "    }\n",
              "\n",
              "    .colab-df-buttons div {\n",
              "      margin-bottom: 4px;\n",
              "    }\n",
              "\n",
              "    [theme=dark] .colab-df-convert {\n",
              "      background-color: #3B4455;\n",
              "      fill: #D2E3FC;\n",
              "    }\n",
              "\n",
              "    [theme=dark] .colab-df-convert:hover {\n",
              "      background-color: #434B5C;\n",
              "      box-shadow: 0px 1px 3px 1px rgba(0, 0, 0, 0.15);\n",
              "      filter: drop-shadow(0px 1px 2px rgba(0, 0, 0, 0.3));\n",
              "      fill: #FFFFFF;\n",
              "    }\n",
              "  </style>\n",
              "\n",
              "    <script>\n",
              "      const buttonEl =\n",
              "        document.querySelector('#df-b916d030-0942-4f21-b251-bc0339b29a91 button.colab-df-convert');\n",
              "      buttonEl.style.display =\n",
              "        google.colab.kernel.accessAllowed ? 'block' : 'none';\n",
              "\n",
              "      async function convertToInteractive(key) {\n",
              "        const element = document.querySelector('#df-b916d030-0942-4f21-b251-bc0339b29a91');\n",
              "        const dataTable =\n",
              "          await google.colab.kernel.invokeFunction('convertToInteractive',\n",
              "                                                    [key], {});\n",
              "        if (!dataTable) return;\n",
              "\n",
              "        const docLinkHtml = 'Like what you see? Visit the ' +\n",
              "          '<a target=\"_blank\" href=https://colab.research.google.com/notebooks/data_table.ipynb>data table notebook</a>'\n",
              "          + ' to learn more about interactive tables.';\n",
              "        element.innerHTML = '';\n",
              "        dataTable['output_type'] = 'display_data';\n",
              "        await google.colab.output.renderOutput(dataTable, element);\n",
              "        const docLink = document.createElement('div');\n",
              "        docLink.innerHTML = docLinkHtml;\n",
              "        element.appendChild(docLink);\n",
              "      }\n",
              "    </script>\n",
              "  </div>\n",
              "\n",
              "\n",
              "    <div id=\"df-881b5315-9fe8-411e-8b77-178e23747405\">\n",
              "      <button class=\"colab-df-quickchart\" onclick=\"quickchart('df-881b5315-9fe8-411e-8b77-178e23747405')\"\n",
              "                title=\"Suggest charts\"\n",
              "                style=\"display:none;\">\n",
              "\n",
              "<svg xmlns=\"http://www.w3.org/2000/svg\" height=\"24px\"viewBox=\"0 0 24 24\"\n",
              "     width=\"24px\">\n",
              "    <g>\n",
              "        <path d=\"M19 3H5c-1.1 0-2 .9-2 2v14c0 1.1.9 2 2 2h14c1.1 0 2-.9 2-2V5c0-1.1-.9-2-2-2zM9 17H7v-7h2v7zm4 0h-2V7h2v10zm4 0h-2v-4h2v4z\"/>\n",
              "    </g>\n",
              "</svg>\n",
              "      </button>\n",
              "\n",
              "<style>\n",
              "  .colab-df-quickchart {\n",
              "      --bg-color: #E8F0FE;\n",
              "      --fill-color: #1967D2;\n",
              "      --hover-bg-color: #E2EBFA;\n",
              "      --hover-fill-color: #174EA6;\n",
              "      --disabled-fill-color: #AAA;\n",
              "      --disabled-bg-color: #DDD;\n",
              "  }\n",
              "\n",
              "  [theme=dark] .colab-df-quickchart {\n",
              "      --bg-color: #3B4455;\n",
              "      --fill-color: #D2E3FC;\n",
              "      --hover-bg-color: #434B5C;\n",
              "      --hover-fill-color: #FFFFFF;\n",
              "      --disabled-bg-color: #3B4455;\n",
              "      --disabled-fill-color: #666;\n",
              "  }\n",
              "\n",
              "  .colab-df-quickchart {\n",
              "    background-color: var(--bg-color);\n",
              "    border: none;\n",
              "    border-radius: 50%;\n",
              "    cursor: pointer;\n",
              "    display: none;\n",
              "    fill: var(--fill-color);\n",
              "    height: 32px;\n",
              "    padding: 0;\n",
              "    width: 32px;\n",
              "  }\n",
              "\n",
              "  .colab-df-quickchart:hover {\n",
              "    background-color: var(--hover-bg-color);\n",
              "    box-shadow: 0 1px 2px rgba(60, 64, 67, 0.3), 0 1px 3px 1px rgba(60, 64, 67, 0.15);\n",
              "    fill: var(--button-hover-fill-color);\n",
              "  }\n",
              "\n",
              "  .colab-df-quickchart-complete:disabled,\n",
              "  .colab-df-quickchart-complete:disabled:hover {\n",
              "    background-color: var(--disabled-bg-color);\n",
              "    fill: var(--disabled-fill-color);\n",
              "    box-shadow: none;\n",
              "  }\n",
              "\n",
              "  .colab-df-spinner {\n",
              "    border: 2px solid var(--fill-color);\n",
              "    border-color: transparent;\n",
              "    border-bottom-color: var(--fill-color);\n",
              "    animation:\n",
              "      spin 1s steps(1) infinite;\n",
              "  }\n",
              "\n",
              "  @keyframes spin {\n",
              "    0% {\n",
              "      border-color: transparent;\n",
              "      border-bottom-color: var(--fill-color);\n",
              "      border-left-color: var(--fill-color);\n",
              "    }\n",
              "    20% {\n",
              "      border-color: transparent;\n",
              "      border-left-color: var(--fill-color);\n",
              "      border-top-color: var(--fill-color);\n",
              "    }\n",
              "    30% {\n",
              "      border-color: transparent;\n",
              "      border-left-color: var(--fill-color);\n",
              "      border-top-color: var(--fill-color);\n",
              "      border-right-color: var(--fill-color);\n",
              "    }\n",
              "    40% {\n",
              "      border-color: transparent;\n",
              "      border-right-color: var(--fill-color);\n",
              "      border-top-color: var(--fill-color);\n",
              "    }\n",
              "    60% {\n",
              "      border-color: transparent;\n",
              "      border-right-color: var(--fill-color);\n",
              "    }\n",
              "    80% {\n",
              "      border-color: transparent;\n",
              "      border-right-color: var(--fill-color);\n",
              "      border-bottom-color: var(--fill-color);\n",
              "    }\n",
              "    90% {\n",
              "      border-color: transparent;\n",
              "      border-bottom-color: var(--fill-color);\n",
              "    }\n",
              "  }\n",
              "</style>\n",
              "\n",
              "      <script>\n",
              "        async function quickchart(key) {\n",
              "          const quickchartButtonEl =\n",
              "            document.querySelector('#' + key + ' button');\n",
              "          quickchartButtonEl.disabled = true;  // To prevent multiple clicks.\n",
              "          quickchartButtonEl.classList.add('colab-df-spinner');\n",
              "          try {\n",
              "            const charts = await google.colab.kernel.invokeFunction(\n",
              "                'suggestCharts', [key], {});\n",
              "          } catch (error) {\n",
              "            console.error('Error during call to suggestCharts:', error);\n",
              "          }\n",
              "          quickchartButtonEl.classList.remove('colab-df-spinner');\n",
              "          quickchartButtonEl.classList.add('colab-df-quickchart-complete');\n",
              "        }\n",
              "        (() => {\n",
              "          let quickchartButtonEl =\n",
              "            document.querySelector('#df-881b5315-9fe8-411e-8b77-178e23747405 button');\n",
              "          quickchartButtonEl.style.display =\n",
              "            google.colab.kernel.accessAllowed ? 'block' : 'none';\n",
              "        })();\n",
              "      </script>\n",
              "    </div>\n",
              "\n",
              "    </div>\n",
              "  </div>\n"
            ],
            "application/vnd.google.colaboratory.intrinsic+json": {
              "type": "dataframe",
              "repr_error": "Out of range float values are not JSON compliant: inf"
            }
          },
          "metadata": {},
          "execution_count": 11
        }
      ]
    },
    {
      "cell_type": "code",
      "source": [
        "print(df_metrics.columns.to_list())\n",
        "# Graficar las métricas\n",
        "plt.figure(figsize=(12, 6))\n",
        "plt.plot(df_metrics[['epoch']], df_metrics[['train/cls_loss']], label='Train Loss')\n",
        "plt.plot(df_metrics[['epoch']], df_metrics[['metrics/mAP50(B)']], label='Val mAP@0.5')\n",
        "plt.plot(df_metrics[['epoch']], df_metrics[['metrics/mAP50-95(B)']], label='Val mAP@0.5:0.95')\n",
        "plt.plot(df_metrics[['epoch']], df_metrics[['metrics/precision(B)']], label='Validation Presicion')\n",
        "plt.xlabel('Época')\n",
        "plt.ylabel('Valor')\n",
        "plt.title('Métricas de Entrenamiento')\n",
        "plt.legend()\n",
        "plt.show()"
      ],
      "metadata": {
        "colab": {
          "base_uri": "https://localhost:8080/",
          "height": 566
        },
        "id": "sgqMYUP-t2QT",
        "outputId": "a696a047-6dc0-40e5-ab72-f35f8c6feee8"
      },
      "execution_count": 12,
      "outputs": [
        {
          "output_type": "stream",
          "name": "stdout",
          "text": [
            "['epoch', 'time', 'train/box_loss', 'train/cls_loss', 'train/dfl_loss', 'metrics/precision(B)', 'metrics/recall(B)', 'metrics/mAP50(B)', 'metrics/mAP50-95(B)', 'val/box_loss', 'val/cls_loss', 'val/dfl_loss', 'lr/pg0', 'lr/pg1', 'lr/pg2']\n"
          ]
        },
        {
          "output_type": "display_data",
          "data": {
            "text/plain": [
              "<Figure size 1200x600 with 1 Axes>"
            ],
            "image/png": "[encoded data removed]"
          },
          "metadata": {}
        }
      ]
    },
    {
      "cell_type": "code",
      "source": [
        "# Evaluar el modelo\n",
        "results = model.val()\n",
        "\n",
        "# Mostrar los resultados\n",
        "print(results)"
      ],
      "metadata": {
        "colab": {
          "base_uri": "https://localhost:8080/"
        },
        "id": "Yi8AiYcOt37V",
        "outputId": "f9cad809-9f06-4be2-80bb-8edfec4cbdd4"
      },
      "execution_count": 13,
      "outputs": [
        {
          "output_type": "stream",
          "name": "stdout",
          "text": [
            "Ultralytics 8.3.128 🚀 Python-3.11.12 torch-2.6.0+cu124 CUDA:0 (Tesla T4, 15095MiB)\n",
            "Model summary (fused): 112 layers, 43,608,150 parameters, 0 gradients, 164.8 GFLOPs\n",
            "\u001b[34m\u001b[1mval: \u001b[0mFast image access ✅ (ping: 0.0±0.0 ms, read: 2903.1±951.9 MB/s, size: 174.0 KB)\n"
          ]
        },
        {
          "output_type": "stream",
          "name": "stderr",
          "text": [
            "\u001b[34m\u001b[1mval: \u001b[0mScanning /content/TeethDetection-9/valid/labels.cache... 35 images, 1 backgrounds, 0 corrupt: 100%|██████████| 35/35 [00:00<?, ?it/s]\n",
            "                 Class     Images  Instances      Box(P          R      mAP50  mAP50-95): 100%|██████████| 3/3 [00:03<00:00,  1.11s/it]\n"
          ]
        },
        {
          "output_type": "stream",
          "name": "stdout",
          "text": [
            "                   all         35       1007      0.937      0.967      0.973      0.707\n",
            "                 tooth         34       1007      0.937      0.967      0.973      0.707\n",
            "Speed: 2.9ms preprocess, 50.9ms inference, 0.0ms loss, 11.6ms postprocess per image\n",
            "Results saved to \u001b[1mproyecto_xray/entrenamiento_xray2\u001b[0m\n",
            "ultralytics.utils.metrics.DetMetrics object with attributes:\n",
            "\n",
            "ap_class_index: array([1])\n",
            "box: ultralytics.utils.metrics.Metric object\n",
            "confusion_matrix: <ultralytics.utils.metrics.ConfusionMatrix object at 0x7b8196b6bed0>\n",
            "curves: ['Precision-Recall(B)', 'F1-Confidence(B)', 'Precision-Confidence(B)', 'Recall-Confidence(B)']\n",
            "curves_results: [[array([          0,    0.001001,    0.002002,    0.003003,    0.004004,    0.005005,    0.006006,    0.007007,    0.008008,    0.009009,     0.01001,    0.011011,    0.012012,    0.013013,    0.014014,    0.015015,    0.016016,    0.017017,    0.018018,    0.019019,     0.02002,    0.021021,    0.022022,    0.023023,\n",
            "          0.024024,    0.025025,    0.026026,    0.027027,    0.028028,    0.029029,     0.03003,    0.031031,    0.032032,    0.033033,    0.034034,    0.035035,    0.036036,    0.037037,    0.038038,    0.039039,     0.04004,    0.041041,    0.042042,    0.043043,    0.044044,    0.045045,    0.046046,    0.047047,\n",
            "          0.048048,    0.049049,     0.05005,    0.051051,    0.052052,    0.053053,    0.054054,    0.055055,    0.056056,    0.057057,    0.058058,    0.059059,     0.06006,    0.061061,    0.062062,    0.063063,    0.064064,    0.065065,    0.066066,    0.067067,    0.068068,    0.069069,     0.07007,    0.071071,\n",
            "          0.072072,    0.073073,    0.074074,    0.075075,    0.076076,    0.077077,    0.078078,    0.079079,     0.08008,    0.081081,    0.082082,    0.083083,    0.084084,    0.085085,    0.086086,    0.087087,    0.088088,    0.089089,     0.09009,    0.091091,    0.092092,    0.093093,    0.094094,    0.095095,\n",
            "          0.096096,    0.097097,    0.098098,    0.099099,      0.1001,      0.1011,      0.1021,      0.1031,      0.1041,     0.10511,     0.10611,     0.10711,     0.10811,     0.10911,     0.11011,     0.11111,     0.11211,     0.11311,     0.11411,     0.11512,     0.11612,     0.11712,     0.11812,     0.11912,\n",
            "           0.12012,     0.12112,     0.12212,     0.12312,     0.12412,     0.12513,     0.12613,     0.12713,     0.12813,     0.12913,     0.13013,     0.13113,     0.13213,     0.13313,     0.13413,     0.13514,     0.13614,     0.13714,     0.13814,     0.13914,     0.14014,     0.14114,     0.14214,     0.14314,\n",
            "           0.14414,     0.14515,     0.14615,     0.14715,     0.14815,     0.14915,     0.15015,     0.15115,     0.15215,     0.15315,     0.15415,     0.15516,     0.15616,     0.15716,     0.15816,     0.15916,     0.16016,     0.16116,     0.16216,     0.16316,     0.16416,     0.16517,     0.16617,     0.16717,\n",
            "           0.16817,     0.16917,     0.17017,     0.17117,     0.17217,     0.17317,     0.17417,     0.17518,     0.17618,     0.17718,     0.17818,     0.17918,     0.18018,     0.18118,     0.18218,     0.18318,     0.18418,     0.18519,     0.18619,     0.18719,     0.18819,     0.18919,     0.19019,     0.19119,\n",
            "           0.19219,     0.19319,     0.19419,      0.1952,      0.1962,      0.1972,      0.1982,      0.1992,      0.2002,      0.2012,      0.2022,      0.2032,      0.2042,     0.20521,     0.20621,     0.20721,     0.20821,     0.20921,     0.21021,     0.21121,     0.21221,     0.21321,     0.21421,     0.21522,\n",
            "           0.21622,     0.21722,     0.21822,     0.21922,     0.22022,     0.22122,     0.22222,     0.22322,     0.22422,     0.22523,     0.22623,     0.22723,     0.22823,     0.22923,     0.23023,     0.23123,     0.23223,     0.23323,     0.23423,     0.23524,     0.23624,     0.23724,     0.23824,     0.23924,\n",
            "           0.24024,     0.24124,     0.24224,     0.24324,     0.24424,     0.24525,     0.24625,     0.24725,     0.24825,     0.24925,     0.25025,     0.25125,     0.25225,     0.25325,     0.25425,     0.25526,     0.25626,     0.25726,     0.25826,     0.25926,     0.26026,     0.26126,     0.26226,     0.26326,\n",
            "           0.26426,     0.26527,     0.26627,     0.26727,     0.26827,     0.26927,     0.27027,     0.27127,     0.27227,     0.27327,     0.27427,     0.27528,     0.27628,     0.27728,     0.27828,     0.27928,     0.28028,     0.28128,     0.28228,     0.28328,     0.28428,     0.28529,     0.28629,     0.28729,\n",
            "           0.28829,     0.28929,     0.29029,     0.29129,     0.29229,     0.29329,     0.29429,      0.2953,      0.2963,      0.2973,      0.2983,      0.2993,      0.3003,      0.3013,      0.3023,      0.3033,      0.3043,     0.30531,     0.30631,     0.30731,     0.30831,     0.30931,     0.31031,     0.31131,\n",
            "           0.31231,     0.31331,     0.31431,     0.31532,     0.31632,     0.31732,     0.31832,     0.31932,     0.32032,     0.32132,     0.32232,     0.32332,     0.32432,     0.32533,     0.32633,     0.32733,     0.32833,     0.32933,     0.33033,     0.33133,     0.33233,     0.33333,     0.33433,     0.33534,\n",
            "           0.33634,     0.33734,     0.33834,     0.33934,     0.34034,     0.34134,     0.34234,     0.34334,     0.34434,     0.34535,     0.34635,     0.34735,     0.34835,     0.34935,     0.35035,     0.35135,     0.35235,     0.35335,     0.35435,     0.35536,     0.35636,     0.35736,     0.35836,     0.35936,\n",
            "           0.36036,     0.36136,     0.36236,     0.36336,     0.36436,     0.36537,     0.36637,     0.36737,     0.36837,     0.36937,     0.37037,     0.37137,     0.37237,     0.37337,     0.37437,     0.37538,     0.37638,     0.37738,     0.37838,     0.37938,     0.38038,     0.38138,     0.38238,     0.38338,\n",
            "           0.38438,     0.38539,     0.38639,     0.38739,     0.38839,     0.38939,     0.39039,     0.39139,     0.39239,     0.39339,     0.39439,      0.3954,      0.3964,      0.3974,      0.3984,      0.3994,      0.4004,      0.4014,      0.4024,      0.4034,      0.4044,     0.40541,     0.40641,     0.40741,\n",
            "           0.40841,     0.40941,     0.41041,     0.41141,     0.41241,     0.41341,     0.41441,     0.41542,     0.41642,     0.41742,     0.41842,     0.41942,     0.42042,     0.42142,     0.42242,     0.42342,     0.42442,     0.42543,     0.42643,     0.42743,     0.42843,     0.42943,     0.43043,     0.43143,\n",
            "           0.43243,     0.43343,     0.43443,     0.43544,     0.43644,     0.43744,     0.43844,     0.43944,     0.44044,     0.44144,     0.44244,     0.44344,     0.44444,     0.44545,     0.44645,     0.44745,     0.44845,     0.44945,     0.45045,     0.45145,     0.45245,     0.45345,     0.45445,     0.45546,\n",
            "           0.45646,     0.45746,     0.45846,     0.45946,     0.46046,     0.46146,     0.46246,     0.46346,     0.46446,     0.46547,     0.46647,     0.46747,     0.46847,     0.46947,     0.47047,     0.47147,     0.47247,     0.47347,     0.47447,     0.47548,     0.47648,     0.47748,     0.47848,     0.47948,\n",
            "           0.48048,     0.48148,     0.48248,     0.48348,     0.48448,     0.48549,     0.48649,     0.48749,     0.48849,     0.48949,     0.49049,     0.49149,     0.49249,     0.49349,     0.49449,      0.4955,      0.4965,      0.4975,      0.4985,      0.4995,      0.5005,      0.5015,      0.5025,      0.5035,\n",
            "            0.5045,     0.50551,     0.50651,     0.50751,     0.50851,     0.50951,     0.51051,     0.51151,     0.51251,     0.51351,     0.51451,     0.51552,     0.51652,     0.51752,     0.51852,     0.51952,     0.52052,     0.52152,     0.52252,     0.52352,     0.52452,     0.52553,     0.52653,     0.52753,\n",
            "           0.52853,     0.52953,     0.53053,     0.53153,     0.53253,     0.53353,     0.53453,     0.53554,     0.53654,     0.53754,     0.53854,     0.53954,     0.54054,     0.54154,     0.54254,     0.54354,     0.54454,     0.54555,     0.54655,     0.54755,     0.54855,     0.54955,     0.55055,     0.55155,\n",
            "           0.55255,     0.55355,     0.55455,     0.55556,     0.55656,     0.55756,     0.55856,     0.55956,     0.56056,     0.56156,     0.56256,     0.56356,     0.56456,     0.56557,     0.56657,     0.56757,     0.56857,     0.56957,     0.57057,     0.57157,     0.57257,     0.57357,     0.57457,     0.57558,\n",
            "           0.57658,     0.57758,     0.57858,     0.57958,     0.58058,     0.58158,     0.58258,     0.58358,     0.58458,     0.58559,     0.58659,     0.58759,     0.58859,     0.58959,     0.59059,     0.59159,     0.59259,     0.59359,     0.59459,      0.5956,      0.5966,      0.5976,      0.5986,      0.5996,\n",
            "            0.6006,      0.6016,      0.6026,      0.6036,      0.6046,     0.60561,     0.60661,     0.60761,     0.60861,     0.60961,     0.61061,     0.61161,     0.61261,     0.61361,     0.61461,     0.61562,     0.61662,     0.61762,     0.61862,     0.61962,     0.62062,     0.62162,     0.62262,     0.62362,\n",
            "           0.62462,     0.62563,     0.62663,     0.62763,     0.62863,     0.62963,     0.63063,     0.63163,     0.63263,     0.63363,     0.63463,     0.63564,     0.63664,     0.63764,     0.63864,     0.63964,     0.64064,     0.64164,     0.64264,     0.64364,     0.64464,     0.64565,     0.64665,     0.64765,\n",
            "           0.64865,     0.64965,     0.65065,     0.65165,     0.65265,     0.65365,     0.65465,     0.65566,     0.65666,     0.65766,     0.65866,     0.65966,     0.66066,     0.66166,     0.66266,     0.66366,     0.66466,     0.66567,     0.66667,     0.66767,     0.66867,     0.66967,     0.67067,     0.67167,\n",
            "           0.67267,     0.67367,     0.67467,     0.67568,     0.67668,     0.67768,     0.67868,     0.67968,     0.68068,     0.68168,     0.68268,     0.68368,     0.68468,     0.68569,     0.68669,     0.68769,     0.68869,     0.68969,     0.69069,     0.69169,     0.69269,     0.69369,     0.69469,      0.6957,\n",
            "            0.6967,      0.6977,      0.6987,      0.6997,      0.7007,      0.7017,      0.7027,      0.7037,      0.7047,     0.70571,     0.70671,     0.70771,     0.70871,     0.70971,     0.71071,     0.71171,     0.71271,     0.71371,     0.71471,     0.71572,     0.71672,     0.71772,     0.71872,     0.71972,\n",
            "           0.72072,     0.72172,     0.72272,     0.72372,     0.72472,     0.72573,     0.72673,     0.72773,     0.72873,     0.72973,     0.73073,     0.73173,     0.73273,     0.73373,     0.73473,     0.73574,     0.73674,     0.73774,     0.73874,     0.73974,     0.74074,     0.74174,     0.74274,     0.74374,\n",
            "           0.74474,     0.74575,     0.74675,     0.74775,     0.74875,     0.74975,     0.75075,     0.75175,     0.75275,     0.75375,     0.75475,     0.75576,     0.75676,     0.75776,     0.75876,     0.75976,     0.76076,     0.76176,     0.76276,     0.76376,     0.76476,     0.76577,     0.76677,     0.76777,\n",
            "           0.76877,     0.76977,     0.77077,     0.77177,     0.77277,     0.77377,     0.77477,     0.77578,     0.77678,     0.77778,     0.77878,     0.77978,     0.78078,     0.78178,     0.78278,     0.78378,     0.78478,     0.78579,     0.78679,     0.78779,     0.78879,     0.78979,     0.79079,     0.79179,\n",
            "           0.79279,     0.79379,     0.79479,      0.7958,      0.7968,      0.7978,      0.7988,      0.7998,      0.8008,      0.8018,      0.8028,      0.8038,      0.8048,     0.80581,     0.80681,     0.80781,     0.80881,     0.80981,     0.81081,     0.81181,     0.81281,     0.81381,     0.81481,     0.81582,\n",
            "           0.81682,     0.81782,     0.81882,     0.81982,     0.82082,     0.82182,     0.82282,     0.82382,     0.82482,     0.82583,     0.82683,     0.82783,     0.82883,     0.82983,     0.83083,     0.83183,     0.83283,     0.83383,     0.83483,     0.83584,     0.83684,     0.83784,     0.83884,     0.83984,\n",
            "           0.84084,     0.84184,     0.84284,     0.84384,     0.84484,     0.84585,     0.84685,     0.84785,     0.84885,     0.84985,     0.85085,     0.85185,     0.85285,     0.85385,     0.85485,     0.85586,     0.85686,     0.85786,     0.85886,     0.85986,     0.86086,     0.86186,     0.86286,     0.86386,\n",
            "           0.86486,     0.86587,     0.86687,     0.86787,     0.86887,     0.86987,     0.87087,     0.87187,     0.87287,     0.87387,     0.87487,     0.87588,     0.87688,     0.87788,     0.87888,     0.87988,     0.88088,     0.88188,     0.88288,     0.88388,     0.88488,     0.88589,     0.88689,     0.88789,\n",
            "           0.88889,     0.88989,     0.89089,     0.89189,     0.89289,     0.89389,     0.89489,      0.8959,      0.8969,      0.8979,      0.8989,      0.8999,      0.9009,      0.9019,      0.9029,      0.9039,      0.9049,     0.90591,     0.90691,     0.90791,     0.90891,     0.90991,     0.91091,     0.91191,\n",
            "           0.91291,     0.91391,     0.91491,     0.91592,     0.91692,     0.91792,     0.91892,     0.91992,     0.92092,     0.92192,     0.92292,     0.92392,     0.92492,     0.92593,     0.92693,     0.92793,     0.92893,     0.92993,     0.93093,     0.93193,     0.93293,     0.93393,     0.93493,     0.93594,\n",
            "           0.93694,     0.93794,     0.93894,     0.93994,     0.94094,     0.94194,     0.94294,     0.94394,     0.94494,     0.94595,     0.94695,     0.94795,     0.94895,     0.94995,     0.95095,     0.95195,     0.95295,     0.95395,     0.95495,     0.95596,     0.95696,     0.95796,     0.95896,     0.95996,\n",
            "           0.96096,     0.96196,     0.96296,     0.96396,     0.96496,     0.96597,     0.96697,     0.96797,     0.96897,     0.96997,     0.97097,     0.97197,     0.97297,     0.97397,     0.97497,     0.97598,     0.97698,     0.97798,     0.97898,     0.97998,     0.98098,     0.98198,     0.98298,     0.98398,\n",
            "           0.98498,     0.98599,     0.98699,     0.98799,     0.98899,     0.98999,     0.99099,     0.99199,     0.99299,     0.99399,     0.99499,       0.996,       0.997,       0.998,       0.999,           1]), array([[          1,           1,           1,           1,           1,           1,           1,           1,           1,           1,           1,           1,           1,           1,           1,           1,     0.98343,     0.98343,     0.98343,     0.98343,     0.98343,     0.98343,     0.98343,\n",
            "            0.98343,     0.98343,     0.98343,     0.98343,     0.98343,     0.98343,     0.98343,     0.98343,     0.98343,     0.98343,     0.98343,     0.98343,     0.98343,     0.98343,     0.98343,     0.98343,     0.98343,     0.98343,     0.98343,     0.98343,     0.98343,     0.98343,     0.98343,\n",
            "            0.98343,     0.98343,     0.98343,     0.98343,     0.98343,     0.98343,     0.98343,     0.98343,     0.98343,     0.98343,     0.98343,     0.98343,     0.98343,     0.98343,     0.98343,     0.98343,     0.98343,     0.98343,     0.98343,     0.98343,     0.98343,     0.98343,     0.98343,\n",
            "            0.98343,     0.98343,     0.98343,     0.98343,     0.98343,     0.98343,     0.98343,     0.98343,     0.98343,     0.98343,     0.98343,     0.98343,     0.98343,     0.98343,     0.98343,     0.98343,     0.98343,     0.98343,     0.98343,     0.98343,     0.98343,     0.98343,     0.98343,\n",
            "            0.98343,     0.98343,     0.98343,     0.98343,     0.98343,     0.98343,     0.98343,     0.98343,     0.98343,     0.98343,     0.98343,     0.98343,     0.98343,     0.98343,     0.98343,     0.98343,     0.98343,     0.98343,     0.98343,     0.98343,     0.98343,     0.98343,     0.98343,\n",
            "            0.98343,     0.98343,     0.98343,     0.98343,     0.98343,     0.98343,     0.98343,     0.98343,     0.98343,     0.98343,     0.98343,     0.98343,     0.98343,     0.98343,     0.98343,     0.98343,     0.98343,     0.98343,     0.98343,     0.98343,     0.98343,     0.98343,     0.98343,\n",
            "            0.98343,     0.98343,     0.98343,     0.98343,     0.98343,     0.98343,     0.98343,     0.98343,     0.98343,     0.98343,     0.98343,     0.98343,     0.98343,     0.98343,     0.98343,     0.98343,     0.98343,     0.98343,     0.98343,     0.98343,     0.98343,     0.98343,     0.98343,\n",
            "            0.98343,     0.98343,     0.98343,     0.98343,     0.98343,     0.98343,     0.98343,     0.98343,     0.98343,     0.98343,     0.98343,     0.98343,     0.98343,     0.98343,     0.98343,     0.98343,     0.98241,     0.98241,     0.98241,     0.98241,     0.98241,     0.98241,     0.98241,\n",
            "            0.98241,     0.98241,     0.98241,     0.98241,     0.98241,     0.98241,     0.98241,     0.98241,     0.98241,     0.98241,     0.98241,     0.98241,     0.98241,     0.98241,     0.98241,     0.98241,     0.98241,     0.98241,     0.98241,     0.98241,     0.98241,     0.98241,     0.98241,\n",
            "            0.98241,     0.98241,     0.98241,     0.98241,     0.98241,     0.98241,     0.98241,     0.98241,     0.98241,     0.98241,     0.98241,     0.98241,     0.98241,     0.98241,     0.98241,     0.98241,     0.98241,     0.98241,     0.98241,     0.98241,     0.98241,     0.98241,     0.98241,\n",
            "            0.98241,     0.98241,     0.98241,     0.98241,     0.98241,     0.98241,     0.98241,     0.98241,     0.98241,     0.98241,     0.98241,     0.98241,     0.98241,     0.98241,     0.98241,     0.98241,     0.98241,     0.98241,     0.98241,     0.98241,     0.98241,     0.98241,     0.98241,\n",
            "            0.98241,     0.98241,     0.98241,     0.98241,     0.98241,     0.98241,     0.98241,     0.98241,     0.98241,     0.98241,     0.98241,     0.98241,     0.98241,     0.98241,     0.98241,     0.98241,     0.98241,     0.98241,     0.98241,     0.98241,     0.98241,     0.98241,     0.98241,\n",
            "            0.98241,     0.98241,     0.98241,     0.98241,     0.98241,     0.98241,     0.98241,     0.98241,     0.98241,     0.98241,     0.98241,     0.98241,     0.98241,     0.98241,     0.98241,     0.98241,     0.98241,     0.98241,     0.98241,     0.98241,     0.98241,     0.98241,     0.98241,\n",
            "            0.98241,     0.98241,     0.98241,     0.98241,     0.98241,     0.98241,     0.98241,     0.98241,     0.98241,     0.98241,     0.98241,     0.98241,     0.98241,     0.98241,     0.98241,     0.98241,     0.98241,     0.98241,     0.98241,     0.98241,     0.98241,     0.98241,     0.98241,\n",
            "            0.98241,     0.98241,     0.98241,     0.98241,     0.98241,     0.98241,     0.98241,     0.98241,     0.98241,     0.98241,     0.98241,     0.98241,     0.98241,     0.98241,     0.98241,     0.98241,     0.98241,     0.98241,     0.98241,     0.98241,     0.98241,     0.98241,     0.98241,\n",
            "            0.98241,     0.98241,     0.98241,     0.98241,     0.98241,     0.98241,     0.98241,     0.98241,     0.98241,     0.98241,     0.98241,     0.98241,     0.98241,     0.98241,     0.98241,     0.98241,     0.98241,     0.98241,     0.98241,     0.98241,     0.98241,     0.98241,     0.98241,\n",
            "            0.98241,     0.98241,     0.98241,     0.98241,     0.98241,     0.98241,     0.98241,     0.98241,     0.98241,     0.98241,     0.98241,     0.98241,     0.98241,     0.98241,     0.98241,     0.98241,     0.98241,     0.98241,     0.98241,     0.98241,     0.98241,     0.98241,     0.98241,\n",
            "            0.98241,     0.98241,     0.98241,     0.98241,     0.98241,     0.98241,     0.98241,     0.98241,     0.98241,     0.98241,     0.98241,     0.98241,     0.98241,     0.98241,     0.98241,     0.98241,     0.98241,     0.98241,     0.98241,     0.98241,     0.98241,     0.98241,     0.98241,\n",
            "            0.98241,     0.98241,     0.98241,     0.98241,     0.98241,     0.98241,     0.98241,     0.98241,     0.98241,     0.98241,     0.98241,     0.98241,     0.98241,     0.98241,     0.98241,     0.98241,     0.98241,     0.98241,     0.98241,     0.98241,     0.98241,     0.98241,     0.98241,\n",
            "            0.98241,     0.98241,     0.98241,     0.98241,     0.98241,     0.98241,     0.98241,     0.98241,     0.98241,     0.98241,     0.98241,     0.98241,     0.98241,     0.98241,     0.98241,     0.98241,     0.98241,     0.98241,     0.98241,     0.98241,     0.98241,     0.98241,     0.98241,\n",
            "            0.98241,     0.98241,     0.98241,     0.98241,     0.98241,     0.98241,     0.98241,     0.98241,     0.98241,     0.98241,     0.98241,     0.98241,     0.98241,     0.98241,     0.98241,     0.98241,     0.98241,     0.98241,     0.98241,     0.98241,     0.98241,     0.98241,     0.98241,\n",
            "            0.98241,     0.98241,     0.98241,     0.98241,     0.98241,     0.98241,     0.98241,     0.98241,     0.98241,     0.98241,     0.98241,     0.98241,     0.98241,     0.98241,     0.98241,     0.98241,     0.98241,     0.98241,     0.98241,     0.98241,     0.98241,     0.98241,     0.98241,\n",
            "            0.98241,     0.98241,     0.98241,     0.98241,     0.98241,     0.98241,     0.98241,     0.98241,     0.98241,     0.98241,     0.98241,     0.98241,     0.98241,     0.98241,     0.98241,     0.98241,     0.98241,     0.98241,     0.98241,     0.98241,     0.98241,     0.98241,     0.98241,\n",
            "            0.98241,     0.98241,     0.98241,     0.98241,     0.98241,     0.98241,     0.98241,     0.98241,     0.98241,     0.98241,     0.98241,     0.98241,     0.98241,     0.98241,     0.98241,     0.98241,     0.98241,     0.98241,     0.98241,     0.98241,     0.98241,     0.98241,     0.98241,\n",
            "            0.98241,     0.98241,     0.98241,     0.98241,     0.98241,     0.98241,     0.98241,     0.98241,     0.98241,     0.98241,     0.98241,     0.98241,     0.98241,     0.98241,     0.98241,     0.98241,     0.98241,     0.98241,     0.98241,     0.98241,     0.98241,     0.98241,     0.98241,\n",
            "            0.98241,     0.98241,     0.98241,     0.98241,     0.98241,     0.98241,     0.98241,     0.98241,     0.98241,     0.98241,     0.98241,     0.98241,     0.98241,     0.98241,     0.98241,     0.98241,     0.98241,     0.98241,     0.98241,     0.98241,     0.98241,     0.98241,     0.98241,\n",
            "            0.98241,     0.98241,     0.98241,     0.98241,     0.98241,     0.98241,     0.98241,     0.98241,     0.98241,     0.98241,     0.98241,     0.98241,     0.98241,     0.98241,     0.98241,     0.98241,     0.98241,     0.98241,     0.98241,     0.98241,     0.98241,     0.98241,     0.98241,\n",
            "            0.98241,     0.98241,     0.98241,     0.98241,     0.98241,     0.98241,     0.98241,     0.98241,     0.98241,     0.98241,     0.98241,     0.98241,     0.98241,     0.98241,     0.98241,     0.98241,     0.98241,     0.98241,     0.98241,     0.98241,     0.98241,     0.98241,     0.98241,\n",
            "            0.98241,     0.98241,     0.98241,     0.98241,     0.98241,     0.98241,     0.98241,     0.98241,     0.98241,     0.98241,     0.98241,     0.98241,     0.98241,     0.98241,     0.98241,     0.98241,     0.98241,     0.98241,     0.98241,     0.98241,     0.98241,     0.98241,     0.98241,\n",
            "            0.98241,     0.98241,     0.98241,     0.98241,     0.98241,     0.98241,     0.98241,     0.98241,     0.98241,     0.98241,     0.98241,     0.98241,     0.98241,     0.98241,     0.98241,     0.98241,     0.98241,     0.98241,     0.98241,     0.98241,     0.98241,     0.98241,     0.98241,\n",
            "            0.98241,     0.98241,     0.98241,     0.98241,     0.98241,     0.98241,     0.98241,     0.98241,     0.98241,     0.98241,     0.98241,     0.98241,     0.98241,     0.98241,     0.98241,     0.98241,     0.98241,     0.98241,     0.98241,     0.98241,     0.98241,     0.98241,     0.98241,\n",
            "            0.98241,     0.98241,     0.98241,     0.98241,     0.98241,     0.98241,     0.98241,     0.98241,     0.98116,     0.98116,     0.98116,     0.98067,     0.98067,     0.98067,     0.98067,     0.98067,     0.98067,     0.98067,     0.98067,     0.98067,     0.98067,     0.98067,     0.98067,\n",
            "            0.98067,     0.98067,     0.98067,     0.98067,     0.98067,     0.98067,     0.98067,     0.98067,     0.98067,     0.98067,     0.98067,     0.98067,     0.98067,     0.98067,     0.98067,     0.98067,     0.98067,     0.98067,     0.98067,     0.97972,     0.97972,     0.97972,     0.97972,\n",
            "            0.97972,     0.97972,     0.97972,     0.97972,     0.97972,     0.97972,     0.97972,     0.97972,     0.97937,     0.97937,     0.97937,     0.97937,     0.97937,     0.97937,     0.97937,     0.97937,     0.97937,     0.97937,     0.97937,     0.97937,     0.97937,     0.97937,     0.97937,\n",
            "            0.97937,     0.97937,     0.97937,     0.97937,     0.97937,     0.97937,     0.97937,     0.97937,     0.97937,     0.97937,     0.97937,     0.97937,     0.97937,     0.97937,     0.97937,     0.97937,     0.97937,     0.97937,     0.97937,     0.97882,     0.97882,     0.97882,     0.97882,\n",
            "            0.97882,     0.97882,     0.97882,     0.97882,     0.97882,     0.97882,     0.97882,     0.97882,     0.97882,     0.97882,     0.97882,     0.97882,     0.97882,     0.97882,     0.97882,     0.97882,     0.97882,     0.97882,     0.97882,     0.97882,     0.97882,      0.9777,     0.97664,\n",
            "            0.97664,     0.97664,     0.97569,     0.97569,     0.97569,     0.97569,     0.97569,     0.97569,     0.97569,      0.9746,     0.97371,     0.97371,     0.97371,     0.97371,     0.97371,     0.97371,     0.97371,     0.97371,     0.97294,     0.97294,     0.97294,     0.97294,     0.97294,\n",
            "            0.97294,     0.97294,     0.97294,     0.97294,     0.97294,     0.97294,     0.97222,     0.97222,     0.97222,     0.97222,     0.97222,     0.97222,     0.97222,     0.97222,     0.97222,     0.97222,     0.97222,     0.97222,     0.97118,      0.9702,      0.9702,      0.9702,     0.96937,\n",
            "            0.96937,     0.96937,     0.96937,     0.96937,     0.96937,     0.96868,     0.96868,     0.96868,     0.96868,     0.96868,     0.96868,     0.96868,     0.96868,     0.96868,     0.96868,     0.96868,     0.96781,     0.96781,     0.96781,     0.96781,     0.96781,     0.96713,     0.96713,\n",
            "            0.96713,     0.96713,     0.96713,     0.96713,     0.96713,     0.96713,     0.96713,     0.96713,     0.96621,     0.96621,     0.96621,     0.96432,     0.96432,     0.96432,     0.96432,     0.96347,     0.96347,     0.96347,     0.96347,      0.9617,      0.9617,      0.9617,      0.9617,\n",
            "             0.9617,      0.9617,     0.95988,     0.95988,     0.95988,     0.95988,     0.95914,     0.95914,     0.95914,     0.95914,     0.95914,     0.95914,     0.95736,     0.95736,     0.95736,     0.95736,     0.95648,     0.95648,     0.95556,     0.95473,     0.95473,     0.95473,      0.9519,\n",
            "            0.95105,     0.95105,     0.94648,     0.94648,     0.94648,     0.94565,     0.94565,     0.94483,     0.94483,     0.94303,     0.94233,     0.94233,     0.94233,     0.94233,     0.94163,     0.94163,     0.94163,     0.94163,     0.94083,     0.94083,     0.94004,     0.94004,     0.93828,\n",
            "            0.93756,     0.93756,     0.93756,     0.93672,      0.9341,     0.93238,     0.93067,     0.92898,     0.92729,     0.92568,     0.92568,     0.92402,     0.92329,     0.92329,     0.91397,     0.90568,         0.9,     0.89602,     0.89058,     0.89058,      0.8782,      0.8782,     0.87292,\n",
            "            0.85287,     0.76183,     0.69135,     0.56158,     0.48136,     0.40113,     0.32091,     0.24068,     0.16045,    0.080226,           0]]), 'Recall', 'Precision'], [array([          0,    0.001001,    0.002002,    0.003003,    0.004004,    0.005005,    0.006006,    0.007007,    0.008008,    0.009009,     0.01001,    0.011011,    0.012012,    0.013013,    0.014014,    0.015015,    0.016016,    0.017017,    0.018018,    0.019019,     0.02002,    0.021021,    0.022022,    0.023023,\n",
            "          0.024024,    0.025025,    0.026026,    0.027027,    0.028028,    0.029029,     0.03003,    0.031031,    0.032032,    0.033033,    0.034034,    0.035035,    0.036036,    0.037037,    0.038038,    0.039039,     0.04004,    0.041041,    0.042042,    0.043043,    0.044044,    0.045045,    0.046046,    0.047047,\n",
            "          0.048048,    0.049049,     0.05005,    0.051051,    0.052052,    0.053053,    0.054054,    0.055055,    0.056056,    0.057057,    0.058058,    0.059059,     0.06006,    0.061061,    0.062062,    0.063063,    0.064064,    0.065065,    0.066066,    0.067067,    0.068068,    0.069069,     0.07007,    0.071071,\n",
            "          0.072072,    0.073073,    0.074074,    0.075075,    0.076076,    0.077077,    0.078078,    0.079079,     0.08008,    0.081081,    0.082082,    0.083083,    0.084084,    0.085085,    0.086086,    0.087087,    0.088088,    0.089089,     0.09009,    0.091091,    0.092092,    0.093093,    0.094094,    0.095095,\n",
            "          0.096096,    0.097097,    0.098098,    0.099099,      0.1001,      0.1011,      0.1021,      0.1031,      0.1041,     0.10511,     0.10611,     0.10711,     0.10811,     0.10911,     0.11011,     0.11111,     0.11211,     0.11311,     0.11411,     0.11512,     0.11612,     0.11712,     0.11812,     0.11912,\n",
            "           0.12012,     0.12112,     0.12212,     0.12312,     0.12412,     0.12513,     0.12613,     0.12713,     0.12813,     0.12913,     0.13013,     0.13113,     0.13213,     0.13313,     0.13413,     0.13514,     0.13614,     0.13714,     0.13814,     0.13914,     0.14014,     0.14114,     0.14214,     0.14314,\n",
            "           0.14414,     0.14515,     0.14615,     0.14715,     0.14815,     0.14915,     0.15015,     0.15115,     0.15215,     0.15315,     0.15415,     0.15516,     0.15616,     0.15716,     0.15816,     0.15916,     0.16016,     0.16116,     0.16216,     0.16316,     0.16416,     0.16517,     0.16617,     0.16717,\n",
            "           0.16817,     0.16917,     0.17017,     0.17117,     0.17217,     0.17317,     0.17417,     0.17518,     0.17618,     0.17718,     0.17818,     0.17918,     0.18018,     0.18118,     0.18218,     0.18318,     0.18418,     0.18519,     0.18619,     0.18719,     0.18819,     0.18919,     0.19019,     0.19119,\n",
            "           0.19219,     0.19319,     0.19419,      0.1952,      0.1962,      0.1972,      0.1982,      0.1992,      0.2002,      0.2012,      0.2022,      0.2032,      0.2042,     0.20521,     0.20621,     0.20721,     0.20821,     0.20921,     0.21021,     0.21121,     0.21221,     0.21321,     0.21421,     0.21522,\n",
            "           0.21622,     0.21722,     0.21822,     0.21922,     0.22022,     0.22122,     0.22222,     0.22322,     0.22422,     0.22523,     0.22623,     0.22723,     0.22823,     0.22923,     0.23023,     0.23123,     0.23223,     0.23323,     0.23423,     0.23524,     0.23624,     0.23724,     0.23824,     0.23924,\n",
            "           0.24024,     0.24124,     0.24224,     0.24324,     0.24424,     0.24525,     0.24625,     0.24725,     0.24825,     0.24925,     0.25025,     0.25125,     0.25225,     0.25325,     0.25425,     0.25526,     0.25626,     0.25726,     0.25826,     0.25926,     0.26026,     0.26126,     0.26226,     0.26326,\n",
            "           0.26426,     0.26527,     0.26627,     0.26727,     0.26827,     0.26927,     0.27027,     0.27127,     0.27227,     0.27327,     0.27427,     0.27528,     0.27628,     0.27728,     0.27828,     0.27928,     0.28028,     0.28128,     0.28228,     0.28328,     0.28428,     0.28529,     0.28629,     0.28729,\n",
            "           0.28829,     0.28929,     0.29029,     0.29129,     0.29229,     0.29329,     0.29429,      0.2953,      0.2963,      0.2973,      0.2983,      0.2993,      0.3003,      0.3013,      0.3023,      0.3033,      0.3043,     0.30531,     0.30631,     0.30731,     0.30831,     0.30931,     0.31031,     0.31131,\n",
            "           0.31231,     0.31331,     0.31431,     0.31532,     0.31632,     0.31732,     0.31832,     0.31932,     0.32032,     0.32132,     0.32232,     0.32332,     0.32432,     0.32533,     0.32633,     0.32733,     0.32833,     0.32933,     0.33033,     0.33133,     0.33233,     0.33333,     0.33433,     0.33534,\n",
            "           0.33634,     0.33734,     0.33834,     0.33934,     0.34034,     0.34134,     0.34234,     0.34334,     0.34434,     0.34535,     0.34635,     0.34735,     0.34835,     0.34935,     0.35035,     0.35135,     0.35235,     0.35335,     0.35435,     0.35536,     0.35636,     0.35736,     0.35836,     0.35936,\n",
            "           0.36036,     0.36136,     0.36236,     0.36336,     0.36436,     0.36537,     0.36637,     0.36737,     0.36837,     0.36937,     0.37037,     0.37137,     0.37237,     0.37337,     0.37437,     0.37538,     0.37638,     0.37738,     0.37838,     0.37938,     0.38038,     0.38138,     0.38238,     0.38338,\n",
            "           0.38438,     0.38539,     0.38639,     0.38739,     0.38839,     0.38939,     0.39039,     0.39139,     0.39239,     0.39339,     0.39439,      0.3954,      0.3964,      0.3974,      0.3984,      0.3994,      0.4004,      0.4014,      0.4024,      0.4034,      0.4044,     0.40541,     0.40641,     0.40741,\n",
            "           0.40841,     0.40941,     0.41041,     0.41141,     0.41241,     0.41341,     0.41441,     0.41542,     0.41642,     0.41742,     0.41842,     0.41942,     0.42042,     0.42142,     0.42242,     0.42342,     0.42442,     0.42543,     0.42643,     0.42743,     0.42843,     0.42943,     0.43043,     0.43143,\n",
            "           0.43243,     0.43343,     0.43443,     0.43544,     0.43644,     0.43744,     0.43844,     0.43944,     0.44044,     0.44144,     0.44244,     0.44344,     0.44444,     0.44545,     0.44645,     0.44745,     0.44845,     0.44945,     0.45045,     0.45145,     0.45245,     0.45345,     0.45445,     0.45546,\n",
            "           0.45646,     0.45746,     0.45846,     0.45946,     0.46046,     0.46146,     0.46246,     0.46346,     0.46446,     0.46547,     0.46647,     0.46747,     0.46847,     0.46947,     0.47047,     0.47147,     0.47247,     0.47347,     0.47447,     0.47548,     0.47648,     0.47748,     0.47848,     0.47948,\n",
            "           0.48048,     0.48148,     0.48248,     0.48348,     0.48448,     0.48549,     0.48649,     0.48749,     0.48849,     0.48949,     0.49049,     0.49149,     0.49249,     0.49349,     0.49449,      0.4955,      0.4965,      0.4975,      0.4985,      0.4995,      0.5005,      0.5015,      0.5025,      0.5035,\n",
            "            0.5045,     0.50551,     0.50651,     0.50751,     0.50851,     0.50951,     0.51051,     0.51151,     0.51251,     0.51351,     0.51451,     0.51552,     0.51652,     0.51752,     0.51852,     0.51952,     0.52052,     0.52152,     0.52252,     0.52352,     0.52452,     0.52553,     0.52653,     0.52753,\n",
            "           0.52853,     0.52953,     0.53053,     0.53153,     0.53253,     0.53353,     0.53453,     0.53554,     0.53654,     0.53754,     0.53854,     0.53954,     0.54054,     0.54154,     0.54254,     0.54354,     0.54454,     0.54555,     0.54655,     0.54755,     0.54855,     0.54955,     0.55055,     0.55155,\n",
            "           0.55255,     0.55355,     0.55455,     0.55556,     0.55656,     0.55756,     0.55856,     0.55956,     0.56056,     0.56156,     0.56256,     0.56356,     0.56456,     0.56557,     0.56657,     0.56757,     0.56857,     0.56957,     0.57057,     0.57157,     0.57257,     0.57357,     0.57457,     0.57558,\n",
            "           0.57658,     0.57758,     0.57858,     0.57958,     0.58058,     0.58158,     0.58258,     0.58358,     0.58458,     0.58559,     0.58659,     0.58759,     0.58859,     0.58959,     0.59059,     0.59159,     0.59259,     0.59359,     0.59459,      0.5956,      0.5966,      0.5976,      0.5986,      0.5996,\n",
            "            0.6006,      0.6016,      0.6026,      0.6036,      0.6046,     0.60561,     0.60661,     0.60761,     0.60861,     0.60961,     0.61061,     0.61161,     0.61261,     0.61361,     0.61461,     0.61562,     0.61662,     0.61762,     0.61862,     0.61962,     0.62062,     0.62162,     0.62262,     0.62362,\n",
            "           0.62462,     0.62563,     0.62663,     0.62763,     0.62863,     0.62963,     0.63063,     0.63163,     0.63263,     0.63363,     0.63463,     0.63564,     0.63664,     0.63764,     0.63864,     0.63964,     0.64064,     0.64164,     0.64264,     0.64364,     0.64464,     0.64565,     0.64665,     0.64765,\n",
            "           0.64865,     0.64965,     0.65065,     0.65165,     0.65265,     0.65365,     0.65465,     0.65566,     0.65666,     0.65766,     0.65866,     0.65966,     0.66066,     0.66166,     0.66266,     0.66366,     0.66466,     0.66567,     0.66667,     0.66767,     0.66867,     0.66967,     0.67067,     0.67167,\n",
            "           0.67267,     0.67367,     0.67467,     0.67568,     0.67668,     0.67768,     0.67868,     0.67968,     0.68068,     0.68168,     0.68268,     0.68368,     0.68468,     0.68569,     0.68669,     0.68769,     0.68869,     0.68969,     0.69069,     0.69169,     0.69269,     0.69369,     0.69469,      0.6957,\n",
            "            0.6967,      0.6977,      0.6987,      0.6997,      0.7007,      0.7017,      0.7027,      0.7037,      0.7047,     0.70571,     0.70671,     0.70771,     0.70871,     0.70971,     0.71071,     0.71171,     0.71271,     0.71371,     0.71471,     0.71572,     0.71672,     0.71772,     0.71872,     0.71972,\n",
            "           0.72072,     0.72172,     0.72272,     0.72372,     0.72472,     0.72573,     0.72673,     0.72773,     0.72873,     0.72973,     0.73073,     0.73173,     0.73273,     0.73373,     0.73473,     0.73574,     0.73674,     0.73774,     0.73874,     0.73974,     0.74074,     0.74174,     0.74274,     0.74374,\n",
            "           0.74474,     0.74575,     0.74675,     0.74775,     0.74875,     0.74975,     0.75075,     0.75175,     0.75275,     0.75375,     0.75475,     0.75576,     0.75676,     0.75776,     0.75876,     0.75976,     0.76076,     0.76176,     0.76276,     0.76376,     0.76476,     0.76577,     0.76677,     0.76777,\n",
            "           0.76877,     0.76977,     0.77077,     0.77177,     0.77277,     0.77377,     0.77477,     0.77578,     0.77678,     0.77778,     0.77878,     0.77978,     0.78078,     0.78178,     0.78278,     0.78378,     0.78478,     0.78579,     0.78679,     0.78779,     0.78879,     0.78979,     0.79079,     0.79179,\n",
            "           0.79279,     0.79379,     0.79479,      0.7958,      0.7968,      0.7978,      0.7988,      0.7998,      0.8008,      0.8018,      0.8028,      0.8038,      0.8048,     0.80581,     0.80681,     0.80781,     0.80881,     0.80981,     0.81081,     0.81181,     0.81281,     0.81381,     0.81481,     0.81582,\n",
            "           0.81682,     0.81782,     0.81882,     0.81982,     0.82082,     0.82182,     0.82282,     0.82382,     0.82482,     0.82583,     0.82683,     0.82783,     0.82883,     0.82983,     0.83083,     0.83183,     0.83283,     0.83383,     0.83483,     0.83584,     0.83684,     0.83784,     0.83884,     0.83984,\n",
            "           0.84084,     0.84184,     0.84284,     0.84384,     0.84484,     0.84585,     0.84685,     0.84785,     0.84885,     0.84985,     0.85085,     0.85185,     0.85285,     0.85385,     0.85485,     0.85586,     0.85686,     0.85786,     0.85886,     0.85986,     0.86086,     0.86186,     0.86286,     0.86386,\n",
            "           0.86486,     0.86587,     0.86687,     0.86787,     0.86887,     0.86987,     0.87087,     0.87187,     0.87287,     0.87387,     0.87487,     0.87588,     0.87688,     0.87788,     0.87888,     0.87988,     0.88088,     0.88188,     0.88288,     0.88388,     0.88488,     0.88589,     0.88689,     0.88789,\n",
            "           0.88889,     0.88989,     0.89089,     0.89189,     0.89289,     0.89389,     0.89489,      0.8959,      0.8969,      0.8979,      0.8989,      0.8999,      0.9009,      0.9019,      0.9029,      0.9039,      0.9049,     0.90591,     0.90691,     0.90791,     0.90891,     0.90991,     0.91091,     0.91191,\n",
            "           0.91291,     0.91391,     0.91491,     0.91592,     0.91692,     0.91792,     0.91892,     0.91992,     0.92092,     0.92192,     0.92292,     0.92392,     0.92492,     0.92593,     0.92693,     0.92793,     0.92893,     0.92993,     0.93093,     0.93193,     0.93293,     0.93393,     0.93493,     0.93594,\n",
            "           0.93694,     0.93794,     0.93894,     0.93994,     0.94094,     0.94194,     0.94294,     0.94394,     0.94494,     0.94595,     0.94695,     0.94795,     0.94895,     0.94995,     0.95095,     0.95195,     0.95295,     0.95395,     0.95495,     0.95596,     0.95696,     0.95796,     0.95896,     0.95996,\n",
            "           0.96096,     0.96196,     0.96296,     0.96396,     0.96496,     0.96597,     0.96697,     0.96797,     0.96897,     0.96997,     0.97097,     0.97197,     0.97297,     0.97397,     0.97497,     0.97598,     0.97698,     0.97798,     0.97898,     0.97998,     0.98098,     0.98198,     0.98298,     0.98398,\n",
            "           0.98498,     0.98599,     0.98699,     0.98799,     0.98899,     0.98999,     0.99099,     0.99199,     0.99299,     0.99399,     0.99499,       0.996,       0.997,       0.998,       0.999,           1]), array([[    0.77562,     0.77562,     0.83772,     0.86555,     0.88546,     0.89568,      0.9029,     0.91053,     0.91552,     0.91863,     0.92104,     0.92417,     0.92692,     0.92792,     0.92961,     0.92915,     0.93081,     0.93209,     0.93263,     0.93368,     0.93449,     0.93518,     0.93538,\n",
            "            0.93579,     0.93496,     0.93566,     0.93777,     0.93764,     0.93767,      0.9379,     0.93931,     0.93971,     0.93999,     0.94035,     0.94103,     0.94115,     0.94128,      0.9414,     0.94179,     0.94212,     0.94198,     0.94266,     0.94312,     0.94346,     0.94398,     0.94428,\n",
            "            0.94448,     0.94465,     0.94479,     0.94493,      0.9452,     0.94554,     0.94578,     0.94615,     0.94606,     0.94631,     0.94648,     0.94665,     0.94679,     0.94688,     0.94697,     0.94706,     0.94715,     0.94723,     0.94729,     0.94735,     0.94741,     0.94746,     0.94752,\n",
            "            0.94758,     0.94764,     0.94808,     0.94829,     0.94847,     0.94869,       0.949,     0.94908,     0.94912,     0.94917,     0.94921,     0.94926,      0.9493,     0.94935,     0.94939,     0.94944,     0.94948,     0.94975,     0.95001,     0.95014,     0.95027,      0.9504,     0.95046,\n",
            "            0.95052,     0.95058,     0.95064,      0.9507,     0.95076,     0.95081,     0.95085,     0.95067,     0.95048,     0.95033,     0.95024,     0.95015,     0.95006,     0.94997,     0.94988,     0.95009,     0.95028,     0.95017,     0.95007,     0.94996,     0.94985,     0.94996,      0.9502,\n",
            "            0.95035,     0.95047,     0.95059,     0.95071,     0.95066,     0.95059,     0.95052,     0.95045,     0.95038,      0.9503,     0.95023,     0.95019,     0.95016,     0.95013,     0.95009,     0.95006,     0.95003,     0.94999,     0.94996,     0.94993,      0.9499,     0.94986,     0.94983,\n",
            "             0.9498,     0.94976,     0.94973,     0.94983,     0.95022,     0.95015,     0.95022,     0.95029,     0.95036,     0.95043,      0.9505,     0.95057,     0.95083,     0.95103,     0.95098,     0.95093,     0.95088,     0.95083,     0.95078,     0.95073,     0.95068,     0.95063,     0.95058,\n",
            "            0.95058,     0.95094,     0.95113,      0.9513,     0.95145,     0.95121,     0.95098,     0.95097,       0.951,     0.95103,     0.95106,     0.95109,     0.95112,     0.95115,     0.95117,      0.9512,     0.95123,     0.95126,     0.95129,     0.95132,     0.95135,     0.95138,     0.95141,\n",
            "            0.95159,      0.9518,     0.95177,     0.95163,     0.95148,     0.95139,     0.95157,     0.95174,     0.95227,     0.95219,     0.95208,     0.95198,     0.95187,      0.9518,     0.95204,     0.95228,     0.95255,     0.95275,     0.95286,     0.95297,     0.95307,     0.95266,     0.95269,\n",
            "            0.95271,     0.95273,     0.95276,     0.95278,     0.95281,     0.95283,     0.95286,     0.95288,      0.9529,     0.95293,     0.95295,     0.95298,       0.953,     0.95303,     0.95305,     0.95308,      0.9531,     0.95312,      0.9526,     0.95258,     0.95255,     0.95252,     0.95249,\n",
            "            0.95247,     0.95244,     0.95241,     0.95238,     0.95236,     0.95233,      0.9523,     0.95227,     0.95225,     0.95222,     0.95219,     0.95216,     0.95214,     0.95211,     0.95207,     0.95202,     0.95198,     0.95194,      0.9519,     0.95185,     0.95181,     0.95177,     0.95172,\n",
            "            0.95168,     0.95164,     0.95159,     0.95167,     0.95177,     0.95186,     0.95195,     0.95205,     0.95199,     0.95191,     0.95184,     0.95177,      0.9517,     0.95162,     0.95155,     0.95159,     0.95163,     0.95168,     0.95173,     0.95178,     0.95183,     0.95188,     0.95193,\n",
            "            0.95198,     0.95204,     0.95211,     0.95219,     0.95227,     0.95235,     0.95243,     0.95241,     0.95223,     0.95206,     0.95194,     0.95189,     0.95184,      0.9518,     0.95175,      0.9517,     0.95165,     0.95161,     0.95156,     0.95151,     0.95146,     0.95188,     0.95159,\n",
            "            0.95136,     0.95126,     0.95115,     0.95104,     0.95094,      0.9509,     0.95094,     0.95098,     0.95102,     0.95106,     0.95109,     0.95113,     0.95117,     0.95121,     0.95124,     0.95128,     0.95132,     0.95134,     0.95129,     0.95124,     0.95118,     0.95113,     0.95107,\n",
            "            0.95102,     0.95097,     0.95091,     0.95086,     0.95028,     0.95018,     0.95009,        0.95,      0.9499,     0.94981,     0.94969,     0.94956,     0.94943,      0.9493,      0.9493,     0.94932,     0.94933,     0.94935,     0.94937,     0.94938,      0.9494,     0.94942,     0.94943,\n",
            "            0.94945,     0.94947,     0.94948,      0.9495,     0.94952,     0.94953,     0.94955,     0.94957,     0.94958,      0.9496,     0.94962,     0.94963,     0.94965,     0.94967,     0.94968,      0.9497,     0.94972,     0.94973,     0.94975,     0.94944,     0.94922,     0.94918,     0.94914,\n",
            "            0.94909,     0.94905,     0.94901,     0.94897,     0.94893,     0.94889,     0.94884,      0.9488,     0.94876,     0.94872,     0.94843,     0.94777,     0.94775,     0.94782,     0.94789,     0.94796,     0.94803,      0.9481,     0.94796,     0.94766,     0.94772,     0.94779,     0.94785,\n",
            "            0.94792,     0.94799,     0.94805,     0.94811,     0.94813,     0.94816,     0.94819,     0.94821,     0.94824,     0.94826,     0.94829,     0.94832,     0.94834,     0.94837,      0.9484,     0.94842,     0.94845,     0.94848,      0.9485,     0.94853,     0.94856,     0.94855,     0.94853,\n",
            "             0.9485,     0.94848,     0.94845,     0.94843,     0.94841,     0.94838,     0.94836,     0.94833,     0.94831,     0.94828,     0.94826,     0.94824,     0.94821,     0.94819,     0.94816,     0.94814,     0.94812,     0.94809,     0.94807,     0.94802,     0.94776,     0.94753,     0.94765,\n",
            "            0.94777,     0.94789,     0.94747,     0.94745,     0.94743,     0.94741,     0.94738,     0.94736,     0.94734,     0.94732,      0.9473,     0.94727,     0.94725,     0.94723,     0.94721,     0.94719,     0.94716,     0.94714,     0.94712,      0.9471,     0.94708,     0.94705,     0.94703,\n",
            "            0.94701,     0.94699,     0.94697,     0.94696,     0.94701,     0.94705,     0.94709,     0.94713,     0.94718,     0.94722,     0.94726,     0.94731,     0.94735,     0.94739,     0.94739,     0.94728,     0.94717,     0.94706,     0.94695,     0.94686,     0.94679,     0.94671,     0.94664,\n",
            "            0.94657,      0.9465,     0.94643,     0.94635,     0.94627,     0.94618,     0.94609,     0.94601,     0.94592,      0.9459,     0.94613,     0.94645,     0.94682,     0.94688,     0.94694,       0.947,     0.94706,     0.94711,     0.94717,     0.94723,     0.94746,     0.94779,      0.9479,\n",
            "            0.94801,     0.94812,      0.9482,     0.94814,     0.94809,     0.94804,     0.94799,     0.94793,     0.94788,     0.94783,     0.94778,     0.94772,     0.94767,      0.9476,     0.94753,     0.94746,     0.94739,     0.94733,     0.94726,     0.94719,      0.9476,     0.94748,     0.94736,\n",
            "            0.94724,     0.94712,     0.94725,      0.9474,     0.94756,     0.94775,     0.94794,     0.94836,     0.94846,     0.94838,      0.9483,     0.94821,     0.94813,     0.94805,     0.94784,     0.94746,     0.94723,       0.947,     0.94698,     0.94702,     0.94706,     0.94709,     0.94713,\n",
            "            0.94717,     0.94721,     0.94725,     0.94729,     0.94733,     0.94737,     0.94741,     0.94731,     0.94714,     0.94697,     0.94701,     0.94721,      0.9473,     0.94701,     0.94644,     0.94642,     0.94653,     0.94665,     0.94677,     0.94672,     0.94665,     0.94658,     0.94651,\n",
            "            0.94643,     0.94636,     0.94629,     0.94584,     0.94548,     0.94517,     0.94469,      0.9452,     0.94528,     0.94536,     0.94544,     0.94552,      0.9456,     0.94553,     0.94541,      0.9453,     0.94518,     0.94503,     0.94465,     0.94444,     0.94428,     0.94412,     0.94399,\n",
            "            0.94391,     0.94383,     0.94375,     0.94366,     0.94358,      0.9435,     0.94294,     0.94282,     0.94269,     0.94256,     0.94244,     0.94275,     0.94277,     0.94253,      0.9422,     0.94154,     0.94119,     0.94103,     0.94087,     0.94079,     0.94089,     0.94098,     0.94108,\n",
            "            0.94118,     0.94145,     0.94134,     0.94081,        0.94,     0.93974,     0.93955,      0.9395,     0.93944,     0.93939,     0.93934,     0.93929,     0.93924,     0.93919,     0.93913,     0.93908,     0.93903,     0.93862,     0.93873,     0.93904,     0.93928,     0.93919,     0.93887,\n",
            "            0.93882,     0.93877,     0.93872,     0.93867,     0.93862,     0.93857,     0.93852,     0.93847,     0.93842,     0.93837,      0.9378,     0.93746,     0.93771,     0.93687,     0.93631,     0.93609,     0.93603,     0.93597,     0.93591,     0.93586,      0.9358,     0.93574,     0.93568,\n",
            "            0.93562,     0.93565,     0.93583,       0.936,     0.93632,     0.93648,     0.93635,     0.93622,     0.93609,     0.93597,     0.93588,      0.9358,     0.93571,     0.93563,     0.93554,     0.93545,     0.93531,     0.93517,     0.93502,     0.93492,     0.93501,     0.93511,      0.9352,\n",
            "            0.93529,     0.93538,     0.93524,     0.93511,     0.93497,     0.93482,     0.93436,     0.93376,     0.93323,     0.93312,     0.93303,     0.93295,     0.93286,     0.93278,     0.93269,     0.93189,      0.9311,     0.93005,     0.93023,     0.93021,     0.92996,     0.92945,     0.92896,\n",
            "            0.92846,     0.92779,     0.92771,      0.9273,     0.92695,     0.92626,     0.92578,     0.92561,     0.92544,     0.92502,     0.92432,     0.92379,     0.92312,     0.92283,     0.92257,      0.9217,      0.9214,     0.92072,     0.92037,     0.92008,     0.91985,     0.91962,     0.91953,\n",
            "            0.91944,     0.91935,     0.91926,     0.91917,     0.91908,     0.91853,     0.91867,     0.91881,     0.91895,     0.91774,     0.91757,      0.9174,     0.91724,     0.91741,     0.91675,     0.91608,     0.91419,     0.91364,     0.91352,     0.91341,     0.91329,     0.91317,      0.9129,\n",
            "            0.91245,     0.91192,     0.91133,     0.91119,     0.91106,     0.91093,     0.91089,     0.91124,     0.91066,     0.91024,     0.90865,     0.90589,     0.90517,      0.9049,     0.90368,     0.90316,     0.90178,     0.90155,     0.90126,       0.901,     0.90094,     0.90111,     0.89872,\n",
            "            0.89701,     0.89586,     0.89589,     0.89584,     0.89436,     0.89341,     0.89217,     0.89038,     0.88973,       0.888,     0.88537,     0.88225,     0.88177,     0.88104,     0.88004,     0.87768,     0.87476,     0.87314,     0.87034,     0.86611,     0.86187,     0.86054,     0.86074,\n",
            "             0.8566,     0.85351,     0.85078,     0.84864,     0.84608,     0.84177,     0.83867,     0.83513,     0.83239,     0.82986,     0.82499,     0.81994,     0.81764,     0.81379,     0.80865,     0.80353,     0.80134,     0.79589,     0.79225,     0.78648,     0.77843,     0.77252,     0.76644,\n",
            "            0.76118,     0.75835,     0.74607,     0.73968,     0.72814,     0.71828,     0.71297,     0.70191,     0.69364,     0.68545,     0.67275,     0.65601,     0.64558,     0.63236,     0.62118,     0.60517,     0.58732,     0.57543,     0.56542,     0.55358,     0.53923,      0.5228,     0.50748,\n",
            "            0.48528,     0.47094,     0.45335,     0.43163,     0.41289,      0.3977,     0.38003,     0.36594,     0.35998,     0.34472,     0.31995,     0.31066,     0.29722,     0.27768,     0.26538,     0.24751,     0.22899,     0.21763,     0.19637,     0.18276,     0.16712,      0.1546,     0.14113,\n",
            "             0.1262,     0.10827,    0.089722,    0.077106,    0.068073,    0.050544,    0.044026,    0.032924,    0.031888,    0.031269,    0.025959,    0.022845,    0.021275,     0.02021,    0.016977,    0.011074,   0.0086907,   0.0076489,   0.0071092,   0.0065691,   0.0060288,   0.0055282,   0.0050352,\n",
            "          0.0045419,   0.0040484,   0.0023815,           0,           0,           0,           0,           0,           0,           0,           0,           0,           0,           0,           0,           0,           0,           0,           0,           0,           0,           0,           0,\n",
            "                  0,           0,           0,           0,           0,           0,           0,           0,           0,           0,           0,           0,           0,           0,           0,           0,           0,           0,           0,           0,           0,           0,           0,\n",
            "                  0,           0,           0,           0,           0,           0,           0,           0,           0,           0,           0,           0,           0,           0,           0,           0,           0,           0,           0,           0,           0,           0,           0,\n",
            "                  0,           0,           0,           0,           0,           0,           0,           0,           0,           0,           0,           0,           0,           0,           0,           0,           0,           0,           0,           0,           0,           0,           0,\n",
            "                  0,           0,           0,           0,           0,           0,           0,           0,           0,           0,           0]]), 'Confidence', 'F1'], [array([          0,    0.001001,    0.002002,    0.003003,    0.004004,    0.005005,    0.006006,    0.007007,    0.008008,    0.009009,     0.01001,    0.011011,    0.012012,    0.013013,    0.014014,    0.015015,    0.016016,    0.017017,    0.018018,    0.019019,     0.02002,    0.021021,    0.022022,    0.023023,\n",
            "          0.024024,    0.025025,    0.026026,    0.027027,    0.028028,    0.029029,     0.03003,    0.031031,    0.032032,    0.033033,    0.034034,    0.035035,    0.036036,    0.037037,    0.038038,    0.039039,     0.04004,    0.041041,    0.042042,    0.043043,    0.044044,    0.045045,    0.046046,    0.047047,\n",
            "          0.048048,    0.049049,     0.05005,    0.051051,    0.052052,    0.053053,    0.054054,    0.055055,    0.056056,    0.057057,    0.058058,    0.059059,     0.06006,    0.061061,    0.062062,    0.063063,    0.064064,    0.065065,    0.066066,    0.067067,    0.068068,    0.069069,     0.07007,    0.071071,\n",
            "          0.072072,    0.073073,    0.074074,    0.075075,    0.076076,    0.077077,    0.078078,    0.079079,     0.08008,    0.081081,    0.082082,    0.083083,    0.084084,    0.085085,    0.086086,    0.087087,    0.088088,    0.089089,     0.09009,    0.091091,    0.092092,    0.093093,    0.094094,    0.095095,\n",
            "          0.096096,    0.097097,    0.098098,    0.099099,      0.1001,      0.1011,      0.1021,      0.1031,      0.1041,     0.10511,     0.10611,     0.10711,     0.10811,     0.10911,     0.11011,     0.11111,     0.11211,     0.11311,     0.11411,     0.11512,     0.11612,     0.11712,     0.11812,     0.11912,\n",
            "           0.12012,     0.12112,     0.12212,     0.12312,     0.12412,     0.12513,     0.12613,     0.12713,     0.12813,     0.12913,     0.13013,     0.13113,     0.13213,     0.13313,     0.13413,     0.13514,     0.13614,     0.13714,     0.13814,     0.13914,     0.14014,     0.14114,     0.14214,     0.14314,\n",
            "           0.14414,     0.14515,     0.14615,     0.14715,     0.14815,     0.14915,     0.15015,     0.15115,     0.15215,     0.15315,     0.15415,     0.15516,     0.15616,     0.15716,     0.15816,     0.15916,     0.16016,     0.16116,     0.16216,     0.16316,     0.16416,     0.16517,     0.16617,     0.16717,\n",
            "           0.16817,     0.16917,     0.17017,     0.17117,     0.17217,     0.17317,     0.17417,     0.17518,     0.17618,     0.17718,     0.17818,     0.17918,     0.18018,     0.18118,     0.18218,     0.18318,     0.18418,     0.18519,     0.18619,     0.18719,     0.18819,     0.18919,     0.19019,     0.19119,\n",
            "           0.19219,     0.19319,     0.19419,      0.1952,      0.1962,      0.1972,      0.1982,      0.1992,      0.2002,      0.2012,      0.2022,      0.2032,      0.2042,     0.20521,     0.20621,     0.20721,     0.20821,     0.20921,     0.21021,     0.21121,     0.21221,     0.21321,     0.21421,     0.21522,\n",
            "           0.21622,     0.21722,     0.21822,     0.21922,     0.22022,     0.22122,     0.22222,     0.22322,     0.22422,     0.22523,     0.22623,     0.22723,     0.22823,     0.22923,     0.23023,     0.23123,     0.23223,     0.23323,     0.23423,     0.23524,     0.23624,     0.23724,     0.23824,     0.23924,\n",
            "           0.24024,     0.24124,     0.24224,     0.24324,     0.24424,     0.24525,     0.24625,     0.24725,     0.24825,     0.24925,     0.25025,     0.25125,     0.25225,     0.25325,     0.25425,     0.25526,     0.25626,     0.25726,     0.25826,     0.25926,     0.26026,     0.26126,     0.26226,     0.26326,\n",
            "           0.26426,     0.26527,     0.26627,     0.26727,     0.26827,     0.26927,     0.27027,     0.27127,     0.27227,     0.27327,     0.27427,     0.27528,     0.27628,     0.27728,     0.27828,     0.27928,     0.28028,     0.28128,     0.28228,     0.28328,     0.28428,     0.28529,     0.28629,     0.28729,\n",
            "           0.28829,     0.28929,     0.29029,     0.29129,     0.29229,     0.29329,     0.29429,      0.2953,      0.2963,      0.2973,      0.2983,      0.2993,      0.3003,      0.3013,      0.3023,      0.3033,      0.3043,     0.30531,     0.30631,     0.30731,     0.30831,     0.30931,     0.31031,     0.31131,\n",
            "           0.31231,     0.31331,     0.31431,     0.31532,     0.31632,     0.31732,     0.31832,     0.31932,     0.32032,     0.32132,     0.32232,     0.32332,     0.32432,     0.32533,     0.32633,     0.32733,     0.32833,     0.32933,     0.33033,     0.33133,     0.33233,     0.33333,     0.33433,     0.33534,\n",
            "           0.33634,     0.33734,     0.33834,     0.33934,     0.34034,     0.34134,     0.34234,     0.34334,     0.34434,     0.34535,     0.34635,     0.34735,     0.34835,     0.34935,     0.35035,     0.35135,     0.35235,     0.35335,     0.35435,     0.35536,     0.35636,     0.35736,     0.35836,     0.35936,\n",
            "           0.36036,     0.36136,     0.36236,     0.36336,     0.36436,     0.36537,     0.36637,     0.36737,     0.36837,     0.36937,     0.37037,     0.37137,     0.37237,     0.37337,     0.37437,     0.37538,     0.37638,     0.37738,     0.37838,     0.37938,     0.38038,     0.38138,     0.38238,     0.38338,\n",
            "           0.38438,     0.38539,     0.38639,     0.38739,     0.38839,     0.38939,     0.39039,     0.39139,     0.39239,     0.39339,     0.39439,      0.3954,      0.3964,      0.3974,      0.3984,      0.3994,      0.4004,      0.4014,      0.4024,      0.4034,      0.4044,     0.40541,     0.40641,     0.40741,\n",
            "           0.40841,     0.40941,     0.41041,     0.41141,     0.41241,     0.41341,     0.41441,     0.41542,     0.41642,     0.41742,     0.41842,     0.41942,     0.42042,     0.42142,     0.42242,     0.42342,     0.42442,     0.42543,     0.42643,     0.42743,     0.42843,     0.42943,     0.43043,     0.43143,\n",
            "           0.43243,     0.43343,     0.43443,     0.43544,     0.43644,     0.43744,     0.43844,     0.43944,     0.44044,     0.44144,     0.44244,     0.44344,     0.44444,     0.44545,     0.44645,     0.44745,     0.44845,     0.44945,     0.45045,     0.45145,     0.45245,     0.45345,     0.45445,     0.45546,\n",
            "           0.45646,     0.45746,     0.45846,     0.45946,     0.46046,     0.46146,     0.46246,     0.46346,     0.46446,     0.46547,     0.46647,     0.46747,     0.46847,     0.46947,     0.47047,     0.47147,     0.47247,     0.47347,     0.47447,     0.47548,     0.47648,     0.47748,     0.47848,     0.47948,\n",
            "           0.48048,     0.48148,     0.48248,     0.48348,     0.48448,     0.48549,     0.48649,     0.48749,     0.48849,     0.48949,     0.49049,     0.49149,     0.49249,     0.49349,     0.49449,      0.4955,      0.4965,      0.4975,      0.4985,      0.4995,      0.5005,      0.5015,      0.5025,      0.5035,\n",
            "            0.5045,     0.50551,     0.50651,     0.50751,     0.50851,     0.50951,     0.51051,     0.51151,     0.51251,     0.51351,     0.51451,     0.51552,     0.51652,     0.51752,     0.51852,     0.51952,     0.52052,     0.52152,     0.52252,     0.52352,     0.52452,     0.52553,     0.52653,     0.52753,\n",
            "           0.52853,     0.52953,     0.53053,     0.53153,     0.53253,     0.53353,     0.53453,     0.53554,     0.53654,     0.53754,     0.53854,     0.53954,     0.54054,     0.54154,     0.54254,     0.54354,     0.54454,     0.54555,     0.54655,     0.54755,     0.54855,     0.54955,     0.55055,     0.55155,\n",
            "           0.55255,     0.55355,     0.55455,     0.55556,     0.55656,     0.55756,     0.55856,     0.55956,     0.56056,     0.56156,     0.56256,     0.56356,     0.56456,     0.56557,     0.56657,     0.56757,     0.56857,     0.56957,     0.57057,     0.57157,     0.57257,     0.57357,     0.57457,     0.57558,\n",
            "           0.57658,     0.57758,     0.57858,     0.57958,     0.58058,     0.58158,     0.58258,     0.58358,     0.58458,     0.58559,     0.58659,     0.58759,     0.58859,     0.58959,     0.59059,     0.59159,     0.59259,     0.59359,     0.59459,      0.5956,      0.5966,      0.5976,      0.5986,      0.5996,\n",
            "            0.6006,      0.6016,      0.6026,      0.6036,      0.6046,     0.60561,     0.60661,     0.60761,     0.60861,     0.60961,     0.61061,     0.61161,     0.61261,     0.61361,     0.61461,     0.61562,     0.61662,     0.61762,     0.61862,     0.61962,     0.62062,     0.62162,     0.62262,     0.62362,\n",
            "           0.62462,     0.62563,     0.62663,     0.62763,     0.62863,     0.62963,     0.63063,     0.63163,     0.63263,     0.63363,     0.63463,     0.63564,     0.63664,     0.63764,     0.63864,     0.63964,     0.64064,     0.64164,     0.64264,     0.64364,     0.64464,     0.64565,     0.64665,     0.64765,\n",
            "           0.64865,     0.64965,     0.65065,     0.65165,     0.65265,     0.65365,     0.65465,     0.65566,     0.65666,     0.65766,     0.65866,     0.65966,     0.66066,     0.66166,     0.66266,     0.66366,     0.66466,     0.66567,     0.66667,     0.66767,     0.66867,     0.66967,     0.67067,     0.67167,\n",
            "           0.67267,     0.67367,     0.67467,     0.67568,     0.67668,     0.67768,     0.67868,     0.67968,     0.68068,     0.68168,     0.68268,     0.68368,     0.68468,     0.68569,     0.68669,     0.68769,     0.68869,     0.68969,     0.69069,     0.69169,     0.69269,     0.69369,     0.69469,      0.6957,\n",
            "            0.6967,      0.6977,      0.6987,      0.6997,      0.7007,      0.7017,      0.7027,      0.7037,      0.7047,     0.70571,     0.70671,     0.70771,     0.70871,     0.70971,     0.71071,     0.71171,     0.71271,     0.71371,     0.71471,     0.71572,     0.71672,     0.71772,     0.71872,     0.71972,\n",
            "           0.72072,     0.72172,     0.72272,     0.72372,     0.72472,     0.72573,     0.72673,     0.72773,     0.72873,     0.72973,     0.73073,     0.73173,     0.73273,     0.73373,     0.73473,     0.73574,     0.73674,     0.73774,     0.73874,     0.73974,     0.74074,     0.74174,     0.74274,     0.74374,\n",
            "           0.74474,     0.74575,     0.74675,     0.74775,     0.74875,     0.74975,     0.75075,     0.75175,     0.75275,     0.75375,     0.75475,     0.75576,     0.75676,     0.75776,     0.75876,     0.75976,     0.76076,     0.76176,     0.76276,     0.76376,     0.76476,     0.76577,     0.76677,     0.76777,\n",
            "           0.76877,     0.76977,     0.77077,     0.77177,     0.77277,     0.77377,     0.77477,     0.77578,     0.77678,     0.77778,     0.77878,     0.77978,     0.78078,     0.78178,     0.78278,     0.78378,     0.78478,     0.78579,     0.78679,     0.78779,     0.78879,     0.78979,     0.79079,     0.79179,\n",
            "           0.79279,     0.79379,     0.79479,      0.7958,      0.7968,      0.7978,      0.7988,      0.7998,      0.8008,      0.8018,      0.8028,      0.8038,      0.8048,     0.80581,     0.80681,     0.80781,     0.80881,     0.80981,     0.81081,     0.81181,     0.81281,     0.81381,     0.81481,     0.81582,\n",
            "           0.81682,     0.81782,     0.81882,     0.81982,     0.82082,     0.82182,     0.82282,     0.82382,     0.82482,     0.82583,     0.82683,     0.82783,     0.82883,     0.82983,     0.83083,     0.83183,     0.83283,     0.83383,     0.83483,     0.83584,     0.83684,     0.83784,     0.83884,     0.83984,\n",
            "           0.84084,     0.84184,     0.84284,     0.84384,     0.84484,     0.84585,     0.84685,     0.84785,     0.84885,     0.84985,     0.85085,     0.85185,     0.85285,     0.85385,     0.85485,     0.85586,     0.85686,     0.85786,     0.85886,     0.85986,     0.86086,     0.86186,     0.86286,     0.86386,\n",
            "           0.86486,     0.86587,     0.86687,     0.86787,     0.86887,     0.86987,     0.87087,     0.87187,     0.87287,     0.87387,     0.87487,     0.87588,     0.87688,     0.87788,     0.87888,     0.87988,     0.88088,     0.88188,     0.88288,     0.88388,     0.88488,     0.88589,     0.88689,     0.88789,\n",
            "           0.88889,     0.88989,     0.89089,     0.89189,     0.89289,     0.89389,     0.89489,      0.8959,      0.8969,      0.8979,      0.8989,      0.8999,      0.9009,      0.9019,      0.9029,      0.9039,      0.9049,     0.90591,     0.90691,     0.90791,     0.90891,     0.90991,     0.91091,     0.91191,\n",
            "           0.91291,     0.91391,     0.91491,     0.91592,     0.91692,     0.91792,     0.91892,     0.91992,     0.92092,     0.92192,     0.92292,     0.92392,     0.92492,     0.92593,     0.92693,     0.92793,     0.92893,     0.92993,     0.93093,     0.93193,     0.93293,     0.93393,     0.93493,     0.93594,\n",
            "           0.93694,     0.93794,     0.93894,     0.93994,     0.94094,     0.94194,     0.94294,     0.94394,     0.94494,     0.94595,     0.94695,     0.94795,     0.94895,     0.94995,     0.95095,     0.95195,     0.95295,     0.95395,     0.95495,     0.95596,     0.95696,     0.95796,     0.95896,     0.95996,\n",
            "           0.96096,     0.96196,     0.96296,     0.96396,     0.96496,     0.96597,     0.96697,     0.96797,     0.96897,     0.96997,     0.97097,     0.97197,     0.97297,     0.97397,     0.97497,     0.97598,     0.97698,     0.97798,     0.97898,     0.97998,     0.98098,     0.98198,     0.98298,     0.98398,\n",
            "           0.98498,     0.98599,     0.98699,     0.98799,     0.98899,     0.98999,     0.99099,     0.99199,     0.99299,     0.99399,     0.99499,       0.996,       0.997,       0.998,       0.999,           1]), array([[    0.63671,     0.63671,     0.72547,     0.76886,     0.80084,     0.81772,     0.82984,     0.84281,      0.8514,     0.85755,     0.86177,     0.86725,     0.87212,     0.87466,     0.87768,     0.87804,      0.8814,     0.88369,     0.88466,     0.88656,     0.88801,     0.88926,     0.88963,\n",
            "            0.89056,     0.89048,     0.89176,      0.8956,     0.89595,     0.89624,     0.89666,     0.89924,         0.9,     0.90131,     0.90198,     0.90323,     0.90346,     0.90369,     0.90392,     0.90463,     0.90525,     0.90561,      0.9071,     0.90794,     0.90858,     0.90954,     0.91009,\n",
            "            0.91048,     0.91078,     0.91104,      0.9113,     0.91181,     0.91245,     0.91288,     0.91358,     0.91392,     0.91474,     0.91505,     0.91537,     0.91564,     0.91581,     0.91598,     0.91615,     0.91632,     0.91647,     0.91658,     0.91668,     0.91679,      0.9169,       0.917,\n",
            "            0.91711,     0.91722,     0.91805,     0.91845,     0.91878,      0.9192,     0.91978,     0.91992,     0.92001,     0.92009,     0.92018,     0.92026,     0.92035,     0.92043,     0.92052,      0.9206,     0.92068,     0.92119,     0.92167,     0.92192,     0.92217,     0.92241,     0.92253,\n",
            "            0.92264,     0.92275,     0.92286,     0.92297,     0.92308,     0.92319,     0.92329,     0.92326,     0.92324,     0.92322,      0.9232,     0.92319,     0.92318,     0.92317,     0.92315,     0.92359,     0.92401,       0.924,     0.92398,     0.92396,     0.92395,     0.92423,     0.92469,\n",
            "            0.92498,      0.9252,     0.92543,     0.92565,     0.92567,     0.92566,     0.92565,     0.92564,     0.92563,     0.92562,     0.92561,     0.92561,      0.9256,      0.9256,     0.92559,     0.92559,     0.92559,     0.92558,     0.92558,     0.92557,     0.92557,     0.92556,     0.92556,\n",
            "            0.92555,     0.92555,     0.92554,     0.92577,     0.92651,     0.92728,     0.92742,     0.92755,     0.92768,     0.92781,     0.92794,     0.92807,     0.92857,     0.92898,     0.92897,     0.92896,     0.92896,     0.92895,     0.92894,     0.92894,     0.92893,     0.92892,     0.92892,\n",
            "            0.92899,     0.92969,     0.93006,     0.93037,     0.93067,     0.93064,     0.93061,     0.93066,     0.93071,     0.93077,     0.93082,     0.93088,     0.93093,     0.93099,     0.93104,      0.9311,     0.93115,     0.93121,     0.93126,     0.93132,     0.93138,     0.93143,     0.93149,\n",
            "            0.93184,     0.93225,     0.93237,     0.93235,     0.93233,     0.93238,     0.93271,     0.93304,     0.93407,     0.93408,     0.93407,     0.93406,     0.93405,     0.93407,     0.93453,       0.935,     0.93552,     0.93591,     0.93612,     0.93632,     0.93653,     0.93666,     0.93671,\n",
            "            0.93676,      0.9368,     0.93685,      0.9369,     0.93695,     0.93699,     0.93704,     0.93709,     0.93713,     0.93718,     0.93723,     0.93728,     0.93732,     0.93737,     0.93742,     0.93746,     0.93751,     0.93756,      0.9375,      0.9375,     0.93749,     0.93749,     0.93749,\n",
            "            0.93748,     0.93748,     0.93748,     0.93747,     0.93747,     0.93747,     0.93746,     0.93746,     0.93746,     0.93745,     0.93745,     0.93745,     0.93744,     0.93744,     0.93744,     0.93743,     0.93743,     0.93742,     0.93742,     0.93741,     0.93741,      0.9374,      0.9374,\n",
            "            0.93739,     0.93739,     0.93738,     0.93754,     0.93772,     0.93791,     0.93809,     0.93827,     0.93828,     0.93827,     0.93826,     0.93825,     0.93824,     0.93823,     0.93822,     0.93831,      0.9384,      0.9385,     0.93859,     0.93869,     0.93878,     0.93888,     0.93897,\n",
            "            0.93907,     0.93918,     0.93934,     0.93949,     0.93964,     0.93979,     0.93994,     0.94003,     0.94001,     0.93999,     0.93998,     0.93997,     0.93997,     0.93996,     0.93996,     0.93995,     0.93995,     0.93994,     0.93994,     0.93993,     0.93992,     0.94083,      0.9408,\n",
            "            0.94077,     0.94076,     0.94075,     0.94074,     0.94072,     0.94076,     0.94083,     0.94091,     0.94098,     0.94105,     0.94113,      0.9412,     0.94128,     0.94135,     0.94142,      0.9415,     0.94157,     0.94163,     0.94163,     0.94162,     0.94162,     0.94161,      0.9416,\n",
            "             0.9416,     0.94159,     0.94159,     0.94158,     0.94152,     0.94151,      0.9415,     0.94148,     0.94147,     0.94146,     0.94145,     0.94144,     0.94142,     0.94141,     0.94144,     0.94147,      0.9415,     0.94153,     0.94157,      0.9416,     0.94163,     0.94167,      0.9417,\n",
            "            0.94173,     0.94176,      0.9418,     0.94183,     0.94186,      0.9419,     0.94193,     0.94196,     0.94199,     0.94203,     0.94206,     0.94209,     0.94213,     0.94216,     0.94219,     0.94222,     0.94226,     0.94229,     0.94232,     0.94229,     0.94227,     0.94226,     0.94226,\n",
            "            0.94225,     0.94225,     0.94225,     0.94224,     0.94224,     0.94223,     0.94223,     0.94222,     0.94222,     0.94221,     0.94218,     0.94211,     0.94223,     0.94237,     0.94251,     0.94265,     0.94279,     0.94293,     0.94301,     0.94303,     0.94316,     0.94329,     0.94342,\n",
            "            0.94355,     0.94368,     0.94381,     0.94391,     0.94397,     0.94402,     0.94407,     0.94412,     0.94418,     0.94423,     0.94428,     0.94434,     0.94439,     0.94444,     0.94449,     0.94455,      0.9446,     0.94465,      0.9447,     0.94476,     0.94481,     0.94483,     0.94482,\n",
            "            0.94482,     0.94482,     0.94482,     0.94481,     0.94481,     0.94481,     0.94481,      0.9448,      0.9448,      0.9448,      0.9448,     0.94479,     0.94479,     0.94479,     0.94479,     0.94478,     0.94478,     0.94478,     0.94478,     0.94477,     0.94474,     0.94473,     0.94497,\n",
            "            0.94521,     0.94545,      0.9456,      0.9456,     0.94559,     0.94559,     0.94559,     0.94559,     0.94558,     0.94558,     0.94558,     0.94558,     0.94558,     0.94557,     0.94557,     0.94557,     0.94557,     0.94556,     0.94556,     0.94556,     0.94556,     0.94556,     0.94555,\n",
            "            0.94555,     0.94555,     0.94555,     0.94557,     0.94566,     0.94574,     0.94583,     0.94591,       0.946,     0.94608,     0.94617,     0.94625,     0.94634,     0.94642,     0.94648,     0.94647,     0.94646,     0.94644,     0.94643,     0.94642,     0.94642,     0.94641,      0.9464,\n",
            "             0.9464,     0.94639,     0.94638,     0.94637,     0.94636,     0.94636,     0.94635,     0.94634,     0.94633,     0.94641,     0.94688,     0.94752,     0.94827,     0.94839,      0.9485,     0.94862,     0.94873,     0.94885,     0.94897,     0.94908,     0.94956,     0.95021,     0.95043,\n",
            "            0.95065,     0.95088,     0.95105,     0.95104,     0.95104,     0.95103,     0.95103,     0.95102,     0.95102,     0.95101,     0.95101,       0.951,       0.951,     0.95099,     0.95099,     0.95098,     0.95097,     0.95097,     0.95096,     0.95095,      0.9519,     0.95189,     0.95188,\n",
            "            0.95187,     0.95186,     0.95214,     0.95246,     0.95277,     0.95315,     0.95354,     0.95439,     0.95472,     0.95472,     0.95471,      0.9547,     0.95469,     0.95469,     0.95467,     0.95464,     0.95462,      0.9546,     0.95465,     0.95473,     0.95481,     0.95489,     0.95497,\n",
            "            0.95505,     0.95513,     0.95521,     0.95529,     0.95537,     0.95545,     0.95553,     0.95555,     0.95553,     0.95552,     0.95574,     0.95616,     0.95647,     0.95645,      0.9564,      0.9566,     0.95684,     0.95709,     0.95733,     0.95736,     0.95735,     0.95734,     0.95734,\n",
            "            0.95733,     0.95733,     0.95732,     0.95728,     0.95725,     0.95723,     0.95719,     0.95829,     0.95845,     0.95862,     0.95878,     0.95895,     0.95911,     0.95913,     0.95913,     0.95912,     0.95911,      0.9591,     0.95907,     0.95905,     0.95904,     0.95902,     0.95901,\n",
            "            0.95901,       0.959,     0.95899,     0.95899,     0.95898,     0.95897,     0.95893,     0.95892,     0.95891,      0.9589,     0.95889,     0.95956,     0.95987,     0.95985,     0.95982,     0.95977,     0.95974,     0.95973,     0.95972,     0.95978,     0.95998,     0.96018,     0.96038,\n",
            "            0.96058,     0.96115,     0.96167,     0.96163,     0.96157,     0.96155,     0.96154,     0.96153,     0.96153,     0.96153,     0.96152,     0.96152,     0.96151,     0.96151,     0.96151,      0.9615,      0.9615,     0.96147,     0.96197,     0.96262,     0.96314,     0.96345,     0.96343,\n",
            "            0.96342,     0.96342,     0.96341,     0.96341,     0.96341,      0.9634,      0.9634,      0.9634,     0.96339,     0.96339,     0.96335,      0.9637,     0.96424,     0.96426,     0.96422,     0.96421,      0.9642,      0.9642,      0.9642,     0.96419,     0.96419,     0.96418,     0.96418,\n",
            "            0.96418,     0.96432,     0.96469,     0.96506,     0.96573,     0.96621,      0.9662,     0.96619,     0.96618,     0.96617,     0.96617,     0.96616,     0.96615,     0.96615,     0.96614,     0.96614,     0.96613,     0.96612,     0.96611,     0.96614,     0.96634,     0.96653,     0.96673,\n",
            "            0.96693,     0.96713,     0.96712,     0.96711,      0.9671,     0.96709,     0.96706,     0.96702,     0.96699,     0.96698,     0.96698,     0.96697,     0.96696,     0.96696,     0.96695,      0.9669,     0.96685,     0.96678,     0.96749,      0.9678,     0.96779,     0.96775,     0.96772,\n",
            "            0.96769,     0.96765,     0.96866,     0.96863,     0.96861,     0.96857,     0.96854,     0.96853,     0.96852,     0.96849,     0.96845,     0.96842,     0.96838,     0.96836,     0.96834,     0.96932,      0.9693,     0.96926,     0.96924,     0.96922,     0.96921,      0.9692,     0.96919,\n",
            "            0.96919,     0.96918,     0.96918,     0.96917,     0.96916,     0.96921,     0.96952,     0.96984,     0.97015,     0.97117,     0.97116,     0.97116,     0.97115,     0.97163,     0.97217,     0.97214,     0.97203,       0.972,       0.972,     0.97199,     0.97198,     0.97198,     0.97196,\n",
            "            0.97194,     0.97191,     0.97187,     0.97187,     0.97186,     0.97185,     0.97201,      0.9728,     0.97291,     0.97289,      0.9728,     0.97265,     0.97262,     0.97369,     0.97362,      0.9736,     0.97353,     0.97351,      0.9735,     0.97406,     0.97458,     0.97569,     0.97558,\n",
            "            0.97552,     0.97656,     0.97769,     0.97881,     0.97875,     0.97871,     0.97866,     0.97858,     0.97856,     0.97848,     0.97837,     0.97824,     0.97821,     0.97818,     0.97931,     0.97921,     0.97909,     0.97902,     0.97891,     0.97873,     0.97855,     0.97849,     0.97972,\n",
            "            0.97955,     0.98067,     0.98056,     0.98048,     0.98038,      0.9802,     0.98008,     0.97994,     0.98113,     0.98235,     0.98217,     0.98199,      0.9819,     0.98176,     0.98157,     0.98138,     0.98129,     0.98108,     0.98094,     0.98071,     0.98039,     0.98015,      0.9799,\n",
            "            0.97968,     0.97956,     0.97903,     0.97875,     0.97822,     0.97776,     0.97751,     0.97869,     0.98006,      0.9797,     0.97913,     0.97834,     0.97783,     0.97716,     0.97864,     0.97784,     0.97914,     0.97854,     0.97802,     0.97982,     0.97909,     0.97821,     0.97734,\n",
            "            0.97599,     0.97505,     0.97699,     0.97893,     0.97774,     0.98048,     0.97937,     0.97841,     0.97799,     0.97683,     0.97471,     0.97384,     0.98327,     0.98191,     0.98095,      0.9794,     0.97754,     0.97625,     0.97344,     0.97131,     0.97872,     0.97689,     0.97456,\n",
            "            0.97141,     0.96652,      0.9595,     0.95289,     0.97261,     0.96314,     0.95777,     0.94402,     0.94226,     0.97762,           1,           1,           1,           1,           1,           1,           1,           1,           1,           1,           1,           1,           1,\n",
            "                  1,           1,           1,           1,           1,           1,           1,           1,           1,           1,           1,           1,           1,           1,           1,           1,           1,           1,           1,           1,           1,           1,           1,\n",
            "                  1,           1,           1,           1,           1,           1,           1,           1,           1,           1,           1,           1,           1,           1,           1,           1,           1,           1,           1,           1,           1,           1,           1,\n",
            "                  1,           1,           1,           1,           1,           1,           1,           1,           1,           1,           1,           1,           1,           1,           1,           1,           1,           1,           1,           1,           1,           1,           1,\n",
            "                  1,           1,           1,           1,           1,           1,           1,           1,           1,           1,           1,           1,           1,           1,           1,           1,           1,           1,           1,           1,           1,           1,           1,\n",
            "                  1,           1,           1,           1,           1,           1,           1,           1,           1,           1,           1]]), 'Confidence', 'Precision'], [array([          0,    0.001001,    0.002002,    0.003003,    0.004004,    0.005005,    0.006006,    0.007007,    0.008008,    0.009009,     0.01001,    0.011011,    0.012012,    0.013013,    0.014014,    0.015015,    0.016016,    0.017017,    0.018018,    0.019019,     0.02002,    0.021021,    0.022022,    0.023023,\n",
            "          0.024024,    0.025025,    0.026026,    0.027027,    0.028028,    0.029029,     0.03003,    0.031031,    0.032032,    0.033033,    0.034034,    0.035035,    0.036036,    0.037037,    0.038038,    0.039039,     0.04004,    0.041041,    0.042042,    0.043043,    0.044044,    0.045045,    0.046046,    0.047047,\n",
            "          0.048048,    0.049049,     0.05005,    0.051051,    0.052052,    0.053053,    0.054054,    0.055055,    0.056056,    0.057057,    0.058058,    0.059059,     0.06006,    0.061061,    0.062062,    0.063063,    0.064064,    0.065065,    0.066066,    0.067067,    0.068068,    0.069069,     0.07007,    0.071071,\n",
            "          0.072072,    0.073073,    0.074074,    0.075075,    0.076076,    0.077077,    0.078078,    0.079079,     0.08008,    0.081081,    0.082082,    0.083083,    0.084084,    0.085085,    0.086086,    0.087087,    0.088088,    0.089089,     0.09009,    0.091091,    0.092092,    0.093093,    0.094094,    0.095095,\n",
            "          0.096096,    0.097097,    0.098098,    0.099099,      0.1001,      0.1011,      0.1021,      0.1031,      0.1041,     0.10511,     0.10611,     0.10711,     0.10811,     0.10911,     0.11011,     0.11111,     0.11211,     0.11311,     0.11411,     0.11512,     0.11612,     0.11712,     0.11812,     0.11912,\n",
            "           0.12012,     0.12112,     0.12212,     0.12312,     0.12412,     0.12513,     0.12613,     0.12713,     0.12813,     0.12913,     0.13013,     0.13113,     0.13213,     0.13313,     0.13413,     0.13514,     0.13614,     0.13714,     0.13814,     0.13914,     0.14014,     0.14114,     0.14214,     0.14314,\n",
            "           0.14414,     0.14515,     0.14615,     0.14715,     0.14815,     0.14915,     0.15015,     0.15115,     0.15215,     0.15315,     0.15415,     0.15516,     0.15616,     0.15716,     0.15816,     0.15916,     0.16016,     0.16116,     0.16216,     0.16316,     0.16416,     0.16517,     0.16617,     0.16717,\n",
            "           0.16817,     0.16917,     0.17017,     0.17117,     0.17217,     0.17317,     0.17417,     0.17518,     0.17618,     0.17718,     0.17818,     0.17918,     0.18018,     0.18118,     0.18218,     0.18318,     0.18418,     0.18519,     0.18619,     0.18719,     0.18819,     0.18919,     0.19019,     0.19119,\n",
            "           0.19219,     0.19319,     0.19419,      0.1952,      0.1962,      0.1972,      0.1982,      0.1992,      0.2002,      0.2012,      0.2022,      0.2032,      0.2042,     0.20521,     0.20621,     0.20721,     0.20821,     0.20921,     0.21021,     0.21121,     0.21221,     0.21321,     0.21421,     0.21522,\n",
            "           0.21622,     0.21722,     0.21822,     0.21922,     0.22022,     0.22122,     0.22222,     0.22322,     0.22422,     0.22523,     0.22623,     0.22723,     0.22823,     0.22923,     0.23023,     0.23123,     0.23223,     0.23323,     0.23423,     0.23524,     0.23624,     0.23724,     0.23824,     0.23924,\n",
            "           0.24024,     0.24124,     0.24224,     0.24324,     0.24424,     0.24525,     0.24625,     0.24725,     0.24825,     0.24925,     0.25025,     0.25125,     0.25225,     0.25325,     0.25425,     0.25526,     0.25626,     0.25726,     0.25826,     0.25926,     0.26026,     0.26126,     0.26226,     0.26326,\n",
            "           0.26426,     0.26527,     0.26627,     0.26727,     0.26827,     0.26927,     0.27027,     0.27127,     0.27227,     0.27327,     0.27427,     0.27528,     0.27628,     0.27728,     0.27828,     0.27928,     0.28028,     0.28128,     0.28228,     0.28328,     0.28428,     0.28529,     0.28629,     0.28729,\n",
            "           0.28829,     0.28929,     0.29029,     0.29129,     0.29229,     0.29329,     0.29429,      0.2953,      0.2963,      0.2973,      0.2983,      0.2993,      0.3003,      0.3013,      0.3023,      0.3033,      0.3043,     0.30531,     0.30631,     0.30731,     0.30831,     0.30931,     0.31031,     0.31131,\n",
            "           0.31231,     0.31331,     0.31431,     0.31532,     0.31632,     0.31732,     0.31832,     0.31932,     0.32032,     0.32132,     0.32232,     0.32332,     0.32432,     0.32533,     0.32633,     0.32733,     0.32833,     0.32933,     0.33033,     0.33133,     0.33233,     0.33333,     0.33433,     0.33534,\n",
            "           0.33634,     0.33734,     0.33834,     0.33934,     0.34034,     0.34134,     0.34234,     0.34334,     0.34434,     0.34535,     0.34635,     0.34735,     0.34835,     0.34935,     0.35035,     0.35135,     0.35235,     0.35335,     0.35435,     0.35536,     0.35636,     0.35736,     0.35836,     0.35936,\n",
            "           0.36036,     0.36136,     0.36236,     0.36336,     0.36436,     0.36537,     0.36637,     0.36737,     0.36837,     0.36937,     0.37037,     0.37137,     0.37237,     0.37337,     0.37437,     0.37538,     0.37638,     0.37738,     0.37838,     0.37938,     0.38038,     0.38138,     0.38238,     0.38338,\n",
            "           0.38438,     0.38539,     0.38639,     0.38739,     0.38839,     0.38939,     0.39039,     0.39139,     0.39239,     0.39339,     0.39439,      0.3954,      0.3964,      0.3974,      0.3984,      0.3994,      0.4004,      0.4014,      0.4024,      0.4034,      0.4044,     0.40541,     0.40641,     0.40741,\n",
            "           0.40841,     0.40941,     0.41041,     0.41141,     0.41241,     0.41341,     0.41441,     0.41542,     0.41642,     0.41742,     0.41842,     0.41942,     0.42042,     0.42142,     0.42242,     0.42342,     0.42442,     0.42543,     0.42643,     0.42743,     0.42843,     0.42943,     0.43043,     0.43143,\n",
            "           0.43243,     0.43343,     0.43443,     0.43544,     0.43644,     0.43744,     0.43844,     0.43944,     0.44044,     0.44144,     0.44244,     0.44344,     0.44444,     0.44545,     0.44645,     0.44745,     0.44845,     0.44945,     0.45045,     0.45145,     0.45245,     0.45345,     0.45445,     0.45546,\n",
            "           0.45646,     0.45746,     0.45846,     0.45946,     0.46046,     0.46146,     0.46246,     0.46346,     0.46446,     0.46547,     0.46647,     0.46747,     0.46847,     0.46947,     0.47047,     0.47147,     0.47247,     0.47347,     0.47447,     0.47548,     0.47648,     0.47748,     0.47848,     0.47948,\n",
            "           0.48048,     0.48148,     0.48248,     0.48348,     0.48448,     0.48549,     0.48649,     0.48749,     0.48849,     0.48949,     0.49049,     0.49149,     0.49249,     0.49349,     0.49449,      0.4955,      0.4965,      0.4975,      0.4985,      0.4995,      0.5005,      0.5015,      0.5025,      0.5035,\n",
            "            0.5045,     0.50551,     0.50651,     0.50751,     0.50851,     0.50951,     0.51051,     0.51151,     0.51251,     0.51351,     0.51451,     0.51552,     0.51652,     0.51752,     0.51852,     0.51952,     0.52052,     0.52152,     0.52252,     0.52352,     0.52452,     0.52553,     0.52653,     0.52753,\n",
            "           0.52853,     0.52953,     0.53053,     0.53153,     0.53253,     0.53353,     0.53453,     0.53554,     0.53654,     0.53754,     0.53854,     0.53954,     0.54054,     0.54154,     0.54254,     0.54354,     0.54454,     0.54555,     0.54655,     0.54755,     0.54855,     0.54955,     0.55055,     0.55155,\n",
            "           0.55255,     0.55355,     0.55455,     0.55556,     0.55656,     0.55756,     0.55856,     0.55956,     0.56056,     0.56156,     0.56256,     0.56356,     0.56456,     0.56557,     0.56657,     0.56757,     0.56857,     0.56957,     0.57057,     0.57157,     0.57257,     0.57357,     0.57457,     0.57558,\n",
            "           0.57658,     0.57758,     0.57858,     0.57958,     0.58058,     0.58158,     0.58258,     0.58358,     0.58458,     0.58559,     0.58659,     0.58759,     0.58859,     0.58959,     0.59059,     0.59159,     0.59259,     0.59359,     0.59459,      0.5956,      0.5966,      0.5976,      0.5986,      0.5996,\n",
            "            0.6006,      0.6016,      0.6026,      0.6036,      0.6046,     0.60561,     0.60661,     0.60761,     0.60861,     0.60961,     0.61061,     0.61161,     0.61261,     0.61361,     0.61461,     0.61562,     0.61662,     0.61762,     0.61862,     0.61962,     0.62062,     0.62162,     0.62262,     0.62362,\n",
            "           0.62462,     0.62563,     0.62663,     0.62763,     0.62863,     0.62963,     0.63063,     0.63163,     0.63263,     0.63363,     0.63463,     0.63564,     0.63664,     0.63764,     0.63864,     0.63964,     0.64064,     0.64164,     0.64264,     0.64364,     0.64464,     0.64565,     0.64665,     0.64765,\n",
            "           0.64865,     0.64965,     0.65065,     0.65165,     0.65265,     0.65365,     0.65465,     0.65566,     0.65666,     0.65766,     0.65866,     0.65966,     0.66066,     0.66166,     0.66266,     0.66366,     0.66466,     0.66567,     0.66667,     0.66767,     0.66867,     0.66967,     0.67067,     0.67167,\n",
            "           0.67267,     0.67367,     0.67467,     0.67568,     0.67668,     0.67768,     0.67868,     0.67968,     0.68068,     0.68168,     0.68268,     0.68368,     0.68468,     0.68569,     0.68669,     0.68769,     0.68869,     0.68969,     0.69069,     0.69169,     0.69269,     0.69369,     0.69469,      0.6957,\n",
            "            0.6967,      0.6977,      0.6987,      0.6997,      0.7007,      0.7017,      0.7027,      0.7037,      0.7047,     0.70571,     0.70671,     0.70771,     0.70871,     0.70971,     0.71071,     0.71171,     0.71271,     0.71371,     0.71471,     0.71572,     0.71672,     0.71772,     0.71872,     0.71972,\n",
            "           0.72072,     0.72172,     0.72272,     0.72372,     0.72472,     0.72573,     0.72673,     0.72773,     0.72873,     0.72973,     0.73073,     0.73173,     0.73273,     0.73373,     0.73473,     0.73574,     0.73674,     0.73774,     0.73874,     0.73974,     0.74074,     0.74174,     0.74274,     0.74374,\n",
            "           0.74474,     0.74575,     0.74675,     0.74775,     0.74875,     0.74975,     0.75075,     0.75175,     0.75275,     0.75375,     0.75475,     0.75576,     0.75676,     0.75776,     0.75876,     0.75976,     0.76076,     0.76176,     0.76276,     0.76376,     0.76476,     0.76577,     0.76677,     0.76777,\n",
            "           0.76877,     0.76977,     0.77077,     0.77177,     0.77277,     0.77377,     0.77477,     0.77578,     0.77678,     0.77778,     0.77878,     0.77978,     0.78078,     0.78178,     0.78278,     0.78378,     0.78478,     0.78579,     0.78679,     0.78779,     0.78879,     0.78979,     0.79079,     0.79179,\n",
            "           0.79279,     0.79379,     0.79479,      0.7958,      0.7968,      0.7978,      0.7988,      0.7998,      0.8008,      0.8018,      0.8028,      0.8038,      0.8048,     0.80581,     0.80681,     0.80781,     0.80881,     0.80981,     0.81081,     0.81181,     0.81281,     0.81381,     0.81481,     0.81582,\n",
            "           0.81682,     0.81782,     0.81882,     0.81982,     0.82082,     0.82182,     0.82282,     0.82382,     0.82482,     0.82583,     0.82683,     0.82783,     0.82883,     0.82983,     0.83083,     0.83183,     0.83283,     0.83383,     0.83483,     0.83584,     0.83684,     0.83784,     0.83884,     0.83984,\n",
            "           0.84084,     0.84184,     0.84284,     0.84384,     0.84484,     0.84585,     0.84685,     0.84785,     0.84885,     0.84985,     0.85085,     0.85185,     0.85285,     0.85385,     0.85485,     0.85586,     0.85686,     0.85786,     0.85886,     0.85986,     0.86086,     0.86186,     0.86286,     0.86386,\n",
            "           0.86486,     0.86587,     0.86687,     0.86787,     0.86887,     0.86987,     0.87087,     0.87187,     0.87287,     0.87387,     0.87487,     0.87588,     0.87688,     0.87788,     0.87888,     0.87988,     0.88088,     0.88188,     0.88288,     0.88388,     0.88488,     0.88589,     0.88689,     0.88789,\n",
            "           0.88889,     0.88989,     0.89089,     0.89189,     0.89289,     0.89389,     0.89489,      0.8959,      0.8969,      0.8979,      0.8989,      0.8999,      0.9009,      0.9019,      0.9029,      0.9039,      0.9049,     0.90591,     0.90691,     0.90791,     0.90891,     0.90991,     0.91091,     0.91191,\n",
            "           0.91291,     0.91391,     0.91491,     0.91592,     0.91692,     0.91792,     0.91892,     0.91992,     0.92092,     0.92192,     0.92292,     0.92392,     0.92492,     0.92593,     0.92693,     0.92793,     0.92893,     0.92993,     0.93093,     0.93193,     0.93293,     0.93393,     0.93493,     0.93594,\n",
            "           0.93694,     0.93794,     0.93894,     0.93994,     0.94094,     0.94194,     0.94294,     0.94394,     0.94494,     0.94595,     0.94695,     0.94795,     0.94895,     0.94995,     0.95095,     0.95195,     0.95295,     0.95395,     0.95495,     0.95596,     0.95696,     0.95796,     0.95896,     0.95996,\n",
            "           0.96096,     0.96196,     0.96296,     0.96396,     0.96496,     0.96597,     0.96697,     0.96797,     0.96897,     0.96997,     0.97097,     0.97197,     0.97297,     0.97397,     0.97497,     0.97598,     0.97698,     0.97798,     0.97898,     0.97998,     0.98098,     0.98198,     0.98298,     0.98398,\n",
            "           0.98498,     0.98599,     0.98699,     0.98799,     0.98899,     0.98999,     0.99099,     0.99199,     0.99299,     0.99399,     0.99499,       0.996,       0.997,       0.998,       0.999,           1]), array([[    0.99206,     0.99206,     0.99106,     0.99007,     0.99007,     0.99007,     0.99007,     0.99007,     0.99007,     0.98908,     0.98908,     0.98908,     0.98908,     0.98808,     0.98808,     0.98659,      0.9861,      0.9861,      0.9861,      0.9861,      0.9861,      0.9861,      0.9861,\n",
            "            0.98586,     0.98411,     0.98411,     0.98411,      0.9834,     0.98312,     0.98312,     0.98312,     0.98309,     0.98213,     0.98213,     0.98213,     0.98213,     0.98213,     0.98213,     0.98213,     0.98213,      0.9814,     0.98113,     0.98113,     0.98113,     0.98113,     0.98113,\n",
            "            0.98113,     0.98113,     0.98113,     0.98113,     0.98113,     0.98113,     0.98113,     0.98113,     0.98054,     0.98014,     0.98014,     0.98014,     0.98014,     0.98014,     0.98014,     0.98014,     0.98014,     0.98014,     0.98014,     0.98014,     0.98014,     0.98014,     0.98014,\n",
            "            0.98014,     0.98014,     0.98014,     0.98014,     0.98014,     0.98014,     0.98014,     0.98014,     0.98014,     0.98014,     0.98014,     0.98014,     0.98014,     0.98014,     0.98014,     0.98014,     0.98014,     0.98014,     0.98014,     0.98014,     0.98014,     0.98014,     0.98014,\n",
            "            0.98014,     0.98014,     0.98014,     0.98014,     0.98014,     0.98014,     0.98011,     0.97975,     0.97939,     0.97909,     0.97891,     0.97873,     0.97855,     0.97838,      0.9782,     0.97815,     0.97809,     0.97788,     0.97767,     0.97746,     0.97724,     0.97716,     0.97716,\n",
            "            0.97716,     0.97716,     0.97716,     0.97716,     0.97704,      0.9769,     0.97676,     0.97662,     0.97648,     0.97634,      0.9762,     0.97612,     0.97605,     0.97599,     0.97592,     0.97586,      0.9758,     0.97573,     0.97567,      0.9756,     0.97554,     0.97547,     0.97541,\n",
            "            0.97535,     0.97528,     0.97522,     0.97517,     0.97517,     0.97418,     0.97418,     0.97418,     0.97418,     0.97418,     0.97418,     0.97418,     0.97418,     0.97415,     0.97405,     0.97396,     0.97386,     0.97376,     0.97366,     0.97357,     0.97347,     0.97337,     0.97327,\n",
            "            0.97319,     0.97319,     0.97319,     0.97319,     0.97317,     0.97272,     0.97226,     0.97219,     0.97219,     0.97219,     0.97219,     0.97219,     0.97219,     0.97219,     0.97219,     0.97219,     0.97219,     0.97219,     0.97219,     0.97219,     0.97219,     0.97219,     0.97219,\n",
            "            0.97219,     0.97219,       0.972,     0.97172,     0.97143,      0.9712,      0.9712,      0.9712,      0.9712,       0.971,      0.9708,      0.9706,     0.97039,     0.97021,     0.97021,     0.97021,     0.97021,     0.97021,     0.97021,     0.97021,     0.97021,     0.96922,     0.96922,\n",
            "            0.96922,     0.96922,     0.96922,     0.96922,     0.96922,     0.96922,     0.96922,     0.96922,     0.96922,     0.96922,     0.96922,     0.96922,     0.96922,     0.96922,     0.96922,     0.96922,     0.96922,     0.96922,      0.9682,     0.96815,      0.9681,     0.96804,     0.96799,\n",
            "            0.96794,     0.96788,     0.96783,     0.96778,     0.96772,     0.96767,     0.96762,     0.96756,     0.96751,     0.96745,      0.9674,     0.96735,     0.96729,     0.96724,     0.96716,     0.96708,       0.967,     0.96691,     0.96683,     0.96675,     0.96666,     0.96658,      0.9665,\n",
            "            0.96641,     0.96633,     0.96625,     0.96624,     0.96624,     0.96624,     0.96624,     0.96624,      0.9661,     0.96596,     0.96582,     0.96568,     0.96554,      0.9654,     0.96526,     0.96524,     0.96524,     0.96524,     0.96524,     0.96524,     0.96524,     0.96524,     0.96524,\n",
            "            0.96524,     0.96524,     0.96524,     0.96524,     0.96524,     0.96524,     0.96524,     0.96512,     0.96478,     0.96444,     0.96421,     0.96412,     0.96403,     0.96393,     0.96384,     0.96375,     0.96366,     0.96357,     0.96348,     0.96338,     0.96329,     0.96319,     0.96264,\n",
            "             0.9622,     0.96199,     0.96178,     0.96158,     0.96137,     0.96127,     0.96127,     0.96127,     0.96127,     0.96127,     0.96127,     0.96127,     0.96127,     0.96127,     0.96127,     0.96127,     0.96127,     0.96125,     0.96115,     0.96105,     0.96094,     0.96084,     0.96074,\n",
            "            0.96063,     0.96053,     0.96043,     0.96032,     0.95921,     0.95903,     0.95885,     0.95867,     0.95849,     0.95831,     0.95807,     0.95782,     0.95757,     0.95733,      0.9573,      0.9573,      0.9573,      0.9573,      0.9573,      0.9573,      0.9573,      0.9573,      0.9573,\n",
            "             0.9573,      0.9573,      0.9573,      0.9573,      0.9573,      0.9573,      0.9573,      0.9573,      0.9573,      0.9573,      0.9573,      0.9573,      0.9573,      0.9573,      0.9573,      0.9573,      0.9573,      0.9573,      0.9573,      0.9567,     0.95627,     0.95619,     0.95611,\n",
            "            0.95603,     0.95595,     0.95587,     0.95579,     0.95572,     0.95564,     0.95556,     0.95548,      0.9554,     0.95532,     0.95476,      0.9535,     0.95333,     0.95333,     0.95333,     0.95333,     0.95333,     0.95333,     0.95298,     0.95233,     0.95233,     0.95233,     0.95233,\n",
            "            0.95233,     0.95233,     0.95233,     0.95233,     0.95233,     0.95233,     0.95233,     0.95233,     0.95233,     0.95233,     0.95233,     0.95233,     0.95233,     0.95233,     0.95233,     0.95233,     0.95233,     0.95233,     0.95233,     0.95233,     0.95233,      0.9523,     0.95226,\n",
            "            0.95221,     0.95217,     0.95212,     0.95207,     0.95203,     0.95198,     0.95194,     0.95189,     0.95184,      0.9518,     0.95175,      0.9517,     0.95166,     0.95161,     0.95157,     0.95152,     0.95147,     0.95143,     0.95138,     0.95129,      0.9508,     0.95035,     0.95035,\n",
            "            0.95035,     0.95035,     0.94935,     0.94931,     0.94927,     0.94923,     0.94919,     0.94914,      0.9491,     0.94906,     0.94902,     0.94898,     0.94893,     0.94889,     0.94885,     0.94881,     0.94877,     0.94873,     0.94868,     0.94864,      0.9486,     0.94856,     0.94852,\n",
            "            0.94847,     0.94843,     0.94839,     0.94836,     0.94836,     0.94836,     0.94836,     0.94836,     0.94836,     0.94836,     0.94836,     0.94836,     0.94836,     0.94836,      0.9483,     0.94809,     0.94788,     0.94767,     0.94746,     0.94729,     0.94715,     0.94702,     0.94688,\n",
            "            0.94675,     0.94661,     0.94647,     0.94633,     0.94617,       0.946,     0.94584,     0.94568,     0.94551,     0.94538,     0.94538,     0.94538,     0.94538,     0.94538,     0.94538,     0.94538,     0.94538,     0.94538,     0.94538,     0.94538,     0.94538,     0.94538,     0.94538,\n",
            "            0.94538,     0.94538,     0.94536,     0.94526,     0.94516,     0.94506,     0.94496,     0.94486,     0.94476,     0.94466,     0.94456,     0.94446,     0.94436,     0.94423,      0.9441,     0.94397,     0.94384,     0.94371,     0.94359,     0.94346,     0.94333,      0.9431,     0.94288,\n",
            "            0.94265,     0.94242,      0.9424,      0.9424,      0.9424,      0.9424,      0.9424,      0.9424,     0.94228,     0.94213,     0.94197,     0.94181,     0.94166,      0.9415,     0.94111,      0.9404,     0.93996,     0.93952,     0.93942,     0.93942,     0.93942,     0.93942,     0.93942,\n",
            "            0.93942,     0.93942,     0.93942,     0.93942,     0.93942,     0.93942,     0.93942,     0.93922,      0.9389,     0.93857,     0.93843,     0.93843,      0.9383,     0.93776,     0.93668,     0.93644,     0.93644,     0.93644,     0.93644,     0.93633,     0.93619,     0.93605,     0.93592,\n",
            "            0.93578,     0.93564,     0.93551,     0.93466,     0.93399,     0.93341,     0.93252,     0.93247,     0.93247,     0.93247,     0.93247,     0.93247,     0.93247,      0.9323,     0.93209,     0.93187,     0.93166,     0.93136,     0.93066,     0.93026,     0.92997,     0.92967,     0.92943,\n",
            "            0.92928,     0.92913,     0.92897,     0.92882,     0.92867,     0.92852,     0.92748,     0.92724,     0.92701,     0.92677,     0.92654,     0.92651,     0.92626,     0.92583,     0.92521,       0.924,     0.92333,     0.92304,     0.92274,     0.92254,     0.92254,     0.92254,     0.92254,\n",
            "            0.92254,     0.92254,     0.92185,     0.92086,     0.91937,      0.9189,     0.91854,     0.91845,     0.91835,     0.91825,     0.91816,     0.91806,     0.91797,     0.91787,     0.91778,     0.91768,     0.91759,     0.91683,     0.91658,     0.91658,     0.91658,     0.91613,     0.91554,\n",
            "            0.91545,     0.91535,     0.91526,     0.91517,     0.91507,     0.91498,     0.91489,      0.9148,      0.9147,     0.91461,     0.91358,     0.91261,     0.91261,     0.91099,     0.90997,     0.90957,     0.90946,     0.90935,     0.90924,     0.90914,     0.90903,     0.90892,     0.90881,\n",
            "             0.9087,     0.90864,     0.90864,     0.90864,     0.90864,     0.90853,     0.90829,     0.90805,     0.90781,      0.9076,     0.90744,     0.90728,     0.90713,     0.90697,     0.90681,     0.90666,      0.9064,     0.90614,     0.90588,     0.90566,     0.90566,     0.90566,     0.90566,\n",
            "            0.90566,     0.90565,     0.90541,     0.90516,     0.90491,     0.90464,      0.9038,     0.90271,     0.90175,     0.90154,     0.90139,     0.90124,     0.90109,     0.90093,     0.90078,     0.89932,     0.89789,       0.896,     0.89573,     0.89542,     0.89498,     0.89407,     0.89318,\n",
            "            0.89229,     0.89109,     0.89008,     0.88934,     0.88872,     0.88749,     0.88664,     0.88633,     0.88603,     0.88528,     0.88404,     0.88309,      0.8819,     0.88139,     0.88093,     0.87853,       0.878,      0.8768,     0.87619,     0.87568,     0.87527,     0.87487,     0.87471,\n",
            "            0.87455,     0.87439,     0.87424,     0.87408,     0.87392,     0.87289,     0.87289,     0.87289,     0.87289,     0.86987,     0.86958,     0.86929,       0.869,     0.86892,     0.86731,     0.86614,     0.86284,     0.86189,     0.86169,     0.86149,     0.86128,     0.86108,     0.86061,\n",
            "            0.85983,      0.8589,     0.85788,     0.85765,     0.85742,     0.85719,       0.857,       0.857,      0.8559,     0.85518,     0.85244,     0.84771,     0.84648,     0.84518,     0.84311,     0.84223,     0.83989,     0.83949,     0.83901,     0.83813,     0.83765,     0.83713,     0.83309,\n",
            "            0.83019,     0.82748,     0.82672,     0.82583,     0.82337,     0.82179,     0.81973,     0.81677,     0.81569,     0.81283,     0.80852,     0.80341,     0.80264,     0.80145,     0.79904,     0.79522,     0.79052,     0.78793,     0.78346,     0.77674,     0.77006,     0.76796,     0.76752,\n",
            "            0.76107,     0.75555,     0.75134,     0.74805,     0.74414,      0.7376,     0.73293,     0.72761,     0.72281,     0.71836,     0.71117,     0.70379,     0.70046,      0.6949,     0.68753,     0.68025,     0.67716,     0.66951,     0.66444,     0.65647,     0.64546,     0.63748,     0.62934,\n",
            "            0.62237,     0.61864,     0.60266,     0.59447,     0.57989,     0.56763,     0.56112,     0.54717,     0.53678,     0.52713,     0.51241,     0.49344,     0.48185,     0.46742,     0.45499,     0.43818,     0.41946,     0.40754,     0.39765,     0.38576,     0.37208,     0.35673,     0.34272,\n",
            "            0.32292,     0.31044,     0.29516,     0.27685,      0.2617,     0.24944,     0.23576,     0.22506,     0.22059,     0.20929,     0.19139,     0.18481,     0.17507,     0.16171,     0.15344,     0.14166,     0.12968,     0.12246,      0.1092,     0.10087,    0.091358,    0.083941,    0.076073,\n",
            "           0.067482,    0.057347,    0.047061,    0.040179,    0.035271,    0.025953,    0.022531,    0.016754,    0.016218,    0.015889,     0.01315,    0.011554,    0.010752,    0.010208,   0.0085612,   0.0055678,   0.0043643,   0.0038392,   0.0035673,   0.0032954,   0.0030235,   0.0027718,   0.0025239,\n",
            "          0.0022761,   0.0020283,   0.0011922,           0,           0,           0,           0,           0,           0,           0,           0,           0,           0,           0,           0,           0,           0,           0,           0,           0,           0,           0,           0,\n",
            "                  0,           0,           0,           0,           0,           0,           0,           0,           0,           0,           0,           0,           0,           0,           0,           0,           0,           0,           0,           0,           0,           0,           0,\n",
            "                  0,           0,           0,           0,           0,           0,           0,           0,           0,           0,           0,           0,           0,           0,           0,           0,           0,           0,           0,           0,           0,           0,           0,\n",
            "                  0,           0,           0,           0,           0,           0,           0,           0,           0,           0,           0,           0,           0,           0,           0,           0,           0,           0,           0,           0,           0,           0,           0,\n",
            "                  0,           0,           0,           0,           0,           0,           0,           0,           0,           0,           0]]), 'Confidence', 'Recall']]\n",
            "fitness: np.float64(0.7333520803292478)\n",
            "keys: ['metrics/precision(B)', 'metrics/recall(B)', 'metrics/mAP50(B)', 'metrics/mAP50-95(B)']\n",
            "maps: array([    0.70675,     0.70675])\n",
            "names: {0: 'screw', 1: 'tooth'}\n",
            "plot: True\n",
            "results_dict: {'metrics/precision(B)': np.float64(0.9374470109222807), 'metrics/recall(B)': np.float64(0.9673476758411061), 'metrics/mAP50(B)': np.float64(0.9727439878634), 'metrics/mAP50-95(B)': np.float64(0.7067529794921198), 'fitness': np.float64(0.7333520803292478)}\n",
            "save_dir: PosixPath('proyecto_xray/entrenamiento_xray2')\n",
            "speed: {'preprocess': 2.9482815428439477, 'inference': 50.928146257137996, 'loss': 0.02026034287285126, 'postprocess': 11.5579643714487}\n",
            "task: 'detect'\n"
          ]
        }
      ]
    },
    {
      "cell_type": "code",
      "source": [
        "# Cargar el modelo entrenado\n",
        "# modelo_entrenado = YOLO(\"/content/yolov8n.pt\")\n",
        "modelo_entrenado = YOLO(\"/content/proyecto_xray/entrenamiento_xray/weights/best.pt\")\n",
        "\n",
        "# Realizar inferencia en una imagen\n",
        "resultados = modelo_entrenado.predict(source=\"/content/rx1.jpg\", save=True)\n",
        "\n",
        "# Acceder a los resultados\n",
        "for resultado in resultados:\n",
        "    print(f\"Predicciones para la imagen: {resultado.path}\")\n",
        "\n",
        "    for caja, conf, clase in zip(resultado.boxes.xyxy, resultado.boxes.conf, resultado.boxes.cls):\n",
        "        print(f\"Bounding Box: {caja} - Confianza: {conf} - Clase: {clase}\")"
      ],
      "metadata": {
        "colab": {
          "base_uri": "https://localhost:8080/"
        },
        "id": "gQ_Iask2t6cD",
        "outputId": "6cfdc8d7-d0ff-4c5a-8d7e-f94ffe87092d"
      },
      "execution_count": 16,
      "outputs": [
        {
          "output_type": "stream",
          "name": "stdout",
          "text": [
            "\n",
            "image 1/1 /content/rx1.jpg: 480x640 2 screws, 32 tooths, 75.5ms\n",
            "Speed: 3.7ms preprocess, 75.5ms inference, 2.7ms postprocess per image at shape (1, 3, 480, 640)\n",
            "Results saved to \u001b[1mruns/detect/predict2\u001b[0m\n",
            "Predicciones para la imagen: /content/rx1.jpg\n",
            "Bounding Box: tensor([ 70.1777, 127.5841, 132.9214, 232.0893], device='cuda:0') - Confianza: 0.8719518184661865 - Clase: 1.0\n",
            "Bounding Box: tensor([407.3276, 173.4815, 454.0705, 305.4400], device='cuda:0') - Confianza: 0.8600150942802429 - Clase: 1.0\n",
            "Bounding Box: tensor([251.2275, 155.5387, 300.5127, 290.4294], device='cuda:0') - Confianza: 0.8594634532928467 - Clase: 1.0\n",
            "Bounding Box: tensor([445.4492, 152.4183, 491.2571, 297.2252], device='cuda:0') - Confianza: 0.8533234596252441 - Clase: 1.0\n",
            "Bounding Box: tensor([ 26.9127, 114.6222,  91.2999, 204.9749], device='cuda:0') - Confianza: 0.851929247379303 - Clase: 1.0\n",
            "Bounding Box: tensor([206.6844, 284.6851, 272.0650, 398.2365], device='cuda:0') - Confianza: 0.8517245054244995 - Clase: 1.0\n",
            "Bounding Box: tensor([ 54.1846, 227.9515, 137.6232, 344.1167], device='cuda:0') - Confianza: 0.8498743176460266 - Clase: 1.0\n",
            "Bounding Box: tensor([173.8530, 156.7696, 221.5462, 264.6378], device='cuda:0') - Confianza: 0.8473194241523743 - Clase: 1.0\n",
            "Bounding Box: tensor([  1.2094, 199.8330,  81.8000, 308.2164], device='cuda:0') - Confianza: 0.8464683294296265 - Clase: 1.0\n",
            "Bounding Box: tensor([211.5165, 160.8418, 258.1558, 280.8433], device='cuda:0') - Confianza: 0.8438661694526672 - Clase: 1.0\n",
            "Bounding Box: tensor([325.7621, 180.1388, 373.6207, 304.7837], device='cuda:0') - Confianza: 0.841733992099762 - Clase: 1.0\n",
            "Bounding Box: tensor([483.7151, 173.2601, 533.5164, 297.3065], device='cuda:0') - Confianza: 0.8370134234428406 - Clase: 1.0\n",
            "Bounding Box: tensor([500.7959, 294.8953, 561.0289, 409.3948], device='cuda:0') - Confianza: 0.8338344693183899 - Clase: 1.0\n",
            "Bounding Box: tensor([117.7469, 139.7518, 180.5200, 253.9579], device='cuda:0') - Confianza: 0.8322073817253113 - Clase: 1.0\n",
            "Bounding Box: tensor([524.5217, 168.2093, 568.3822, 285.6602], device='cuda:0') - Confianza: 0.8298071026802063 - Clase: 1.0\n",
            "Bounding Box: tensor([371.6100, 186.0913, 420.2799, 308.9514], device='cuda:0') - Confianza: 0.8190000653266907 - Clase: 1.0\n",
            "Bounding Box: tensor([289.5109, 182.7402, 338.7595, 301.0354], device='cuda:0') - Confianza: 0.8097984194755554 - Clase: 1.0\n",
            "Bounding Box: tensor([418.5103, 305.6849, 464.3047, 439.5135], device='cuda:0') - Confianza: 0.8065986037254333 - Clase: 1.0\n",
            "Bounding Box: tensor([558.3654, 158.5732, 626.4755, 272.3432], device='cuda:0') - Confianza: 0.8022151589393616 - Clase: 1.0\n",
            "Bounding Box: tensor([169.7672, 274.4153, 235.4487, 395.4525], device='cuda:0') - Confianza: 0.8016199469566345 - Clase: 1.0\n",
            "Bounding Box: tensor([106.1231, 253.3714, 199.0366, 374.5390], device='cuda:0') - Confianza: 0.7992241382598877 - Clase: 1.0\n",
            "Bounding Box: tensor([601.2375, 255.6658, 683.0962, 366.1055], device='cuda:0') - Confianza: 0.783839225769043 - Clase: 1.0\n",
            "Bounding Box: tensor([247.0272, 293.4276, 312.5978, 427.8820], device='cuda:0') - Confianza: 0.7735864520072937 - Clase: 1.0\n",
            "Bounding Box: tensor([540.3138, 278.5362, 632.9451, 398.9315], device='cuda:0') - Confianza: 0.7730961441993713 - Clase: 1.0\n",
            "Bounding Box: tensor([392.5486, 308.5529, 427.0623, 412.6167], device='cuda:0') - Confianza: 0.7553133368492126 - Clase: 1.0\n",
            "Bounding Box: tensor([658.2438, 117.7583, 723.5397, 227.1690], device='cuda:0') - Confianza: 0.7499024271965027 - Clase: 1.0\n",
            "Bounding Box: tensor([609.4128, 150.0097, 679.5300, 254.0214], device='cuda:0') - Confianza: 0.7362428307533264 - Clase: 1.0\n",
            "Bounding Box: tensor([294.5193, 304.2099, 340.2351, 417.7275], device='cuda:0') - Confianza: 0.6977030634880066 - Clase: 1.0\n",
            "Bounding Box: tensor([456.4196, 300.6274, 515.0233, 416.6484], device='cuda:0') - Confianza: 0.6448233723640442 - Clase: 1.0\n",
            "Bounding Box: tensor([362.6910, 306.9284, 396.3304, 415.5250], device='cuda:0') - Confianza: 0.617417573928833 - Clase: 1.0\n",
            "Bounding Box: tensor([246.9814, 292.6258, 313.1458, 429.7531], device='cuda:0') - Confianza: 0.5616243481636047 - Clase: 0.0\n",
            "Bounding Box: tensor([659.8896, 232.1742, 743.6962, 344.3813], device='cuda:0') - Confianza: 0.5497052669525146 - Clase: 1.0\n",
            "Bounding Box: tensor([327.5558, 305.4874, 367.8354, 412.1168], device='cuda:0') - Confianza: 0.5482467412948608 - Clase: 1.0\n",
            "Bounding Box: tensor([293.6860, 304.0327, 340.6797, 419.6715], device='cuda:0') - Confianza: 0.5163204073905945 - Clase: 0.0\n"
          ]
        }
      ]
    },
    {
      "cell_type": "code",
      "source": [
        "# Cargar y mostrar la imagen con las predicciones\n",
        "img = Image.open(\"/content/runs/detect/predict2/rx1.jpg\")\n",
        "plt.imshow(img)\n",
        "plt.axis('off')  # Ocultar los ejes\n",
        "plt.show()"
      ],
      "metadata": {
        "colab": {
          "base_uri": "https://localhost:8080/",
          "height": 406
        },
        "id": "xh6W9D4yt8z9",
        "outputId": "0589f06f-7ca8-4634-eaea-387b40053c95"
      },
      "execution_count": 17,
      "outputs": [
        {
          "output_type": "display_data",
          "data": {
            "text/plain": [
              "<Figure size 640x480 with 1 Axes>"
            ],
            "image/png": "[encoded data removed]"
          },
          "metadata": {}
        }
      ]
    },
    {
      "cell_type": "code",
      "source": [
        "import shutil\n",
        "from google.colab import files\n",
        "\n",
        "# Especifica el nombre de la carpeta que deseas comprimir y descargar\n",
        "folder_path = \"/content/proyecto_xray\"  # Ruta de la carpeta en Colab\n",
        "output_filename = \"xrayV1.zip\"   # Nombre del archivo zip de salida\n",
        "\n",
        "# Comprimir la carpeta en un archivo ZIP\n",
        "shutil.make_archive(output_filename.replace('.zip', ''), 'zip', folder_path)\n",
        "\n",
        "# Descargar el archivo ZIP\n",
        "files.download(output_filename)"
      ],
      "metadata": {
        "colab": {
          "base_uri": "https://localhost:8080/",
          "height": 17
        },
        "id": "q1G89wy2t-6e",
        "outputId": "5b94baab-6c4b-43ae-ab33-2bec5f4ff0a2"
      },
      "execution_count": 18,
      "outputs": [
        {
          "output_type": "display_data",
          "data": {
            "text/plain": [
              "<IPython.core.display.Javascript object>"
            ],
            "application/javascript": [
              "\n",
              "    async function download(id, filename, size) {\n",
              "      if (!google.colab.kernel.accessAllowed) {\n",
              "        return;\n",
              "      }\n",
              "      const div = document.createElement('div');\n",
              "      const label = document.createElement('label');\n",
              "      label.textContent = `Downloading \"${filename}\": `;\n",
              "      div.appendChild(label);\n",
              "      const progress = document.createElement('progress');\n",
              "      progress.max = size;\n",
              "      div.appendChild(progress);\n",
              "      document.body.appendChild(div);\n",
              "\n",
              "      const buffers = [];\n",
              "      let downloaded = 0;\n",
              "\n",
              "      const channel = await google.colab.kernel.comms.open(id);\n",
              "      // Send a message to notify the kernel that we're ready.\n",
              "      channel.send({})\n",
              "\n",
              "      for await (const message of channel.messages) {\n",
              "        // Send a message to notify the kernel that we're ready.\n",
              "        channel.send({})\n",
              "        if (message.buffers) {\n",
              "          for (const buffer of message.buffers) {\n",
              "            buffers.push(buffer);\n",
              "            downloaded += buffer.byteLength;\n",
              "            progress.value = downloaded;\n",
              "          }\n",
              "        }\n",
              "      }\n",
              "      const blob = new Blob(buffers, {type: 'application/binary'});\n",
              "      const a = document.createElement('a');\n",
              "      a.href = window.URL.createObjectURL(blob);\n",
              "      a.download = filename;\n",
              "      div.appendChild(a);\n",
              "      a.click();\n",
              "      div.remove();\n",
              "    }\n",
              "  "
            ]
          },
          "metadata": {}
        },
        {
          "output_type": "display_data",
          "data": {
            "text/plain": [
              "<IPython.core.display.Javascript object>"
            ],
            "application/javascript": [
              "download(\"download_0642adff-e91e-4118-9bf5-f4877d642138\", \"xrayV1.zip\", 171511546)"
            ]
          },
          "metadata": {}
        }
      ]
    }
  ]
}